{
 "cells": [
  {
   "cell_type": "code",
   "execution_count": 169,
   "id": "ranking-father",
   "metadata": {},
   "outputs": [
    {
     "name": "stdout",
     "output_type": "stream",
     "text": [
      "223\n"
     ]
    }
   ],
   "source": [
    "'''Original code Author @Satyam Sangeet'''\n",
    "\n",
    "rbd_seq = \"RVQPTESIVRFPNITNLCPFGEVFNATRFASVYAWNRKRISNCVADYSVLYNSASFSTFKCYGVSPTKLNDLCFTNVYADSFVIRGDEVRQIAPGQTGKIADYNYKLPDDFTGCVIAWNSNNLDSKVGGNYNYLYRLFRKSNLKPFERDISTEIYQAGSTPCNGVEGFNCYFPLQSYGFQPTNGVGYQPYRVVVLSFELLHAPATVCGPKKSTNLVKNKCVNF\"\n",
    "\n",
    "print(len(rbd_seq))"
   ]
  },
  {
   "cell_type": "code",
   "execution_count": 63,
   "id": "respiratory-trail",
   "metadata": {},
   "outputs": [
    {
     "name": "stdout",
     "output_type": "stream",
     "text": [
      "['RV', 'VQ', 'QP', 'PT', 'TE', 'ES', 'SI', 'IV', 'VR', 'RF', 'FP', 'PN', 'NI', 'IT', 'TN', 'NL', 'LC', 'CP', 'PF', 'FG', 'GE', 'EV', 'VF', 'FN', 'NA', 'AT', 'TR', 'RF', 'FA', 'AS', 'SV', 'VY', 'YA', 'AW', 'WN', 'NR', 'RK', 'KR', 'RI', 'IS', 'SN', 'NC', 'CV', 'VA', 'AD', 'DY', 'YS', 'SV', 'VL', 'LY', 'YN', 'NS', 'SA', 'AS', 'SF', 'FS', 'ST', 'TF', 'FK', 'KC', 'CY', 'YG', 'GV', 'VS', 'SP', 'PT', 'TK', 'KL', 'LN', 'ND', 'DL', 'LC', 'CF', 'FT', 'TN', 'NV', 'VY', 'YA', 'AD', 'DS', 'SF', 'FV', 'VI', 'IR', 'RG', 'GD', 'DE', 'EV', 'VR', 'RQ', 'QI', 'IA', 'AP', 'PG', 'GQ', 'QT', 'TG', 'GK', 'KI', 'IA', 'AD', 'DY', 'YN', 'NY', 'YK', 'KL', 'LP', 'PD', 'DD', 'DF', 'FT', 'TG', 'GC', 'CV', 'VI', 'IA', 'AW', 'WN', 'NS', 'SN', 'NN', 'NL', 'LD', 'DS', 'SK', 'KV', 'VG', 'GG', 'GN', 'NY', 'YN', 'NY', 'YL', 'LY', 'YR', 'RL', 'LF', 'FR', 'RK', 'KS', 'SN', 'NL', 'LK', 'KP', 'PF', 'FE', 'ER', 'RD', 'DI', 'IS', 'ST', 'TE', 'EI', 'IY', 'YQ', 'QA', 'AG', 'GS', 'ST', 'TP', 'PC', 'CN', 'NG', 'GV', 'VE', 'EG', 'GF', 'FN', 'NC', 'CY', 'YF', 'FP', 'PL', 'LQ', 'QS', 'SY', 'YG', 'GF', 'FQ', 'QP', 'PT', 'TN', 'NG', 'GV', 'VG', 'GY', 'YQ', 'QP', 'PY', 'YR', 'RV', 'VV', 'VV', 'VL', 'LS', 'SF', 'FE', 'EL', 'LL', 'LH', 'HA', 'AP', 'PA', 'AT', 'TV', 'VC', 'CG', 'GP', 'PK', 'KK', 'KS', 'ST', 'TN', 'NL', 'LV', 'VK', 'KN', 'NK', 'KC', 'CV', 'VN', 'NF']\n"
     ]
    }
   ],
   "source": [
    "s1 = \"RVQPTESIVRFPNITNLCPFGEVFNATRFASVYAWNRKRISNCVADYSVLYNSASFSTFKCYGVSPTKLNDLCFTNVYADSFVIRGDEVRQIAPGQTGKIADYNYKLPDDFTGCVIAWNSNNLDSKVGGNYNYLYRLFRKSNLKPFERDISTEIYQAGSTPCNGVEGFNCYFPLQSYGFQPTNGVGYQPYRVVVLSFELLHAPATVCGPKKSTNLVKNKCVNF\"\n",
    "lambda_1 = []\n",
    "\n",
    "for i in range(len(s1)):\n",
    "    if(0<=i<222):\n",
    "        c1 = s1[i]\n",
    "        c2 = s1[i+1]\n",
    "        lambda_1.append(c1+c2)\n",
    "    else:\n",
    "        break\n",
    "print(lambda_1)"
   ]
  },
  {
   "cell_type": "code",
   "execution_count": 64,
   "id": "expressed-maximum",
   "metadata": {},
   "outputs": [
    {
     "name": "stdout",
     "output_type": "stream",
     "text": [
      "['RQ', 'VP', 'QT', 'PE', 'TS', 'EI', 'SV', 'IR', 'VF', 'RP', 'FN', 'PI', 'NT', 'IN', 'TL', 'NC', 'LP', 'CF', 'PG', 'FE', 'GV', 'EF', 'VN', 'FA', 'NT', 'AR', 'TF', 'RA', 'FS', 'AV', 'SY', 'VA', 'YW', 'AN', 'WR', 'NK', 'RR', 'KI', 'RS', 'IN', 'SC', 'NV', 'CA', 'VD', 'AY', 'DS', 'YV', 'SL', 'VY', 'LN', 'YS', 'NA', 'SS', 'AF', 'SS', 'FT', 'SF', 'TK', 'FC', 'KY', 'CG', 'YV', 'GS', 'VP', 'ST', 'PK', 'TL', 'KN', 'LD', 'NL', 'DC', 'LF', 'CT', 'FN', 'TV', 'NY', 'VA', 'YD', 'AS', 'DF', 'SV', 'FI', 'VR', 'IG', 'RD', 'GE', 'DV', 'ER', 'VQ', 'RI', 'QA', 'IP', 'AG', 'PQ', 'GT', 'QG', 'TK', 'GI', 'KA', 'ID', 'AY', 'DN', 'YY', 'NK', 'YL', 'KP', 'LD', 'PD', 'DF', 'DT', 'FG', 'TC', 'GV', 'CI', 'VA', 'IW', 'AN', 'WS', 'NN', 'SN', 'NL', 'ND', 'LS', 'DK', 'SV', 'KG', 'VG', 'GN', 'GY', 'NN', 'YY', 'NL', 'YY', 'LR', 'YL', 'RF', 'LR', 'FK', 'RS', 'KN', 'SL', 'NK', 'LP', 'KF', 'PE', 'FR', 'ED', 'RI', 'DS', 'IT', 'SE', 'TI', 'EY', 'IQ', 'YA', 'QG', 'AS', 'GT', 'SP', 'TC', 'PN', 'CG', 'NV', 'GE', 'VG', 'EF', 'GN', 'FC', 'NY', 'CF', 'YP', 'FL', 'PQ', 'LS', 'QY', 'SG', 'YF', 'GQ', 'FP', 'QT', 'PN', 'TG', 'NV', 'GG', 'VY', 'GQ', 'YP', 'QY', 'PR', 'YV', 'RV', 'VV', 'VL', 'VS', 'LF', 'SE', 'FL', 'EL', 'LH', 'LA', 'HP', 'AA', 'PT', 'AV', 'TC', 'VG', 'CP', 'GK', 'PK', 'KS', 'KT', 'SN', 'TL', 'NV', 'LK', 'VN', 'KK', 'NC', 'KV', 'CN', 'VF']\n"
     ]
    }
   ],
   "source": [
    "s2 = \"RVQPTESIVRFPNITNLCPFGEVFNATRFASVYAWNRKRISNCVADYSVLYNSASFSTFKCYGVSPTKLNDLCFTNVYADSFVIRGDEVRQIAPGQTGKIADYNYKLPDDFTGCVIAWNSNNLDSKVGGNYNYLYRLFRKSNLKPFERDISTEIYQAGSTPCNGVEGFNCYFPLQSYGFQPTNGVGYQPYRVVVLSFELLHAPATVCGPKKSTNLVKNKCVNF\"\n",
    "\n",
    "lambda_2 = []\n",
    "\n",
    "for i in range(len(s2)):\n",
    "    if(0<=i<221):\n",
    "        c1 = s2[i]\n",
    "        c2 = s2[i+2]\n",
    "        lambda_2.append(c1+c2)\n",
    "    else:\n",
    "        break\n",
    "print(lambda_2)"
   ]
  },
  {
   "cell_type": "code",
   "execution_count": 67,
   "id": "selected-slovenia",
   "metadata": {},
   "outputs": [
    {
     "name": "stdout",
     "output_type": "stream",
     "text": [
      "['RP', 'VT', 'QE', 'PS', 'TI', 'EV', 'SR', 'IF', 'VP', 'RN', 'FI', 'PT', 'NN', 'IL', 'TC', 'NP', 'LF', 'CG', 'PE', 'FV', 'GF', 'EN', 'VA', 'FT', 'NR', 'AF', 'TA', 'RS', 'FV', 'AY', 'SA', 'VW', 'YN', 'AR', 'WK', 'NR', 'RI', 'KS', 'RN', 'IC', 'SV', 'NA', 'CD', 'VY', 'AS', 'DV', 'YL', 'SY', 'VN', 'LS', 'YA', 'NS', 'SF', 'AS', 'ST', 'FF', 'SK', 'TC', 'FY', 'KG', 'CV', 'YS', 'GP', 'VT', 'SK', 'PL', 'TN', 'KD', 'LL', 'NC', 'DF', 'LT', 'CN', 'FV', 'TY', 'NA', 'VD', 'YS', 'AF', 'DV', 'SI', 'FR', 'VG', 'ID', 'RE', 'GV', 'DR', 'EQ', 'VI', 'RA', 'QP', 'IG', 'AQ', 'PT', 'GG', 'QK', 'TI', 'GA', 'KD', 'IY', 'AN', 'DY', 'YK', 'NL', 'YP', 'KD', 'LD', 'PF', 'DT', 'DG', 'FC', 'TV', 'GI', 'CA', 'VW', 'IN', 'AS', 'WN', 'NN', 'SL', 'ND', 'NS', 'LK', 'DV', 'SG', 'KG', 'VN', 'GY', 'GN', 'NY', 'YL', 'NY', 'YR', 'LL', 'YF', 'RR', 'LK', 'FS', 'RN', 'KL', 'SK', 'NP', 'LF', 'KE', 'PR', 'FD', 'EI', 'RS', 'DT', 'IE', 'SI', 'TY', 'EQ', 'IA', 'YG', 'QS', 'AT', 'GP', 'SC', 'TN', 'PG', 'CV', 'NE', 'GG', 'VF', 'EN', 'GC', 'FY', 'NF', 'CP', 'YL', 'FQ', 'PS', 'LY', 'QG', 'SF', 'YQ', 'GP', 'FT', 'QN', 'PG', 'TV', 'NG', 'GY', 'VQ', 'GP', 'YY', 'QR', 'PV', 'YV', 'RV', 'VL', 'VS', 'VF', 'LE', 'SL', 'FL', 'EH', 'LA', 'LP', 'HA', 'AT', 'PV', 'AC', 'TG', 'VP', 'CK', 'GK', 'PS', 'KT', 'KN', 'SL', 'TV', 'NK', 'LN', 'VK', 'KC', 'NV', 'KN', 'CF']\n"
     ]
    }
   ],
   "source": [
    "s3 = \"RVQPTESIVRFPNITNLCPFGEVFNATRFASVYAWNRKRISNCVADYSVLYNSASFSTFKCYGVSPTKLNDLCFTNVYADSFVIRGDEVRQIAPGQTGKIADYNYKLPDDFTGCVIAWNSNNLDSKVGGNYNYLYRLFRKSNLKPFERDISTEIYQAGSTPCNGVEGFNCYFPLQSYGFQPTNGVGYQPYRVVVLSFELLHAPATVCGPKKSTNLVKNKCVNF\"\n",
    "\n",
    "lambda_3 = []\n",
    "\n",
    "for i in range(len(s3)):\n",
    "    if(0<=i<220):\n",
    "        c1 = s3[i]\n",
    "        c2 = s3[i+3]\n",
    "        lambda_3.append(c1+c2)\n",
    "    else:\n",
    "        break\n",
    "print(lambda_3)"
   ]
  },
  {
   "cell_type": "code",
   "execution_count": 69,
   "id": "greatest-favor",
   "metadata": {},
   "outputs": [
    {
     "name": "stdout",
     "output_type": "stream",
     "text": [
      "['RT', 'VE', 'QS', 'PI', 'TV', 'ER', 'SF', 'IP', 'VN', 'RI', 'FT', 'PN', 'NL', 'IC', 'TP', 'NF', 'LG', 'CE', 'PV', 'FF', 'GN', 'EA', 'VT', 'FR', 'NF', 'AA', 'TS', 'RV', 'FY', 'AA', 'SW', 'VN', 'YR', 'AK', 'WR', 'NI', 'RS', 'KN', 'RC', 'IV', 'SA', 'ND', 'CY', 'VS', 'AV', 'DL', 'YY', 'SN', 'VS', 'LA', 'YS', 'NF', 'SS', 'AT', 'SF', 'FK', 'SC', 'TY', 'FG', 'KV', 'CS', 'YP', 'GT', 'VK', 'SL', 'PN', 'TD', 'KL', 'LC', 'NF', 'DT', 'LN', 'CV', 'FY', 'TA', 'ND', 'VS', 'YF', 'AV', 'DI', 'SR', 'FG', 'VD', 'IE', 'RV', 'GR', 'DQ', 'EI', 'VA', 'RP', 'QG', 'IQ', 'AT', 'PG', 'GK', 'QI', 'TA', 'GD', 'KY', 'IN', 'AY', 'DK', 'YL', 'NP', 'YD', 'KD', 'LF', 'PT', 'DG', 'DC', 'FV', 'TI', 'GA', 'CW', 'VN', 'IS', 'AN', 'WN', 'NL', 'SD', 'NS', 'NK', 'LV', 'DG', 'SG', 'KN', 'VY', 'GN', 'GY', 'NL', 'YY', 'NR', 'YL', 'LF', 'YR', 'RK', 'LS', 'FN', 'RL', 'KK', 'SP', 'NF', 'LE', 'KR', 'PD', 'FI', 'ES', 'RT', 'DE', 'II', 'SY', 'TQ', 'EA', 'IG', 'YS', 'QT', 'AP', 'GC', 'SN', 'TG', 'PV', 'CE', 'NG', 'GF', 'VN', 'EC', 'GY', 'FF', 'NP', 'CL', 'YQ', 'FS', 'PY', 'LG', 'QF', 'SQ', 'YP', 'GT', 'FN', 'QG', 'PV', 'TG', 'NY', 'GQ', 'VP', 'GY', 'YR', 'QV', 'PV', 'YV', 'RL', 'VS', 'VF', 'VE', 'LL', 'SL', 'FH', 'EA', 'LP', 'LA', 'HT', 'AV', 'PC', 'AG', 'TP', 'VK', 'CK', 'GS', 'PT', 'KN', 'KL', 'SV', 'TK', 'NN', 'LK', 'VC', 'KV', 'NN', 'KF']\n"
     ]
    }
   ],
   "source": [
    "s4 = \"RVQPTESIVRFPNITNLCPFGEVFNATRFASVYAWNRKRISNCVADYSVLYNSASFSTFKCYGVSPTKLNDLCFTNVYADSFVIRGDEVRQIAPGQTGKIADYNYKLPDDFTGCVIAWNSNNLDSKVGGNYNYLYRLFRKSNLKPFERDISTEIYQAGSTPCNGVEGFNCYFPLQSYGFQPTNGVGYQPYRVVVLSFELLHAPATVCGPKKSTNLVKNKCVNF\"\n",
    "\n",
    "lambda_4 = []\n",
    "\n",
    "for i in range(len(s4)):\n",
    "    if(0<=i<219):\n",
    "        c1 = s4[i]\n",
    "        c2 = s4[i+4]\n",
    "        lambda_4.append(c1+c2)\n",
    "    else:\n",
    "        break\n",
    "print(lambda_4)"
   ]
  },
  {
   "cell_type": "code",
   "execution_count": 70,
   "id": "forward-swaziland",
   "metadata": {},
   "outputs": [
    {
     "name": "stdout",
     "output_type": "stream",
     "text": [
      "['RE', 'VS', 'QI', 'PV', 'TR', 'EF', 'SP', 'IN', 'VI', 'RT', 'FN', 'PL', 'NC', 'IP', 'TF', 'NG', 'LE', 'CV', 'PF', 'FN', 'GA', 'ET', 'VR', 'FF', 'NA', 'AS', 'TV', 'RY', 'FA', 'AW', 'SN', 'VR', 'YK', 'AR', 'WI', 'NS', 'RN', 'KC', 'RV', 'IA', 'SD', 'NY', 'CS', 'VV', 'AL', 'DY', 'YN', 'SS', 'VA', 'LS', 'YF', 'NS', 'ST', 'AF', 'SK', 'FC', 'SY', 'TG', 'FV', 'KS', 'CP', 'YT', 'GK', 'VL', 'SN', 'PD', 'TL', 'KC', 'LF', 'NT', 'DN', 'LV', 'CY', 'FA', 'TD', 'NS', 'VF', 'YV', 'AI', 'DR', 'SG', 'FD', 'VE', 'IV', 'RR', 'GQ', 'DI', 'EA', 'VP', 'RG', 'QQ', 'IT', 'AG', 'PK', 'GI', 'QA', 'TD', 'GY', 'KN', 'IY', 'AK', 'DL', 'YP', 'ND', 'YD', 'KF', 'LT', 'PG', 'DC', 'DV', 'FI', 'TA', 'GW', 'CN', 'VS', 'IN', 'AN', 'WL', 'ND', 'SS', 'NK', 'NV', 'LG', 'DG', 'SN', 'KY', 'VN', 'GY', 'GL', 'NY', 'YR', 'NL', 'YF', 'LR', 'YK', 'RS', 'LN', 'FL', 'RK', 'KP', 'SF', 'NE', 'LR', 'KD', 'PI', 'FS', 'ET', 'RE', 'DI', 'IY', 'SQ', 'TA', 'EG', 'IS', 'YT', 'QP', 'AC', 'GN', 'SG', 'TV', 'PE', 'CG', 'NF', 'GN', 'VC', 'EY', 'GF', 'FP', 'NL', 'CQ', 'YS', 'FY', 'PG', 'LF', 'QQ', 'SP', 'YT', 'GN', 'FG', 'QV', 'PG', 'TY', 'NQ', 'GP', 'VY', 'GR', 'YV', 'QV', 'PV', 'YL', 'RS', 'VF', 'VE', 'VL', 'LL', 'SH', 'FA', 'EP', 'LA', 'LT', 'HV', 'AC', 'PG', 'AP', 'TK', 'VK', 'CS', 'GT', 'PN', 'KL', 'KV', 'SK', 'TN', 'NK', 'LC', 'VV', 'KN', 'NF']\n"
     ]
    }
   ],
   "source": [
    "s5 = \"RVQPTESIVRFPNITNLCPFGEVFNATRFASVYAWNRKRISNCVADYSVLYNSASFSTFKCYGVSPTKLNDLCFTNVYADSFVIRGDEVRQIAPGQTGKIADYNYKLPDDFTGCVIAWNSNNLDSKVGGNYNYLYRLFRKSNLKPFERDISTEIYQAGSTPCNGVEGFNCYFPLQSYGFQPTNGVGYQPYRVVVLSFELLHAPATVCGPKKSTNLVKNKCVNF\"\n",
    "\n",
    "lambda_5 = []\n",
    "\n",
    "for i in range(len(s5)):\n",
    "    if(0<=i<218):\n",
    "        c1 = s5[i]\n",
    "        c2 = s5[i+5]\n",
    "        lambda_5.append(c1+c2)\n",
    "    else:\n",
    "        break\n",
    "print(lambda_5)"
   ]
  },
  {
   "cell_type": "code",
   "execution_count": 71,
   "id": "molecular-sugar",
   "metadata": {},
   "outputs": [
    {
     "name": "stdout",
     "output_type": "stream",
     "text": [
      "['RS', 'VI', 'QV', 'PR', 'TF', 'EP', 'SN', 'II', 'VT', 'RN', 'FL', 'PC', 'NP', 'IF', 'TG', 'NE', 'LV', 'CF', 'PN', 'FA', 'GT', 'ER', 'VF', 'FA', 'NS', 'AV', 'TY', 'RA', 'FW', 'AN', 'SR', 'VK', 'YR', 'AI', 'WS', 'NN', 'RC', 'KV', 'RA', 'ID', 'SY', 'NS', 'CV', 'VL', 'AY', 'DN', 'YS', 'SA', 'VS', 'LF', 'YS', 'NT', 'SF', 'AK', 'SC', 'FY', 'SG', 'TV', 'FS', 'KP', 'CT', 'YK', 'GL', 'VN', 'SD', 'PL', 'TC', 'KF', 'LT', 'NN', 'DV', 'LY', 'CA', 'FD', 'TS', 'NF', 'VV', 'YI', 'AR', 'DG', 'SD', 'FE', 'VV', 'IR', 'RQ', 'GI', 'DA', 'EP', 'VG', 'RQ', 'QT', 'IG', 'AK', 'PI', 'GA', 'QD', 'TY', 'GN', 'KY', 'IK', 'AL', 'DP', 'YD', 'ND', 'YF', 'KT', 'LG', 'PC', 'DV', 'DI', 'FA', 'TW', 'GN', 'CS', 'VN', 'IN', 'AL', 'WD', 'NS', 'SK', 'NV', 'NG', 'LG', 'DN', 'SY', 'KN', 'VY', 'GL', 'GY', 'NR', 'YL', 'NF', 'YR', 'LK', 'YS', 'RN', 'LL', 'FK', 'RP', 'KF', 'SE', 'NR', 'LD', 'KI', 'PS', 'FT', 'EE', 'RI', 'DY', 'IQ', 'SA', 'TG', 'ES', 'IT', 'YP', 'QC', 'AN', 'GG', 'SV', 'TE', 'PG', 'CF', 'NN', 'GC', 'VY', 'EF', 'GP', 'FL', 'NQ', 'CS', 'YY', 'FG', 'PF', 'LQ', 'QP', 'ST', 'YN', 'GG', 'FV', 'QG', 'PY', 'TQ', 'NP', 'GY', 'VR', 'GV', 'YV', 'QV', 'PL', 'YS', 'RF', 'VE', 'VL', 'VL', 'LH', 'SA', 'FP', 'EA', 'LT', 'LV', 'HC', 'AG', 'PP', 'AK', 'TK', 'VS', 'CT', 'GN', 'PL', 'KV', 'KK', 'SN', 'TK', 'NC', 'LV', 'VN', 'KF']\n"
     ]
    }
   ],
   "source": [
    "s6 = \"RVQPTESIVRFPNITNLCPFGEVFNATRFASVYAWNRKRISNCVADYSVLYNSASFSTFKCYGVSPTKLNDLCFTNVYADSFVIRGDEVRQIAPGQTGKIADYNYKLPDDFTGCVIAWNSNNLDSKVGGNYNYLYRLFRKSNLKPFERDISTEIYQAGSTPCNGVEGFNCYFPLQSYGFQPTNGVGYQPYRVVVLSFELLHAPATVCGPKKSTNLVKNKCVNF\"\n",
    "\n",
    "lambda_6 = []\n",
    "\n",
    "for i in range(len(s6)):\n",
    "    if(0<=i<217):\n",
    "        c1 = s6[i]\n",
    "        c2 = s6[i+6]\n",
    "        lambda_6.append(c1+c2)\n",
    "    else:\n",
    "        break\n",
    "print(lambda_6)"
   ]
  },
  {
   "cell_type": "code",
   "execution_count": 73,
   "id": "suitable-skiing",
   "metadata": {},
   "outputs": [
    {
     "name": "stdout",
     "output_type": "stream",
     "text": [
      "['RI', 'VV', 'QR', 'PF', 'TP', 'EN', 'SI', 'IT', 'VN', 'RL', 'FC', 'PP', 'NF', 'IG', 'TE', 'NV', 'LF', 'CN', 'PA', 'FT', 'GR', 'EF', 'VA', 'FS', 'NV', 'AY', 'TA', 'RW', 'FN', 'AR', 'SK', 'VR', 'YI', 'AS', 'WN', 'NC', 'RV', 'KA', 'RD', 'IY', 'SS', 'NV', 'CL', 'VY', 'AN', 'DS', 'YA', 'SS', 'VF', 'LS', 'YT', 'NF', 'SK', 'AC', 'SY', 'FG', 'SV', 'TS', 'FP', 'KT', 'CK', 'YL', 'GN', 'VD', 'SL', 'PC', 'TF', 'KT', 'LN', 'NV', 'DY', 'LA', 'CD', 'FS', 'TF', 'NV', 'VI', 'YR', 'AG', 'DD', 'SE', 'FV', 'VR', 'IQ', 'RI', 'GA', 'DP', 'EG', 'VQ', 'RT', 'QG', 'IK', 'AI', 'PA', 'GD', 'QY', 'TN', 'GY', 'KK', 'IL', 'AP', 'DD', 'YD', 'NF', 'YT', 'KG', 'LC', 'PV', 'DI', 'DA', 'FW', 'TN', 'GS', 'CN', 'VN', 'IL', 'AD', 'WS', 'NK', 'SV', 'NG', 'NG', 'LN', 'DY', 'SN', 'KY', 'VL', 'GY', 'GR', 'NL', 'YF', 'NR', 'YK', 'LS', 'YN', 'RL', 'LK', 'FP', 'RF', 'KE', 'SR', 'ND', 'LI', 'KS', 'PT', 'FE', 'EI', 'RY', 'DQ', 'IA', 'SG', 'TS', 'ET', 'IP', 'YC', 'QN', 'AG', 'GV', 'SE', 'TG', 'PF', 'CN', 'NC', 'GY', 'VF', 'EP', 'GL', 'FQ', 'NS', 'CY', 'YG', 'FF', 'PQ', 'LP', 'QT', 'SN', 'YG', 'GV', 'FG', 'QY', 'PQ', 'TP', 'NY', 'GR', 'VV', 'GV', 'YV', 'QL', 'PS', 'YF', 'RE', 'VL', 'VL', 'VH', 'LA', 'SP', 'FA', 'ET', 'LV', 'LC', 'HG', 'AP', 'PK', 'AK', 'TS', 'VT', 'CN', 'GL', 'PV', 'KK', 'KN', 'SK', 'TC', 'NV', 'LN', 'VF']\n"
     ]
    }
   ],
   "source": [
    "s7 = \"RVQPTESIVRFPNITNLCPFGEVFNATRFASVYAWNRKRISNCVADYSVLYNSASFSTFKCYGVSPTKLNDLCFTNVYADSFVIRGDEVRQIAPGQTGKIADYNYKLPDDFTGCVIAWNSNNLDSKVGGNYNYLYRLFRKSNLKPFERDISTEIYQAGSTPCNGVEGFNCYFPLQSYGFQPTNGVGYQPYRVVVLSFELLHAPATVCGPKKSTNLVKNKCVNF\"\n",
    "\n",
    "lambda_7 = []\n",
    "\n",
    "for i in range(len(s7)):\n",
    "    if(0<=i<216):\n",
    "        c1 = s7[i]\n",
    "        c2 = s7[i+7]\n",
    "        lambda_7.append(c1+c2)\n",
    "    else:\n",
    "        break\n",
    "print(lambda_7)"
   ]
  },
  {
   "cell_type": "code",
   "execution_count": 74,
   "id": "given-adult",
   "metadata": {},
   "outputs": [
    {
     "name": "stdout",
     "output_type": "stream",
     "text": [
      "['RV', 'VR', 'QF', 'PP', 'TN', 'EI', 'ST', 'IN', 'VL', 'RC', 'FP', 'PF', 'NG', 'IE', 'TV', 'NF', 'LN', 'CA', 'PT', 'FR', 'GF', 'EA', 'VS', 'FV', 'NY', 'AA', 'TW', 'RN', 'FR', 'AK', 'SR', 'VI', 'YS', 'AN', 'WC', 'NV', 'RA', 'KD', 'RY', 'IS', 'SV', 'NL', 'CY', 'VN', 'AS', 'DA', 'YS', 'SF', 'VS', 'LT', 'YF', 'NK', 'SC', 'AY', 'SG', 'FV', 'SS', 'TP', 'FT', 'KK', 'CL', 'YN', 'GD', 'VL', 'SC', 'PF', 'TT', 'KN', 'LV', 'NY', 'DA', 'LD', 'CS', 'FF', 'TV', 'NI', 'VR', 'YG', 'AD', 'DE', 'SV', 'FR', 'VQ', 'II', 'RA', 'GP', 'DG', 'EQ', 'VT', 'RG', 'QK', 'II', 'AA', 'PD', 'GY', 'QN', 'TY', 'GK', 'KL', 'IP', 'AD', 'DD', 'YF', 'NT', 'YG', 'KC', 'LV', 'PI', 'DA', 'DW', 'FN', 'TS', 'GN', 'CN', 'VL', 'ID', 'AS', 'WK', 'NV', 'SG', 'NG', 'NN', 'LY', 'DN', 'SY', 'KL', 'VY', 'GR', 'GL', 'NF', 'YR', 'NK', 'YS', 'LN', 'YL', 'RK', 'LP', 'FF', 'RE', 'KR', 'SD', 'NI', 'LS', 'KT', 'PE', 'FI', 'EY', 'RQ', 'DA', 'IG', 'SS', 'TT', 'EP', 'IC', 'YN', 'QG', 'AV', 'GE', 'SG', 'TF', 'PN', 'CC', 'NY', 'GF', 'VP', 'EL', 'GQ', 'FS', 'NY', 'CG', 'YF', 'FQ', 'PP', 'LT', 'QN', 'SG', 'YV', 'GG', 'FY', 'QQ', 'PP', 'TY', 'NR', 'GV', 'VV', 'GV', 'YL', 'QS', 'PF', 'YE', 'RL', 'VL', 'VH', 'VA', 'LP', 'SA', 'FT', 'EV', 'LC', 'LG', 'HP', 'AK', 'PK', 'AS', 'TT', 'VN', 'CL', 'GV', 'PK', 'KN', 'KK', 'SC', 'TV', 'NN', 'LF']\n"
     ]
    }
   ],
   "source": [
    "s8 = \"RVQPTESIVRFPNITNLCPFGEVFNATRFASVYAWNRKRISNCVADYSVLYNSASFSTFKCYGVSPTKLNDLCFTNVYADSFVIRGDEVRQIAPGQTGKIADYNYKLPDDFTGCVIAWNSNNLDSKVGGNYNYLYRLFRKSNLKPFERDISTEIYQAGSTPCNGVEGFNCYFPLQSYGFQPTNGVGYQPYRVVVLSFELLHAPATVCGPKKSTNLVKNKCVNF\"\n",
    "\n",
    "lambda_8 = []\n",
    "\n",
    "for i in range(len(s8)):\n",
    "    if(0<=i<215):\n",
    "        c1 = s8[i]\n",
    "        c2 = s8[i+8]\n",
    "        lambda_8.append(c1+c2)\n",
    "    else:\n",
    "        break\n",
    "print(lambda_8)"
   ]
  },
  {
   "cell_type": "code",
   "execution_count": 75,
   "id": "preceding-notice",
   "metadata": {},
   "outputs": [
    {
     "name": "stdout",
     "output_type": "stream",
     "text": [
      "['RR', 'VF', 'QP', 'PN', 'TI', 'ET', 'SN', 'IL', 'VC', 'RP', 'FF', 'PG', 'NE', 'IV', 'TF', 'NN', 'LA', 'CT', 'PR', 'FF', 'GA', 'ES', 'VV', 'FY', 'NA', 'AW', 'TN', 'RR', 'FK', 'AR', 'SI', 'VS', 'YN', 'AC', 'WV', 'NA', 'RD', 'KY', 'RS', 'IV', 'SL', 'NY', 'CN', 'VS', 'AA', 'DS', 'YF', 'SS', 'VT', 'LF', 'YK', 'NC', 'SY', 'AG', 'SV', 'FS', 'SP', 'TT', 'FK', 'KL', 'CN', 'YD', 'GL', 'VC', 'SF', 'PT', 'TN', 'KV', 'LY', 'NA', 'DD', 'LS', 'CF', 'FV', 'TI', 'NR', 'VG', 'YD', 'AE', 'DV', 'SR', 'FQ', 'VI', 'IA', 'RP', 'GG', 'DQ', 'ET', 'VG', 'RK', 'QI', 'IA', 'AD', 'PY', 'GN', 'QY', 'TK', 'GL', 'KP', 'ID', 'AD', 'DF', 'YT', 'NG', 'YC', 'KV', 'LI', 'PA', 'DW', 'DN', 'FS', 'TN', 'GN', 'CL', 'VD', 'IS', 'AK', 'WV', 'NG', 'SG', 'NN', 'NY', 'LN', 'DY', 'SL', 'KY', 'VR', 'GL', 'GF', 'NR', 'YK', 'NS', 'YN', 'LL', 'YK', 'RP', 'LF', 'FE', 'RR', 'KD', 'SI', 'NS', 'LT', 'KE', 'PI', 'FY', 'EQ', 'RA', 'DG', 'IS', 'ST', 'TP', 'EC', 'IN', 'YG', 'QV', 'AE', 'GG', 'SF', 'TN', 'PC', 'CY', 'NF', 'GP', 'VL', 'EQ', 'GS', 'FY', 'NG', 'CF', 'YQ', 'FP', 'PT', 'LN', 'QG', 'SV', 'YG', 'GY', 'FQ', 'QP', 'PY', 'TR', 'NV', 'GV', 'VV', 'GL', 'YS', 'QF', 'PE', 'YL', 'RL', 'VH', 'VA', 'VP', 'LA', 'ST', 'FV', 'EC', 'LG', 'LP', 'HK', 'AK', 'PS', 'AT', 'TN', 'VL', 'CV', 'GK', 'PN', 'KK', 'KC', 'SV', 'TN', 'NF']\n"
     ]
    }
   ],
   "source": [
    "s9 = \"RVQPTESIVRFPNITNLCPFGEVFNATRFASVYAWNRKRISNCVADYSVLYNSASFSTFKCYGVSPTKLNDLCFTNVYADSFVIRGDEVRQIAPGQTGKIADYNYKLPDDFTGCVIAWNSNNLDSKVGGNYNYLYRLFRKSNLKPFERDISTEIYQAGSTPCNGVEGFNCYFPLQSYGFQPTNGVGYQPYRVVVLSFELLHAPATVCGPKKSTNLVKNKCVNF\"\n",
    "\n",
    "lambda_9 = []\n",
    "\n",
    "for i in range(len(s9)):\n",
    "    if(0<=i<214):\n",
    "        c1 = s9[i]\n",
    "        c2 = s9[i+9]\n",
    "        lambda_9.append(c1+c2)\n",
    "    else:\n",
    "        break\n",
    "print(lambda_9)"
   ]
  },
  {
   "cell_type": "code",
   "execution_count": 76,
   "id": "still-oriental",
   "metadata": {},
   "outputs": [
    {
     "name": "stdout",
     "output_type": "stream",
     "text": [
      "['RF', 'VP', 'QN', 'PI', 'TT', 'EN', 'SL', 'IC', 'VP', 'RF', 'FG', 'PE', 'NV', 'IF', 'TN', 'NA', 'LT', 'CR', 'PF', 'FA', 'GS', 'EV', 'VY', 'FA', 'NW', 'AN', 'TR', 'RK', 'FR', 'AI', 'SS', 'VN', 'YC', 'AV', 'WA', 'ND', 'RY', 'KS', 'RV', 'IL', 'SY', 'NN', 'CS', 'VA', 'AS', 'DF', 'YS', 'ST', 'VF', 'LK', 'YC', 'NY', 'SG', 'AV', 'SS', 'FP', 'ST', 'TK', 'FL', 'KN', 'CD', 'YL', 'GC', 'VF', 'ST', 'PN', 'TV', 'KY', 'LA', 'ND', 'DS', 'LF', 'CV', 'FI', 'TR', 'NG', 'VD', 'YE', 'AV', 'DR', 'SQ', 'FI', 'VA', 'IP', 'RG', 'GQ', 'DT', 'EG', 'VK', 'RI', 'QA', 'ID', 'AY', 'PN', 'GY', 'QK', 'TL', 'GP', 'KD', 'ID', 'AF', 'DT', 'YG', 'NC', 'YV', 'KI', 'LA', 'PW', 'DN', 'DS', 'FN', 'TN', 'GL', 'CD', 'VS', 'IK', 'AV', 'WG', 'NG', 'SN', 'NY', 'NN', 'LY', 'DL', 'SY', 'KR', 'VL', 'GF', 'GR', 'NK', 'YS', 'NN', 'YL', 'LK', 'YP', 'RF', 'LE', 'FR', 'RD', 'KI', 'SS', 'NT', 'LE', 'KI', 'PY', 'FQ', 'EA', 'RG', 'DS', 'IT', 'SP', 'TC', 'EN', 'IG', 'YV', 'QE', 'AG', 'GF', 'SN', 'TC', 'PY', 'CF', 'NP', 'GL', 'VQ', 'ES', 'GY', 'FG', 'NF', 'CQ', 'YP', 'FT', 'PN', 'LG', 'QV', 'SG', 'YY', 'GQ', 'FP', 'QY', 'PR', 'TV', 'NV', 'GV', 'VL', 'GS', 'YF', 'QE', 'PL', 'YL', 'RH', 'VA', 'VP', 'VA', 'LT', 'SV', 'FC', 'EG', 'LP', 'LK', 'HK', 'AS', 'PT', 'AN', 'TL', 'VV', 'CK', 'GN', 'PK', 'KC', 'KV', 'SN', 'TF']\n"
     ]
    }
   ],
   "source": [
    "s10 = \"RVQPTESIVRFPNITNLCPFGEVFNATRFASVYAWNRKRISNCVADYSVLYNSASFSTFKCYGVSPTKLNDLCFTNVYADSFVIRGDEVRQIAPGQTGKIADYNYKLPDDFTGCVIAWNSNNLDSKVGGNYNYLYRLFRKSNLKPFERDISTEIYQAGSTPCNGVEGFNCYFPLQSYGFQPTNGVGYQPYRVVVLSFELLHAPATVCGPKKSTNLVKNKCVNF\"\n",
    "\n",
    "lambda_10 = []\n",
    "\n",
    "for i in range(len(s10)):\n",
    "    if(0<=i<213):\n",
    "        c1 = s10[i]\n",
    "        c2 = s10[i+10]\n",
    "        lambda_10.append(c1+c2)\n",
    "    else:\n",
    "        break\n",
    "print(lambda_10)"
   ]
  },
  {
   "cell_type": "code",
   "execution_count": 77,
   "id": "about-wyoming",
   "metadata": {},
   "outputs": [
    {
     "name": "stdout",
     "output_type": "stream",
     "text": [
      "['RP', 'VN', 'QI', 'PT', 'TN', 'EL', 'SC', 'IP', 'VF', 'RG', 'FE', 'PV', 'NF', 'IN', 'TA', 'NT', 'LR', 'CF', 'PA', 'FS', 'GV', 'EY', 'VA', 'FW', 'NN', 'AR', 'TK', 'RR', 'FI', 'AS', 'SN', 'VC', 'YV', 'AA', 'WD', 'NY', 'RS', 'KV', 'RL', 'IY', 'SN', 'NS', 'CA', 'VS', 'AF', 'DS', 'YT', 'SF', 'VK', 'LC', 'YY', 'NG', 'SV', 'AS', 'SP', 'FT', 'SK', 'TL', 'FN', 'KD', 'CL', 'YC', 'GF', 'VT', 'SN', 'PV', 'TY', 'KA', 'LD', 'NS', 'DF', 'LV', 'CI', 'FR', 'TG', 'ND', 'VE', 'YV', 'AR', 'DQ', 'SI', 'FA', 'VP', 'IG', 'RQ', 'GT', 'DG', 'EK', 'VI', 'RA', 'QD', 'IY', 'AN', 'PY', 'GK', 'QL', 'TP', 'GD', 'KD', 'IF', 'AT', 'DG', 'YC', 'NV', 'YI', 'KA', 'LW', 'PN', 'DS', 'DN', 'FN', 'TL', 'GD', 'CS', 'VK', 'IV', 'AG', 'WG', 'NN', 'SY', 'NN', 'NY', 'LL', 'DY', 'SR', 'KL', 'VF', 'GR', 'GK', 'NS', 'YN', 'NL', 'YK', 'LP', 'YF', 'RE', 'LR', 'FD', 'RI', 'KS', 'ST', 'NE', 'LI', 'KY', 'PQ', 'FA', 'EG', 'RS', 'DT', 'IP', 'SC', 'TN', 'EG', 'IV', 'YE', 'QG', 'AF', 'GN', 'SC', 'TY', 'PF', 'CP', 'NL', 'GQ', 'VS', 'EY', 'GG', 'FF', 'NQ', 'CP', 'YT', 'FN', 'PG', 'LV', 'QG', 'SY', 'YQ', 'GP', 'FY', 'QR', 'PV', 'TV', 'NV', 'GL', 'VS', 'GF', 'YE', 'QL', 'PL', 'YH', 'RA', 'VP', 'VA', 'VT', 'LV', 'SC', 'FG', 'EP', 'LK', 'LK', 'HS', 'AT', 'PN', 'AL', 'TV', 'VK', 'CN', 'GK', 'PC', 'KV', 'KN', 'SF']\n"
     ]
    }
   ],
   "source": [
    "s11 = \"RVQPTESIVRFPNITNLCPFGEVFNATRFASVYAWNRKRISNCVADYSVLYNSASFSTFKCYGVSPTKLNDLCFTNVYADSFVIRGDEVRQIAPGQTGKIADYNYKLPDDFTGCVIAWNSNNLDSKVGGNYNYLYRLFRKSNLKPFERDISTEIYQAGSTPCNGVEGFNCYFPLQSYGFQPTNGVGYQPYRVVVLSFELLHAPATVCGPKKSTNLVKNKCVNF\"\n",
    "\n",
    "lambda_11 = []\n",
    "\n",
    "for i in range(len(s11)):\n",
    "    if(0<=i<212):\n",
    "        c1 = s11[i]\n",
    "        c2 = s11[i+11]\n",
    "        lambda_11.append(c1+c2)\n",
    "    else:\n",
    "        break\n",
    "print(lambda_11)"
   ]
  },
  {
   "cell_type": "code",
   "execution_count": 80,
   "id": "global-machinery",
   "metadata": {},
   "outputs": [
    {
     "name": "stdout",
     "output_type": "stream",
     "text": [
      "['RN', 'VI', 'QT', 'PN', 'TL', 'EC', 'SP', 'IF', 'VG', 'RE', 'FV', 'PF', 'NN', 'IA', 'TT', 'NR', 'LF', 'CA', 'PS', 'FV', 'GY', 'EA', 'VW', 'FN', 'NR', 'AK', 'TR', 'RI', 'FS', 'AN', 'SC', 'VV', 'YA', 'AD', 'WY', 'NS', 'RV', 'KL', 'RY', 'IN', 'SS', 'NA', 'CS', 'VF', 'AS', 'DT', 'YF', 'SK', 'VC', 'LY', 'YG', 'NV', 'SS', 'AP', 'ST', 'FK', 'SL', 'TN', 'FD', 'KL', 'CC', 'YF', 'GT', 'VN', 'SV', 'PY', 'TA', 'KD', 'LS', 'NF', 'DV', 'LI', 'CR', 'FG', 'TD', 'NE', 'VV', 'YR', 'AQ', 'DI', 'SA', 'FP', 'VG', 'IQ', 'RT', 'GG', 'DK', 'EI', 'VA', 'RD', 'QY', 'IN', 'AY', 'PK', 'GL', 'QP', 'TD', 'GD', 'KF', 'IT', 'AG', 'DC', 'YV', 'NI', 'YA', 'KW', 'LN', 'PS', 'DN', 'DN', 'FL', 'TD', 'GS', 'CK', 'VV', 'IG', 'AG', 'WN', 'NY', 'SN', 'NY', 'NL', 'LY', 'DR', 'SL', 'KF', 'VR', 'GK', 'GS', 'NN', 'YL', 'NK', 'YP', 'LF', 'YE', 'RR', 'LD', 'FI', 'RS', 'KT', 'SE', 'NI', 'LY', 'KQ', 'PA', 'FG', 'ES', 'RT', 'DP', 'IC', 'SN', 'TG', 'EV', 'IE', 'YG', 'QF', 'AN', 'GC', 'SY', 'TF', 'PP', 'CL', 'NQ', 'GS', 'VY', 'EG', 'GF', 'FQ', 'NP', 'CT', 'YN', 'FG', 'PV', 'LG', 'QY', 'SQ', 'YP', 'GY', 'FR', 'QV', 'PV', 'TV', 'NL', 'GS', 'VF', 'GE', 'YL', 'QL', 'PH', 'YA', 'RP', 'VA', 'VT', 'VV', 'LC', 'SG', 'FP', 'EK', 'LK', 'LS', 'HT', 'AN', 'PL', 'AV', 'TK', 'VN', 'CK', 'GC', 'PV', 'KN', 'KF']\n"
     ]
    }
   ],
   "source": [
    "s12 = \"RVQPTESIVRFPNITNLCPFGEVFNATRFASVYAWNRKRISNCVADYSVLYNSASFSTFKCYGVSPTKLNDLCFTNVYADSFVIRGDEVRQIAPGQTGKIADYNYKLPDDFTGCVIAWNSNNLDSKVGGNYNYLYRLFRKSNLKPFERDISTEIYQAGSTPCNGVEGFNCYFPLQSYGFQPTNGVGYQPYRVVVLSFELLHAPATVCGPKKSTNLVKNKCVNF\"\n",
    "\n",
    "lambda_12 = []\n",
    "\n",
    "for i in range(len(s12)):\n",
    "    if(0<=i<211):\n",
    "        c1 = s12[i]\n",
    "        c2 = s12[i+12]\n",
    "        lambda_12.append(c1+c2)\n",
    "    else:\n",
    "        break\n",
    "print(lambda_12)"
   ]
  },
  {
   "cell_type": "code",
   "execution_count": 81,
   "id": "prospective-festival",
   "metadata": {},
   "outputs": [
    {
     "name": "stdout",
     "output_type": "stream",
     "text": [
      "['RI', 'VT', 'QN', 'PL', 'TC', 'EP', 'SF', 'IG', 'VE', 'RV', 'FF', 'PN', 'NA', 'IT', 'TR', 'NF', 'LA', 'CS', 'PV', 'FY', 'GA', 'EW', 'VN', 'FR', 'NK', 'AR', 'TI', 'RS', 'FN', 'AC', 'SV', 'VA', 'YD', 'AY', 'WS', 'NV', 'RL', 'KY', 'RN', 'IS', 'SA', 'NS', 'CF', 'VS', 'AT', 'DF', 'YK', 'SC', 'VY', 'LG', 'YV', 'NS', 'SP', 'AT', 'SK', 'FL', 'SN', 'TD', 'FL', 'KC', 'CF', 'YT', 'GN', 'VV', 'SY', 'PA', 'TD', 'KS', 'LF', 'NV', 'DI', 'LR', 'CG', 'FD', 'TE', 'NV', 'VR', 'YQ', 'AI', 'DA', 'SP', 'FG', 'VQ', 'IT', 'RG', 'GK', 'DI', 'EA', 'VD', 'RY', 'QN', 'IY', 'AK', 'PL', 'GP', 'QD', 'TD', 'GF', 'KT', 'IG', 'AC', 'DV', 'YI', 'NA', 'YW', 'KN', 'LS', 'PN', 'DN', 'DL', 'FD', 'TS', 'GK', 'CV', 'VG', 'IG', 'AN', 'WY', 'NN', 'SY', 'NL', 'NY', 'LR', 'DL', 'SF', 'KR', 'VK', 'GS', 'GN', 'NL', 'YK', 'NP', 'YF', 'LE', 'YR', 'RD', 'LI', 'FS', 'RT', 'KE', 'SI', 'NY', 'LQ', 'KA', 'PG', 'FS', 'ET', 'RP', 'DC', 'IN', 'SG', 'TV', 'EE', 'IG', 'YF', 'QN', 'AC', 'GY', 'SF', 'TP', 'PL', 'CQ', 'NS', 'GY', 'VG', 'EF', 'GQ', 'FP', 'NT', 'CN', 'YG', 'FV', 'PG', 'LY', 'QQ', 'SP', 'YY', 'GR', 'FV', 'QV', 'PV', 'TL', 'NS', 'GF', 'VE', 'GL', 'YL', 'QH', 'PA', 'YP', 'RA', 'VT', 'VV', 'VC', 'LG', 'SP', 'FK', 'EK', 'LS', 'LT', 'HN', 'AL', 'PV', 'AK', 'TN', 'VK', 'CC', 'GV', 'PN', 'KF']\n"
     ]
    }
   ],
   "source": [
    "s13 = \"RVQPTESIVRFPNITNLCPFGEVFNATRFASVYAWNRKRISNCVADYSVLYNSASFSTFKCYGVSPTKLNDLCFTNVYADSFVIRGDEVRQIAPGQTGKIADYNYKLPDDFTGCVIAWNSNNLDSKVGGNYNYLYRLFRKSNLKPFERDISTEIYQAGSTPCNGVEGFNCYFPLQSYGFQPTNGVGYQPYRVVVLSFELLHAPATVCGPKKSTNLVKNKCVNF\"\n",
    "\n",
    "lambda_13 = []\n",
    "\n",
    "for i in range(len(s13)):\n",
    "    if(0<=i<210):\n",
    "        c1 = s13[i]\n",
    "        c2 = s13[i+13]\n",
    "        lambda_13.append(c1+c2)\n",
    "    else:\n",
    "        break\n",
    "print(lambda_13)"
   ]
  },
  {
   "cell_type": "code",
   "execution_count": 82,
   "id": "sitting-heavy",
   "metadata": {},
   "outputs": [
    {
     "name": "stdout",
     "output_type": "stream",
     "text": [
      "['RT', 'VN', 'QL', 'PC', 'TP', 'EF', 'SG', 'IE', 'VV', 'RF', 'FN', 'PA', 'NT', 'IR', 'TF', 'NA', 'LS', 'CV', 'PY', 'FA', 'GW', 'EN', 'VR', 'FK', 'NR', 'AI', 'TS', 'RN', 'FC', 'AV', 'SA', 'VD', 'YY', 'AS', 'WV', 'NL', 'RY', 'KN', 'RS', 'IA', 'SS', 'NF', 'CS', 'VT', 'AF', 'DK', 'YC', 'SY', 'VG', 'LV', 'YS', 'NP', 'ST', 'AK', 'SL', 'FN', 'SD', 'TL', 'FC', 'KF', 'CT', 'YN', 'GV', 'VY', 'SA', 'PD', 'TS', 'KF', 'LV', 'NI', 'DR', 'LG', 'CD', 'FE', 'TV', 'NR', 'VQ', 'YI', 'AA', 'DP', 'SG', 'FQ', 'VT', 'IG', 'RK', 'GI', 'DA', 'ED', 'VY', 'RN', 'QY', 'IK', 'AL', 'PP', 'GD', 'QD', 'TF', 'GT', 'KG', 'IC', 'AV', 'DI', 'YA', 'NW', 'YN', 'KS', 'LN', 'PN', 'DL', 'DD', 'FS', 'TK', 'GV', 'CG', 'VG', 'IN', 'AY', 'WN', 'NY', 'SL', 'NY', 'NR', 'LL', 'DF', 'SR', 'KK', 'VS', 'GN', 'GL', 'NK', 'YP', 'NF', 'YE', 'LR', 'YD', 'RI', 'LS', 'FT', 'RE', 'KI', 'SY', 'NQ', 'LA', 'KG', 'PS', 'FT', 'EP', 'RC', 'DN', 'IG', 'SV', 'TE', 'EG', 'IF', 'YN', 'QC', 'AY', 'GF', 'SP', 'TL', 'PQ', 'CS', 'NY', 'GG', 'VF', 'EQ', 'GP', 'FT', 'NN', 'CG', 'YV', 'FG', 'PY', 'LQ', 'QP', 'SY', 'YR', 'GV', 'FV', 'QV', 'PL', 'TS', 'NF', 'GE', 'VL', 'GL', 'YH', 'QA', 'PP', 'YA', 'RT', 'VV', 'VC', 'VG', 'LP', 'SK', 'FK', 'ES', 'LT', 'LN', 'HL', 'AV', 'PK', 'AN', 'TK', 'VC', 'CV', 'GN', 'PF']\n"
     ]
    }
   ],
   "source": [
    "s14 = \"RVQPTESIVRFPNITNLCPFGEVFNATRFASVYAWNRKRISNCVADYSVLYNSASFSTFKCYGVSPTKLNDLCFTNVYADSFVIRGDEVRQIAPGQTGKIADYNYKLPDDFTGCVIAWNSNNLDSKVGGNYNYLYRLFRKSNLKPFERDISTEIYQAGSTPCNGVEGFNCYFPLQSYGFQPTNGVGYQPYRVVVLSFELLHAPATVCGPKKSTNLVKNKCVNF\"\n",
    "\n",
    "lambda_14 = []\n",
    "\n",
    "for i in range(len(s14)):\n",
    "    if(0<=i<209):\n",
    "        c1 = s14[i]\n",
    "        c2 = s14[i+14]\n",
    "        lambda_14.append(c1+c2)\n",
    "    else:\n",
    "        break\n",
    "print(lambda_14)"
   ]
  },
  {
   "cell_type": "code",
   "execution_count": 83,
   "id": "transparent-senator",
   "metadata": {},
   "outputs": [
    {
     "name": "stdout",
     "output_type": "stream",
     "text": [
      "['RN', 'VL', 'QC', 'PP', 'TF', 'EG', 'SE', 'IV', 'VF', 'RN', 'FA', 'PT', 'NR', 'IF', 'TA', 'NS', 'LV', 'CY', 'PA', 'FW', 'GN', 'ER', 'VK', 'FR', 'NI', 'AS', 'TN', 'RC', 'FV', 'AA', 'SD', 'VY', 'YS', 'AV', 'WL', 'NY', 'RN', 'KS', 'RA', 'IS', 'SF', 'NS', 'CT', 'VF', 'AK', 'DC', 'YY', 'SG', 'VV', 'LS', 'YP', 'NT', 'SK', 'AL', 'SN', 'FD', 'SL', 'TC', 'FF', 'KT', 'CN', 'YV', 'GY', 'VA', 'SD', 'PS', 'TF', 'KV', 'LI', 'NR', 'DG', 'LD', 'CE', 'FV', 'TR', 'NQ', 'VI', 'YA', 'AP', 'DG', 'SQ', 'FT', 'VG', 'IK', 'RI', 'GA', 'DD', 'EY', 'VN', 'RY', 'QK', 'IL', 'AP', 'PD', 'GD', 'QF', 'TT', 'GG', 'KC', 'IV', 'AI', 'DA', 'YW', 'NN', 'YS', 'KN', 'LN', 'PL', 'DD', 'DS', 'FK', 'TV', 'GG', 'CG', 'VN', 'IY', 'AN', 'WY', 'NL', 'SY', 'NR', 'NL', 'LF', 'DR', 'SK', 'KS', 'VN', 'GL', 'GK', 'NP', 'YF', 'NE', 'YR', 'LD', 'YI', 'RS', 'LT', 'FE', 'RI', 'KY', 'SQ', 'NA', 'LG', 'KS', 'PT', 'FP', 'EC', 'RN', 'DG', 'IV', 'SE', 'TG', 'EF', 'IN', 'YC', 'QY', 'AF', 'GP', 'SL', 'TQ', 'PS', 'CY', 'NG', 'GF', 'VQ', 'EP', 'GT', 'FN', 'NG', 'CV', 'YG', 'FY', 'PQ', 'LP', 'QY', 'SR', 'YV', 'GV', 'FV', 'QL', 'PS', 'TF', 'NE', 'GL', 'VL', 'GH', 'YA', 'QP', 'PA', 'YT', 'RV', 'VC', 'VG', 'VP', 'LK', 'SK', 'FS', 'ET', 'LN', 'LL', 'HV', 'AK', 'PN', 'AK', 'TC', 'VV', 'CN', 'GF']\n"
     ]
    }
   ],
   "source": [
    "s15 = \"RVQPTESIVRFPNITNLCPFGEVFNATRFASVYAWNRKRISNCVADYSVLYNSASFSTFKCYGVSPTKLNDLCFTNVYADSFVIRGDEVRQIAPGQTGKIADYNYKLPDDFTGCVIAWNSNNLDSKVGGNYNYLYRLFRKSNLKPFERDISTEIYQAGSTPCNGVEGFNCYFPLQSYGFQPTNGVGYQPYRVVVLSFELLHAPATVCGPKKSTNLVKNKCVNF\"\n",
    "\n",
    "lambda_15 = []\n",
    "\n",
    "for i in range(len(s15)):\n",
    "    if(0<=i<208):\n",
    "        c1 = s15[i]\n",
    "        c2 = s15[i+15]\n",
    "        lambda_15.append(c1+c2)\n",
    "    else:\n",
    "        break\n",
    "print(lambda_15)"
   ]
  },
  {
   "cell_type": "code",
   "execution_count": 84,
   "id": "respiratory-ethiopia",
   "metadata": {},
   "outputs": [
    {
     "name": "stdout",
     "output_type": "stream",
     "text": [
      "['RL', 'VC', 'QP', 'PF', 'TG', 'EE', 'SV', 'IF', 'VN', 'RA', 'FT', 'PR', 'NF', 'IA', 'TS', 'NV', 'LY', 'CA', 'PW', 'FN', 'GR', 'EK', 'VR', 'FI', 'NS', 'AN', 'TC', 'RV', 'FA', 'AD', 'SY', 'VS', 'YV', 'AL', 'WY', 'NN', 'RS', 'KA', 'RS', 'IF', 'SS', 'NT', 'CF', 'VK', 'AC', 'DY', 'YG', 'SV', 'VS', 'LP', 'YT', 'NK', 'SL', 'AN', 'SD', 'FL', 'SC', 'TF', 'FT', 'KN', 'CV', 'YY', 'GA', 'VD', 'SS', 'PF', 'TV', 'KI', 'LR', 'NG', 'DD', 'LE', 'CV', 'FR', 'TQ', 'NI', 'VA', 'YP', 'AG', 'DQ', 'ST', 'FG', 'VK', 'II', 'RA', 'GD', 'DY', 'EN', 'VY', 'RK', 'QL', 'IP', 'AD', 'PD', 'GF', 'QT', 'TG', 'GC', 'KV', 'II', 'AA', 'DW', 'YN', 'NS', 'YN', 'KN', 'LL', 'PD', 'DS', 'DK', 'FV', 'TG', 'GG', 'CN', 'VY', 'IN', 'AY', 'WL', 'NY', 'SR', 'NL', 'NF', 'LR', 'DK', 'SS', 'KN', 'VL', 'GK', 'GP', 'NF', 'YE', 'NR', 'YD', 'LI', 'YS', 'RT', 'LE', 'FI', 'RY', 'KQ', 'SA', 'NG', 'LS', 'KT', 'PP', 'FC', 'EN', 'RG', 'DV', 'IE', 'SG', 'TF', 'EN', 'IC', 'YY', 'QF', 'AP', 'GL', 'SQ', 'TS', 'PY', 'CG', 'NF', 'GQ', 'VP', 'ET', 'GN', 'FG', 'NV', 'CG', 'YY', 'FQ', 'PP', 'LY', 'QR', 'SV', 'YV', 'GV', 'FL', 'QS', 'PF', 'TE', 'NL', 'GL', 'VH', 'GA', 'YP', 'QA', 'PT', 'YV', 'RC', 'VG', 'VP', 'VK', 'LK', 'SS', 'FT', 'EN', 'LL', 'LV', 'HK', 'AN', 'PK', 'AC', 'TV', 'VN', 'CF']\n"
     ]
    }
   ],
   "source": [
    "s16 = \"RVQPTESIVRFPNITNLCPFGEVFNATRFASVYAWNRKRISNCVADYSVLYNSASFSTFKCYGVSPTKLNDLCFTNVYADSFVIRGDEVRQIAPGQTGKIADYNYKLPDDFTGCVIAWNSNNLDSKVGGNYNYLYRLFRKSNLKPFERDISTEIYQAGSTPCNGVEGFNCYFPLQSYGFQPTNGVGYQPYRVVVLSFELLHAPATVCGPKKSTNLVKNKCVNF\"\n",
    "\n",
    "lambda_16 = []\n",
    "\n",
    "for i in range(len(s16)):\n",
    "    if(0<=i<207):\n",
    "        c1 = s16[i]\n",
    "        c2 = s16[i+16]\n",
    "        lambda_16.append(c1+c2)\n",
    "    else:\n",
    "        break\n",
    "print(lambda_16)"
   ]
  },
  {
   "cell_type": "code",
   "execution_count": 85,
   "id": "efficient-comment",
   "metadata": {},
   "outputs": [
    {
     "name": "stdout",
     "output_type": "stream",
     "text": [
      "['RC', 'VP', 'QF', 'PG', 'TE', 'EV', 'SF', 'IN', 'VA', 'RT', 'FR', 'PF', 'NA', 'IS', 'TV', 'NY', 'LA', 'CW', 'PN', 'FR', 'GK', 'ER', 'VI', 'FS', 'NN', 'AC', 'TV', 'RA', 'FD', 'AY', 'SS', 'VV', 'YL', 'AY', 'WN', 'NS', 'RA', 'KS', 'RF', 'IS', 'ST', 'NF', 'CK', 'VC', 'AY', 'DG', 'YV', 'SS', 'VP', 'LT', 'YK', 'NL', 'SN', 'AD', 'SL', 'FC', 'SF', 'TT', 'FN', 'KV', 'CY', 'YA', 'GD', 'VS', 'SF', 'PV', 'TI', 'KR', 'LG', 'ND', 'DE', 'LV', 'CR', 'FQ', 'TI', 'NA', 'VP', 'YG', 'AQ', 'DT', 'SG', 'FK', 'VI', 'IA', 'RD', 'GY', 'DN', 'EY', 'VK', 'RL', 'QP', 'ID', 'AD', 'PF', 'GT', 'QG', 'TC', 'GV', 'KI', 'IA', 'AW', 'DN', 'YS', 'NN', 'YN', 'KL', 'LD', 'PS', 'DK', 'DV', 'FG', 'TG', 'GN', 'CY', 'VN', 'IY', 'AL', 'WY', 'NR', 'SL', 'NF', 'NR', 'LK', 'DS', 'SN', 'KL', 'VK', 'GP', 'GF', 'NE', 'YR', 'ND', 'YI', 'LS', 'YT', 'RE', 'LI', 'FY', 'RQ', 'KA', 'SG', 'NS', 'LT', 'KP', 'PC', 'FN', 'EG', 'RV', 'DE', 'IG', 'SF', 'TN', 'EC', 'IY', 'YF', 'QP', 'AL', 'GQ', 'SS', 'TY', 'PG', 'CF', 'NQ', 'GP', 'VT', 'EN', 'GG', 'FV', 'NG', 'CY', 'YQ', 'FP', 'PY', 'LR', 'QV', 'SV', 'YV', 'GL', 'FS', 'QF', 'PE', 'TL', 'NL', 'GH', 'VA', 'GP', 'YA', 'QT', 'PV', 'YC', 'RG', 'VP', 'VK', 'VK', 'LS', 'ST', 'FN', 'EL', 'LV', 'LK', 'HN', 'AK', 'PC', 'AV', 'TN', 'VF']\n"
     ]
    }
   ],
   "source": [
    "s17 = \"RVQPTESIVRFPNITNLCPFGEVFNATRFASVYAWNRKRISNCVADYSVLYNSASFSTFKCYGVSPTKLNDLCFTNVYADSFVIRGDEVRQIAPGQTGKIADYNYKLPDDFTGCVIAWNSNNLDSKVGGNYNYLYRLFRKSNLKPFERDISTEIYQAGSTPCNGVEGFNCYFPLQSYGFQPTNGVGYQPYRVVVLSFELLHAPATVCGPKKSTNLVKNKCVNF\"\n",
    "\n",
    "lambda_17 = []\n",
    "\n",
    "for i in range(len(s17)):\n",
    "    if(0<=i<206):\n",
    "        c1 = s17[i]\n",
    "        c2 = s17[i+17]\n",
    "        lambda_17.append(c1+c2)\n",
    "    else:\n",
    "        break\n",
    "print(lambda_17)"
   ]
  },
  {
   "cell_type": "code",
   "execution_count": 86,
   "id": "institutional-native",
   "metadata": {},
   "outputs": [
    {
     "name": "stdout",
     "output_type": "stream",
     "text": [
      "['RP', 'VF', 'QG', 'PE', 'TV', 'EF', 'SN', 'IA', 'VT', 'RR', 'FF', 'PA', 'NS', 'IV', 'TY', 'NA', 'LW', 'CN', 'PR', 'FK', 'GR', 'EI', 'VS', 'FN', 'NC', 'AV', 'TA', 'RD', 'FY', 'AS', 'SV', 'VL', 'YY', 'AN', 'WS', 'NA', 'RS', 'KF', 'RS', 'IT', 'SF', 'NK', 'CC', 'VY', 'AG', 'DV', 'YS', 'SP', 'VT', 'LK', 'YL', 'NN', 'SD', 'AL', 'SC', 'FF', 'ST', 'TN', 'FV', 'KY', 'CA', 'YD', 'GS', 'VF', 'SV', 'PI', 'TR', 'KG', 'LD', 'NE', 'DV', 'LR', 'CQ', 'FI', 'TA', 'NP', 'VG', 'YQ', 'AT', 'DG', 'SK', 'FI', 'VA', 'ID', 'RY', 'GN', 'DY', 'EK', 'VL', 'RP', 'QD', 'ID', 'AF', 'PT', 'GG', 'QC', 'TV', 'GI', 'KA', 'IW', 'AN', 'DS', 'YN', 'NN', 'YL', 'KD', 'LS', 'PK', 'DV', 'DG', 'FG', 'TN', 'GY', 'CN', 'VY', 'IL', 'AY', 'WR', 'NL', 'SF', 'NR', 'NK', 'LS', 'DN', 'SL', 'KK', 'VP', 'GF', 'GE', 'NR', 'YD', 'NI', 'YS', 'LT', 'YE', 'RI', 'LY', 'FQ', 'RA', 'KG', 'SS', 'NT', 'LP', 'KC', 'PN', 'FG', 'EV', 'RE', 'DG', 'IF', 'SN', 'TC', 'EY', 'IF', 'YP', 'QL', 'AQ', 'GS', 'SY', 'TG', 'PF', 'CQ', 'NP', 'GT', 'VN', 'EG', 'GV', 'FG', 'NY', 'CQ', 'YP', 'FY', 'PR', 'LV', 'QV', 'SV', 'YL', 'GS', 'FF', 'QE', 'PL', 'TL', 'NH', 'GA', 'VP', 'GA', 'YT', 'QV', 'PC', 'YG', 'RP', 'VK', 'VK', 'VS', 'LT', 'SN', 'FL', 'EV', 'LK', 'LN', 'HK', 'AC', 'PV', 'AN', 'TF']\n"
     ]
    }
   ],
   "source": [
    "s18 = \"RVQPTESIVRFPNITNLCPFGEVFNATRFASVYAWNRKRISNCVADYSVLYNSASFSTFKCYGVSPTKLNDLCFTNVYADSFVIRGDEVRQIAPGQTGKIADYNYKLPDDFTGCVIAWNSNNLDSKVGGNYNYLYRLFRKSNLKPFERDISTEIYQAGSTPCNGVEGFNCYFPLQSYGFQPTNGVGYQPYRVVVLSFELLHAPATVCGPKKSTNLVKNKCVNF\"\n",
    "\n",
    "lambda_18 = []\n",
    "\n",
    "for i in range(len(s18)):\n",
    "    if(0<=i<205):\n",
    "        c1 = s18[i]\n",
    "        c2 = s18[i+18]\n",
    "        lambda_18.append(c1+c2)\n",
    "    else:\n",
    "        break\n",
    "print(lambda_18)"
   ]
  },
  {
   "cell_type": "code",
   "execution_count": 87,
   "id": "noble-walker",
   "metadata": {},
   "outputs": [
    {
     "name": "stdout",
     "output_type": "stream",
     "text": [
      "['RF', 'VG', 'QE', 'PV', 'TF', 'EN', 'SA', 'IT', 'VR', 'RF', 'FA', 'PS', 'NV', 'IY', 'TA', 'NW', 'LN', 'CR', 'PK', 'FR', 'GI', 'ES', 'VN', 'FC', 'NV', 'AA', 'TD', 'RY', 'FS', 'AV', 'SL', 'VY', 'YN', 'AS', 'WA', 'NS', 'RF', 'KS', 'RT', 'IF', 'SK', 'NC', 'CY', 'VG', 'AV', 'DS', 'YP', 'ST', 'VK', 'LL', 'YN', 'ND', 'SL', 'AC', 'SF', 'FT', 'SN', 'TV', 'FY', 'KA', 'CD', 'YS', 'GF', 'VV', 'SI', 'PR', 'TG', 'KD', 'LE', 'NV', 'DR', 'LQ', 'CI', 'FA', 'TP', 'NG', 'VQ', 'YT', 'AG', 'DK', 'SI', 'FA', 'VD', 'IY', 'RN', 'GY', 'DK', 'EL', 'VP', 'RD', 'QD', 'IF', 'AT', 'PG', 'GC', 'QV', 'TI', 'GA', 'KW', 'IN', 'AS', 'DN', 'YN', 'NL', 'YD', 'KS', 'LK', 'PV', 'DG', 'DG', 'FN', 'TY', 'GN', 'CY', 'VL', 'IY', 'AR', 'WL', 'NF', 'SR', 'NK', 'NS', 'LN', 'DL', 'SK', 'KP', 'VF', 'GE', 'GR', 'ND', 'YI', 'NS', 'YT', 'LE', 'YI', 'RY', 'LQ', 'FA', 'RG', 'KS', 'ST', 'NP', 'LC', 'KN', 'PG', 'FV', 'EE', 'RG', 'DF', 'IN', 'SC', 'TY', 'EF', 'IP', 'YL', 'QQ', 'AS', 'GY', 'SG', 'TF', 'PQ', 'CP', 'NT', 'GN', 'VG', 'EV', 'GG', 'FY', 'NQ', 'CP', 'YY', 'FR', 'PV', 'LV', 'QV', 'SL', 'YS', 'GF', 'FE', 'QL', 'PL', 'TH', 'NA', 'GP', 'VA', 'GT', 'YV', 'QC', 'PG', 'YP', 'RK', 'VK', 'VS', 'VT', 'LN', 'SL', 'FV', 'EK', 'LN', 'LK', 'HC', 'AV', 'PN', 'AF']\n"
     ]
    }
   ],
   "source": [
    "s19 = \"RVQPTESIVRFPNITNLCPFGEVFNATRFASVYAWNRKRISNCVADYSVLYNSASFSTFKCYGVSPTKLNDLCFTNVYADSFVIRGDEVRQIAPGQTGKIADYNYKLPDDFTGCVIAWNSNNLDSKVGGNYNYLYRLFRKSNLKPFERDISTEIYQAGSTPCNGVEGFNCYFPLQSYGFQPTNGVGYQPYRVVVLSFELLHAPATVCGPKKSTNLVKNKCVNF\"\n",
    "\n",
    "lambda_19 = []\n",
    "\n",
    "for i in range(len(s19)):\n",
    "    if(0<=i<204):\n",
    "        c1 = s19[i]\n",
    "        c2 = s19[i+19]\n",
    "        lambda_19.append(c1+c2)\n",
    "    else:\n",
    "        break\n",
    "print(lambda_19)"
   ]
  },
  {
   "cell_type": "code",
   "execution_count": 88,
   "id": "established-chicago",
   "metadata": {},
   "outputs": [
    {
     "name": "stdout",
     "output_type": "stream",
     "text": [
      "['RG', 'VE', 'QV', 'PF', 'TN', 'EA', 'ST', 'IR', 'VF', 'RA', 'FS', 'PV', 'NY', 'IA', 'TW', 'NN', 'LR', 'CK', 'PR', 'FI', 'GS', 'EN', 'VC', 'FV', 'NA', 'AD', 'TY', 'RS', 'FV', 'AL', 'SY', 'VN', 'YS', 'AA', 'WS', 'NF', 'RS', 'KT', 'RF', 'IK', 'SC', 'NY', 'CG', 'VV', 'AS', 'DP', 'YT', 'SK', 'VL', 'LN', 'YD', 'NL', 'SC', 'AF', 'ST', 'FN', 'SV', 'TY', 'FA', 'KD', 'CS', 'YF', 'GV', 'VI', 'SR', 'PG', 'TD', 'KE', 'LV', 'NR', 'DQ', 'LI', 'CA', 'FP', 'TG', 'NQ', 'VT', 'YG', 'AK', 'DI', 'SA', 'FD', 'VY', 'IN', 'RY', 'GK', 'DL', 'EP', 'VD', 'RD', 'QF', 'IT', 'AG', 'PC', 'GV', 'QI', 'TA', 'GW', 'KN', 'IS', 'AN', 'DN', 'YL', 'ND', 'YS', 'KK', 'LV', 'PG', 'DG', 'DN', 'FY', 'TN', 'GY', 'CL', 'VY', 'IR', 'AL', 'WF', 'NR', 'SK', 'NS', 'NN', 'LL', 'DK', 'SP', 'KF', 'VE', 'GR', 'GD', 'NI', 'YS', 'NT', 'YE', 'LI', 'YY', 'RQ', 'LA', 'FG', 'RS', 'KT', 'SP', 'NC', 'LN', 'KG', 'PV', 'FE', 'EG', 'RF', 'DN', 'IC', 'SY', 'TF', 'EP', 'IL', 'YQ', 'QS', 'AY', 'GG', 'SF', 'TQ', 'PP', 'CT', 'NN', 'GG', 'VV', 'EG', 'GY', 'FQ', 'NP', 'CY', 'YR', 'FV', 'PV', 'LV', 'QL', 'SS', 'YF', 'GE', 'FL', 'QL', 'PH', 'TA', 'NP', 'GA', 'VT', 'GV', 'YC', 'QG', 'PP', 'YK', 'RK', 'VS', 'VT', 'VN', 'LL', 'SV', 'FK', 'EN', 'LK', 'LC', 'HV', 'AN', 'PF']\n"
     ]
    }
   ],
   "source": [
    "s20 = \"RVQPTESIVRFPNITNLCPFGEVFNATRFASVYAWNRKRISNCVADYSVLYNSASFSTFKCYGVSPTKLNDLCFTNVYADSFVIRGDEVRQIAPGQTGKIADYNYKLPDDFTGCVIAWNSNNLDSKVGGNYNYLYRLFRKSNLKPFERDISTEIYQAGSTPCNGVEGFNCYFPLQSYGFQPTNGVGYQPYRVVVLSFELLHAPATVCGPKKSTNLVKNKCVNF\"\n",
    "\n",
    "lambda_20 = []\n",
    "\n",
    "for i in range(len(s20)):\n",
    "    if(0<=i<203):\n",
    "        c1 = s20[i]\n",
    "        c2 = s20[i+20]\n",
    "        lambda_20.append(c1+c2)\n",
    "    else:\n",
    "        break\n",
    "print(lambda_20)"
   ]
  },
  {
   "cell_type": "code",
   "execution_count": 89,
   "id": "foster-triangle",
   "metadata": {},
   "outputs": [
    {
     "name": "stdout",
     "output_type": "stream",
     "text": [
      "['RE', 'VV', 'QF', 'PN', 'TA', 'ET', 'SR', 'IF', 'VA', 'RS', 'FV', 'PY', 'NA', 'IW', 'TN', 'NR', 'LK', 'CR', 'PI', 'FS', 'GN', 'EC', 'VV', 'FA', 'ND', 'AY', 'TS', 'RV', 'FL', 'AY', 'SN', 'VS', 'YA', 'AS', 'WF', 'NS', 'RT', 'KF', 'RK', 'IC', 'SY', 'NG', 'CV', 'VS', 'AP', 'DT', 'YK', 'SL', 'VN', 'LD', 'YL', 'NC', 'SF', 'AT', 'SN', 'FV', 'SY', 'TA', 'FD', 'KS', 'CF', 'YV', 'GI', 'VR', 'SG', 'PD', 'TE', 'KV', 'LR', 'NQ', 'DI', 'LA', 'CP', 'FG', 'TQ', 'NT', 'VG', 'YK', 'AI', 'DA', 'SD', 'FY', 'VN', 'IY', 'RK', 'GL', 'DP', 'ED', 'VD', 'RF', 'QT', 'IG', 'AC', 'PV', 'GI', 'QA', 'TW', 'GN', 'KS', 'IN', 'AN', 'DL', 'YD', 'NS', 'YK', 'KV', 'LG', 'PG', 'DN', 'DY', 'FN', 'TY', 'GL', 'CY', 'VR', 'IL', 'AF', 'WR', 'NK', 'SS', 'NN', 'NL', 'LK', 'DP', 'SF', 'KE', 'VR', 'GD', 'GI', 'NS', 'YT', 'NE', 'YI', 'LY', 'YQ', 'RA', 'LG', 'FS', 'RT', 'KP', 'SC', 'NN', 'LG', 'KV', 'PE', 'FG', 'EF', 'RN', 'DC', 'IY', 'SF', 'TP', 'EL', 'IQ', 'YS', 'QY', 'AG', 'GF', 'SQ', 'TP', 'PT', 'CN', 'NG', 'GV', 'VG', 'EY', 'GQ', 'FP', 'NY', 'CR', 'YV', 'FV', 'PV', 'LL', 'QS', 'SF', 'YE', 'GL', 'FL', 'QH', 'PA', 'TP', 'NA', 'GT', 'VV', 'GC', 'YG', 'QP', 'PK', 'YK', 'RS', 'VT', 'VN', 'VL', 'LV', 'SK', 'FN', 'EK', 'LC', 'LV', 'HN', 'AF']\n"
     ]
    }
   ],
   "source": [
    "s21 = \"RVQPTESIVRFPNITNLCPFGEVFNATRFASVYAWNRKRISNCVADYSVLYNSASFSTFKCYGVSPTKLNDLCFTNVYADSFVIRGDEVRQIAPGQTGKIADYNYKLPDDFTGCVIAWNSNNLDSKVGGNYNYLYRLFRKSNLKPFERDISTEIYQAGSTPCNGVEGFNCYFPLQSYGFQPTNGVGYQPYRVVVLSFELLHAPATVCGPKKSTNLVKNKCVNF\"\n",
    "\n",
    "lambda_21 = []\n",
    "\n",
    "for i in range(len(s21)):\n",
    "    if(0<=i<202):\n",
    "        c1 = s21[i]\n",
    "        c2 = s21[i+21]\n",
    "        lambda_21.append(c1+c2)\n",
    "    else:\n",
    "        break\n",
    "print(lambda_21)"
   ]
  },
  {
   "cell_type": "code",
   "execution_count": 90,
   "id": "ahead-abortion",
   "metadata": {},
   "outputs": [
    {
     "name": "stdout",
     "output_type": "stream",
     "text": [
      "['RV', 'VF', 'QN', 'PA', 'TT', 'ER', 'SF', 'IA', 'VS', 'RV', 'FY', 'PA', 'NW', 'IN', 'TR', 'NK', 'LR', 'CI', 'PS', 'FN', 'GC', 'EV', 'VA', 'FD', 'NY', 'AS', 'TV', 'RL', 'FY', 'AN', 'SS', 'VA', 'YS', 'AF', 'WS', 'NT', 'RF', 'KK', 'RC', 'IY', 'SG', 'NV', 'CS', 'VP', 'AT', 'DK', 'YL', 'SN', 'VD', 'LL', 'YC', 'NF', 'ST', 'AN', 'SV', 'FY', 'SA', 'TD', 'FS', 'KF', 'CV', 'YI', 'GR', 'VG', 'SD', 'PE', 'TV', 'KR', 'LQ', 'NI', 'DA', 'LP', 'CG', 'FQ', 'TT', 'NG', 'VK', 'YI', 'AA', 'DD', 'SY', 'FN', 'VY', 'IK', 'RL', 'GP', 'DD', 'ED', 'VF', 'RT', 'QG', 'IC', 'AV', 'PI', 'GA', 'QW', 'TN', 'GS', 'KN', 'IN', 'AL', 'DD', 'YS', 'NK', 'YV', 'KG', 'LG', 'PN', 'DY', 'DN', 'FY', 'TL', 'GY', 'CR', 'VL', 'IF', 'AR', 'WK', 'NS', 'SN', 'NL', 'NK', 'LP', 'DF', 'SE', 'KR', 'VD', 'GI', 'GS', 'NT', 'YE', 'NI', 'YY', 'LQ', 'YA', 'RG', 'LS', 'FT', 'RP', 'KC', 'SN', 'NG', 'LV', 'KE', 'PG', 'FF', 'EN', 'RC', 'DY', 'IF', 'SP', 'TL', 'EQ', 'IS', 'YY', 'QG', 'AF', 'GQ', 'SP', 'TT', 'PN', 'CG', 'NV', 'GG', 'VY', 'EQ', 'GP', 'FY', 'NR', 'CV', 'YV', 'FV', 'PL', 'LS', 'QF', 'SE', 'YL', 'GL', 'FH', 'QA', 'PP', 'TA', 'NT', 'GV', 'VC', 'GG', 'YP', 'QK', 'PK', 'YS', 'RT', 'VN', 'VL', 'VV', 'LK', 'SN', 'FK', 'EC', 'LV', 'LN', 'HF']\n"
     ]
    }
   ],
   "source": [
    "s22 = \"RVQPTESIVRFPNITNLCPFGEVFNATRFASVYAWNRKRISNCVADYSVLYNSASFSTFKCYGVSPTKLNDLCFTNVYADSFVIRGDEVRQIAPGQTGKIADYNYKLPDDFTGCVIAWNSNNLDSKVGGNYNYLYRLFRKSNLKPFERDISTEIYQAGSTPCNGVEGFNCYFPLQSYGFQPTNGVGYQPYRVVVLSFELLHAPATVCGPKKSTNLVKNKCVNF\"\n",
    "\n",
    "lambda_22 = []\n",
    "\n",
    "for i in range(len(s22)):\n",
    "    if(0<=i<201):\n",
    "        c1 = s22[i]\n",
    "        c2 = s22[i+22]\n",
    "        lambda_22.append(c1+c2)\n",
    "    else:\n",
    "        break\n",
    "print(lambda_22)"
   ]
  },
  {
   "cell_type": "code",
   "execution_count": 91,
   "id": "dutch-petroleum",
   "metadata": {},
   "outputs": [
    {
     "name": "stdout",
     "output_type": "stream",
     "text": [
      "['RF', 'VN', 'QA', 'PT', 'TR', 'EF', 'SA', 'IS', 'VV', 'RY', 'FA', 'PW', 'NN', 'IR', 'TK', 'NR', 'LI', 'CS', 'PN', 'FC', 'GV', 'EA', 'VD', 'FY', 'NS', 'AV', 'TL', 'RY', 'FN', 'AS', 'SA', 'VS', 'YF', 'AS', 'WT', 'NF', 'RK', 'KC', 'RY', 'IG', 'SV', 'NS', 'CP', 'VT', 'AK', 'DL', 'YN', 'SD', 'VL', 'LC', 'YF', 'NT', 'SN', 'AV', 'SY', 'FA', 'SD', 'TS', 'FF', 'KV', 'CI', 'YR', 'GG', 'VD', 'SE', 'PV', 'TR', 'KQ', 'LI', 'NA', 'DP', 'LG', 'CQ', 'FT', 'TG', 'NK', 'VI', 'YA', 'AD', 'DY', 'SN', 'FY', 'VK', 'IL', 'RP', 'GD', 'DD', 'EF', 'VT', 'RG', 'QC', 'IV', 'AI', 'PA', 'GW', 'QN', 'TS', 'GN', 'KN', 'IL', 'AD', 'DS', 'YK', 'NV', 'YG', 'KG', 'LN', 'PY', 'DN', 'DY', 'FL', 'TY', 'GR', 'CL', 'VF', 'IR', 'AK', 'WS', 'NN', 'SL', 'NK', 'NP', 'LF', 'DE', 'SR', 'KD', 'VI', 'GS', 'GT', 'NE', 'YI', 'NY', 'YQ', 'LA', 'YG', 'RS', 'LT', 'FP', 'RC', 'KN', 'SG', 'NV', 'LE', 'KG', 'PF', 'FN', 'EC', 'RY', 'DF', 'IP', 'SL', 'TQ', 'ES', 'IY', 'YG', 'QF', 'AQ', 'GP', 'ST', 'TN', 'PG', 'CV', 'NG', 'GY', 'VQ', 'EP', 'GY', 'FR', 'NV', 'CV', 'YV', 'FL', 'PS', 'LF', 'QE', 'SL', 'YL', 'GH', 'FA', 'QP', 'PA', 'TT', 'NV', 'GC', 'VG', 'GP', 'YK', 'QK', 'PS', 'YT', 'RN', 'VL', 'VV', 'VK', 'LN', 'SK', 'FC', 'EV', 'LN', 'LF']\n"
     ]
    }
   ],
   "source": [
    "s23 = \"RVQPTESIVRFPNITNLCPFGEVFNATRFASVYAWNRKRISNCVADYSVLYNSASFSTFKCYGVSPTKLNDLCFTNVYADSFVIRGDEVRQIAPGQTGKIADYNYKLPDDFTGCVIAWNSNNLDSKVGGNYNYLYRLFRKSNLKPFERDISTEIYQAGSTPCNGVEGFNCYFPLQSYGFQPTNGVGYQPYRVVVLSFELLHAPATVCGPKKSTNLVKNKCVNF\"\n",
    "\n",
    "lambda_23 = []\n",
    "\n",
    "for i in range(len(s23)):\n",
    "    if(0<=i<200):\n",
    "        c1 = s23[i]\n",
    "        c2 = s23[i+23]\n",
    "        lambda_23.append(c1+c2)\n",
    "    else:\n",
    "        break\n",
    "print(lambda_23)"
   ]
  },
  {
   "cell_type": "code",
   "execution_count": 92,
   "id": "flush-burton",
   "metadata": {},
   "outputs": [
    {
     "name": "stdout",
     "output_type": "stream",
     "text": [
      "['RN', 'VA', 'QT', 'PR', 'TF', 'EA', 'SS', 'IV', 'VY', 'RA', 'FW', 'PN', 'NR', 'IK', 'TR', 'NI', 'LS', 'CN', 'PC', 'FV', 'GA', 'ED', 'VY', 'FS', 'NV', 'AL', 'TY', 'RN', 'FS', 'AA', 'SS', 'VF', 'YS', 'AT', 'WF', 'NK', 'RC', 'KY', 'RG', 'IV', 'SS', 'NP', 'CT', 'VK', 'AL', 'DN', 'YD', 'SL', 'VC', 'LF', 'YT', 'NN', 'SV', 'AY', 'SA', 'FD', 'SS', 'TF', 'FV', 'KI', 'CR', 'YG', 'GD', 'VE', 'SV', 'PR', 'TQ', 'KI', 'LA', 'NP', 'DG', 'LQ', 'CT', 'FG', 'TK', 'NI', 'VA', 'YD', 'AY', 'DN', 'SY', 'FK', 'VL', 'IP', 'RD', 'GD', 'DF', 'ET', 'VG', 'RC', 'QV', 'II', 'AA', 'PW', 'GN', 'QS', 'TN', 'GN', 'KL', 'ID', 'AS', 'DK', 'YV', 'NG', 'YG', 'KN', 'LY', 'PN', 'DY', 'DL', 'FY', 'TR', 'GL', 'CF', 'VR', 'IK', 'AS', 'WN', 'NL', 'SK', 'NP', 'NF', 'LE', 'DR', 'SD', 'KI', 'VS', 'GT', 'GE', 'NI', 'YY', 'NQ', 'YA', 'LG', 'YS', 'RT', 'LP', 'FC', 'RN', 'KG', 'SV', 'NE', 'LG', 'KF', 'PN', 'FC', 'EY', 'RF', 'DP', 'IL', 'SQ', 'TS', 'EY', 'IG', 'YF', 'QQ', 'AP', 'GT', 'SN', 'TG', 'PV', 'CG', 'NY', 'GQ', 'VP', 'EY', 'GR', 'FV', 'NV', 'CV', 'YL', 'FS', 'PF', 'LE', 'QL', 'SL', 'YH', 'GA', 'FP', 'QA', 'PT', 'TV', 'NC', 'GG', 'VP', 'GK', 'YK', 'QS', 'PT', 'YN', 'RL', 'VV', 'VK', 'VN', 'LK', 'SC', 'FV', 'EN', 'LF']\n"
     ]
    }
   ],
   "source": [
    "s24 = \"RVQPTESIVRFPNITNLCPFGEVFNATRFASVYAWNRKRISNCVADYSVLYNSASFSTFKCYGVSPTKLNDLCFTNVYADSFVIRGDEVRQIAPGQTGKIADYNYKLPDDFTGCVIAWNSNNLDSKVGGNYNYLYRLFRKSNLKPFERDISTEIYQAGSTPCNGVEGFNCYFPLQSYGFQPTNGVGYQPYRVVVLSFELLHAPATVCGPKKSTNLVKNKCVNF\"\n",
    "\n",
    "lambda_24 = []\n",
    "\n",
    "for i in range(len(s24)):\n",
    "    if(0<=i<199):\n",
    "        c1 = s24[i]\n",
    "        c2 = s24[i+24]\n",
    "        lambda_24.append(c1+c2)\n",
    "    else:\n",
    "        break\n",
    "print(lambda_24)"
   ]
  },
  {
   "cell_type": "code",
   "execution_count": 93,
   "id": "lightweight-david",
   "metadata": {},
   "outputs": [
    {
     "name": "stdout",
     "output_type": "stream",
     "text": [
      "['RA', 'VT', 'QR', 'PF', 'TA', 'ES', 'SV', 'IY', 'VA', 'RW', 'FN', 'PR', 'NK', 'IR', 'TI', 'NS', 'LN', 'CC', 'PV', 'FA', 'GD', 'EY', 'VS', 'FV', 'NL', 'AY', 'TN', 'RS', 'FA', 'AS', 'SF', 'VS', 'YT', 'AF', 'WK', 'NC', 'RY', 'KG', 'RV', 'IS', 'SP', 'NT', 'CK', 'VL', 'AN', 'DD', 'YL', 'SC', 'VF', 'LT', 'YN', 'NV', 'SY', 'AA', 'SD', 'FS', 'SF', 'TV', 'FI', 'KR', 'CG', 'YD', 'GE', 'VV', 'SR', 'PQ', 'TI', 'KA', 'LP', 'NG', 'DQ', 'LT', 'CG', 'FK', 'TI', 'NA', 'VD', 'YY', 'AN', 'DY', 'SK', 'FL', 'VP', 'ID', 'RD', 'GF', 'DT', 'EG', 'VC', 'RV', 'QI', 'IA', 'AW', 'PN', 'GS', 'QN', 'TN', 'GL', 'KD', 'IS', 'AK', 'DV', 'YG', 'NG', 'YN', 'KY', 'LN', 'PY', 'DL', 'DY', 'FR', 'TL', 'GF', 'CR', 'VK', 'IS', 'AN', 'WL', 'NK', 'SP', 'NF', 'NE', 'LR', 'DD', 'SI', 'KS', 'VT', 'GE', 'GI', 'NY', 'YQ', 'NA', 'YG', 'LS', 'YT', 'RP', 'LC', 'FN', 'RG', 'KV', 'SE', 'NG', 'LF', 'KN', 'PC', 'FY', 'EF', 'RP', 'DL', 'IQ', 'SS', 'TY', 'EG', 'IF', 'YQ', 'QP', 'AT', 'GN', 'SG', 'TV', 'PG', 'CY', 'NQ', 'GP', 'VY', 'ER', 'GV', 'FV', 'NV', 'CL', 'YS', 'FF', 'PE', 'LL', 'QL', 'SH', 'YA', 'GP', 'FA', 'QT', 'PV', 'TC', 'NG', 'GP', 'VK', 'GK', 'YS', 'QT', 'PN', 'YL', 'RV', 'VK', 'VN', 'VK', 'LC', 'SV', 'FN', 'EF']\n"
     ]
    }
   ],
   "source": [
    "s25 = \"RVQPTESIVRFPNITNLCPFGEVFNATRFASVYAWNRKRISNCVADYSVLYNSASFSTFKCYGVSPTKLNDLCFTNVYADSFVIRGDEVRQIAPGQTGKIADYNYKLPDDFTGCVIAWNSNNLDSKVGGNYNYLYRLFRKSNLKPFERDISTEIYQAGSTPCNGVEGFNCYFPLQSYGFQPTNGVGYQPYRVVVLSFELLHAPATVCGPKKSTNLVKNKCVNF\"\n",
    "\n",
    "lambda_25 = []\n",
    "\n",
    "for i in range(len(s25)):\n",
    "    if(0<=i<198):\n",
    "        c1 = s25[i]\n",
    "        c2 = s25[i+25]\n",
    "        lambda_25.append(c1+c2)\n",
    "    else:\n",
    "        break\n",
    "print(lambda_25)"
   ]
  },
  {
   "cell_type": "code",
   "execution_count": 94,
   "id": "professional-kitchen",
   "metadata": {},
   "outputs": [
    {
     "name": "stdout",
     "output_type": "stream",
     "text": [
      "['RT', 'VR', 'QF', 'PA', 'TS', 'EV', 'SY', 'IA', 'VW', 'RN', 'FR', 'PK', 'NR', 'II', 'TS', 'NN', 'LC', 'CV', 'PA', 'FD', 'GY', 'ES', 'VV', 'FL', 'NY', 'AN', 'TS', 'RA', 'FS', 'AF', 'SS', 'VT', 'YF', 'AK', 'WC', 'NY', 'RG', 'KV', 'RS', 'IP', 'ST', 'NK', 'CL', 'VN', 'AD', 'DL', 'YC', 'SF', 'VT', 'LN', 'YV', 'NY', 'SA', 'AD', 'SS', 'FF', 'SV', 'TI', 'FR', 'KG', 'CD', 'YE', 'GV', 'VR', 'SQ', 'PI', 'TA', 'KP', 'LG', 'NQ', 'DT', 'LG', 'CK', 'FI', 'TA', 'ND', 'VY', 'YN', 'AY', 'DK', 'SL', 'FP', 'VD', 'ID', 'RF', 'GT', 'DG', 'EC', 'VV', 'RI', 'QA', 'IW', 'AN', 'PS', 'GN', 'QN', 'TL', 'GD', 'KS', 'IK', 'AV', 'DG', 'YG', 'NN', 'YY', 'KN', 'LY', 'PL', 'DY', 'DR', 'FL', 'TF', 'GR', 'CK', 'VS', 'IN', 'AL', 'WK', 'NP', 'SF', 'NE', 'NR', 'LD', 'DI', 'SS', 'KT', 'VE', 'GI', 'GY', 'NQ', 'YA', 'NG', 'YS', 'LT', 'YP', 'RC', 'LN', 'FG', 'RV', 'KE', 'SG', 'NF', 'LN', 'KC', 'PY', 'FF', 'EP', 'RL', 'DQ', 'IS', 'SY', 'TG', 'EF', 'IQ', 'YP', 'QT', 'AN', 'GG', 'SV', 'TG', 'PY', 'CQ', 'NP', 'GY', 'VR', 'EV', 'GV', 'FV', 'NL', 'CS', 'YF', 'FE', 'PL', 'LL', 'QH', 'SA', 'YP', 'GA', 'FT', 'QV', 'PC', 'TG', 'NP', 'GK', 'VK', 'GS', 'YT', 'QN', 'PL', 'YV', 'RK', 'VN', 'VK', 'VC', 'LV', 'SN', 'FF']\n"
     ]
    }
   ],
   "source": [
    "s26 = \"RVQPTESIVRFPNITNLCPFGEVFNATRFASVYAWNRKRISNCVADYSVLYNSASFSTFKCYGVSPTKLNDLCFTNVYADSFVIRGDEVRQIAPGQTGKIADYNYKLPDDFTGCVIAWNSNNLDSKVGGNYNYLYRLFRKSNLKPFERDISTEIYQAGSTPCNGVEGFNCYFPLQSYGFQPTNGVGYQPYRVVVLSFELLHAPATVCGPKKSTNLVKNKCVNF\"\n",
    "\n",
    "lambda_26 = []\n",
    "\n",
    "for i in range(len(s26)):\n",
    "    if(0<=i<197):\n",
    "        c1 = s26[i]\n",
    "        c2 = s26[i+26]\n",
    "        lambda_26.append(c1+c2)\n",
    "    else:\n",
    "        break\n",
    "print(lambda_26)"
   ]
  },
  {
   "cell_type": "code",
   "execution_count": 95,
   "id": "genuine-tension",
   "metadata": {},
   "outputs": [
    {
     "name": "stdout",
     "output_type": "stream",
     "text": [
      "['RR', 'VF', 'QA', 'PS', 'TV', 'EY', 'SA', 'IW', 'VN', 'RR', 'FK', 'PR', 'NI', 'IS', 'TN', 'NC', 'LV', 'CA', 'PD', 'FY', 'GS', 'EV', 'VL', 'FY', 'NN', 'AS', 'TA', 'RS', 'FF', 'AS', 'ST', 'VF', 'YK', 'AC', 'WY', 'NG', 'RV', 'KS', 'RP', 'IT', 'SK', 'NL', 'CN', 'VD', 'AL', 'DC', 'YF', 'ST', 'VN', 'LV', 'YY', 'NA', 'SD', 'AS', 'SF', 'FV', 'SI', 'TR', 'FG', 'KD', 'CE', 'YV', 'GR', 'VQ', 'SI', 'PA', 'TP', 'KG', 'LQ', 'NT', 'DG', 'LK', 'CI', 'FA', 'TD', 'NY', 'VN', 'YY', 'AK', 'DL', 'SP', 'FD', 'VD', 'IF', 'RT', 'GG', 'DC', 'EV', 'VI', 'RA', 'QW', 'IN', 'AS', 'PN', 'GN', 'QL', 'TD', 'GS', 'KK', 'IV', 'AG', 'DG', 'YN', 'NY', 'YN', 'KY', 'LL', 'PY', 'DR', 'DL', 'FF', 'TR', 'GK', 'CS', 'VN', 'IL', 'AK', 'WP', 'NF', 'SE', 'NR', 'ND', 'LI', 'DS', 'ST', 'KE', 'VI', 'GY', 'GQ', 'NA', 'YG', 'NS', 'YT', 'LP', 'YC', 'RN', 'LG', 'FV', 'RE', 'KG', 'SF', 'NN', 'LC', 'KY', 'PF', 'FP', 'EL', 'RQ', 'DS', 'IY', 'SG', 'TF', 'EQ', 'IP', 'YT', 'QN', 'AG', 'GV', 'SG', 'TY', 'PQ', 'CP', 'NY', 'GR', 'VV', 'EV', 'GV', 'FL', 'NS', 'CF', 'YE', 'FL', 'PL', 'LH', 'QA', 'SP', 'YA', 'GT', 'FV', 'QC', 'PG', 'TP', 'NK', 'GK', 'VS', 'GT', 'YN', 'QL', 'PV', 'YK', 'RN', 'VK', 'VC', 'VV', 'LN', 'SF']\n"
     ]
    }
   ],
   "source": [
    "s27 = \"RVQPTESIVRFPNITNLCPFGEVFNATRFASVYAWNRKRISNCVADYSVLYNSASFSTFKCYGVSPTKLNDLCFTNVYADSFVIRGDEVRQIAPGQTGKIADYNYKLPDDFTGCVIAWNSNNLDSKVGGNYNYLYRLFRKSNLKPFERDISTEIYQAGSTPCNGVEGFNCYFPLQSYGFQPTNGVGYQPYRVVVLSFELLHAPATVCGPKKSTNLVKNKCVNF\"\n",
    "\n",
    "lambda_27 = []\n",
    "\n",
    "for i in range(len(s27)):\n",
    "    if(0<=i<196):\n",
    "        c1 = s27[i]\n",
    "        c2 = s27[i+27]\n",
    "        lambda_27.append(c1+c2)\n",
    "    else:\n",
    "        break\n",
    "print(lambda_27)"
   ]
  },
  {
   "cell_type": "code",
   "execution_count": 96,
   "id": "useful-contrast",
   "metadata": {},
   "outputs": [
    {
     "name": "stdout",
     "output_type": "stream",
     "text": [
      "['RF', 'VA', 'QS', 'PV', 'TY', 'EA', 'SW', 'IN', 'VR', 'RK', 'FR', 'PI', 'NS', 'IN', 'TC', 'NV', 'LA', 'CD', 'PY', 'FS', 'GV', 'EL', 'VY', 'FN', 'NS', 'AA', 'TS', 'RF', 'FS', 'AT', 'SF', 'VK', 'YC', 'AY', 'WG', 'NV', 'RS', 'KP', 'RT', 'IK', 'SL', 'NN', 'CD', 'VL', 'AC', 'DF', 'YT', 'SN', 'VV', 'LY', 'YA', 'ND', 'SS', 'AF', 'SV', 'FI', 'SR', 'TG', 'FD', 'KE', 'CV', 'YR', 'GQ', 'VI', 'SA', 'PP', 'TG', 'KQ', 'LT', 'NG', 'DK', 'LI', 'CA', 'FD', 'TY', 'NN', 'VY', 'YK', 'AL', 'DP', 'SD', 'FD', 'VF', 'IT', 'RG', 'GC', 'DV', 'EI', 'VA', 'RW', 'QN', 'IS', 'AN', 'PN', 'GL', 'QD', 'TS', 'GK', 'KV', 'IG', 'AG', 'DN', 'YY', 'NN', 'YY', 'KL', 'LY', 'PR', 'DL', 'DF', 'FR', 'TK', 'GS', 'CN', 'VL', 'IK', 'AP', 'WF', 'NE', 'SR', 'ND', 'NI', 'LS', 'DT', 'SE', 'KI', 'VY', 'GQ', 'GA', 'NG', 'YS', 'NT', 'YP', 'LC', 'YN', 'RG', 'LV', 'FE', 'RG', 'KF', 'SN', 'NC', 'LY', 'KF', 'PP', 'FL', 'EQ', 'RS', 'DY', 'IG', 'SF', 'TQ', 'EP', 'IT', 'YN', 'QG', 'AV', 'GG', 'SY', 'TQ', 'PP', 'CY', 'NR', 'GV', 'VV', 'EV', 'GL', 'FS', 'NF', 'CE', 'YL', 'FL', 'PH', 'LA', 'QP', 'SA', 'YT', 'GV', 'FC', 'QG', 'PP', 'TK', 'NK', 'GS', 'VT', 'GN', 'YL', 'QV', 'PK', 'YN', 'RK', 'VC', 'VV', 'VN', 'LF']\n"
     ]
    }
   ],
   "source": [
    "s28 = \"RVQPTESIVRFPNITNLCPFGEVFNATRFASVYAWNRKRISNCVADYSVLYNSASFSTFKCYGVSPTKLNDLCFTNVYADSFVIRGDEVRQIAPGQTGKIADYNYKLPDDFTGCVIAWNSNNLDSKVGGNYNYLYRLFRKSNLKPFERDISTEIYQAGSTPCNGVEGFNCYFPLQSYGFQPTNGVGYQPYRVVVLSFELLHAPATVCGPKKSTNLVKNKCVNF\"\n",
    "\n",
    "lambda_28 = []\n",
    "\n",
    "for i in range(len(s28)):\n",
    "    if(0<=i<195):\n",
    "        c1 = s28[i]\n",
    "        c2 = s28[i+28]\n",
    "        lambda_28.append(c1+c2)\n",
    "    else:\n",
    "        break\n",
    "print(lambda_28)"
   ]
  },
  {
   "cell_type": "code",
   "execution_count": 97,
   "id": "heated-greensboro",
   "metadata": {},
   "outputs": [
    {
     "name": "stdout",
     "output_type": "stream",
     "text": [
      "['RA', 'VS', 'QV', 'PY', 'TA', 'EW', 'SN', 'IR', 'VK', 'RR', 'FI', 'PS', 'NN', 'IC', 'TV', 'NA', 'LD', 'CY', 'PS', 'FV', 'GL', 'EY', 'VN', 'FS', 'NA', 'AS', 'TF', 'RS', 'FT', 'AF', 'SK', 'VC', 'YY', 'AG', 'WV', 'NS', 'RP', 'KT', 'RK', 'IL', 'SN', 'ND', 'CL', 'VC', 'AF', 'DT', 'YN', 'SV', 'VY', 'LA', 'YD', 'NS', 'SF', 'AV', 'SI', 'FR', 'SG', 'TD', 'FE', 'KV', 'CR', 'YQ', 'GI', 'VA', 'SP', 'PG', 'TQ', 'KT', 'LG', 'NK', 'DI', 'LA', 'CD', 'FY', 'TN', 'NY', 'VK', 'YL', 'AP', 'DD', 'SD', 'FF', 'VT', 'IG', 'RC', 'GV', 'DI', 'EA', 'VW', 'RN', 'QS', 'IN', 'AN', 'PL', 'GD', 'QS', 'TK', 'GV', 'KG', 'IG', 'AN', 'DY', 'YN', 'NY', 'YL', 'KY', 'LR', 'PL', 'DF', 'DR', 'FK', 'TS', 'GN', 'CL', 'VK', 'IP', 'AF', 'WE', 'NR', 'SD', 'NI', 'NS', 'LT', 'DE', 'SI', 'KY', 'VQ', 'GA', 'GG', 'NS', 'YT', 'NP', 'YC', 'LN', 'YG', 'RV', 'LE', 'FG', 'RF', 'KN', 'SC', 'NY', 'LF', 'KP', 'PL', 'FQ', 'ES', 'RY', 'DG', 'IF', 'SQ', 'TP', 'ET', 'IN', 'YG', 'QV', 'AG', 'GY', 'SQ', 'TP', 'PY', 'CR', 'NV', 'GV', 'VV', 'EL', 'GS', 'FF', 'NE', 'CL', 'YL', 'FH', 'PA', 'LP', 'QA', 'ST', 'YV', 'GC', 'FG', 'QP', 'PK', 'TK', 'NS', 'GT', 'VN', 'GL', 'YV', 'QK', 'PN', 'YK', 'RC', 'VV', 'VN', 'VF']\n"
     ]
    }
   ],
   "source": [
    "s29 = \"RVQPTESIVRFPNITNLCPFGEVFNATRFASVYAWNRKRISNCVADYSVLYNSASFSTFKCYGVSPTKLNDLCFTNVYADSFVIRGDEVRQIAPGQTGKIADYNYKLPDDFTGCVIAWNSNNLDSKVGGNYNYLYRLFRKSNLKPFERDISTEIYQAGSTPCNGVEGFNCYFPLQSYGFQPTNGVGYQPYRVVVLSFELLHAPATVCGPKKSTNLVKNKCVNF\"\n",
    "\n",
    "lambda_29 = []\n",
    "\n",
    "for i in range(len(s29)):\n",
    "    if(0<=i<194):\n",
    "        c1 = s29[i]\n",
    "        c2 = s29[i+29]\n",
    "        lambda_29.append(c1+c2)\n",
    "    else:\n",
    "        break\n",
    "print(lambda_29)"
   ]
  },
  {
   "cell_type": "code",
   "execution_count": 98,
   "id": "least-penguin",
   "metadata": {},
   "outputs": [
    {
     "name": "stdout",
     "output_type": "stream",
     "text": [
      "['RS', 'VV', 'QY', 'PA', 'TW', 'EN', 'SR', 'IK', 'VR', 'RI', 'FS', 'PN', 'NC', 'IV', 'TA', 'ND', 'LY', 'CS', 'PV', 'FL', 'GY', 'EN', 'VS', 'FA', 'NS', 'AF', 'TS', 'RT', 'FF', 'AK', 'SC', 'VY', 'YG', 'AV', 'WS', 'NP', 'RT', 'KK', 'RL', 'IN', 'SD', 'NL', 'CC', 'VF', 'AT', 'DN', 'YV', 'SY', 'VA', 'LD', 'YS', 'NF', 'SV', 'AI', 'SR', 'FG', 'SD', 'TE', 'FV', 'KR', 'CQ', 'YI', 'GA', 'VP', 'SG', 'PQ', 'TT', 'KG', 'LK', 'NI', 'DA', 'LD', 'CY', 'FN', 'TY', 'NK', 'VL', 'YP', 'AD', 'DD', 'SF', 'FT', 'VG', 'IC', 'RV', 'GI', 'DA', 'EW', 'VN', 'RS', 'QN', 'IN', 'AL', 'PD', 'GS', 'QK', 'TV', 'GG', 'KG', 'IN', 'AY', 'DN', 'YY', 'NL', 'YY', 'KR', 'LL', 'PF', 'DR', 'DK', 'FS', 'TN', 'GL', 'CK', 'VP', 'IF', 'AE', 'WR', 'ND', 'SI', 'NS', 'NT', 'LE', 'DI', 'SY', 'KQ', 'VA', 'GG', 'GS', 'NT', 'YP', 'NC', 'YN', 'LG', 'YV', 'RE', 'LG', 'FF', 'RN', 'KC', 'SY', 'NF', 'LP', 'KL', 'PQ', 'FS', 'EY', 'RG', 'DF', 'IQ', 'SP', 'TT', 'EN', 'IG', 'YV', 'QG', 'AY', 'GQ', 'SP', 'TY', 'PR', 'CV', 'NV', 'GV', 'VL', 'ES', 'GF', 'FE', 'NL', 'CL', 'YH', 'FA', 'PP', 'LA', 'QT', 'SV', 'YC', 'GG', 'FP', 'QK', 'PK', 'TS', 'NT', 'GN', 'VL', 'GV', 'YK', 'QN', 'PK', 'YC', 'RV', 'VN', 'VF']\n"
     ]
    }
   ],
   "source": [
    "s30 = \"RVQPTESIVRFPNITNLCPFGEVFNATRFASVYAWNRKRISNCVADYSVLYNSASFSTFKCYGVSPTKLNDLCFTNVYADSFVIRGDEVRQIAPGQTGKIADYNYKLPDDFTGCVIAWNSNNLDSKVGGNYNYLYRLFRKSNLKPFERDISTEIYQAGSTPCNGVEGFNCYFPLQSYGFQPTNGVGYQPYRVVVLSFELLHAPATVCGPKKSTNLVKNKCVNF\"\n",
    "\n",
    "lambda_30 = []\n",
    "\n",
    "for i in range(len(s30)):\n",
    "    if(0<=i<193):\n",
    "        c1 = s30[i]\n",
    "        c2 = s30[i+30]\n",
    "        lambda_30.append(c1+c2)\n",
    "    else:\n",
    "        break\n",
    "print(lambda_30)"
   ]
  },
  {
   "cell_type": "code",
   "execution_count": 99,
   "id": "authentic-diploma",
   "metadata": {},
   "outputs": [
    {
     "name": "stdout",
     "output_type": "stream",
     "text": [
      "['RV', 'VY', 'QA', 'PW', 'TN', 'ER', 'SK', 'IR', 'VI', 'RS', 'FN', 'PC', 'NV', 'IA', 'TD', 'NY', 'LS', 'CV', 'PL', 'FY', 'GN', 'ES', 'VA', 'FS', 'NF', 'AS', 'TT', 'RF', 'FK', 'AC', 'SY', 'VG', 'YV', 'AS', 'WP', 'NT', 'RK', 'KL', 'RN', 'ID', 'SL', 'NC', 'CF', 'VT', 'AN', 'DV', 'YY', 'SA', 'VD', 'LS', 'YF', 'NV', 'SI', 'AR', 'SG', 'FD', 'SE', 'TV', 'FR', 'KQ', 'CI', 'YA', 'GP', 'VG', 'SQ', 'PT', 'TG', 'KK', 'LI', 'NA', 'DD', 'LY', 'CN', 'FY', 'TK', 'NL', 'VP', 'YD', 'AD', 'DF', 'ST', 'FG', 'VC', 'IV', 'RI', 'GA', 'DW', 'EN', 'VS', 'RN', 'QN', 'IL', 'AD', 'PS', 'GK', 'QV', 'TG', 'GG', 'KN', 'IY', 'AN', 'DY', 'YL', 'NY', 'YR', 'KL', 'LF', 'PR', 'DK', 'DS', 'FN', 'TL', 'GK', 'CP', 'VF', 'IE', 'AR', 'WD', 'NI', 'SS', 'NT', 'NE', 'LI', 'DY', 'SQ', 'KA', 'VG', 'GS', 'GT', 'NP', 'YC', 'NN', 'YG', 'LV', 'YE', 'RG', 'LF', 'FN', 'RC', 'KY', 'SF', 'NP', 'LL', 'KQ', 'PS', 'FY', 'EG', 'RF', 'DQ', 'IP', 'ST', 'TN', 'EG', 'IV', 'YG', 'QY', 'AQ', 'GP', 'SY', 'TR', 'PV', 'CV', 'NV', 'GL', 'VS', 'EF', 'GE', 'FL', 'NL', 'CH', 'YA', 'FP', 'PA', 'LT', 'QV', 'SC', 'YG', 'GP', 'FK', 'QK', 'PS', 'TT', 'NN', 'GL', 'VV', 'GK', 'YN', 'QK', 'PC', 'YV', 'RN', 'VF']\n"
     ]
    }
   ],
   "source": [
    "s31 = \"RVQPTESIVRFPNITNLCPFGEVFNATRFASVYAWNRKRISNCVADYSVLYNSASFSTFKCYGVSPTKLNDLCFTNVYADSFVIRGDEVRQIAPGQTGKIADYNYKLPDDFTGCVIAWNSNNLDSKVGGNYNYLYRLFRKSNLKPFERDISTEIYQAGSTPCNGVEGFNCYFPLQSYGFQPTNGVGYQPYRVVVLSFELLHAPATVCGPKKSTNLVKNKCVNF\"\n",
    "\n",
    "lambda_31 = []\n",
    "\n",
    "for i in range(len(s31)):\n",
    "    if(0<=i<192):\n",
    "        c1 = s31[i]\n",
    "        c2 = s31[i+31]\n",
    "        lambda_31.append(c1+c2)\n",
    "    else:\n",
    "        break\n",
    "print(lambda_31)"
   ]
  },
  {
   "cell_type": "code",
   "execution_count": 100,
   "id": "charitable-ambassador",
   "metadata": {},
   "outputs": [
    {
     "name": "stdout",
     "output_type": "stream",
     "text": [
      "['RY', 'VA', 'QW', 'PN', 'TR', 'EK', 'SR', 'II', 'VS', 'RN', 'FC', 'PV', 'NA', 'ID', 'TY', 'NS', 'LV', 'CL', 'PY', 'FN', 'GS', 'EA', 'VS', 'FF', 'NS', 'AT', 'TF', 'RK', 'FC', 'AY', 'SG', 'VV', 'YS', 'AP', 'WT', 'NK', 'RL', 'KN', 'RD', 'IL', 'SC', 'NF', 'CT', 'VN', 'AV', 'DY', 'YA', 'SD', 'VS', 'LF', 'YV', 'NI', 'SR', 'AG', 'SD', 'FE', 'SV', 'TR', 'FQ', 'KI', 'CA', 'YP', 'GG', 'VQ', 'ST', 'PG', 'TK', 'KI', 'LA', 'ND', 'DY', 'LN', 'CY', 'FK', 'TL', 'NP', 'VD', 'YD', 'AF', 'DT', 'SG', 'FC', 'VV', 'II', 'RA', 'GW', 'DN', 'ES', 'VN', 'RN', 'QL', 'ID', 'AS', 'PK', 'GV', 'QG', 'TG', 'GN', 'KY', 'IN', 'AY', 'DL', 'YY', 'NR', 'YL', 'KF', 'LR', 'PK', 'DS', 'DN', 'FL', 'TK', 'GP', 'CF', 'VE', 'IR', 'AD', 'WI', 'NS', 'ST', 'NE', 'NI', 'LY', 'DQ', 'SA', 'KG', 'VS', 'GT', 'GP', 'NC', 'YN', 'NG', 'YV', 'LE', 'YG', 'RF', 'LN', 'FC', 'RY', 'KF', 'SP', 'NL', 'LQ', 'KS', 'PY', 'FG', 'EF', 'RQ', 'DP', 'IT', 'SN', 'TG', 'EV', 'IG', 'YY', 'QQ', 'AP', 'GY', 'SR', 'TV', 'PV', 'CV', 'NL', 'GS', 'VF', 'EE', 'GL', 'FL', 'NH', 'CA', 'YP', 'FA', 'PT', 'LV', 'QC', 'SG', 'YP', 'GK', 'FK', 'QS', 'PT', 'TN', 'NL', 'GV', 'VK', 'GN', 'YK', 'QC', 'PV', 'YN', 'RF']\n"
     ]
    }
   ],
   "source": [
    "s32 = \"RVQPTESIVRFPNITNLCPFGEVFNATRFASVYAWNRKRISNCVADYSVLYNSASFSTFKCYGVSPTKLNDLCFTNVYADSFVIRGDEVRQIAPGQTGKIADYNYKLPDDFTGCVIAWNSNNLDSKVGGNYNYLYRLFRKSNLKPFERDISTEIYQAGSTPCNGVEGFNCYFPLQSYGFQPTNGVGYQPYRVVVLSFELLHAPATVCGPKKSTNLVKNKCVNF\"\n",
    "\n",
    "lambda_32 = []\n",
    "\n",
    "for i in range(len(s32)):\n",
    "    if(0<=i<191):\n",
    "        c1 = s32[i]\n",
    "        c2 = s32[i+32]\n",
    "        lambda_32.append(c1+c2)\n",
    "    else:\n",
    "        break\n",
    "print(lambda_32)"
   ]
  },
  {
   "cell_type": "code",
   "execution_count": 101,
   "id": "eligible-great",
   "metadata": {},
   "outputs": [
    {
     "name": "stdout",
     "output_type": "stream",
     "text": [
      "['RA', 'VW', 'QN', 'PR', 'TK', 'ER', 'SI', 'IS', 'VN', 'RC', 'FV', 'PA', 'ND', 'IY', 'TS', 'NV', 'LL', 'CY', 'PN', 'FS', 'GA', 'ES', 'VF', 'FS', 'NT', 'AF', 'TK', 'RC', 'FY', 'AG', 'SV', 'VS', 'YP', 'AT', 'WK', 'NL', 'RN', 'KD', 'RL', 'IC', 'SF', 'NT', 'CN', 'VV', 'AY', 'DA', 'YD', 'SS', 'VF', 'LV', 'YI', 'NR', 'SG', 'AD', 'SE', 'FV', 'SR', 'TQ', 'FI', 'KA', 'CP', 'YG', 'GQ', 'VT', 'SG', 'PK', 'TI', 'KA', 'LD', 'NY', 'DN', 'LY', 'CK', 'FL', 'TP', 'ND', 'VD', 'YF', 'AT', 'DG', 'SC', 'FV', 'VI', 'IA', 'RW', 'GN', 'DS', 'EN', 'VN', 'RL', 'QD', 'IS', 'AK', 'PV', 'GG', 'QG', 'TN', 'GY', 'KN', 'IY', 'AL', 'DY', 'YR', 'NL', 'YF', 'KR', 'LK', 'PS', 'DN', 'DL', 'FK', 'TP', 'GF', 'CE', 'VR', 'ID', 'AI', 'WS', 'NT', 'SE', 'NI', 'NY', 'LQ', 'DA', 'SG', 'KS', 'VT', 'GP', 'GC', 'NN', 'YG', 'NV', 'YE', 'LG', 'YF', 'RN', 'LC', 'FY', 'RF', 'KP', 'SL', 'NQ', 'LS', 'KY', 'PG', 'FF', 'EQ', 'RP', 'DT', 'IN', 'SG', 'TV', 'EG', 'IY', 'YQ', 'QP', 'AY', 'GR', 'SV', 'TV', 'PV', 'CL', 'NS', 'GF', 'VE', 'EL', 'GL', 'FH', 'NA', 'CP', 'YA', 'FT', 'PV', 'LC', 'QG', 'SP', 'YK', 'GK', 'FS', 'QT', 'PN', 'TL', 'NV', 'GK', 'VN', 'GK', 'YC', 'QV', 'PN', 'YF']\n"
     ]
    }
   ],
   "source": [
    "s33 = \"RVQPTESIVRFPNITNLCPFGEVFNATRFASVYAWNRKRISNCVADYSVLYNSASFSTFKCYGVSPTKLNDLCFTNVYADSFVIRGDEVRQIAPGQTGKIADYNYKLPDDFTGCVIAWNSNNLDSKVGGNYNYLYRLFRKSNLKPFERDISTEIYQAGSTPCNGVEGFNCYFPLQSYGFQPTNGVGYQPYRVVVLSFELLHAPATVCGPKKSTNLVKNKCVNF\"\n",
    "\n",
    "lambda_33 = []\n",
    "\n",
    "for i in range(len(s33)):\n",
    "    if(0<=i<190):\n",
    "        c1 = s33[i]\n",
    "        c2 = s33[i+33]\n",
    "        lambda_33.append(c1+c2)\n",
    "    else:\n",
    "        break\n",
    "print(lambda_33)"
   ]
  },
  {
   "cell_type": "code",
   "execution_count": 102,
   "id": "pursuant-builder",
   "metadata": {},
   "outputs": [
    {
     "name": "stdout",
     "output_type": "stream",
     "text": [
      "['RW', 'VN', 'QR', 'PK', 'TR', 'EI', 'SS', 'IN', 'VC', 'RV', 'FA', 'PD', 'NY', 'IS', 'TV', 'NL', 'LY', 'CN', 'PS', 'FA', 'GS', 'EF', 'VS', 'FT', 'NF', 'AK', 'TC', 'RY', 'FG', 'AV', 'SS', 'VP', 'YT', 'AK', 'WL', 'NN', 'RD', 'KL', 'RC', 'IF', 'ST', 'NN', 'CV', 'VY', 'AA', 'DD', 'YS', 'SF', 'VV', 'LI', 'YR', 'NG', 'SD', 'AE', 'SV', 'FR', 'SQ', 'TI', 'FA', 'KP', 'CG', 'YQ', 'GT', 'VG', 'SK', 'PI', 'TA', 'KD', 'LY', 'NN', 'DY', 'LK', 'CL', 'FP', 'TD', 'ND', 'VF', 'YT', 'AG', 'DC', 'SV', 'FI', 'VA', 'IW', 'RN', 'GS', 'DN', 'EN', 'VL', 'RD', 'QS', 'IK', 'AV', 'PG', 'GG', 'QN', 'TY', 'GN', 'KY', 'IL', 'AY', 'DR', 'YL', 'NF', 'YR', 'KK', 'LS', 'PN', 'DL', 'DK', 'FP', 'TF', 'GE', 'CR', 'VD', 'II', 'AS', 'WT', 'NE', 'SI', 'NY', 'NQ', 'LA', 'DG', 'SS', 'KT', 'VP', 'GC', 'GN', 'NG', 'YV', 'NE', 'YG', 'LF', 'YN', 'RC', 'LY', 'FF', 'RP', 'KL', 'SQ', 'NS', 'LY', 'KG', 'PF', 'FQ', 'EP', 'RT', 'DN', 'IG', 'SV', 'TG', 'EY', 'IQ', 'YP', 'QY', 'AR', 'GV', 'SV', 'TV', 'PL', 'CS', 'NF', 'GE', 'VL', 'EL', 'GH', 'FA', 'NP', 'CA', 'YT', 'FV', 'PC', 'LG', 'QP', 'SK', 'YK', 'GS', 'FT', 'QN', 'PL', 'TV', 'NK', 'GN', 'VK', 'GC', 'YV', 'QN', 'PF']\n"
     ]
    }
   ],
   "source": [
    "s34 = \"RVQPTESIVRFPNITNLCPFGEVFNATRFASVYAWNRKRISNCVADYSVLYNSASFSTFKCYGVSPTKLNDLCFTNVYADSFVIRGDEVRQIAPGQTGKIADYNYKLPDDFTGCVIAWNSNNLDSKVGGNYNYLYRLFRKSNLKPFERDISTEIYQAGSTPCNGVEGFNCYFPLQSYGFQPTNGVGYQPYRVVVLSFELLHAPATVCGPKKSTNLVKNKCVNF\"\n",
    "\n",
    "lambda_34 = []\n",
    "\n",
    "for i in range(len(s34)):\n",
    "    if(0<=i<189):\n",
    "        c1 = s34[i]\n",
    "        c2 = s34[i+34]\n",
    "        lambda_34.append(c1+c2)\n",
    "    else:\n",
    "        break\n",
    "print(lambda_34)"
   ]
  },
  {
   "cell_type": "code",
   "execution_count": 103,
   "id": "built-desire",
   "metadata": {},
   "outputs": [
    {
     "name": "stdout",
     "output_type": "stream",
     "text": [
      "['RN', 'VR', 'QK', 'PR', 'TI', 'ES', 'SN', 'IC', 'VV', 'RA', 'FD', 'PY', 'NS', 'IV', 'TL', 'NY', 'LN', 'CS', 'PA', 'FS', 'GF', 'ES', 'VT', 'FF', 'NK', 'AC', 'TY', 'RG', 'FV', 'AS', 'SP', 'VT', 'YK', 'AL', 'WN', 'ND', 'RL', 'KC', 'RF', 'IT', 'SN', 'NV', 'CY', 'VA', 'AD', 'DS', 'YF', 'SV', 'VI', 'LR', 'YG', 'ND', 'SE', 'AV', 'SR', 'FQ', 'SI', 'TA', 'FP', 'KG', 'CQ', 'YT', 'GG', 'VK', 'SI', 'PA', 'TD', 'KY', 'LN', 'NY', 'DK', 'LL', 'CP', 'FD', 'TD', 'NF', 'VT', 'YG', 'AC', 'DV', 'SI', 'FA', 'VW', 'IN', 'RS', 'GN', 'DN', 'EL', 'VD', 'RS', 'QK', 'IV', 'AG', 'PG', 'GN', 'QY', 'TN', 'GY', 'KL', 'IY', 'AR', 'DL', 'YF', 'NR', 'YK', 'KS', 'LN', 'PL', 'DK', 'DP', 'FF', 'TE', 'GR', 'CD', 'VI', 'IS', 'AT', 'WE', 'NI', 'SY', 'NQ', 'NA', 'LG', 'DS', 'ST', 'KP', 'VC', 'GN', 'GG', 'NV', 'YE', 'NG', 'YF', 'LN', 'YC', 'RY', 'LF', 'FP', 'RL', 'KQ', 'SS', 'NY', 'LG', 'KF', 'PQ', 'FP', 'ET', 'RN', 'DG', 'IV', 'SG', 'TY', 'EQ', 'IP', 'YY', 'QR', 'AV', 'GV', 'SV', 'TL', 'PS', 'CF', 'NE', 'GL', 'VL', 'EH', 'GA', 'FP', 'NA', 'CT', 'YV', 'FC', 'PG', 'LP', 'QK', 'SK', 'YS', 'GT', 'FN', 'QL', 'PV', 'TK', 'NN', 'GK', 'VC', 'GV', 'YN', 'QF']\n"
     ]
    }
   ],
   "source": [
    "s35 = \"RVQPTESIVRFPNITNLCPFGEVFNATRFASVYAWNRKRISNCVADYSVLYNSASFSTFKCYGVSPTKLNDLCFTNVYADSFVIRGDEVRQIAPGQTGKIADYNYKLPDDFTGCVIAWNSNNLDSKVGGNYNYLYRLFRKSNLKPFERDISTEIYQAGSTPCNGVEGFNCYFPLQSYGFQPTNGVGYQPYRVVVLSFELLHAPATVCGPKKSTNLVKNKCVNF\"\n",
    "\n",
    "lambda_35 = []\n",
    "\n",
    "for i in range(len(s35)):\n",
    "    if(0<=i<188):\n",
    "        c1 = s35[i]\n",
    "        c2 = s35[i+35]\n",
    "        lambda_35.append(c1+c2)\n",
    "    else:\n",
    "        break\n",
    "print(lambda_35)"
   ]
  },
  {
   "cell_type": "code",
   "execution_count": 104,
   "id": "particular-sight",
   "metadata": {},
   "outputs": [
    {
     "name": "stdout",
     "output_type": "stream",
     "text": [
      "['RR', 'VK', 'QR', 'PI', 'TS', 'EN', 'SC', 'IV', 'VA', 'RD', 'FY', 'PS', 'NV', 'IL', 'TY', 'NN', 'LS', 'CA', 'PS', 'FF', 'GS', 'ET', 'VF', 'FK', 'NC', 'AY', 'TG', 'RV', 'FS', 'AP', 'ST', 'VK', 'YL', 'AN', 'WD', 'NL', 'RC', 'KF', 'RT', 'IN', 'SV', 'NY', 'CA', 'VD', 'AS', 'DF', 'YV', 'SI', 'VR', 'LG', 'YD', 'NE', 'SV', 'AR', 'SQ', 'FI', 'SA', 'TP', 'FG', 'KQ', 'CT', 'YG', 'GK', 'VI', 'SA', 'PD', 'TY', 'KN', 'LY', 'NK', 'DL', 'LP', 'CD', 'FD', 'TF', 'NT', 'VG', 'YC', 'AV', 'DI', 'SA', 'FW', 'VN', 'IS', 'RN', 'GN', 'DL', 'ED', 'VS', 'RK', 'QV', 'IG', 'AG', 'PN', 'GY', 'QN', 'TY', 'GL', 'KY', 'IR', 'AL', 'DF', 'YR', 'NK', 'YS', 'KN', 'LL', 'PK', 'DP', 'DF', 'FE', 'TR', 'GD', 'CI', 'VS', 'IT', 'AE', 'WI', 'NY', 'SQ', 'NA', 'NG', 'LS', 'DT', 'SP', 'KC', 'VN', 'GG', 'GV', 'NE', 'YG', 'NF', 'YN', 'LC', 'YY', 'RF', 'LP', 'FL', 'RQ', 'KS', 'SY', 'NG', 'LF', 'KQ', 'PP', 'FT', 'EN', 'RG', 'DV', 'IG', 'SY', 'TQ', 'EP', 'IY', 'YR', 'QV', 'AV', 'GV', 'SL', 'TS', 'PF', 'CE', 'NL', 'GL', 'VH', 'EA', 'GP', 'FA', 'NT', 'CV', 'YC', 'FG', 'PP', 'LK', 'QK', 'SS', 'YT', 'GN', 'FL', 'QV', 'PK', 'TN', 'NK', 'GC', 'VV', 'GN', 'YF']\n"
     ]
    }
   ],
   "source": [
    "s36 = \"RVQPTESIVRFPNITNLCPFGEVFNATRFASVYAWNRKRISNCVADYSVLYNSASFSTFKCYGVSPTKLNDLCFTNVYADSFVIRGDEVRQIAPGQTGKIADYNYKLPDDFTGCVIAWNSNNLDSKVGGNYNYLYRLFRKSNLKPFERDISTEIYQAGSTPCNGVEGFNCYFPLQSYGFQPTNGVGYQPYRVVVLSFELLHAPATVCGPKKSTNLVKNKCVNF\"\n",
    "\n",
    "lambda_36 = []\n",
    "\n",
    "for i in range(len(s36)):\n",
    "    if(0<=i<187):\n",
    "        c1 = s36[i]\n",
    "        c2 = s36[i+36]\n",
    "        lambda_36.append(c1+c2)\n",
    "    else:\n",
    "        break\n",
    "print(lambda_36)"
   ]
  },
  {
   "cell_type": "code",
   "execution_count": 105,
   "id": "chronic-psychiatry",
   "metadata": {},
   "outputs": [
    {
     "name": "stdout",
     "output_type": "stream",
     "text": [
      "['RK', 'VR', 'QI', 'PS', 'TN', 'EC', 'SV', 'IA', 'VD', 'RY', 'FS', 'PV', 'NL', 'IY', 'TN', 'NS', 'LA', 'CS', 'PF', 'FS', 'GT', 'EF', 'VK', 'FC', 'NY', 'AG', 'TV', 'RS', 'FP', 'AT', 'SK', 'VL', 'YN', 'AD', 'WL', 'NC', 'RF', 'KT', 'RN', 'IV', 'SY', 'NA', 'CD', 'VS', 'AF', 'DV', 'YI', 'SR', 'VG', 'LD', 'YE', 'NV', 'SR', 'AQ', 'SI', 'FA', 'SP', 'TG', 'FQ', 'KT', 'CG', 'YK', 'GI', 'VA', 'SD', 'PY', 'TN', 'KY', 'LK', 'NL', 'DP', 'LD', 'CD', 'FF', 'TT', 'NG', 'VC', 'YV', 'AI', 'DA', 'SW', 'FN', 'VS', 'IN', 'RN', 'GL', 'DD', 'ES', 'VK', 'RV', 'QG', 'IG', 'AN', 'PY', 'GN', 'QY', 'TL', 'GY', 'KR', 'IL', 'AF', 'DR', 'YK', 'NS', 'YN', 'KL', 'LK', 'PP', 'DF', 'DE', 'FR', 'TD', 'GI', 'CS', 'VT', 'IE', 'AI', 'WY', 'NQ', 'SA', 'NG', 'NS', 'LT', 'DP', 'SC', 'KN', 'VG', 'GV', 'GE', 'NG', 'YF', 'NN', 'YC', 'LY', 'YF', 'RP', 'LL', 'FQ', 'RS', 'KY', 'SG', 'NF', 'LQ', 'KP', 'PT', 'FN', 'EG', 'RV', 'DG', 'IY', 'SQ', 'TP', 'EY', 'IR', 'YV', 'QV', 'AV', 'GL', 'SS', 'TF', 'PE', 'CL', 'NL', 'GH', 'VA', 'EP', 'GA', 'FT', 'NV', 'CC', 'YG', 'FP', 'PK', 'LK', 'QS', 'ST', 'YN', 'GL', 'FV', 'QK', 'PN', 'TK', 'NC', 'GV', 'VN', 'GF']\n"
     ]
    }
   ],
   "source": [
    "s37 = \"RVQPTESIVRFPNITNLCPFGEVFNATRFASVYAWNRKRISNCVADYSVLYNSASFSTFKCYGVSPTKLNDLCFTNVYADSFVIRGDEVRQIAPGQTGKIADYNYKLPDDFTGCVIAWNSNNLDSKVGGNYNYLYRLFRKSNLKPFERDISTEIYQAGSTPCNGVEGFNCYFPLQSYGFQPTNGVGYQPYRVVVLSFELLHAPATVCGPKKSTNLVKNKCVNF\"\n",
    "\n",
    "lambda_37 = []\n",
    "\n",
    "for i in range(len(s37)):\n",
    "    if(0<=i<186):\n",
    "        c1 = s37[i]\n",
    "        c2 = s37[i+37]\n",
    "        lambda_37.append(c1+c2)\n",
    "    else:\n",
    "        break\n",
    "print(lambda_37)"
   ]
  },
  {
   "cell_type": "code",
   "execution_count": 106,
   "id": "proud-selection",
   "metadata": {},
   "outputs": [
    {
     "name": "stdout",
     "output_type": "stream",
     "text": [
      "['RR', 'VI', 'QS', 'PN', 'TC', 'EV', 'SA', 'ID', 'VY', 'RS', 'FV', 'PL', 'NY', 'IN', 'TS', 'NA', 'LS', 'CF', 'PS', 'FT', 'GF', 'EK', 'VC', 'FY', 'NG', 'AV', 'TS', 'RP', 'FT', 'AK', 'SL', 'VN', 'YD', 'AL', 'WC', 'NF', 'RT', 'KN', 'RV', 'IY', 'SA', 'ND', 'CS', 'VF', 'AV', 'DI', 'YR', 'SG', 'VD', 'LE', 'YV', 'NR', 'SQ', 'AI', 'SA', 'FP', 'SG', 'TQ', 'FT', 'KG', 'CK', 'YI', 'GA', 'VD', 'SY', 'PN', 'TY', 'KK', 'LL', 'NP', 'DD', 'LD', 'CF', 'FT', 'TG', 'NC', 'VV', 'YI', 'AA', 'DW', 'SN', 'FS', 'VN', 'IN', 'RL', 'GD', 'DS', 'EK', 'VV', 'RG', 'QG', 'IN', 'AY', 'PN', 'GY', 'QL', 'TY', 'GR', 'KL', 'IF', 'AR', 'DK', 'YS', 'NN', 'YL', 'KK', 'LP', 'PF', 'DE', 'DR', 'FD', 'TI', 'GS', 'CT', 'VE', 'II', 'AY', 'WQ', 'NA', 'SG', 'NS', 'NT', 'LP', 'DC', 'SN', 'KG', 'VV', 'GE', 'GG', 'NF', 'YN', 'NC', 'YY', 'LF', 'YP', 'RL', 'LQ', 'FS', 'RY', 'KG', 'SF', 'NQ', 'LP', 'KT', 'PN', 'FG', 'EV', 'RG', 'DY', 'IQ', 'SP', 'TY', 'ER', 'IV', 'YV', 'QV', 'AL', 'GS', 'SF', 'TE', 'PL', 'CL', 'NH', 'GA', 'VP', 'EA', 'GT', 'FV', 'NC', 'CG', 'YP', 'FK', 'PK', 'LS', 'QT', 'SN', 'YL', 'GV', 'FK', 'QN', 'PK', 'TC', 'NV', 'GN', 'VF']\n"
     ]
    }
   ],
   "source": [
    "s38 = \"RVQPTESIVRFPNITNLCPFGEVFNATRFASVYAWNRKRISNCVADYSVLYNSASFSTFKCYGVSPTKLNDLCFTNVYADSFVIRGDEVRQIAPGQTGKIADYNYKLPDDFTGCVIAWNSNNLDSKVGGNYNYLYRLFRKSNLKPFERDISTEIYQAGSTPCNGVEGFNCYFPLQSYGFQPTNGVGYQPYRVVVLSFELLHAPATVCGPKKSTNLVKNKCVNF\"\n",
    "\n",
    "lambda_38 = []\n",
    "\n",
    "for i in range(len(s38)):\n",
    "    if(0<=i<185):\n",
    "        c1 = s38[i]\n",
    "        c2 = s38[i+38]\n",
    "        lambda_38.append(c1+c2)\n",
    "    else:\n",
    "        break\n",
    "print(lambda_38)"
   ]
  },
  {
   "cell_type": "code",
   "execution_count": 107,
   "id": "local-exhibition",
   "metadata": {},
   "outputs": [
    {
     "name": "stdout",
     "output_type": "stream",
     "text": [
      "['RI', 'VS', 'QN', 'PC', 'TV', 'EA', 'SD', 'IY', 'VS', 'RV', 'FL', 'PY', 'NN', 'IS', 'TA', 'NS', 'LF', 'CS', 'PT', 'FF', 'GK', 'EC', 'VY', 'FG', 'NV', 'AS', 'TP', 'RT', 'FK', 'AL', 'SN', 'VD', 'YL', 'AC', 'WF', 'NT', 'RN', 'KV', 'RY', 'IA', 'SD', 'NS', 'CF', 'VV', 'AI', 'DR', 'YG', 'SD', 'VE', 'LV', 'YR', 'NQ', 'SI', 'AA', 'SP', 'FG', 'SQ', 'TT', 'FG', 'KK', 'CI', 'YA', 'GD', 'VY', 'SN', 'PY', 'TK', 'KL', 'LP', 'ND', 'DD', 'LF', 'CT', 'FG', 'TC', 'NV', 'VI', 'YA', 'AW', 'DN', 'SS', 'FN', 'VN', 'IL', 'RD', 'GS', 'DK', 'EV', 'VG', 'RG', 'QN', 'IY', 'AN', 'PY', 'GL', 'QY', 'TR', 'GL', 'KF', 'IR', 'AK', 'DS', 'YN', 'NL', 'YK', 'KP', 'LF', 'PE', 'DR', 'DD', 'FI', 'TS', 'GT', 'CE', 'VI', 'IY', 'AQ', 'WA', 'NG', 'SS', 'NT', 'NP', 'LC', 'DN', 'SG', 'KV', 'VE', 'GG', 'GF', 'NN', 'YC', 'NY', 'YF', 'LP', 'YL', 'RQ', 'LS', 'FY', 'RG', 'KF', 'SQ', 'NP', 'LT', 'KN', 'PG', 'FV', 'EG', 'RY', 'DQ', 'IP', 'SY', 'TR', 'EV', 'IV', 'YV', 'QL', 'AS', 'GF', 'SE', 'TL', 'PL', 'CH', 'NA', 'GP', 'VA', 'ET', 'GV', 'FC', 'NG', 'CP', 'YK', 'FK', 'PS', 'LT', 'QN', 'SL', 'YV', 'GK', 'FN', 'QK', 'PC', 'TV', 'NN', 'GF']\n"
     ]
    }
   ],
   "source": [
    "s39 = \"RVQPTESIVRFPNITNLCPFGEVFNATRFASVYAWNRKRISNCVADYSVLYNSASFSTFKCYGVSPTKLNDLCFTNVYADSFVIRGDEVRQIAPGQTGKIADYNYKLPDDFTGCVIAWNSNNLDSKVGGNYNYLYRLFRKSNLKPFERDISTEIYQAGSTPCNGVEGFNCYFPLQSYGFQPTNGVGYQPYRVVVLSFELLHAPATVCGPKKSTNLVKNKCVNF\"\n",
    "\n",
    "lambda_39 = []\n",
    "\n",
    "for i in range(len(s39)):\n",
    "    if(0<=i<184):\n",
    "        c1 = s39[i]\n",
    "        c2 = s39[i+39]\n",
    "        lambda_39.append(c1+c2)\n",
    "    else:\n",
    "        break\n",
    "print(lambda_39)"
   ]
  },
  {
   "cell_type": "code",
   "execution_count": 108,
   "id": "numerous-outline",
   "metadata": {},
   "outputs": [
    {
     "name": "stdout",
     "output_type": "stream",
     "text": [
      "['RS', 'VN', 'QC', 'PV', 'TA', 'ED', 'SY', 'IS', 'VV', 'RL', 'FY', 'PN', 'NS', 'IA', 'TS', 'NF', 'LS', 'CT', 'PF', 'FK', 'GC', 'EY', 'VG', 'FV', 'NS', 'AP', 'TT', 'RK', 'FL', 'AN', 'SD', 'VL', 'YC', 'AF', 'WT', 'NN', 'RV', 'KY', 'RA', 'ID', 'SS', 'NF', 'CV', 'VI', 'AR', 'DG', 'YD', 'SE', 'VV', 'LR', 'YQ', 'NI', 'SA', 'AP', 'SG', 'FQ', 'ST', 'TG', 'FK', 'KI', 'CA', 'YD', 'GY', 'VN', 'SY', 'PK', 'TL', 'KP', 'LD', 'ND', 'DF', 'LT', 'CG', 'FC', 'TV', 'NI', 'VA', 'YW', 'AN', 'DS', 'SN', 'FN', 'VL', 'ID', 'RS', 'GK', 'DV', 'EG', 'VG', 'RN', 'QY', 'IN', 'AY', 'PL', 'GY', 'QR', 'TL', 'GF', 'KR', 'IK', 'AS', 'DN', 'YL', 'NK', 'YP', 'KF', 'LE', 'PR', 'DD', 'DI', 'FS', 'TT', 'GE', 'CI', 'VY', 'IQ', 'AA', 'WG', 'NS', 'ST', 'NP', 'NC', 'LN', 'DG', 'SV', 'KE', 'VG', 'GF', 'GN', 'NC', 'YY', 'NF', 'YP', 'LL', 'YQ', 'RS', 'LY', 'FG', 'RF', 'KQ', 'SP', 'NT', 'LN', 'KG', 'PV', 'FG', 'EY', 'RQ', 'DP', 'IY', 'SR', 'TV', 'EV', 'IV', 'YL', 'QS', 'AF', 'GE', 'SL', 'TL', 'PH', 'CA', 'NP', 'GA', 'VT', 'EV', 'GC', 'FG', 'NP', 'CK', 'YK', 'FS', 'PT', 'LN', 'QL', 'SV', 'YK', 'GN', 'FK', 'QC', 'PV', 'TN', 'NF']\n"
     ]
    }
   ],
   "source": [
    "s40 = \"RVQPTESIVRFPNITNLCPFGEVFNATRFASVYAWNRKRISNCVADYSVLYNSASFSTFKCYGVSPTKLNDLCFTNVYADSFVIRGDEVRQIAPGQTGKIADYNYKLPDDFTGCVIAWNSNNLDSKVGGNYNYLYRLFRKSNLKPFERDISTEIYQAGSTPCNGVEGFNCYFPLQSYGFQPTNGVGYQPYRVVVLSFELLHAPATVCGPKKSTNLVKNKCVNF\"\n",
    "\n",
    "lambda_40 = []\n",
    "\n",
    "for i in range(len(s40)):\n",
    "    if(0<=i<183):\n",
    "        c1 = s40[i]\n",
    "        c2 = s40[i+40]\n",
    "        lambda_40.append(c1+c2)\n",
    "    else:\n",
    "        break\n",
    "print(lambda_40)"
   ]
  },
  {
   "cell_type": "code",
   "execution_count": 109,
   "id": "incident-benjamin",
   "metadata": {},
   "outputs": [
    {
     "name": "stdout",
     "output_type": "stream",
     "text": [
      "['RN', 'VC', 'QV', 'PA', 'TD', 'EY', 'SS', 'IV', 'VL', 'RY', 'FN', 'PS', 'NA', 'IS', 'TF', 'NS', 'LT', 'CF', 'PK', 'FC', 'GY', 'EG', 'VV', 'FS', 'NP', 'AT', 'TK', 'RL', 'FN', 'AD', 'SL', 'VC', 'YF', 'AT', 'WN', 'NV', 'RY', 'KA', 'RD', 'IS', 'SF', 'NV', 'CI', 'VR', 'AG', 'DD', 'YE', 'SV', 'VR', 'LQ', 'YI', 'NA', 'SP', 'AG', 'SQ', 'FT', 'SG', 'TK', 'FI', 'KA', 'CD', 'YY', 'GN', 'VY', 'SK', 'PL', 'TP', 'KD', 'LD', 'NF', 'DT', 'LG', 'CC', 'FV', 'TI', 'NA', 'VW', 'YN', 'AS', 'DN', 'SN', 'FL', 'VD', 'IS', 'RK', 'GV', 'DG', 'EG', 'VN', 'RY', 'QN', 'IY', 'AL', 'PY', 'GR', 'QL', 'TF', 'GR', 'KK', 'IS', 'AN', 'DL', 'YK', 'NP', 'YF', 'KE', 'LR', 'PD', 'DI', 'DS', 'FT', 'TE', 'GI', 'CY', 'VQ', 'IA', 'AG', 'WS', 'NT', 'SP', 'NC', 'NN', 'LG', 'DV', 'SE', 'KG', 'VF', 'GN', 'GC', 'NY', 'YF', 'NP', 'YL', 'LQ', 'YS', 'RY', 'LG', 'FF', 'RQ', 'KP', 'ST', 'NN', 'LG', 'KV', 'PG', 'FY', 'EQ', 'RP', 'DY', 'IR', 'SV', 'TV', 'EV', 'IL', 'YS', 'QF', 'AE', 'GL', 'SL', 'TH', 'PA', 'CP', 'NA', 'GT', 'VV', 'EC', 'GG', 'FP', 'NK', 'CK', 'YS', 'FT', 'PN', 'LL', 'QV', 'SK', 'YN', 'GK', 'FC', 'QV', 'PN', 'TF']\n"
     ]
    }
   ],
   "source": [
    "s41 = \"RVQPTESIVRFPNITNLCPFGEVFNATRFASVYAWNRKRISNCVADYSVLYNSASFSTFKCYGVSPTKLNDLCFTNVYADSFVIRGDEVRQIAPGQTGKIADYNYKLPDDFTGCVIAWNSNNLDSKVGGNYNYLYRLFRKSNLKPFERDISTEIYQAGSTPCNGVEGFNCYFPLQSYGFQPTNGVGYQPYRVVVLSFELLHAPATVCGPKKSTNLVKNKCVNF\"\n",
    "\n",
    "lambda_41 = []\n",
    "\n",
    "for i in range(len(s41)):\n",
    "    if(0<=i<182):\n",
    "        c1 = s41[i]\n",
    "        c2 = s41[i+41]\n",
    "        lambda_41.append(c1+c2)\n",
    "    else:\n",
    "        break\n",
    "print(lambda_41)"
   ]
  },
  {
   "cell_type": "code",
   "execution_count": 110,
   "id": "chief-abuse",
   "metadata": {},
   "outputs": [
    {
     "name": "stdout",
     "output_type": "stream",
     "text": [
      "['RC', 'VV', 'QA', 'PD', 'TY', 'ES', 'SV', 'IL', 'VY', 'RN', 'FS', 'PA', 'NS', 'IF', 'TS', 'NT', 'LF', 'CK', 'PC', 'FY', 'GG', 'EV', 'VS', 'FP', 'NT', 'AK', 'TL', 'RN', 'FD', 'AL', 'SC', 'VF', 'YT', 'AN', 'WV', 'NY', 'RA', 'KD', 'RS', 'IF', 'SV', 'NI', 'CR', 'VG', 'AD', 'DE', 'YV', 'SR', 'VQ', 'LI', 'YA', 'NP', 'SG', 'AQ', 'ST', 'FG', 'SK', 'TI', 'FA', 'KD', 'CY', 'YN', 'GY', 'VK', 'SL', 'PP', 'TD', 'KD', 'LF', 'NT', 'DG', 'LC', 'CV', 'FI', 'TA', 'NW', 'VN', 'YS', 'AN', 'DN', 'SL', 'FD', 'VS', 'IK', 'RV', 'GG', 'DG', 'EN', 'VY', 'RN', 'QY', 'IL', 'AY', 'PR', 'GL', 'QF', 'TR', 'GK', 'KS', 'IN', 'AL', 'DK', 'YP', 'NF', 'YE', 'KR', 'LD', 'PI', 'DS', 'DT', 'FE', 'TI', 'GY', 'CQ', 'VA', 'IG', 'AS', 'WT', 'NP', 'SC', 'NN', 'NG', 'LV', 'DE', 'SG', 'KF', 'VN', 'GC', 'GY', 'NF', 'YP', 'NL', 'YQ', 'LS', 'YY', 'RG', 'LF', 'FQ', 'RP', 'KT', 'SN', 'NG', 'LV', 'KG', 'PY', 'FQ', 'EP', 'RY', 'DR', 'IV', 'SV', 'TV', 'EL', 'IS', 'YF', 'QE', 'AL', 'GL', 'SH', 'TA', 'PP', 'CA', 'NT', 'GV', 'VC', 'EG', 'GP', 'FK', 'NK', 'CS', 'YT', 'FN', 'PL', 'LV', 'QK', 'SN', 'YK', 'GC', 'FV', 'QN', 'PF']\n"
     ]
    }
   ],
   "source": [
    "s42 = \"RVQPTESIVRFPNITNLCPFGEVFNATRFASVYAWNRKRISNCVADYSVLYNSASFSTFKCYGVSPTKLNDLCFTNVYADSFVIRGDEVRQIAPGQTGKIADYNYKLPDDFTGCVIAWNSNNLDSKVGGNYNYLYRLFRKSNLKPFERDISTEIYQAGSTPCNGVEGFNCYFPLQSYGFQPTNGVGYQPYRVVVLSFELLHAPATVCGPKKSTNLVKNKCVNF\"\n",
    "\n",
    "lambda_42 = []\n",
    "\n",
    "for i in range(len(s42)):\n",
    "    if(0<=i<181):\n",
    "        c1 = s42[i]\n",
    "        c2 = s42[i+42]\n",
    "        lambda_42.append(c1+c2)\n",
    "    else:\n",
    "        break\n",
    "print(lambda_42)"
   ]
  },
  {
   "cell_type": "code",
   "execution_count": 111,
   "id": "steady-matter",
   "metadata": {},
   "outputs": [
    {
     "name": "stdout",
     "output_type": "stream",
     "text": [
      "['RV', 'VA', 'QD', 'PY', 'TS', 'EV', 'SL', 'IY', 'VN', 'RS', 'FA', 'PS', 'NF', 'IS', 'TT', 'NF', 'LK', 'CC', 'PY', 'FG', 'GV', 'ES', 'VP', 'FT', 'NK', 'AL', 'TN', 'RD', 'FL', 'AC', 'SF', 'VT', 'YN', 'AV', 'WY', 'NA', 'RD', 'KS', 'RF', 'IV', 'SI', 'NR', 'CG', 'VD', 'AE', 'DV', 'YR', 'SQ', 'VI', 'LA', 'YP', 'NG', 'SQ', 'AT', 'SG', 'FK', 'SI', 'TA', 'FD', 'KY', 'CN', 'YY', 'GK', 'VL', 'SP', 'PD', 'TD', 'KF', 'LT', 'NG', 'DC', 'LV', 'CI', 'FA', 'TW', 'NN', 'VS', 'YN', 'AN', 'DL', 'SD', 'FS', 'VK', 'IV', 'RG', 'GG', 'DN', 'EY', 'VN', 'RY', 'QL', 'IY', 'AR', 'PL', 'GF', 'QR', 'TK', 'GS', 'KN', 'IL', 'AK', 'DP', 'YF', 'NE', 'YR', 'KD', 'LI', 'PS', 'DT', 'DE', 'FI', 'TY', 'GQ', 'CA', 'VG', 'IS', 'AT', 'WP', 'NC', 'SN', 'NG', 'NV', 'LE', 'DG', 'SF', 'KN', 'VC', 'GY', 'GF', 'NP', 'YL', 'NQ', 'YS', 'LY', 'YG', 'RF', 'LQ', 'FP', 'RT', 'KN', 'SG', 'NV', 'LG', 'KY', 'PQ', 'FP', 'EY', 'RR', 'DV', 'IV', 'SV', 'TL', 'ES', 'IF', 'YE', 'QL', 'AL', 'GH', 'SA', 'TP', 'PA', 'CT', 'NV', 'GC', 'VG', 'EP', 'GK', 'FK', 'NS', 'CT', 'YN', 'FL', 'PV', 'LK', 'QN', 'SK', 'YC', 'GV', 'FN', 'QF']\n"
     ]
    }
   ],
   "source": [
    "s43 = \"RVQPTESIVRFPNITNLCPFGEVFNATRFASVYAWNRKRISNCVADYSVLYNSASFSTFKCYGVSPTKLNDLCFTNVYADSFVIRGDEVRQIAPGQTGKIADYNYKLPDDFTGCVIAWNSNNLDSKVGGNYNYLYRLFRKSNLKPFERDISTEIYQAGSTPCNGVEGFNCYFPLQSYGFQPTNGVGYQPYRVVVLSFELLHAPATVCGPKKSTNLVKNKCVNF\"\n",
    "\n",
    "lambda_43 = []\n",
    "\n",
    "for i in range(len(s43)):\n",
    "    if(0<=i<180):\n",
    "        c1 = s43[i]\n",
    "        c2 = s43[i+43]\n",
    "        lambda_43.append(c1+c2)\n",
    "    else:\n",
    "        break\n",
    "print(lambda_43)"
   ]
  },
  {
   "cell_type": "code",
   "execution_count": 112,
   "id": "ambient-contamination",
   "metadata": {},
   "outputs": [
    {
     "name": "stdout",
     "output_type": "stream",
     "text": [
      "['RA', 'VD', 'QY', 'PS', 'TV', 'EL', 'SY', 'IN', 'VS', 'RA', 'FS', 'PF', 'NS', 'IT', 'TF', 'NK', 'LC', 'CY', 'PG', 'FV', 'GS', 'EP', 'VT', 'FK', 'NL', 'AN', 'TD', 'RL', 'FC', 'AF', 'ST', 'VN', 'YV', 'AY', 'WA', 'ND', 'RS', 'KF', 'RV', 'II', 'SR', 'NG', 'CD', 'VE', 'AV', 'DR', 'YQ', 'SI', 'VA', 'LP', 'YG', 'NQ', 'ST', 'AG', 'SK', 'FI', 'SA', 'TD', 'FY', 'KN', 'CY', 'YK', 'GL', 'VP', 'SD', 'PD', 'TF', 'KT', 'LG', 'NC', 'DV', 'LI', 'CA', 'FW', 'TN', 'NS', 'VN', 'YN', 'AL', 'DD', 'SS', 'FK', 'VV', 'IG', 'RG', 'GN', 'DY', 'EN', 'VY', 'RL', 'QY', 'IR', 'AL', 'PF', 'GR', 'QK', 'TS', 'GN', 'KL', 'IK', 'AP', 'DF', 'YE', 'NR', 'YD', 'KI', 'LS', 'PT', 'DE', 'DI', 'FY', 'TQ', 'GA', 'CG', 'VS', 'IT', 'AP', 'WC', 'NN', 'SG', 'NV', 'NE', 'LG', 'DF', 'SN', 'KC', 'VY', 'GF', 'GP', 'NL', 'YQ', 'NS', 'YY', 'LG', 'YF', 'RQ', 'LP', 'FT', 'RN', 'KG', 'SV', 'NG', 'LY', 'KQ', 'PP', 'FY', 'ER', 'RV', 'DV', 'IV', 'SL', 'TS', 'EF', 'IE', 'YL', 'QL', 'AH', 'GA', 'SP', 'TA', 'PT', 'CV', 'NC', 'GG', 'VP', 'EK', 'GK', 'FS', 'NT', 'CN', 'YL', 'FV', 'PK', 'LN', 'QK', 'SC', 'YV', 'GN', 'FF']\n"
     ]
    }
   ],
   "source": [
    "s44 = \"RVQPTESIVRFPNITNLCPFGEVFNATRFASVYAWNRKRISNCVADYSVLYNSASFSTFKCYGVSPTKLNDLCFTNVYADSFVIRGDEVRQIAPGQTGKIADYNYKLPDDFTGCVIAWNSNNLDSKVGGNYNYLYRLFRKSNLKPFERDISTEIYQAGSTPCNGVEGFNCYFPLQSYGFQPTNGVGYQPYRVVVLSFELLHAPATVCGPKKSTNLVKNKCVNF\"\n",
    "\n",
    "lambda_44 = []\n",
    "\n",
    "for i in range(len(s44)):\n",
    "    if(0<=i<179):\n",
    "        c1 = s44[i]\n",
    "        c2 = s44[i+44]\n",
    "        lambda_44.append(c1+c2)\n",
    "    else:\n",
    "        break\n",
    "print(lambda_44)"
   ]
  },
  {
   "cell_type": "code",
   "execution_count": 113,
   "id": "realistic-hydrogen",
   "metadata": {},
   "outputs": [
    {
     "name": "stdout",
     "output_type": "stream",
     "text": [
      "['RD', 'VY', 'QS', 'PV', 'TL', 'EY', 'SN', 'IS', 'VA', 'RS', 'FF', 'PS', 'NT', 'IF', 'TK', 'NC', 'LY', 'CG', 'PV', 'FS', 'GP', 'ET', 'VK', 'FL', 'NN', 'AD', 'TL', 'RC', 'FF', 'AT', 'SN', 'VV', 'YY', 'AA', 'WD', 'NS', 'RF', 'KV', 'RI', 'IR', 'SG', 'ND', 'CE', 'VV', 'AR', 'DQ', 'YI', 'SA', 'VP', 'LG', 'YQ', 'NT', 'SG', 'AK', 'SI', 'FA', 'SD', 'TY', 'FN', 'KY', 'CK', 'YL', 'GP', 'VD', 'SD', 'PF', 'TT', 'KG', 'LC', 'NV', 'DI', 'LA', 'CW', 'FN', 'TS', 'NN', 'VN', 'YL', 'AD', 'DS', 'SK', 'FV', 'VG', 'IG', 'RN', 'GY', 'DN', 'EY', 'VL', 'RY', 'QR', 'IL', 'AF', 'PR', 'GK', 'QS', 'TN', 'GL', 'KK', 'IP', 'AF', 'DE', 'YR', 'ND', 'YI', 'KS', 'LT', 'PE', 'DI', 'DY', 'FQ', 'TA', 'GG', 'CS', 'VT', 'IP', 'AC', 'WN', 'NG', 'SV', 'NE', 'NG', 'LF', 'DN', 'SC', 'KY', 'VF', 'GP', 'GL', 'NQ', 'YS', 'NY', 'YG', 'LF', 'YQ', 'RP', 'LT', 'FN', 'RG', 'KV', 'SG', 'NY', 'LQ', 'KP', 'PY', 'FR', 'EV', 'RV', 'DV', 'IL', 'SS', 'TF', 'EE', 'IL', 'YL', 'QH', 'AA', 'GP', 'SA', 'TT', 'PV', 'CC', 'NG', 'GP', 'VK', 'EK', 'GS', 'FT', 'NN', 'CL', 'YV', 'FK', 'PN', 'LK', 'QC', 'SV', 'YN', 'GF']\n"
     ]
    }
   ],
   "source": [
    "s45 = \"RVQPTESIVRFPNITNLCPFGEVFNATRFASVYAWNRKRISNCVADYSVLYNSASFSTFKCYGVSPTKLNDLCFTNVYADSFVIRGDEVRQIAPGQTGKIADYNYKLPDDFTGCVIAWNSNNLDSKVGGNYNYLYRLFRKSNLKPFERDISTEIYQAGSTPCNGVEGFNCYFPLQSYGFQPTNGVGYQPYRVVVLSFELLHAPATVCGPKKSTNLVKNKCVNF\"\n",
    "\n",
    "lambda_45 = []\n",
    "\n",
    "for i in range(len(s45)):\n",
    "    if(0<=i<178):\n",
    "        c1 = s45[i]\n",
    "        c2 = s45[i+45]\n",
    "        lambda_45.append(c1+c2)\n",
    "    else:\n",
    "        break\n",
    "print(lambda_45)"
   ]
  },
  {
   "cell_type": "code",
   "execution_count": 114,
   "id": "simple-ticket",
   "metadata": {},
   "outputs": [
    {
     "name": "stdout",
     "output_type": "stream",
     "text": [
      "['RY', 'VS', 'QV', 'PL', 'TY', 'EN', 'SS', 'IA', 'VS', 'RF', 'FS', 'PT', 'NF', 'IK', 'TC', 'NY', 'LG', 'CV', 'PS', 'FP', 'GT', 'EK', 'VL', 'FN', 'ND', 'AL', 'TC', 'RF', 'FT', 'AN', 'SV', 'VY', 'YA', 'AD', 'WS', 'NF', 'RV', 'KI', 'RR', 'IG', 'SD', 'NE', 'CV', 'VR', 'AQ', 'DI', 'YA', 'SP', 'VG', 'LQ', 'YT', 'NG', 'SK', 'AI', 'SA', 'FD', 'SY', 'TN', 'FY', 'KK', 'CL', 'YP', 'GD', 'VD', 'SF', 'PT', 'TG', 'KC', 'LV', 'NI', 'DA', 'LW', 'CN', 'FS', 'TN', 'NN', 'VL', 'YD', 'AS', 'DK', 'SV', 'FG', 'VG', 'IN', 'RY', 'GN', 'DY', 'EL', 'VY', 'RR', 'QL', 'IF', 'AR', 'PK', 'GS', 'QN', 'TL', 'GK', 'KP', 'IF', 'AE', 'DR', 'YD', 'NI', 'YS', 'KT', 'LE', 'PI', 'DY', 'DQ', 'FA', 'TG', 'GS', 'CT', 'VP', 'IC', 'AN', 'WG', 'NV', 'SE', 'NG', 'NF', 'LN', 'DC', 'SY', 'KF', 'VP', 'GL', 'GQ', 'NS', 'YY', 'NG', 'YF', 'LQ', 'YP', 'RT', 'LN', 'FG', 'RV', 'KG', 'SY', 'NQ', 'LP', 'KY', 'PR', 'FV', 'EV', 'RV', 'DL', 'IS', 'SF', 'TE', 'EL', 'IL', 'YH', 'QA', 'AP', 'GA', 'ST', 'TV', 'PC', 'CG', 'NP', 'GK', 'VK', 'ES', 'GT', 'FN', 'NL', 'CV', 'YK', 'FN', 'PK', 'LC', 'QV', 'SN', 'YF']\n"
     ]
    }
   ],
   "source": [
    "s46 = \"RVQPTESIVRFPNITNLCPFGEVFNATRFASVYAWNRKRISNCVADYSVLYNSASFSTFKCYGVSPTKLNDLCFTNVYADSFVIRGDEVRQIAPGQTGKIADYNYKLPDDFTGCVIAWNSNNLDSKVGGNYNYLYRLFRKSNLKPFERDISTEIYQAGSTPCNGVEGFNCYFPLQSYGFQPTNGVGYQPYRVVVLSFELLHAPATVCGPKKSTNLVKNKCVNF\"\n",
    "\n",
    "lambda_46 = []\n",
    "\n",
    "for i in range(len(s46)):\n",
    "    if(0<=i<177):\n",
    "        c1 = s46[i]\n",
    "        c2 = s46[i+46]\n",
    "        lambda_46.append(c1+c2)\n",
    "    else:\n",
    "        break\n",
    "print(lambda_46)"
   ]
  },
  {
   "cell_type": "code",
   "execution_count": 115,
   "id": "stone-abuse",
   "metadata": {},
   "outputs": [
    {
     "name": "stdout",
     "output_type": "stream",
     "text": [
      "['RS', 'VV', 'QL', 'PY', 'TN', 'ES', 'SA', 'IS', 'VF', 'RS', 'FT', 'PF', 'NK', 'IC', 'TY', 'NG', 'LV', 'CS', 'PP', 'FT', 'GK', 'EL', 'VN', 'FD', 'NL', 'AC', 'TF', 'RT', 'FN', 'AV', 'SY', 'VA', 'YD', 'AS', 'WF', 'NV', 'RI', 'KR', 'RG', 'ID', 'SE', 'NV', 'CR', 'VQ', 'AI', 'DA', 'YP', 'SG', 'VQ', 'LT', 'YG', 'NK', 'SI', 'AA', 'SD', 'FY', 'SN', 'TY', 'FK', 'KL', 'CP', 'YD', 'GD', 'VF', 'ST', 'PG', 'TC', 'KV', 'LI', 'NA', 'DW', 'LN', 'CS', 'FN', 'TN', 'NL', 'VD', 'YS', 'AK', 'DV', 'SG', 'FG', 'VN', 'IY', 'RN', 'GY', 'DL', 'EY', 'VR', 'RL', 'QF', 'IR', 'AK', 'PS', 'GN', 'QL', 'TK', 'GP', 'KF', 'IE', 'AR', 'DD', 'YI', 'NS', 'YT', 'KE', 'LI', 'PY', 'DQ', 'DA', 'FG', 'TS', 'GT', 'CP', 'VC', 'IN', 'AG', 'WV', 'NE', 'SG', 'NF', 'NN', 'LC', 'DY', 'SF', 'KP', 'VL', 'GQ', 'GS', 'NY', 'YG', 'NF', 'YQ', 'LP', 'YT', 'RN', 'LG', 'FV', 'RG', 'KY', 'SQ', 'NP', 'LY', 'KR', 'PV', 'FV', 'EV', 'RL', 'DS', 'IF', 'SE', 'TL', 'EL', 'IH', 'YA', 'QP', 'AA', 'GT', 'SV', 'TC', 'PG', 'CP', 'NK', 'GK', 'VS', 'ET', 'GN', 'FL', 'NV', 'CK', 'YN', 'FK', 'PC', 'LV', 'QN', 'SF']\n"
     ]
    }
   ],
   "source": [
    "s47 = \"RVQPTESIVRFPNITNLCPFGEVFNATRFASVYAWNRKRISNCVADYSVLYNSASFSTFKCYGVSPTKLNDLCFTNVYADSFVIRGDEVRQIAPGQTGKIADYNYKLPDDFTGCVIAWNSNNLDSKVGGNYNYLYRLFRKSNLKPFERDISTEIYQAGSTPCNGVEGFNCYFPLQSYGFQPTNGVGYQPYRVVVLSFELLHAPATVCGPKKSTNLVKNKCVNF\"\n",
    "\n",
    "lambda_47 = []\n",
    "\n",
    "for i in range(len(s47)):\n",
    "    if(0<=i<176):\n",
    "        c1 = s47[i]\n",
    "        c2 = s47[i+47]\n",
    "        lambda_47.append(c1+c2)\n",
    "    else:\n",
    "        break\n",
    "print(lambda_47)"
   ]
  },
  {
   "cell_type": "code",
   "execution_count": 116,
   "id": "tropical-aquatic",
   "metadata": {},
   "outputs": [
    {
     "name": "stdout",
     "output_type": "stream",
     "text": [
      "['RV', 'VL', 'QY', 'PN', 'TS', 'EA', 'SS', 'IF', 'VS', 'RT', 'FF', 'PK', 'NC', 'IY', 'TG', 'NV', 'LS', 'CP', 'PT', 'FK', 'GL', 'EN', 'VD', 'FL', 'NC', 'AF', 'TT', 'RN', 'FV', 'AY', 'SA', 'VD', 'YS', 'AF', 'WV', 'NI', 'RR', 'KG', 'RD', 'IE', 'SV', 'NR', 'CQ', 'VI', 'AA', 'DP', 'YG', 'SQ', 'VT', 'LG', 'YK', 'NI', 'SA', 'AD', 'SY', 'FN', 'SY', 'TK', 'FL', 'KP', 'CD', 'YD', 'GF', 'VT', 'SG', 'PC', 'TV', 'KI', 'LA', 'NW', 'DN', 'LS', 'CN', 'FN', 'TL', 'ND', 'VS', 'YK', 'AV', 'DG', 'SG', 'FN', 'VY', 'IN', 'RY', 'GL', 'DY', 'ER', 'VL', 'RF', 'QR', 'IK', 'AS', 'PN', 'GL', 'QK', 'TP', 'GF', 'KE', 'IR', 'AD', 'DI', 'YS', 'NT', 'YE', 'KI', 'LY', 'PQ', 'DA', 'DG', 'FS', 'TT', 'GP', 'CC', 'VN', 'IG', 'AV', 'WE', 'NG', 'SF', 'NN', 'NC', 'LY', 'DF', 'SP', 'KL', 'VQ', 'GS', 'GY', 'NG', 'YF', 'NQ', 'YP', 'LT', 'YN', 'RG', 'LV', 'FG', 'RY', 'KQ', 'SP', 'NY', 'LR', 'KV', 'PV', 'FV', 'EL', 'RS', 'DF', 'IE', 'SL', 'TL', 'EH', 'IA', 'YP', 'QA', 'AT', 'GV', 'SC', 'TG', 'PP', 'CK', 'NK', 'GS', 'VT', 'EN', 'GL', 'FV', 'NK', 'CN', 'YK', 'FC', 'PV', 'LN', 'QF']\n"
     ]
    }
   ],
   "source": [
    "s48 = \"RVQPTESIVRFPNITNLCPFGEVFNATRFASVYAWNRKRISNCVADYSVLYNSASFSTFKCYGVSPTKLNDLCFTNVYADSFVIRGDEVRQIAPGQTGKIADYNYKLPDDFTGCVIAWNSNNLDSKVGGNYNYLYRLFRKSNLKPFERDISTEIYQAGSTPCNGVEGFNCYFPLQSYGFQPTNGVGYQPYRVVVLSFELLHAPATVCGPKKSTNLVKNKCVNF\"\n",
    "\n",
    "lambda_48 = []\n",
    "\n",
    "for i in range(len(s48)):\n",
    "    if(0<=i<175):\n",
    "        c1 = s48[i]\n",
    "        c2 = s48[i+48]\n",
    "        lambda_48.append(c1+c2)\n",
    "    else:\n",
    "        break\n",
    "print(lambda_48)"
   ]
  },
  {
   "cell_type": "code",
   "execution_count": 117,
   "id": "behind-deployment",
   "metadata": {},
   "outputs": [
    {
     "name": "stdout",
     "output_type": "stream",
     "text": [
      "['RL', 'VY', 'QN', 'PS', 'TA', 'ES', 'SF', 'IS', 'VT', 'RF', 'FK', 'PC', 'NY', 'IG', 'TV', 'NS', 'LP', 'CT', 'PK', 'FL', 'GN', 'ED', 'VL', 'FC', 'NF', 'AT', 'TN', 'RV', 'FY', 'AA', 'SD', 'VS', 'YF', 'AV', 'WI', 'NR', 'RG', 'KD', 'RE', 'IV', 'SR', 'NQ', 'CI', 'VA', 'AP', 'DG', 'YQ', 'ST', 'VG', 'LK', 'YI', 'NA', 'SD', 'AY', 'SN', 'FY', 'SK', 'TL', 'FP', 'KD', 'CD', 'YF', 'GT', 'VG', 'SC', 'PV', 'TI', 'KA', 'LW', 'NN', 'DS', 'LN', 'CN', 'FL', 'TD', 'NS', 'VK', 'YV', 'AG', 'DG', 'SN', 'FY', 'VN', 'IY', 'RL', 'GY', 'DR', 'EL', 'VF', 'RR', 'QK', 'IS', 'AN', 'PL', 'GK', 'QP', 'TF', 'GE', 'KR', 'ID', 'AI', 'DS', 'YT', 'NE', 'YI', 'KY', 'LQ', 'PA', 'DG', 'DS', 'FT', 'TP', 'GC', 'CN', 'VG', 'IV', 'AE', 'WG', 'NF', 'SN', 'NC', 'NY', 'LF', 'DP', 'SL', 'KQ', 'VS', 'GY', 'GG', 'NF', 'YQ', 'NP', 'YT', 'LN', 'YG', 'RV', 'LG', 'FY', 'RQ', 'KP', 'SY', 'NR', 'LV', 'KV', 'PV', 'FL', 'ES', 'RF', 'DE', 'IL', 'SL', 'TH', 'EA', 'IP', 'YA', 'QT', 'AV', 'GC', 'SG', 'TP', 'PK', 'CK', 'NS', 'GT', 'VN', 'EL', 'GV', 'FK', 'NN', 'CK', 'YC', 'FV', 'PN', 'LF']\n"
     ]
    }
   ],
   "source": [
    "s49 = \"RVQPTESIVRFPNITNLCPFGEVFNATRFASVYAWNRKRISNCVADYSVLYNSASFSTFKCYGVSPTKLNDLCFTNVYADSFVIRGDEVRQIAPGQTGKIADYNYKLPDDFTGCVIAWNSNNLDSKVGGNYNYLYRLFRKSNLKPFERDISTEIYQAGSTPCNGVEGFNCYFPLQSYGFQPTNGVGYQPYRVVVLSFELLHAPATVCGPKKSTNLVKNKCVNF\"\n",
    "\n",
    "lambda_49 = []\n",
    "\n",
    "for i in range(len(s49)):\n",
    "    if(0<=i<174):\n",
    "        c1 = s49[i]\n",
    "        c2 = s49[i+49]\n",
    "        lambda_49.append(c1+c2)\n",
    "    else:\n",
    "        break\n",
    "print(lambda_49)"
   ]
  },
  {
   "cell_type": "code",
   "execution_count": 118,
   "id": "behavioral-folder",
   "metadata": {},
   "outputs": [
    {
     "name": "stdout",
     "output_type": "stream",
     "text": [
      "['RY', 'VN', 'QS', 'PA', 'TS', 'EF', 'SS', 'IT', 'VF', 'RK', 'FC', 'PY', 'NG', 'IV', 'TS', 'NP', 'LT', 'CK', 'PL', 'FN', 'GD', 'EL', 'VC', 'FF', 'NT', 'AN', 'TV', 'RY', 'FA', 'AD', 'SS', 'VF', 'YV', 'AI', 'WR', 'NG', 'RD', 'KE', 'RV', 'IR', 'SQ', 'NI', 'CA', 'VP', 'AG', 'DQ', 'YT', 'SG', 'VK', 'LI', 'YA', 'ND', 'SY', 'AN', 'SY', 'FK', 'SL', 'TP', 'FD', 'KD', 'CF', 'YT', 'GG', 'VC', 'SV', 'PI', 'TA', 'KW', 'LN', 'NS', 'DN', 'LN', 'CL', 'FD', 'TS', 'NK', 'VV', 'YG', 'AG', 'DN', 'SY', 'FN', 'VY', 'IL', 'RY', 'GR', 'DL', 'EF', 'VR', 'RK', 'QS', 'IN', 'AL', 'PK', 'GP', 'QF', 'TE', 'GR', 'KD', 'II', 'AS', 'DT', 'YE', 'NI', 'YY', 'KQ', 'LA', 'PG', 'DS', 'DT', 'FP', 'TC', 'GN', 'CG', 'VV', 'IE', 'AG', 'WF', 'NN', 'SC', 'NY', 'NF', 'LP', 'DL', 'SQ', 'KS', 'VY', 'GG', 'GF', 'NQ', 'YP', 'NT', 'YN', 'LG', 'YV', 'RG', 'LY', 'FQ', 'RP', 'KY', 'SR', 'NV', 'LV', 'KV', 'PL', 'FS', 'EF', 'RE', 'DL', 'IL', 'SH', 'TA', 'EP', 'IA', 'YT', 'QV', 'AC', 'GG', 'SP', 'TK', 'PK', 'CS', 'NT', 'GN', 'VL', 'EV', 'GK', 'FN', 'NK', 'CC', 'YV', 'FN', 'PF']\n"
     ]
    }
   ],
   "source": [
    "s50 = \"RVQPTESIVRFPNITNLCPFGEVFNATRFASVYAWNRKRISNCVADYSVLYNSASFSTFKCYGVSPTKLNDLCFTNVYADSFVIRGDEVRQIAPGQTGKIADYNYKLPDDFTGCVIAWNSNNLDSKVGGNYNYLYRLFRKSNLKPFERDISTEIYQAGSTPCNGVEGFNCYFPLQSYGFQPTNGVGYQPYRVVVLSFELLHAPATVCGPKKSTNLVKNKCVNF\"\n",
    "\n",
    "lambda_50 = []\n",
    "\n",
    "for i in range(len(s50)):\n",
    "    if(0<=i<173):\n",
    "        c1 = s50[i]\n",
    "        c2 = s50[i+50]\n",
    "        lambda_50.append(c1+c2)\n",
    "    else:\n",
    "        break\n",
    "print(lambda_50)"
   ]
  },
  {
   "cell_type": "code",
   "execution_count": 119,
   "id": "looking-alaska",
   "metadata": {},
   "outputs": [
    {
     "name": "stdout",
     "output_type": "stream",
     "text": [
      "['RN', 'VS', 'QA', 'PS', 'TF', 'ES', 'ST', 'IF', 'VK', 'RC', 'FY', 'PG', 'NV', 'IS', 'TP', 'NT', 'LK', 'CL', 'PN', 'FD', 'GL', 'EC', 'VF', 'FT', 'NN', 'AV', 'TY', 'RA', 'FD', 'AS', 'SF', 'VV', 'YI', 'AR', 'WG', 'ND', 'RE', 'KV', 'RR', 'IQ', 'SI', 'NA', 'CP', 'VG', 'AQ', 'DT', 'YG', 'SK', 'VI', 'LA', 'YD', 'NY', 'SN', 'AY', 'SK', 'FL', 'SP', 'TD', 'FD', 'KF', 'CT', 'YG', 'GC', 'VV', 'SI', 'PA', 'TW', 'KN', 'LS', 'NN', 'DN', 'LL', 'CD', 'FS', 'TK', 'NV', 'VG', 'YG', 'AN', 'DY', 'SN', 'FY', 'VL', 'IY', 'RR', 'GL', 'DF', 'ER', 'VK', 'RS', 'QN', 'IL', 'AK', 'PP', 'GF', 'QE', 'TR', 'GD', 'KI', 'IS', 'AT', 'DE', 'YI', 'NY', 'YQ', 'KA', 'LG', 'PS', 'DT', 'DP', 'FC', 'TN', 'GG', 'CV', 'VE', 'IG', 'AF', 'WN', 'NC', 'SY', 'NF', 'NP', 'LL', 'DQ', 'SS', 'KY', 'VG', 'GF', 'GQ', 'NP', 'YT', 'NN', 'YG', 'LV', 'YG', 'RY', 'LQ', 'FP', 'RY', 'KR', 'SV', 'NV', 'LV', 'KL', 'PS', 'FF', 'EE', 'RL', 'DL', 'IH', 'SA', 'TP', 'EA', 'IT', 'YV', 'QC', 'AG', 'GP', 'SK', 'TK', 'PS', 'CT', 'NN', 'GL', 'VV', 'EK', 'GN', 'FK', 'NC', 'CV', 'YN', 'FF']\n"
     ]
    }
   ],
   "source": [
    "s51 = \"RVQPTESIVRFPNITNLCPFGEVFNATRFASVYAWNRKRISNCVADYSVLYNSASFSTFKCYGVSPTKLNDLCFTNVYADSFVIRGDEVRQIAPGQTGKIADYNYKLPDDFTGCVIAWNSNNLDSKVGGNYNYLYRLFRKSNLKPFERDISTEIYQAGSTPCNGVEGFNCYFPLQSYGFQPTNGVGYQPYRVVVLSFELLHAPATVCGPKKSTNLVKNKCVNF\"\n",
    "\n",
    "lambda_51 = []\n",
    "\n",
    "for i in range(len(s51)):\n",
    "    if(0<=i<172):\n",
    "        c1 = s51[i]\n",
    "        c2 = s51[i+51]\n",
    "        lambda_51.append(c1+c2)\n",
    "    else:\n",
    "        break\n",
    "print(lambda_51)"
   ]
  },
  {
   "cell_type": "code",
   "execution_count": 120,
   "id": "latin-october",
   "metadata": {},
   "outputs": [
    {
     "name": "stdout",
     "output_type": "stream",
     "text": [
      "['RS', 'VA', 'QS', 'PF', 'TS', 'ET', 'SF', 'IK', 'VC', 'RY', 'FG', 'PV', 'NS', 'IP', 'TT', 'NK', 'LL', 'CN', 'PD', 'FL', 'GC', 'EF', 'VT', 'FN', 'NV', 'AY', 'TA', 'RD', 'FS', 'AF', 'SV', 'VI', 'YR', 'AG', 'WD', 'NE', 'RV', 'KR', 'RQ', 'II', 'SA', 'NP', 'CG', 'VQ', 'AT', 'DG', 'YK', 'SI', 'VA', 'LD', 'YY', 'NN', 'SY', 'AK', 'SL', 'FP', 'SD', 'TD', 'FF', 'KT', 'CG', 'YC', 'GV', 'VI', 'SA', 'PW', 'TN', 'KS', 'LN', 'NN', 'DL', 'LD', 'CS', 'FK', 'TV', 'NG', 'VG', 'YN', 'AY', 'DN', 'SY', 'FL', 'VY', 'IR', 'RL', 'GF', 'DR', 'EK', 'VS', 'RN', 'QL', 'IK', 'AP', 'PF', 'GE', 'QR', 'TD', 'GI', 'KS', 'IT', 'AE', 'DI', 'YY', 'NQ', 'YA', 'KG', 'LS', 'PT', 'DP', 'DC', 'FN', 'TG', 'GV', 'CE', 'VG', 'IF', 'AN', 'WC', 'NY', 'SF', 'NP', 'NL', 'LQ', 'DS', 'SY', 'KG', 'VF', 'GQ', 'GP', 'NT', 'YN', 'NG', 'YV', 'LG', 'YY', 'RQ', 'LP', 'FY', 'RR', 'KV', 'SV', 'NV', 'LL', 'KS', 'PF', 'FE', 'EL', 'RL', 'DH', 'IA', 'SP', 'TA', 'ET', 'IV', 'YC', 'QG', 'AP', 'GK', 'SK', 'TS', 'PT', 'CN', 'NL', 'GV', 'VK', 'EN', 'GK', 'FC', 'NV', 'CN', 'YF']\n"
     ]
    }
   ],
   "source": [
    "s52 = \"RVQPTESIVRFPNITNLCPFGEVFNATRFASVYAWNRKRISNCVADYSVLYNSASFSTFKCYGVSPTKLNDLCFTNVYADSFVIRGDEVRQIAPGQTGKIADYNYKLPDDFTGCVIAWNSNNLDSKVGGNYNYLYRLFRKSNLKPFERDISTEIYQAGSTPCNGVEGFNCYFPLQSYGFQPTNGVGYQPYRVVVLSFELLHAPATVCGPKKSTNLVKNKCVNF\"\n",
    "\n",
    "lambda_52 = []\n",
    "\n",
    "for i in range(len(s52)):\n",
    "    if(0<=i<171):\n",
    "        c1 = s52[i]\n",
    "        c2 = s52[i+52]\n",
    "        lambda_52.append(c1+c2)\n",
    "    else:\n",
    "        break\n",
    "print(lambda_52)"
   ]
  },
  {
   "cell_type": "code",
   "execution_count": 121,
   "id": "african-poultry",
   "metadata": {},
   "outputs": [
    {
     "name": "stdout",
     "output_type": "stream",
     "text": [
      "['RA', 'VS', 'QF', 'PS', 'TT', 'EF', 'SK', 'IC', 'VY', 'RG', 'FV', 'PS', 'NP', 'IT', 'TK', 'NL', 'LN', 'CD', 'PL', 'FC', 'GF', 'ET', 'VN', 'FV', 'NY', 'AA', 'TD', 'RS', 'FF', 'AV', 'SI', 'VR', 'YG', 'AD', 'WE', 'NV', 'RR', 'KQ', 'RI', 'IA', 'SP', 'NG', 'CQ', 'VT', 'AG', 'DK', 'YI', 'SA', 'VD', 'LY', 'YN', 'NY', 'SK', 'AL', 'SP', 'FD', 'SD', 'TF', 'FT', 'KG', 'CC', 'YV', 'GI', 'VA', 'SW', 'PN', 'TS', 'KN', 'LN', 'NL', 'DD', 'LS', 'CK', 'FV', 'TG', 'NG', 'VN', 'YY', 'AN', 'DY', 'SL', 'FY', 'VR', 'IL', 'RF', 'GR', 'DK', 'ES', 'VN', 'RL', 'QK', 'IP', 'AF', 'PE', 'GR', 'QD', 'TI', 'GS', 'KT', 'IE', 'AI', 'DY', 'YQ', 'NA', 'YG', 'KS', 'LT', 'PP', 'DC', 'DN', 'FG', 'TV', 'GE', 'CG', 'VF', 'IN', 'AC', 'WY', 'NF', 'SP', 'NL', 'NQ', 'LS', 'DY', 'SG', 'KF', 'VQ', 'GP', 'GT', 'NN', 'YG', 'NV', 'YG', 'LY', 'YQ', 'RP', 'LY', 'FR', 'RV', 'KV', 'SV', 'NL', 'LS', 'KF', 'PE', 'FL', 'EL', 'RH', 'DA', 'IP', 'SA', 'TT', 'EV', 'IC', 'YG', 'QP', 'AK', 'GK', 'SS', 'TT', 'PN', 'CL', 'NV', 'GK', 'VN', 'EK', 'GC', 'FV', 'NN', 'CF']\n"
     ]
    }
   ],
   "source": [
    "s53 = \"RVQPTESIVRFPNITNLCPFGEVFNATRFASVYAWNRKRISNCVADYSVLYNSASFSTFKCYGVSPTKLNDLCFTNVYADSFVIRGDEVRQIAPGQTGKIADYNYKLPDDFTGCVIAWNSNNLDSKVGGNYNYLYRLFRKSNLKPFERDISTEIYQAGSTPCNGVEGFNCYFPLQSYGFQPTNGVGYQPYRVVVLSFELLHAPATVCGPKKSTNLVKNKCVNF\"\n",
    "\n",
    "lambda_53 = []\n",
    "\n",
    "for i in range(len(s53)):\n",
    "    if(0<=i<170):\n",
    "        c1 = s53[i]\n",
    "        c2 = s53[i+53]\n",
    "        lambda_53.append(c1+c2)\n",
    "    else:\n",
    "        break\n",
    "print(lambda_53)"
   ]
  },
  {
   "cell_type": "code",
   "execution_count": 122,
   "id": "remarkable-isaac",
   "metadata": {},
   "outputs": [
    {
     "name": "stdout",
     "output_type": "stream",
     "text": [
      "['RS', 'VF', 'QS', 'PT', 'TF', 'EK', 'SC', 'IY', 'VG', 'RV', 'FS', 'PP', 'NT', 'IK', 'TL', 'NN', 'LD', 'CL', 'PC', 'FF', 'GT', 'EN', 'VV', 'FY', 'NA', 'AD', 'TS', 'RF', 'FV', 'AI', 'SR', 'VG', 'YD', 'AE', 'WV', 'NR', 'RQ', 'KI', 'RA', 'IP', 'SG', 'NQ', 'CT', 'VG', 'AK', 'DI', 'YA', 'SD', 'VY', 'LN', 'YY', 'NK', 'SL', 'AP', 'SD', 'FD', 'SF', 'TT', 'FG', 'KC', 'CV', 'YI', 'GA', 'VW', 'SN', 'PS', 'TN', 'KN', 'LL', 'ND', 'DS', 'LK', 'CV', 'FG', 'TG', 'NN', 'VY', 'YN', 'AY', 'DL', 'SY', 'FR', 'VL', 'IF', 'RR', 'GK', 'DS', 'EN', 'VL', 'RK', 'QP', 'IF', 'AE', 'PR', 'GD', 'QI', 'TS', 'GT', 'KE', 'II', 'AY', 'DQ', 'YA', 'NG', 'YS', 'KT', 'LP', 'PC', 'DN', 'DG', 'FV', 'TE', 'GG', 'CF', 'VN', 'IC', 'AY', 'WF', 'NP', 'SL', 'NQ', 'NS', 'LY', 'DG', 'SF', 'KQ', 'VP', 'GT', 'GN', 'NG', 'YV', 'NG', 'YY', 'LQ', 'YP', 'RY', 'LR', 'FV', 'RV', 'KV', 'SL', 'NS', 'LF', 'KE', 'PL', 'FL', 'EH', 'RA', 'DP', 'IA', 'ST', 'TV', 'EC', 'IG', 'YP', 'QK', 'AK', 'GS', 'ST', 'TN', 'PL', 'CV', 'NK', 'GN', 'VK', 'EC', 'GV', 'FN', 'NF']\n"
     ]
    }
   ],
   "source": [
    "s54 = \"RVQPTESIVRFPNITNLCPFGEVFNATRFASVYAWNRKRISNCVADYSVLYNSASFSTFKCYGVSPTKLNDLCFTNVYADSFVIRGDEVRQIAPGQTGKIADYNYKLPDDFTGCVIAWNSNNLDSKVGGNYNYLYRLFRKSNLKPFERDISTEIYQAGSTPCNGVEGFNCYFPLQSYGFQPTNGVGYQPYRVVVLSFELLHAPATVCGPKKSTNLVKNKCVNF\"\n",
    "\n",
    "lambda_54 = []\n",
    "\n",
    "for i in range(len(s54)):\n",
    "    if(0<=i<169):\n",
    "        c1 = s54[i]\n",
    "        c2 = s54[i+54]\n",
    "        lambda_54.append(c1+c2)\n",
    "    else:\n",
    "        break\n",
    "print(lambda_54)"
   ]
  },
  {
   "cell_type": "code",
   "execution_count": 123,
   "id": "starting-screening",
   "metadata": {},
   "outputs": [
    {
     "name": "stdout",
     "output_type": "stream",
     "text": [
      "['RF', 'VS', 'QT', 'PF', 'TK', 'EC', 'SY', 'IG', 'VV', 'RS', 'FP', 'PT', 'NK', 'IL', 'TN', 'ND', 'LL', 'CC', 'PF', 'FT', 'GN', 'EV', 'VY', 'FA', 'ND', 'AS', 'TF', 'RV', 'FI', 'AR', 'SG', 'VD', 'YE', 'AV', 'WR', 'NQ', 'RI', 'KA', 'RP', 'IG', 'SQ', 'NT', 'CG', 'VK', 'AI', 'DA', 'YD', 'SY', 'VN', 'LY', 'YK', 'NL', 'SP', 'AD', 'SD', 'FF', 'ST', 'TG', 'FC', 'KV', 'CI', 'YA', 'GW', 'VN', 'SS', 'PN', 'TN', 'KL', 'LD', 'NS', 'DK', 'LV', 'CG', 'FG', 'TN', 'NY', 'VN', 'YY', 'AL', 'DY', 'SR', 'FL', 'VF', 'IR', 'RK', 'GS', 'DN', 'EL', 'VK', 'RP', 'QF', 'IE', 'AR', 'PD', 'GI', 'QS', 'TT', 'GE', 'KI', 'IY', 'AQ', 'DA', 'YG', 'NS', 'YT', 'KP', 'LC', 'PN', 'DG', 'DV', 'FE', 'TG', 'GF', 'CN', 'VC', 'IY', 'AF', 'WP', 'NL', 'SQ', 'NS', 'NY', 'LG', 'DF', 'SQ', 'KP', 'VT', 'GN', 'GG', 'NV', 'YG', 'NY', 'YQ', 'LP', 'YY', 'RR', 'LV', 'FV', 'RV', 'KL', 'SS', 'NF', 'LE', 'KL', 'PL', 'FH', 'EA', 'RP', 'DA', 'IT', 'SV', 'TC', 'EG', 'IP', 'YK', 'QK', 'AS', 'GT', 'SN', 'TL', 'PV', 'CK', 'NN', 'GK', 'VC', 'EV', 'GN', 'FF']\n"
     ]
    }
   ],
   "source": [
    "s55 = \"RVQPTESIVRFPNITNLCPFGEVFNATRFASVYAWNRKRISNCVADYSVLYNSASFSTFKCYGVSPTKLNDLCFTNVYADSFVIRGDEVRQIAPGQTGKIADYNYKLPDDFTGCVIAWNSNNLDSKVGGNYNYLYRLFRKSNLKPFERDISTEIYQAGSTPCNGVEGFNCYFPLQSYGFQPTNGVGYQPYRVVVLSFELLHAPATVCGPKKSTNLVKNKCVNF\"\n",
    "\n",
    "lambda_55 = []\n",
    "\n",
    "for i in range(len(s55)):\n",
    "    if(0<=i<168):\n",
    "        c1 = s55[i]\n",
    "        c2 = s55[i+55]\n",
    "        lambda_55.append(c1+c2)\n",
    "    else:\n",
    "        break\n",
    "print(lambda_55)"
   ]
  },
  {
   "cell_type": "code",
   "execution_count": 124,
   "id": "sound-sheet",
   "metadata": {},
   "outputs": [
    {
     "name": "stdout",
     "output_type": "stream",
     "text": [
      "['RS', 'VT', 'QF', 'PK', 'TC', 'EY', 'SG', 'IV', 'VS', 'RP', 'FT', 'PK', 'NL', 'IN', 'TD', 'NL', 'LC', 'CF', 'PT', 'FN', 'GV', 'EY', 'VA', 'FD', 'NS', 'AF', 'TV', 'RI', 'FR', 'AG', 'SD', 'VE', 'YV', 'AR', 'WQ', 'NI', 'RA', 'KP', 'RG', 'IQ', 'ST', 'NG', 'CK', 'VI', 'AA', 'DD', 'YY', 'SN', 'VY', 'LK', 'YL', 'NP', 'SD', 'AD', 'SF', 'FT', 'SG', 'TC', 'FV', 'KI', 'CA', 'YW', 'GN', 'VS', 'SN', 'PN', 'TL', 'KD', 'LS', 'NK', 'DV', 'LG', 'CG', 'FN', 'TY', 'NN', 'VY', 'YL', 'AY', 'DR', 'SL', 'FF', 'VR', 'IK', 'RS', 'GN', 'DL', 'EK', 'VP', 'RF', 'QE', 'IR', 'AD', 'PI', 'GS', 'QT', 'TE', 'GI', 'KY', 'IQ', 'AA', 'DG', 'YS', 'NT', 'YP', 'KC', 'LN', 'PG', 'DV', 'DE', 'FG', 'TF', 'GN', 'CC', 'VY', 'IF', 'AP', 'WL', 'NQ', 'SS', 'NY', 'NG', 'LF', 'DQ', 'SP', 'KT', 'VN', 'GG', 'GV', 'NG', 'YY', 'NQ', 'YP', 'LY', 'YR', 'RV', 'LV', 'FV', 'RL', 'KS', 'SF', 'NE', 'LL', 'KL', 'PH', 'FA', 'EP', 'RA', 'DT', 'IV', 'SC', 'TG', 'EP', 'IK', 'YK', 'QS', 'AT', 'GN', 'SL', 'TV', 'PK', 'CN', 'NK', 'GC', 'VV', 'EN', 'GF']\n"
     ]
    }
   ],
   "source": [
    "s56 = \"RVQPTESIVRFPNITNLCPFGEVFNATRFASVYAWNRKRISNCVADYSVLYNSASFSTFKCYGVSPTKLNDLCFTNVYADSFVIRGDEVRQIAPGQTGKIADYNYKLPDDFTGCVIAWNSNNLDSKVGGNYNYLYRLFRKSNLKPFERDISTEIYQAGSTPCNGVEGFNCYFPLQSYGFQPTNGVGYQPYRVVVLSFELLHAPATVCGPKKSTNLVKNKCVNF\"\n",
    "\n",
    "lambda_56 = []\n",
    "\n",
    "for i in range(len(s56)):\n",
    "    if(0<=i<167):\n",
    "        c1 = s56[i]\n",
    "        c2 = s56[i+56]\n",
    "        lambda_56.append(c1+c2)\n",
    "    else:\n",
    "        break\n",
    "print(lambda_56)"
   ]
  },
  {
   "cell_type": "code",
   "execution_count": 125,
   "id": "express-worth",
   "metadata": {},
   "outputs": [
    {
     "name": "stdout",
     "output_type": "stream",
     "text": [
      "['RT', 'VF', 'QK', 'PC', 'TY', 'EG', 'SV', 'IS', 'VP', 'RT', 'FK', 'PL', 'NN', 'ID', 'TL', 'NC', 'LF', 'CT', 'PN', 'FV', 'GY', 'EA', 'VD', 'FS', 'NF', 'AV', 'TI', 'RR', 'FG', 'AD', 'SE', 'VV', 'YR', 'AQ', 'WI', 'NA', 'RP', 'KG', 'RQ', 'IT', 'SG', 'NK', 'CI', 'VA', 'AD', 'DY', 'YN', 'SY', 'VK', 'LL', 'YP', 'ND', 'SD', 'AF', 'ST', 'FG', 'SC', 'TV', 'FI', 'KA', 'CW', 'YN', 'GS', 'VN', 'SN', 'PL', 'TD', 'KS', 'LK', 'NV', 'DG', 'LG', 'CN', 'FY', 'TN', 'NY', 'VL', 'YY', 'AR', 'DL', 'SF', 'FR', 'VK', 'IS', 'RN', 'GL', 'DK', 'EP', 'VF', 'RE', 'QR', 'ID', 'AI', 'PS', 'GT', 'QE', 'TI', 'GY', 'KQ', 'IA', 'AG', 'DS', 'YT', 'NP', 'YC', 'KN', 'LG', 'PV', 'DE', 'DG', 'FF', 'TN', 'GC', 'CY', 'VF', 'IP', 'AL', 'WQ', 'NS', 'SY', 'NG', 'NF', 'LQ', 'DP', 'ST', 'KN', 'VG', 'GV', 'GG', 'NY', 'YQ', 'NP', 'YY', 'LR', 'YV', 'RV', 'LV', 'FL', 'RS', 'KF', 'SE', 'NL', 'LL', 'KH', 'PA', 'FP', 'EA', 'RT', 'DV', 'IC', 'SG', 'TP', 'EK', 'IK', 'YS', 'QT', 'AN', 'GL', 'SV', 'TK', 'PN', 'CK', 'NC', 'GV', 'VN', 'EF']\n"
     ]
    }
   ],
   "source": [
    "s57 = \"RVQPTESIVRFPNITNLCPFGEVFNATRFASVYAWNRKRISNCVADYSVLYNSASFSTFKCYGVSPTKLNDLCFTNVYADSFVIRGDEVRQIAPGQTGKIADYNYKLPDDFTGCVIAWNSNNLDSKVGGNYNYLYRLFRKSNLKPFERDISTEIYQAGSTPCNGVEGFNCYFPLQSYGFQPTNGVGYQPYRVVVLSFELLHAPATVCGPKKSTNLVKNKCVNF\"\n",
    "\n",
    "lambda_57 = []\n",
    "\n",
    "for i in range(len(s57)):\n",
    "    if(0<=i<166):\n",
    "        c1 = s57[i]\n",
    "        c2 = s57[i+57]\n",
    "        lambda_57.append(c1+c2)\n",
    "    else:\n",
    "        break\n",
    "print(lambda_57)"
   ]
  },
  {
   "cell_type": "code",
   "execution_count": 126,
   "id": "banner-success",
   "metadata": {},
   "outputs": [
    {
     "name": "stdout",
     "output_type": "stream",
     "text": [
      "['RF', 'VK', 'QC', 'PY', 'TG', 'EV', 'SS', 'IP', 'VT', 'RK', 'FL', 'PN', 'ND', 'IL', 'TC', 'NF', 'LT', 'CN', 'PV', 'FY', 'GA', 'ED', 'VS', 'FF', 'NV', 'AI', 'TR', 'RG', 'FD', 'AE', 'SV', 'VR', 'YQ', 'AI', 'WA', 'NP', 'RG', 'KQ', 'RT', 'IG', 'SK', 'NI', 'CA', 'VD', 'AY', 'DN', 'YY', 'SK', 'VL', 'LP', 'YD', 'ND', 'SF', 'AT', 'SG', 'FC', 'SV', 'TI', 'FA', 'KW', 'CN', 'YS', 'GN', 'VN', 'SL', 'PD', 'TS', 'KK', 'LV', 'NG', 'DG', 'LN', 'CY', 'FN', 'TY', 'NL', 'VY', 'YR', 'AL', 'DF', 'SR', 'FK', 'VS', 'IN', 'RL', 'GK', 'DP', 'EF', 'VE', 'RR', 'QD', 'II', 'AS', 'PT', 'GE', 'QI', 'TY', 'GQ', 'KA', 'IG', 'AS', 'DT', 'YP', 'NC', 'YN', 'KG', 'LV', 'PE', 'DG', 'DF', 'FN', 'TC', 'GY', 'CF', 'VP', 'IL', 'AQ', 'WS', 'NY', 'SG', 'NF', 'NQ', 'LP', 'DT', 'SN', 'KG', 'VV', 'GG', 'GY', 'NQ', 'YP', 'NY', 'YR', 'LV', 'YV', 'RV', 'LL', 'FS', 'RF', 'KE', 'SL', 'NL', 'LH', 'KA', 'PP', 'FA', 'ET', 'RV', 'DC', 'IG', 'SP', 'TK', 'EK', 'IS', 'YT', 'QN', 'AL', 'GV', 'SK', 'TN', 'PK', 'CC', 'NV', 'GN', 'VF']\n"
     ]
    }
   ],
   "source": [
    "s58 = \"RVQPTESIVRFPNITNLCPFGEVFNATRFASVYAWNRKRISNCVADYSVLYNSASFSTFKCYGVSPTKLNDLCFTNVYADSFVIRGDEVRQIAPGQTGKIADYNYKLPDDFTGCVIAWNSNNLDSKVGGNYNYLYRLFRKSNLKPFERDISTEIYQAGSTPCNGVEGFNCYFPLQSYGFQPTNGVGYQPYRVVVLSFELLHAPATVCGPKKSTNLVKNKCVNF\"\n",
    "\n",
    "lambda_58 = []\n",
    "\n",
    "for i in range(len(s58)):\n",
    "    if(0<=i<165):\n",
    "        c1 = s58[i]\n",
    "        c2 = s58[i+58]\n",
    "        lambda_58.append(c1+c2)\n",
    "    else:\n",
    "        break\n",
    "print(lambda_58)"
   ]
  },
  {
   "cell_type": "code",
   "execution_count": 127,
   "id": "labeled-hollow",
   "metadata": {},
   "outputs": [
    {
     "name": "stdout",
     "output_type": "stream",
     "text": [
      "['RK', 'VC', 'QY', 'PG', 'TV', 'ES', 'SP', 'IT', 'VK', 'RL', 'FN', 'PD', 'NL', 'IC', 'TF', 'NT', 'LN', 'CV', 'PY', 'FA', 'GD', 'ES', 'VF', 'FV', 'NI', 'AR', 'TG', 'RD', 'FE', 'AV', 'SR', 'VQ', 'YI', 'AA', 'WP', 'NG', 'RQ', 'KT', 'RG', 'IK', 'SI', 'NA', 'CD', 'VY', 'AN', 'DY', 'YK', 'SL', 'VP', 'LD', 'YD', 'NF', 'ST', 'AG', 'SC', 'FV', 'SI', 'TA', 'FW', 'KN', 'CS', 'YN', 'GN', 'VL', 'SD', 'PS', 'TK', 'KV', 'LG', 'NG', 'DN', 'LY', 'CN', 'FY', 'TL', 'NY', 'VR', 'YL', 'AF', 'DR', 'SK', 'FS', 'VN', 'IL', 'RK', 'GP', 'DF', 'EE', 'VR', 'RD', 'QI', 'IS', 'AT', 'PE', 'GI', 'QY', 'TQ', 'GA', 'KG', 'IS', 'AT', 'DP', 'YC', 'NN', 'YG', 'KV', 'LE', 'PG', 'DF', 'DN', 'FC', 'TY', 'GF', 'CP', 'VL', 'IQ', 'AS', 'WY', 'NG', 'SF', 'NQ', 'NP', 'LT', 'DN', 'SG', 'KV', 'VG', 'GY', 'GQ', 'NP', 'YY', 'NR', 'YV', 'LV', 'YV', 'RL', 'LS', 'FF', 'RE', 'KL', 'SL', 'NH', 'LA', 'KP', 'PA', 'FT', 'EV', 'RC', 'DG', 'IP', 'SK', 'TK', 'ES', 'IT', 'YN', 'QL', 'AV', 'GK', 'SN', 'TK', 'PC', 'CV', 'NN', 'GF']\n"
     ]
    }
   ],
   "source": [
    "s59 = \"RVQPTESIVRFPNITNLCPFGEVFNATRFASVYAWNRKRISNCVADYSVLYNSASFSTFKCYGVSPTKLNDLCFTNVYADSFVIRGDEVRQIAPGQTGKIADYNYKLPDDFTGCVIAWNSNNLDSKVGGNYNYLYRLFRKSNLKPFERDISTEIYQAGSTPCNGVEGFNCYFPLQSYGFQPTNGVGYQPYRVVVLSFELLHAPATVCGPKKSTNLVKNKCVNF\"\n",
    "\n",
    "lambda_59 = []\n",
    "\n",
    "for i in range(len(s59)):\n",
    "    if(0<=i<164):\n",
    "        c1 = s59[i]\n",
    "        c2 = s59[i+59]\n",
    "        lambda_59.append(c1+c2)\n",
    "    else:\n",
    "        break\n",
    "print(lambda_59)"
   ]
  },
  {
   "cell_type": "code",
   "execution_count": 128,
   "id": "premium-heritage",
   "metadata": {},
   "outputs": [
    {
     "name": "stdout",
     "output_type": "stream",
     "text": [
      "['RC', 'VY', 'QG', 'PV', 'TS', 'EP', 'ST', 'IK', 'VL', 'RN', 'FD', 'PL', 'NC', 'IF', 'TT', 'NN', 'LV', 'CY', 'PA', 'FD', 'GS', 'EF', 'VV', 'FI', 'NR', 'AG', 'TD', 'RE', 'FV', 'AR', 'SQ', 'VI', 'YA', 'AP', 'WG', 'NQ', 'RT', 'KG', 'RK', 'II', 'SA', 'ND', 'CY', 'VN', 'AY', 'DK', 'YL', 'SP', 'VD', 'LD', 'YF', 'NT', 'SG', 'AC', 'SV', 'FI', 'SA', 'TW', 'FN', 'KS', 'CN', 'YN', 'GL', 'VD', 'SS', 'PK', 'TV', 'KG', 'LG', 'NN', 'DY', 'LN', 'CY', 'FL', 'TY', 'NR', 'VL', 'YF', 'AR', 'DK', 'SS', 'FN', 'VL', 'IK', 'RP', 'GF', 'DE', 'ER', 'VD', 'RI', 'QS', 'IT', 'AE', 'PI', 'GY', 'QQ', 'TA', 'GG', 'KS', 'IT', 'AP', 'DC', 'YN', 'NG', 'YV', 'KE', 'LG', 'PF', 'DN', 'DC', 'FY', 'TF', 'GP', 'CL', 'VQ', 'IS', 'AY', 'WG', 'NF', 'SQ', 'NP', 'NT', 'LN', 'DG', 'SV', 'KG', 'VY', 'GQ', 'GP', 'NY', 'YR', 'NV', 'YV', 'LV', 'YL', 'RS', 'LF', 'FE', 'RL', 'KL', 'SH', 'NA', 'LP', 'KA', 'PT', 'FV', 'EC', 'RG', 'DP', 'IK', 'SK', 'TS', 'ET', 'IN', 'YL', 'QV', 'AK', 'GN', 'SK', 'TC', 'PV', 'CN', 'NF']\n"
     ]
    }
   ],
   "source": [
    "s60 = \"RVQPTESIVRFPNITNLCPFGEVFNATRFASVYAWNRKRISNCVADYSVLYNSASFSTFKCYGVSPTKLNDLCFTNVYADSFVIRGDEVRQIAPGQTGKIADYNYKLPDDFTGCVIAWNSNNLDSKVGGNYNYLYRLFRKSNLKPFERDISTEIYQAGSTPCNGVEGFNCYFPLQSYGFQPTNGVGYQPYRVVVLSFELLHAPATVCGPKKSTNLVKNKCVNF\"\n",
    "\n",
    "lambda_60 = []\n",
    "\n",
    "for i in range(len(s60)):\n",
    "    if(0<=i<163):\n",
    "        c1 = s60[i]\n",
    "        c2 = s60[i+60]\n",
    "        lambda_60.append(c1+c2)\n",
    "    else:\n",
    "        break\n",
    "print(lambda_60)"
   ]
  },
  {
   "cell_type": "code",
   "execution_count": 129,
   "id": "charitable-kidney",
   "metadata": {},
   "outputs": [
    {
     "name": "stdout",
     "output_type": "stream",
     "text": [
      "['RY', 'VG', 'QV', 'PS', 'TP', 'ET', 'SK', 'IL', 'VN', 'RD', 'FL', 'PC', 'NF', 'IT', 'TN', 'NV', 'LY', 'CA', 'PD', 'FS', 'GF', 'EV', 'VI', 'FR', 'NG', 'AD', 'TE', 'RV', 'FR', 'AQ', 'SI', 'VA', 'YP', 'AG', 'WQ', 'NT', 'RG', 'KK', 'RI', 'IA', 'SD', 'NY', 'CN', 'VY', 'AK', 'DL', 'YP', 'SD', 'VD', 'LF', 'YT', 'NG', 'SC', 'AV', 'SI', 'FA', 'SW', 'TN', 'FS', 'KN', 'CN', 'YL', 'GD', 'VS', 'SK', 'PV', 'TG', 'KG', 'LN', 'NY', 'DN', 'LY', 'CL', 'FY', 'TR', 'NL', 'VF', 'YR', 'AK', 'DS', 'SN', 'FL', 'VK', 'IP', 'RF', 'GE', 'DR', 'ED', 'VI', 'RS', 'QT', 'IE', 'AI', 'PY', 'GQ', 'QA', 'TG', 'GS', 'KT', 'IP', 'AC', 'DN', 'YG', 'NV', 'YE', 'KG', 'LF', 'PN', 'DC', 'DY', 'FF', 'TP', 'GL', 'CQ', 'VS', 'IY', 'AG', 'WF', 'NQ', 'SP', 'NT', 'NN', 'LG', 'DV', 'SG', 'KY', 'VQ', 'GP', 'GY', 'NR', 'YV', 'NV', 'YV', 'LL', 'YS', 'RF', 'LE', 'FL', 'RL', 'KH', 'SA', 'NP', 'LA', 'KT', 'PV', 'FC', 'EG', 'RP', 'DK', 'IK', 'SS', 'TT', 'EN', 'IL', 'YV', 'QK', 'AN', 'GK', 'SC', 'TV', 'PN', 'CF']\n"
     ]
    }
   ],
   "source": [
    "s61 = \"RVQPTESIVRFPNITNLCPFGEVFNATRFASVYAWNRKRISNCVADYSVLYNSASFSTFKCYGVSPTKLNDLCFTNVYADSFVIRGDEVRQIAPGQTGKIADYNYKLPDDFTGCVIAWNSNNLDSKVGGNYNYLYRLFRKSNLKPFERDISTEIYQAGSTPCNGVEGFNCYFPLQSYGFQPTNGVGYQPYRVVVLSFELLHAPATVCGPKKSTNLVKNKCVNF\"\n",
    "\n",
    "lambda_61 = []\n",
    "\n",
    "for i in range(len(s61)):\n",
    "    if(0<=i<162):\n",
    "        c1 = s61[i]\n",
    "        c2 = s61[i+61]\n",
    "        lambda_61.append(c1+c2)\n",
    "    else:\n",
    "        break\n",
    "print(lambda_61)"
   ]
  },
  {
   "cell_type": "code",
   "execution_count": 130,
   "id": "entitled-citizen",
   "metadata": {},
   "outputs": [
    {
     "name": "stdout",
     "output_type": "stream",
     "text": [
      "['RG', 'VV', 'QS', 'PP', 'TT', 'EK', 'SL', 'IN', 'VD', 'RL', 'FC', 'PF', 'NT', 'IN', 'TV', 'NY', 'LA', 'CD', 'PS', 'FF', 'GV', 'EI', 'VR', 'FG', 'ND', 'AE', 'TV', 'RR', 'FQ', 'AI', 'SA', 'VP', 'YG', 'AQ', 'WT', 'NG', 'RK', 'KI', 'RA', 'ID', 'SY', 'NN', 'CY', 'VK', 'AL', 'DP', 'YD', 'SD', 'VF', 'LT', 'YG', 'NC', 'SV', 'AI', 'SA', 'FW', 'SN', 'TS', 'FN', 'KN', 'CL', 'YD', 'GS', 'VK', 'SV', 'PG', 'TG', 'KN', 'LY', 'NN', 'DY', 'LL', 'CY', 'FR', 'TL', 'NF', 'VR', 'YK', 'AS', 'DN', 'SL', 'FK', 'VP', 'IF', 'RE', 'GR', 'DD', 'EI', 'VS', 'RT', 'QE', 'II', 'AY', 'PQ', 'GA', 'QG', 'TS', 'GT', 'KP', 'IC', 'AN', 'DG', 'YV', 'NE', 'YG', 'KF', 'LN', 'PC', 'DY', 'DF', 'FP', 'TL', 'GQ', 'CS', 'VY', 'IG', 'AF', 'WQ', 'NP', 'ST', 'NN', 'NG', 'LV', 'DG', 'SY', 'KQ', 'VP', 'GY', 'GR', 'NV', 'YV', 'NV', 'YL', 'LS', 'YF', 'RE', 'LL', 'FL', 'RH', 'KA', 'SP', 'NA', 'LT', 'KV', 'PC', 'FG', 'EP', 'RK', 'DK', 'IS', 'ST', 'TN', 'EL', 'IV', 'YK', 'QN', 'AK', 'GC', 'SV', 'TN', 'PF']\n"
     ]
    }
   ],
   "source": [
    "s62 = \"RVQPTESIVRFPNITNLCPFGEVFNATRFASVYAWNRKRISNCVADYSVLYNSASFSTFKCYGVSPTKLNDLCFTNVYADSFVIRGDEVRQIAPGQTGKIADYNYKLPDDFTGCVIAWNSNNLDSKVGGNYNYLYRLFRKSNLKPFERDISTEIYQAGSTPCNGVEGFNCYFPLQSYGFQPTNGVGYQPYRVVVLSFELLHAPATVCGPKKSTNLVKNKCVNF\"\n",
    "\n",
    "lambda_62 = []\n",
    "\n",
    "for i in range(len(s62)):\n",
    "    if(0<=i<161):\n",
    "        c1 = s62[i]\n",
    "        c2 = s62[i+62]\n",
    "        lambda_62.append(c1+c2)\n",
    "    else:\n",
    "        break\n",
    "print(lambda_62)"
   ]
  },
  {
   "cell_type": "code",
   "execution_count": 131,
   "id": "fleet-institution",
   "metadata": {},
   "outputs": [
    {
     "name": "stdout",
     "output_type": "stream",
     "text": [
      "['RV', 'VS', 'QP', 'PT', 'TK', 'EL', 'SN', 'ID', 'VL', 'RC', 'FF', 'PT', 'NN', 'IV', 'TY', 'NA', 'LD', 'CS', 'PF', 'FV', 'GI', 'ER', 'VG', 'FD', 'NE', 'AV', 'TR', 'RQ', 'FI', 'AA', 'SP', 'VG', 'YQ', 'AT', 'WG', 'NK', 'RI', 'KA', 'RD', 'IY', 'SN', 'NY', 'CK', 'VL', 'AP', 'DD', 'YD', 'SF', 'VT', 'LG', 'YC', 'NV', 'SI', 'AA', 'SW', 'FN', 'SS', 'TN', 'FN', 'KL', 'CD', 'YS', 'GK', 'VV', 'SG', 'PG', 'TN', 'KY', 'LN', 'NY', 'DL', 'LY', 'CR', 'FL', 'TF', 'NR', 'VK', 'YS', 'AN', 'DL', 'SK', 'FP', 'VF', 'IE', 'RR', 'GD', 'DI', 'ES', 'VT', 'RE', 'QI', 'IY', 'AQ', 'PA', 'GG', 'QS', 'TT', 'GP', 'KC', 'IN', 'AG', 'DV', 'YE', 'NG', 'YF', 'KN', 'LC', 'PY', 'DF', 'DP', 'FL', 'TQ', 'GS', 'CY', 'VG', 'IF', 'AQ', 'WP', 'NT', 'SN', 'NG', 'NV', 'LG', 'DY', 'SQ', 'KP', 'VY', 'GR', 'GV', 'NV', 'YV', 'NL', 'YS', 'LF', 'YE', 'RL', 'LL', 'FH', 'RA', 'KP', 'SA', 'NT', 'LV', 'KC', 'PG', 'FP', 'EK', 'RK', 'DS', 'IT', 'SN', 'TL', 'EV', 'IK', 'YN', 'QK', 'AC', 'GV', 'SN', 'TF']\n"
     ]
    }
   ],
   "source": [
    "s63 = \"RVQPTESIVRFPNITNLCPFGEVFNATRFASVYAWNRKRISNCVADYSVLYNSASFSTFKCYGVSPTKLNDLCFTNVYADSFVIRGDEVRQIAPGQTGKIADYNYKLPDDFTGCVIAWNSNNLDSKVGGNYNYLYRLFRKSNLKPFERDISTEIYQAGSTPCNGVEGFNCYFPLQSYGFQPTNGVGYQPYRVVVLSFELLHAPATVCGPKKSTNLVKNKCVNF\"\n",
    "\n",
    "lambda_63 = []\n",
    "\n",
    "for i in range(len(s63)):\n",
    "    if(0<=i<160):\n",
    "        c1 = s63[i]\n",
    "        c2 = s63[i+63]\n",
    "        lambda_63.append(c1+c2)\n",
    "    else:\n",
    "        break\n",
    "print(lambda_63)"
   ]
  },
  {
   "cell_type": "code",
   "execution_count": 132,
   "id": "mighty-crack",
   "metadata": {},
   "outputs": [
    {
     "name": "stdout",
     "output_type": "stream",
     "text": [
      "['RS', 'VP', 'QT', 'PK', 'TL', 'EN', 'SD', 'IL', 'VC', 'RF', 'FT', 'PN', 'NV', 'IY', 'TA', 'ND', 'LS', 'CF', 'PV', 'FI', 'GR', 'EG', 'VD', 'FE', 'NV', 'AR', 'TQ', 'RI', 'FA', 'AP', 'SG', 'VQ', 'YT', 'AG', 'WK', 'NI', 'RA', 'KD', 'RY', 'IN', 'SY', 'NK', 'CL', 'VP', 'AD', 'DD', 'YF', 'ST', 'VG', 'LC', 'YV', 'NI', 'SA', 'AW', 'SN', 'FS', 'SN', 'TN', 'FL', 'KD', 'CS', 'YK', 'GV', 'VG', 'SG', 'PN', 'TY', 'KN', 'LY', 'NL', 'DY', 'LR', 'CL', 'FF', 'TR', 'NK', 'VS', 'YN', 'AL', 'DK', 'SP', 'FF', 'VE', 'IR', 'RD', 'GI', 'DS', 'ET', 'VE', 'RI', 'QY', 'IQ', 'AA', 'PG', 'GS', 'QT', 'TP', 'GC', 'KN', 'IG', 'AV', 'DE', 'YG', 'NF', 'YN', 'KC', 'LY', 'PF', 'DP', 'DL', 'FQ', 'TS', 'GY', 'CG', 'VF', 'IQ', 'AP', 'WT', 'NN', 'SG', 'NV', 'NG', 'LY', 'DQ', 'SP', 'KY', 'VR', 'GV', 'GV', 'NV', 'YL', 'NS', 'YF', 'LE', 'YL', 'RL', 'LH', 'FA', 'RP', 'KA', 'ST', 'NV', 'LC', 'KG', 'PP', 'FK', 'EK', 'RS', 'DT', 'IN', 'SL', 'TV', 'EK', 'IN', 'YK', 'QC', 'AV', 'GN', 'SF']\n"
     ]
    }
   ],
   "source": [
    "s64 = \"RVQPTESIVRFPNITNLCPFGEVFNATRFASVYAWNRKRISNCVADYSVLYNSASFSTFKCYGVSPTKLNDLCFTNVYADSFVIRGDEVRQIAPGQTGKIADYNYKLPDDFTGCVIAWNSNNLDSKVGGNYNYLYRLFRKSNLKPFERDISTEIYQAGSTPCNGVEGFNCYFPLQSYGFQPTNGVGYQPYRVVVLSFELLHAPATVCGPKKSTNLVKNKCVNF\"\n",
    "\n",
    "lambda_64 = []\n",
    "\n",
    "for i in range(len(s64)):\n",
    "    if(0<=i<159):\n",
    "        c1 = s64[i]\n",
    "        c2 = s64[i+64]\n",
    "        lambda_64.append(c1+c2)\n",
    "    else:\n",
    "        break\n",
    "print(lambda_64)"
   ]
  },
  {
   "cell_type": "code",
   "execution_count": 133,
   "id": "abstract-deputy",
   "metadata": {},
   "outputs": [
    {
     "name": "stdout",
     "output_type": "stream",
     "text": [
      "['RP', 'VT', 'QK', 'PL', 'TN', 'ED', 'SL', 'IC', 'VF', 'RT', 'FN', 'PV', 'NY', 'IA', 'TD', 'NS', 'LF', 'CV', 'PI', 'FR', 'GG', 'ED', 'VE', 'FV', 'NR', 'AQ', 'TI', 'RA', 'FP', 'AG', 'SQ', 'VT', 'YG', 'AK', 'WI', 'NA', 'RD', 'KY', 'RN', 'IY', 'SK', 'NL', 'CP', 'VD', 'AD', 'DF', 'YT', 'SG', 'VC', 'LV', 'YI', 'NA', 'SW', 'AN', 'SS', 'FN', 'SN', 'TL', 'FD', 'KS', 'CK', 'YV', 'GG', 'VG', 'SN', 'PY', 'TN', 'KY', 'LL', 'NY', 'DR', 'LL', 'CF', 'FR', 'TK', 'NS', 'VN', 'YL', 'AK', 'DP', 'SF', 'FE', 'VR', 'ID', 'RI', 'GS', 'DT', 'EE', 'VI', 'RY', 'QQ', 'IA', 'AG', 'PS', 'GT', 'QP', 'TC', 'GN', 'KG', 'IV', 'AE', 'DG', 'YF', 'NN', 'YC', 'KY', 'LF', 'PP', 'DL', 'DQ', 'FS', 'TY', 'GG', 'CF', 'VQ', 'IP', 'AT', 'WN', 'NG', 'SV', 'NG', 'NY', 'LQ', 'DP', 'SY', 'KR', 'VV', 'GV', 'GV', 'NL', 'YS', 'NF', 'YE', 'LL', 'YL', 'RH', 'LA', 'FP', 'RA', 'KT', 'SV', 'NC', 'LG', 'KP', 'PK', 'FK', 'ES', 'RT', 'DN', 'IL', 'SV', 'TK', 'EN', 'IK', 'YC', 'QV', 'AN', 'GF']\n"
     ]
    }
   ],
   "source": [
    "s65 = \"RVQPTESIVRFPNITNLCPFGEVFNATRFASVYAWNRKRISNCVADYSVLYNSASFSTFKCYGVSPTKLNDLCFTNVYADSFVIRGDEVRQIAPGQTGKIADYNYKLPDDFTGCVIAWNSNNLDSKVGGNYNYLYRLFRKSNLKPFERDISTEIYQAGSTPCNGVEGFNCYFPLQSYGFQPTNGVGYQPYRVVVLSFELLHAPATVCGPKKSTNLVKNKCVNF\"\n",
    "\n",
    "lambda_65 = []\n",
    "\n",
    "for i in range(len(s65)):\n",
    "    if(0<=i<158):\n",
    "        c1 = s65[i]\n",
    "        c2 = s65[i+65]\n",
    "        lambda_65.append(c1+c2)\n",
    "    else:\n",
    "        break\n",
    "print(lambda_65)"
   ]
  },
  {
   "cell_type": "code",
   "execution_count": 134,
   "id": "former-deputy",
   "metadata": {},
   "outputs": [
    {
     "name": "stdout",
     "output_type": "stream",
     "text": [
      "['RT', 'VK', 'QL', 'PN', 'TD', 'EL', 'SC', 'IF', 'VT', 'RN', 'FV', 'PY', 'NA', 'ID', 'TS', 'NF', 'LV', 'CI', 'PR', 'FG', 'GD', 'EE', 'VV', 'FR', 'NQ', 'AI', 'TA', 'RP', 'FG', 'AQ', 'ST', 'VG', 'YK', 'AI', 'WA', 'ND', 'RY', 'KN', 'RY', 'IK', 'SL', 'NP', 'CD', 'VD', 'AF', 'DT', 'YG', 'SC', 'VV', 'LI', 'YA', 'NW', 'SN', 'AS', 'SN', 'FN', 'SL', 'TD', 'FS', 'KK', 'CV', 'YG', 'GG', 'VN', 'SY', 'PN', 'TY', 'KL', 'LY', 'NR', 'DL', 'LF', 'CR', 'FK', 'TS', 'NN', 'VL', 'YK', 'AP', 'DF', 'SE', 'FR', 'VD', 'II', 'RS', 'GT', 'DE', 'EI', 'VY', 'RQ', 'QA', 'IG', 'AS', 'PT', 'GP', 'QC', 'TN', 'GG', 'KV', 'IE', 'AG', 'DF', 'YN', 'NC', 'YY', 'KF', 'LP', 'PL', 'DQ', 'DS', 'FY', 'TG', 'GF', 'CQ', 'VP', 'IT', 'AN', 'WG', 'NV', 'SG', 'NY', 'NQ', 'LP', 'DY', 'SR', 'KV', 'VV', 'GV', 'GL', 'NS', 'YF', 'NE', 'YL', 'LL', 'YH', 'RA', 'LP', 'FA', 'RT', 'KV', 'SC', 'NG', 'LP', 'KK', 'PK', 'FS', 'ET', 'RN', 'DL', 'IV', 'SK', 'TN', 'EK', 'IC', 'YV', 'QN', 'AF']\n"
     ]
    }
   ],
   "source": [
    "s66 = \"RVQPTESIVRFPNITNLCPFGEVFNATRFASVYAWNRKRISNCVADYSVLYNSASFSTFKCYGVSPTKLNDLCFTNVYADSFVIRGDEVRQIAPGQTGKIADYNYKLPDDFTGCVIAWNSNNLDSKVGGNYNYLYRLFRKSNLKPFERDISTEIYQAGSTPCNGVEGFNCYFPLQSYGFQPTNGVGYQPYRVVVLSFELLHAPATVCGPKKSTNLVKNKCVNF\"\n",
    "\n",
    "lambda_66 = []\n",
    "\n",
    "for i in range(len(s66)):\n",
    "    if(0<=i<157):\n",
    "        c1 = s66[i]\n",
    "        c2 = s66[i+66]\n",
    "        lambda_66.append(c1+c2)\n",
    "    else:\n",
    "        break\n",
    "print(lambda_66)"
   ]
  },
  {
   "cell_type": "code",
   "execution_count": 135,
   "id": "retired-navigator",
   "metadata": {},
   "outputs": [
    {
     "name": "stdout",
     "output_type": "stream",
     "text": [
      "['RK', 'VL', 'QN', 'PD', 'TL', 'EC', 'SF', 'IT', 'VN', 'RV', 'FY', 'PA', 'ND', 'IS', 'TF', 'NV', 'LI', 'CR', 'PG', 'FD', 'GE', 'EV', 'VR', 'FQ', 'NI', 'AA', 'TP', 'RG', 'FQ', 'AT', 'SG', 'VK', 'YI', 'AA', 'WD', 'NY', 'RN', 'KY', 'RK', 'IL', 'SP', 'ND', 'CD', 'VF', 'AT', 'DG', 'YC', 'SV', 'VI', 'LA', 'YW', 'NN', 'SS', 'AN', 'SN', 'FL', 'SD', 'TS', 'FK', 'KV', 'CG', 'YG', 'GN', 'VY', 'SN', 'PY', 'TL', 'KY', 'LR', 'NL', 'DF', 'LR', 'CK', 'FS', 'TN', 'NL', 'VK', 'YP', 'AF', 'DE', 'SR', 'FD', 'VI', 'IS', 'RT', 'GE', 'DI', 'EY', 'VQ', 'RA', 'QG', 'IS', 'AT', 'PP', 'GC', 'QN', 'TG', 'GV', 'KE', 'IG', 'AF', 'DN', 'YC', 'NY', 'YF', 'KP', 'LL', 'PQ', 'DS', 'DY', 'FG', 'TF', 'GQ', 'CP', 'VT', 'IN', 'AG', 'WV', 'NG', 'SY', 'NQ', 'NP', 'LY', 'DR', 'SV', 'KV', 'VV', 'GL', 'GS', 'NF', 'YE', 'NL', 'YL', 'LH', 'YA', 'RP', 'LA', 'FT', 'RV', 'KC', 'SG', 'NP', 'LK', 'KK', 'PS', 'FT', 'EN', 'RL', 'DV', 'IK', 'SN', 'TK', 'EC', 'IV', 'YN', 'QF']\n"
     ]
    }
   ],
   "source": [
    "s67 = \"RVQPTESIVRFPNITNLCPFGEVFNATRFASVYAWNRKRISNCVADYSVLYNSASFSTFKCYGVSPTKLNDLCFTNVYADSFVIRGDEVRQIAPGQTGKIADYNYKLPDDFTGCVIAWNSNNLDSKVGGNYNYLYRLFRKSNLKPFERDISTEIYQAGSTPCNGVEGFNCYFPLQSYGFQPTNGVGYQPYRVVVLSFELLHAPATVCGPKKSTNLVKNKCVNF\"\n",
    "\n",
    "lambda_67 = []\n",
    "\n",
    "for i in range(len(s67)):\n",
    "    if(0<=i<156):\n",
    "        c1 = s67[i]\n",
    "        c2 = s67[i+67]\n",
    "        lambda_67.append(c1+c2)\n",
    "    else:\n",
    "        break\n",
    "print(lambda_67)"
   ]
  },
  {
   "cell_type": "code",
   "execution_count": 136,
   "id": "processed-genius",
   "metadata": {},
   "outputs": [
    {
     "name": "stdout",
     "output_type": "stream",
     "text": [
      "['RL', 'VN', 'QD', 'PL', 'TC', 'EF', 'ST', 'IN', 'VV', 'RY', 'FA', 'PD', 'NS', 'IF', 'TV', 'NI', 'LR', 'CG', 'PD', 'FE', 'GV', 'ER', 'VQ', 'FI', 'NA', 'AP', 'TG', 'RQ', 'FT', 'AG', 'SK', 'VI', 'YA', 'AD', 'WY', 'NN', 'RY', 'KK', 'RL', 'IP', 'SD', 'ND', 'CF', 'VT', 'AG', 'DC', 'YV', 'SI', 'VA', 'LW', 'YN', 'NS', 'SN', 'AN', 'SL', 'FD', 'SS', 'TK', 'FV', 'KG', 'CG', 'YN', 'GY', 'VN', 'SY', 'PL', 'TY', 'KR', 'LL', 'NF', 'DR', 'LK', 'CS', 'FN', 'TL', 'NK', 'VP', 'YF', 'AE', 'DR', 'SD', 'FI', 'VS', 'IT', 'RE', 'GI', 'DY', 'EQ', 'VA', 'RG', 'QS', 'IT', 'AP', 'PC', 'GN', 'QG', 'TV', 'GE', 'KG', 'IF', 'AN', 'DC', 'YY', 'NF', 'YP', 'KL', 'LQ', 'PS', 'DY', 'DG', 'FF', 'TQ', 'GP', 'CT', 'VN', 'IG', 'AV', 'WG', 'NY', 'SQ', 'NP', 'NY', 'LR', 'DV', 'SV', 'KV', 'VL', 'GS', 'GF', 'NE', 'YL', 'NL', 'YH', 'LA', 'YP', 'RA', 'LT', 'FV', 'RC', 'KG', 'SP', 'NK', 'LK', 'KS', 'PT', 'FN', 'EL', 'RV', 'DK', 'IN', 'SK', 'TC', 'EV', 'IN', 'YF']\n"
     ]
    }
   ],
   "source": [
    "s68 = \"RVQPTESIVRFPNITNLCPFGEVFNATRFASVYAWNRKRISNCVADYSVLYNSASFSTFKCYGVSPTKLNDLCFTNVYADSFVIRGDEVRQIAPGQTGKIADYNYKLPDDFTGCVIAWNSNNLDSKVGGNYNYLYRLFRKSNLKPFERDISTEIYQAGSTPCNGVEGFNCYFPLQSYGFQPTNGVGYQPYRVVVLSFELLHAPATVCGPKKSTNLVKNKCVNF\"\n",
    "\n",
    "lambda_68 = []\n",
    "\n",
    "for i in range(len(s68)):\n",
    "    if(0<=i<155):\n",
    "        c1 = s68[i]\n",
    "        c2 = s68[i+68]\n",
    "        lambda_68.append(c1+c2)\n",
    "    else:\n",
    "        break\n",
    "print(lambda_68)"
   ]
  },
  {
   "cell_type": "code",
   "execution_count": 137,
   "id": "raised-virginia",
   "metadata": {},
   "outputs": [
    {
     "name": "stdout",
     "output_type": "stream",
     "text": [
      "['RN', 'VD', 'QL', 'PC', 'TF', 'ET', 'SN', 'IV', 'VY', 'RA', 'FD', 'PS', 'NF', 'IV', 'TI', 'NR', 'LG', 'CD', 'PE', 'FV', 'GR', 'EQ', 'VI', 'FA', 'NP', 'AG', 'TQ', 'RT', 'FG', 'AK', 'SI', 'VA', 'YD', 'AY', 'WN', 'NY', 'RK', 'KL', 'RP', 'ID', 'SD', 'NF', 'CT', 'VG', 'AC', 'DV', 'YI', 'SA', 'VW', 'LN', 'YS', 'NN', 'SN', 'AL', 'SD', 'FS', 'SK', 'TV', 'FG', 'KG', 'CN', 'YY', 'GN', 'VY', 'SL', 'PY', 'TR', 'KL', 'LF', 'NR', 'DK', 'LS', 'CN', 'FL', 'TK', 'NP', 'VF', 'YE', 'AR', 'DD', 'SI', 'FS', 'VT', 'IE', 'RI', 'GY', 'DQ', 'EA', 'VG', 'RS', 'QT', 'IP', 'AC', 'PN', 'GG', 'QV', 'TE', 'GG', 'KF', 'IN', 'AC', 'DY', 'YF', 'NP', 'YL', 'KQ', 'LS', 'PY', 'DG', 'DF', 'FQ', 'TP', 'GT', 'CN', 'VG', 'IV', 'AG', 'WY', 'NQ', 'SP', 'NY', 'NR', 'LV', 'DV', 'SV', 'KL', 'VS', 'GF', 'GE', 'NL', 'YL', 'NH', 'YA', 'LP', 'YA', 'RT', 'LV', 'FC', 'RG', 'KP', 'SK', 'NK', 'LS', 'KT', 'PN', 'FL', 'EV', 'RK', 'DN', 'IK', 'SC', 'TV', 'EN', 'IF']\n"
     ]
    }
   ],
   "source": [
    "s69 = \"RVQPTESIVRFPNITNLCPFGEVFNATRFASVYAWNRKRISNCVADYSVLYNSASFSTFKCYGVSPTKLNDLCFTNVYADSFVIRGDEVRQIAPGQTGKIADYNYKLPDDFTGCVIAWNSNNLDSKVGGNYNYLYRLFRKSNLKPFERDISTEIYQAGSTPCNGVEGFNCYFPLQSYGFQPTNGVGYQPYRVVVLSFELLHAPATVCGPKKSTNLVKNKCVNF\"\n",
    "\n",
    "lambda_69 = []\n",
    "\n",
    "for i in range(len(s69)):\n",
    "    if(0<=i<154):\n",
    "        c1 = s69[i]\n",
    "        c2 = s69[i+69]\n",
    "        lambda_69.append(c1+c2)\n",
    "    else:\n",
    "        break\n",
    "print(lambda_69)"
   ]
  },
  {
   "cell_type": "code",
   "execution_count": 138,
   "id": "automated-analysis",
   "metadata": {},
   "outputs": [
    {
     "name": "stdout",
     "output_type": "stream",
     "text": [
      "['RD', 'VL', 'QC', 'PF', 'TT', 'EN', 'SV', 'IY', 'VA', 'RD', 'FS', 'PF', 'NV', 'II', 'TR', 'NG', 'LD', 'CE', 'PV', 'FR', 'GQ', 'EI', 'VA', 'FP', 'NG', 'AQ', 'TT', 'RG', 'FK', 'AI', 'SA', 'VD', 'YY', 'AN', 'WY', 'NK', 'RL', 'KP', 'RD', 'ID', 'SF', 'NT', 'CG', 'VC', 'AV', 'DI', 'YA', 'SW', 'VN', 'LS', 'YN', 'NN', 'SL', 'AD', 'SS', 'FK', 'SV', 'TG', 'FG', 'KN', 'CY', 'YN', 'GY', 'VL', 'SY', 'PR', 'TL', 'KF', 'LR', 'NK', 'DS', 'LN', 'CL', 'FK', 'TP', 'NF', 'VE', 'YR', 'AD', 'DI', 'SS', 'FT', 'VE', 'II', 'RY', 'GQ', 'DA', 'EG', 'VS', 'RT', 'QP', 'IC', 'AN', 'PG', 'GV', 'QE', 'TG', 'GF', 'KN', 'IC', 'AY', 'DF', 'YP', 'NL', 'YQ', 'KS', 'LY', 'PG', 'DF', 'DQ', 'FP', 'TT', 'GN', 'CG', 'VV', 'IG', 'AY', 'WQ', 'NP', 'SY', 'NR', 'NV', 'LV', 'DV', 'SL', 'KS', 'VF', 'GE', 'GL', 'NL', 'YH', 'NA', 'YP', 'LA', 'YT', 'RV', 'LC', 'FG', 'RP', 'KK', 'SK', 'NS', 'LT', 'KN', 'PL', 'FV', 'EK', 'RN', 'DK', 'IC', 'SV', 'TN', 'EF']\n"
     ]
    }
   ],
   "source": [
    "s70 = \"RVQPTESIVRFPNITNLCPFGEVFNATRFASVYAWNRKRISNCVADYSVLYNSASFSTFKCYGVSPTKLNDLCFTNVYADSFVIRGDEVRQIAPGQTGKIADYNYKLPDDFTGCVIAWNSNNLDSKVGGNYNYLYRLFRKSNLKPFERDISTEIYQAGSTPCNGVEGFNCYFPLQSYGFQPTNGVGYQPYRVVVLSFELLHAPATVCGPKKSTNLVKNKCVNF\"\n",
    "\n",
    "lambda_70 = []\n",
    "\n",
    "for i in range(len(s70)):\n",
    "    if(0<=i<153):\n",
    "        c1 = s70[i]\n",
    "        c2 = s70[i+70]\n",
    "        lambda_70.append(c1+c2)\n",
    "    else:\n",
    "        break\n",
    "print(lambda_70)"
   ]
  },
  {
   "cell_type": "code",
   "execution_count": 139,
   "id": "nervous-specification",
   "metadata": {},
   "outputs": [
    {
     "name": "stdout",
     "output_type": "stream",
     "text": [
      "['RL', 'VC', 'QF', 'PT', 'TN', 'EV', 'SY', 'IA', 'VD', 'RS', 'FF', 'PV', 'NI', 'IR', 'TG', 'ND', 'LE', 'CV', 'PR', 'FQ', 'GI', 'EA', 'VP', 'FG', 'NQ', 'AT', 'TG', 'RK', 'FI', 'AA', 'SD', 'VY', 'YN', 'AY', 'WK', 'NL', 'RP', 'KD', 'RD', 'IF', 'ST', 'NG', 'CC', 'VV', 'AI', 'DA', 'YW', 'SN', 'VS', 'LN', 'YN', 'NL', 'SD', 'AS', 'SK', 'FV', 'SG', 'TG', 'FN', 'KY', 'CN', 'YY', 'GL', 'VY', 'SR', 'PL', 'TF', 'KR', 'LK', 'NS', 'DN', 'LL', 'CK', 'FP', 'TF', 'NE', 'VR', 'YD', 'AI', 'DS', 'ST', 'FE', 'VI', 'IY', 'RQ', 'GA', 'DG', 'ES', 'VT', 'RP', 'QC', 'IN', 'AG', 'PV', 'GE', 'QG', 'TF', 'GN', 'KC', 'IY', 'AF', 'DP', 'YL', 'NQ', 'YS', 'KY', 'LG', 'PF', 'DQ', 'DP', 'FT', 'TN', 'GG', 'CV', 'VG', 'IY', 'AQ', 'WP', 'NY', 'SR', 'NV', 'NV', 'LV', 'DL', 'SS', 'KF', 'VE', 'GL', 'GL', 'NH', 'YA', 'NP', 'YA', 'LT', 'YV', 'RC', 'LG', 'FP', 'RK', 'KK', 'SS', 'NT', 'LN', 'KL', 'PV', 'FK', 'EN', 'RK', 'DC', 'IV', 'SN', 'TF']\n"
     ]
    }
   ],
   "source": [
    "s71 = \"RVQPTESIVRFPNITNLCPFGEVFNATRFASVYAWNRKRISNCVADYSVLYNSASFSTFKCYGVSPTKLNDLCFTNVYADSFVIRGDEVRQIAPGQTGKIADYNYKLPDDFTGCVIAWNSNNLDSKVGGNYNYLYRLFRKSNLKPFERDISTEIYQAGSTPCNGVEGFNCYFPLQSYGFQPTNGVGYQPYRVVVLSFELLHAPATVCGPKKSTNLVKNKCVNF\"\n",
    "\n",
    "lambda_71 = []\n",
    "\n",
    "for i in range(len(s71)):\n",
    "    if(0<=i<152):\n",
    "        c1 = s71[i]\n",
    "        c2 = s71[i+71]\n",
    "        lambda_71.append(c1+c2)\n",
    "    else:\n",
    "        break\n",
    "print(lambda_71)"
   ]
  },
  {
   "cell_type": "code",
   "execution_count": 140,
   "id": "demonstrated-seeking",
   "metadata": {},
   "outputs": [
    {
     "name": "stdout",
     "output_type": "stream",
     "text": [
      "['RC', 'VF', 'QT', 'PN', 'TV', 'EY', 'SA', 'ID', 'VS', 'RF', 'FV', 'PI', 'NR', 'IG', 'TD', 'NE', 'LV', 'CR', 'PQ', 'FI', 'GA', 'EP', 'VG', 'FQ', 'NT', 'AG', 'TK', 'RI', 'FA', 'AD', 'SY', 'VN', 'YY', 'AK', 'WL', 'NP', 'RD', 'KD', 'RF', 'IT', 'SG', 'NC', 'CV', 'VI', 'AA', 'DW', 'YN', 'SS', 'VN', 'LN', 'YL', 'ND', 'SS', 'AK', 'SV', 'FG', 'SG', 'TN', 'FY', 'KN', 'CY', 'YL', 'GY', 'VR', 'SL', 'PF', 'TR', 'KK', 'LS', 'NN', 'DL', 'LK', 'CP', 'FF', 'TE', 'NR', 'VD', 'YI', 'AS', 'DT', 'SE', 'FI', 'VY', 'IQ', 'RA', 'GG', 'DS', 'ET', 'VP', 'RC', 'QN', 'IG', 'AV', 'PE', 'GG', 'QF', 'TN', 'GC', 'KY', 'IF', 'AP', 'DL', 'YQ', 'NS', 'YY', 'KG', 'LF', 'PQ', 'DP', 'DT', 'FN', 'TG', 'GV', 'CG', 'VY', 'IQ', 'AP', 'WY', 'NR', 'SV', 'NV', 'NV', 'LL', 'DS', 'SF', 'KE', 'VL', 'GL', 'GH', 'NA', 'YP', 'NA', 'YT', 'LV', 'YC', 'RG', 'LP', 'FK', 'RK', 'KS', 'ST', 'NN', 'LL', 'KV', 'PK', 'FN', 'EK', 'RC', 'DV', 'IN', 'SF']\n"
     ]
    }
   ],
   "source": [
    "s72 = \"RVQPTESIVRFPNITNLCPFGEVFNATRFASVYAWNRKRISNCVADYSVLYNSASFSTFKCYGVSPTKLNDLCFTNVYADSFVIRGDEVRQIAPGQTGKIADYNYKLPDDFTGCVIAWNSNNLDSKVGGNYNYLYRLFRKSNLKPFERDISTEIYQAGSTPCNGVEGFNCYFPLQSYGFQPTNGVGYQPYRVVVLSFELLHAPATVCGPKKSTNLVKNKCVNF\"\n",
    "\n",
    "lambda_72 = []\n",
    "\n",
    "for i in range(len(s72)):\n",
    "    if(0<=i<151):\n",
    "        c1 = s72[i]\n",
    "        c2 = s72[i+72]\n",
    "        lambda_72.append(c1+c2)\n",
    "    else:\n",
    "        break\n",
    "print(lambda_72)"
   ]
  },
  {
   "cell_type": "code",
   "execution_count": 141,
   "id": "intense-compensation",
   "metadata": {},
   "outputs": [
    {
     "name": "stdout",
     "output_type": "stream",
     "text": [
      "['RF', 'VT', 'QN', 'PV', 'TY', 'EA', 'SD', 'IS', 'VF', 'RV', 'FI', 'PR', 'NG', 'ID', 'TE', 'NV', 'LR', 'CQ', 'PI', 'FA', 'GP', 'EG', 'VQ', 'FT', 'NG', 'AK', 'TI', 'RA', 'FD', 'AY', 'SN', 'VY', 'YK', 'AL', 'WP', 'ND', 'RD', 'KF', 'RT', 'IG', 'SC', 'NV', 'CI', 'VA', 'AW', 'DN', 'YS', 'SN', 'VN', 'LL', 'YD', 'NS', 'SK', 'AV', 'SG', 'FG', 'SN', 'TY', 'FN', 'KY', 'CL', 'YY', 'GR', 'VL', 'SF', 'PR', 'TK', 'KS', 'LN', 'NL', 'DK', 'LP', 'CF', 'FE', 'TR', 'ND', 'VI', 'YS', 'AT', 'DE', 'SI', 'FY', 'VQ', 'IA', 'RG', 'GS', 'DT', 'EP', 'VC', 'RN', 'QG', 'IV', 'AE', 'PG', 'GF', 'QN', 'TC', 'GY', 'KF', 'IP', 'AL', 'DQ', 'YS', 'NY', 'YG', 'KF', 'LQ', 'PP', 'DT', 'DN', 'FG', 'TV', 'GG', 'CY', 'VQ', 'IP', 'AY', 'WR', 'NV', 'SV', 'NV', 'NL', 'LS', 'DF', 'SE', 'KL', 'VL', 'GH', 'GA', 'NP', 'YA', 'NT', 'YV', 'LC', 'YG', 'RP', 'LK', 'FK', 'RS', 'KT', 'SN', 'NL', 'LV', 'KK', 'PN', 'FK', 'EC', 'RV', 'DN', 'IF']\n"
     ]
    }
   ],
   "source": [
    "s73 = \"RVQPTESIVRFPNITNLCPFGEVFNATRFASVYAWNRKRISNCVADYSVLYNSASFSTFKCYGVSPTKLNDLCFTNVYADSFVIRGDEVRQIAPGQTGKIADYNYKLPDDFTGCVIAWNSNNLDSKVGGNYNYLYRLFRKSNLKPFERDISTEIYQAGSTPCNGVEGFNCYFPLQSYGFQPTNGVGYQPYRVVVLSFELLHAPATVCGPKKSTNLVKNKCVNF\"\n",
    "\n",
    "lambda_73 = []\n",
    "\n",
    "for i in range(len(s73)):\n",
    "    if(0<=i<150):\n",
    "        c1 = s73[i]\n",
    "        c2 = s73[i+73]\n",
    "        lambda_73.append(c1+c2)\n",
    "    else:\n",
    "        break\n",
    "print(lambda_73)"
   ]
  },
  {
   "cell_type": "code",
   "execution_count": 142,
   "id": "british-nutrition",
   "metadata": {},
   "outputs": [
    {
     "name": "stdout",
     "output_type": "stream",
     "text": [
      "['RT', 'VN', 'QV', 'PY', 'TA', 'ED', 'SS', 'IF', 'VV', 'RI', 'FR', 'PG', 'ND', 'IE', 'TV', 'NR', 'LQ', 'CI', 'PA', 'FP', 'GG', 'EQ', 'VT', 'FG', 'NK', 'AI', 'TA', 'RD', 'FY', 'AN', 'SY', 'VK', 'YL', 'AP', 'WD', 'ND', 'RF', 'KT', 'RG', 'IC', 'SV', 'NI', 'CA', 'VW', 'AN', 'DS', 'YN', 'SN', 'VL', 'LD', 'YS', 'NK', 'SV', 'AG', 'SG', 'FN', 'SY', 'TN', 'FY', 'KL', 'CY', 'YR', 'GL', 'VF', 'SR', 'PK', 'TS', 'KN', 'LL', 'NK', 'DP', 'LF', 'CE', 'FR', 'TD', 'NI', 'VS', 'YT', 'AE', 'DI', 'SY', 'FQ', 'VA', 'IG', 'RS', 'GT', 'DP', 'EC', 'VN', 'RG', 'QV', 'IE', 'AG', 'PF', 'GN', 'QC', 'TY', 'GF', 'KP', 'IL', 'AQ', 'DS', 'YY', 'NG', 'YF', 'KQ', 'LP', 'PT', 'DN', 'DG', 'FV', 'TG', 'GY', 'CQ', 'VP', 'IY', 'AR', 'WV', 'NV', 'SV', 'NL', 'NS', 'LF', 'DE', 'SL', 'KL', 'VH', 'GA', 'GP', 'NA', 'YT', 'NV', 'YC', 'LG', 'YP', 'RK', 'LK', 'FS', 'RT', 'KN', 'SL', 'NV', 'LK', 'KN', 'PK', 'FC', 'EV', 'RN', 'DF']\n"
     ]
    }
   ],
   "source": [
    "s74 = \"RVQPTESIVRFPNITNLCPFGEVFNATRFASVYAWNRKRISNCVADYSVLYNSASFSTFKCYGVSPTKLNDLCFTNVYADSFVIRGDEVRQIAPGQTGKIADYNYKLPDDFTGCVIAWNSNNLDSKVGGNYNYLYRLFRKSNLKPFERDISTEIYQAGSTPCNGVEGFNCYFPLQSYGFQPTNGVGYQPYRVVVLSFELLHAPATVCGPKKSTNLVKNKCVNF\"\n",
    "\n",
    "lambda_74 = []\n",
    "\n",
    "for i in range(len(s74)):\n",
    "    if(0<=i<149):\n",
    "        c1 = s74[i]\n",
    "        c2 = s74[i+74]\n",
    "        lambda_74.append(c1+c2)\n",
    "    else:\n",
    "        break\n",
    "print(lambda_74)"
   ]
  },
  {
   "cell_type": "code",
   "execution_count": 143,
   "id": "permanent-bacon",
   "metadata": {},
   "outputs": [
    {
     "name": "stdout",
     "output_type": "stream",
     "text": [
      "['RN', 'VV', 'QY', 'PA', 'TD', 'ES', 'SF', 'IV', 'VI', 'RR', 'FG', 'PD', 'NE', 'IV', 'TR', 'NQ', 'LI', 'CA', 'PP', 'FG', 'GQ', 'ET', 'VG', 'FK', 'NI', 'AA', 'TD', 'RY', 'FN', 'AY', 'SK', 'VL', 'YP', 'AD', 'WD', 'NF', 'RT', 'KG', 'RC', 'IV', 'SI', 'NA', 'CW', 'VN', 'AS', 'DN', 'YN', 'SL', 'VD', 'LS', 'YK', 'NV', 'SG', 'AG', 'SN', 'FY', 'SN', 'TY', 'FL', 'KY', 'CR', 'YL', 'GF', 'VR', 'SK', 'PS', 'TN', 'KL', 'LK', 'NP', 'DF', 'LE', 'CR', 'FD', 'TI', 'NS', 'VT', 'YE', 'AI', 'DY', 'SQ', 'FA', 'VG', 'IS', 'RT', 'GP', 'DC', 'EN', 'VG', 'RV', 'QE', 'IG', 'AF', 'PN', 'GC', 'QY', 'TF', 'GP', 'KL', 'IQ', 'AS', 'DY', 'YG', 'NF', 'YQ', 'KP', 'LT', 'PN', 'DG', 'DV', 'FG', 'TY', 'GQ', 'CP', 'VY', 'IR', 'AV', 'WV', 'NV', 'SL', 'NS', 'NF', 'LE', 'DL', 'SL', 'KH', 'VA', 'GP', 'GA', 'NT', 'YV', 'NC', 'YG', 'LP', 'YK', 'RK', 'LS', 'FT', 'RN', 'KL', 'SV', 'NK', 'LN', 'KK', 'PC', 'FV', 'EN', 'RF']\n"
     ]
    }
   ],
   "source": [
    "s75 = \"RVQPTESIVRFPNITNLCPFGEVFNATRFASVYAWNRKRISNCVADYSVLYNSASFSTFKCYGVSPTKLNDLCFTNVYADSFVIRGDEVRQIAPGQTGKIADYNYKLPDDFTGCVIAWNSNNLDSKVGGNYNYLYRLFRKSNLKPFERDISTEIYQAGSTPCNGVEGFNCYFPLQSYGFQPTNGVGYQPYRVVVLSFELLHAPATVCGPKKSTNLVKNKCVNF\"\n",
    "\n",
    "lambda_75 = []\n",
    "\n",
    "for i in range(len(s75)):\n",
    "    if(0<=i<148):\n",
    "        c1 = s75[i]\n",
    "        c2 = s75[i+75]\n",
    "        lambda_75.append(c1+c2)\n",
    "    else:\n",
    "        break\n",
    "print(lambda_75)"
   ]
  },
  {
   "cell_type": "code",
   "execution_count": 144,
   "id": "republican-allah",
   "metadata": {},
   "outputs": [
    {
     "name": "stdout",
     "output_type": "stream",
     "text": [
      "['RV', 'VY', 'QA', 'PD', 'TS', 'EF', 'SV', 'II', 'VR', 'RG', 'FD', 'PE', 'NV', 'IR', 'TQ', 'NI', 'LA', 'CP', 'PG', 'FQ', 'GT', 'EG', 'VK', 'FI', 'NA', 'AD', 'TY', 'RN', 'FY', 'AK', 'SL', 'VP', 'YD', 'AD', 'WF', 'NT', 'RG', 'KC', 'RV', 'II', 'SA', 'NW', 'CN', 'VS', 'AN', 'DN', 'YL', 'SD', 'VS', 'LK', 'YV', 'NG', 'SG', 'AN', 'SY', 'FN', 'SY', 'TL', 'FY', 'KR', 'CL', 'YF', 'GR', 'VK', 'SS', 'PN', 'TL', 'KK', 'LP', 'NF', 'DE', 'LR', 'CD', 'FI', 'TS', 'NT', 'VE', 'YI', 'AY', 'DQ', 'SA', 'FG', 'VS', 'IT', 'RP', 'GC', 'DN', 'EG', 'VV', 'RE', 'QG', 'IF', 'AN', 'PC', 'GY', 'QF', 'TP', 'GL', 'KQ', 'IS', 'AY', 'DG', 'YF', 'NQ', 'YP', 'KT', 'LN', 'PG', 'DV', 'DG', 'FY', 'TQ', 'GP', 'CY', 'VR', 'IV', 'AV', 'WV', 'NL', 'SS', 'NF', 'NE', 'LL', 'DL', 'SH', 'KA', 'VP', 'GA', 'GT', 'NV', 'YC', 'NG', 'YP', 'LK', 'YK', 'RS', 'LT', 'FN', 'RL', 'KV', 'SK', 'NN', 'LK', 'KC', 'PV', 'FN', 'EF']\n"
     ]
    }
   ],
   "source": [
    "s76 = \"RVQPTESIVRFPNITNLCPFGEVFNATRFASVYAWNRKRISNCVADYSVLYNSASFSTFKCYGVSPTKLNDLCFTNVYADSFVIRGDEVRQIAPGQTGKIADYNYKLPDDFTGCVIAWNSNNLDSKVGGNYNYLYRLFRKSNLKPFERDISTEIYQAGSTPCNGVEGFNCYFPLQSYGFQPTNGVGYQPYRVVVLSFELLHAPATVCGPKKSTNLVKNKCVNF\"\n",
    "\n",
    "lambda_76 = []\n",
    "\n",
    "for i in range(len(s76)):\n",
    "    if(0<=i<147):\n",
    "        c1 = s76[i]\n",
    "        c2 = s76[i+76]\n",
    "        lambda_76.append(c1+c2)\n",
    "    else:\n",
    "        break\n",
    "print(lambda_76)"
   ]
  },
  {
   "cell_type": "code",
   "execution_count": 145,
   "id": "generic-trust",
   "metadata": {},
   "outputs": [
    {
     "name": "stdout",
     "output_type": "stream",
     "text": [
      "['RY', 'VA', 'QD', 'PS', 'TF', 'EV', 'SI', 'IR', 'VG', 'RD', 'FE', 'PV', 'NR', 'IQ', 'TI', 'NA', 'LP', 'CG', 'PQ', 'FT', 'GG', 'EK', 'VI', 'FA', 'ND', 'AY', 'TN', 'RY', 'FK', 'AL', 'SP', 'VD', 'YD', 'AF', 'WT', 'NG', 'RC', 'KV', 'RI', 'IA', 'SW', 'NN', 'CS', 'VN', 'AN', 'DL', 'YD', 'SS', 'VK', 'LV', 'YG', 'NG', 'SN', 'AY', 'SN', 'FY', 'SL', 'TY', 'FR', 'KL', 'CF', 'YR', 'GK', 'VS', 'SN', 'PL', 'TK', 'KP', 'LF', 'NE', 'DR', 'LD', 'CI', 'FS', 'TT', 'NE', 'VI', 'YY', 'AQ', 'DA', 'SG', 'FS', 'VT', 'IP', 'RC', 'GN', 'DG', 'EV', 'VE', 'RG', 'QF', 'IN', 'AC', 'PY', 'GF', 'QP', 'TL', 'GQ', 'KS', 'IY', 'AG', 'DF', 'YQ', 'NP', 'YT', 'KN', 'LG', 'PV', 'DG', 'DY', 'FQ', 'TP', 'GY', 'CR', 'VV', 'IV', 'AV', 'WL', 'NS', 'SF', 'NE', 'NL', 'LL', 'DH', 'SA', 'KP', 'VA', 'GT', 'GV', 'NC', 'YG', 'NP', 'YK', 'LK', 'YS', 'RT', 'LN', 'FL', 'RV', 'KK', 'SN', 'NK', 'LC', 'KV', 'PN', 'FF']\n"
     ]
    }
   ],
   "source": [
    "s77 = \"RVQPTESIVRFPNITNLCPFGEVFNATRFASVYAWNRKRISNCVADYSVLYNSASFSTFKCYGVSPTKLNDLCFTNVYADSFVIRGDEVRQIAPGQTGKIADYNYKLPDDFTGCVIAWNSNNLDSKVGGNYNYLYRLFRKSNLKPFERDISTEIYQAGSTPCNGVEGFNCYFPLQSYGFQPTNGVGYQPYRVVVLSFELLHAPATVCGPKKSTNLVKNKCVNF\"\n",
    "\n",
    "lambda_77 = []\n",
    "\n",
    "for i in range(len(s77)):\n",
    "    if(0<=i<146):\n",
    "        c1 = s77[i]\n",
    "        c2 = s77[i+77]\n",
    "        lambda_77.append(c1+c2)\n",
    "    else:\n",
    "        break\n",
    "print(lambda_77)"
   ]
  },
  {
   "cell_type": "code",
   "execution_count": 146,
   "id": "solid-marker",
   "metadata": {},
   "outputs": [
    {
     "name": "stdout",
     "output_type": "stream",
     "text": [
      "['RA', 'VD', 'QS', 'PF', 'TV', 'EI', 'SR', 'IG', 'VD', 'RE', 'FV', 'PR', 'NQ', 'II', 'TA', 'NP', 'LG', 'CQ', 'PT', 'FG', 'GK', 'EI', 'VA', 'FD', 'NY', 'AN', 'TY', 'RK', 'FL', 'AP', 'SD', 'VD', 'YF', 'AT', 'WG', 'NC', 'RV', 'KI', 'RA', 'IW', 'SN', 'NS', 'CN', 'VN', 'AL', 'DD', 'YS', 'SK', 'VV', 'LG', 'YG', 'NN', 'SY', 'AN', 'SY', 'FL', 'SY', 'TR', 'FL', 'KF', 'CR', 'YK', 'GS', 'VN', 'SL', 'PK', 'TP', 'KF', 'LE', 'NR', 'DD', 'LI', 'CS', 'FT', 'TE', 'NI', 'VY', 'YQ', 'AA', 'DG', 'SS', 'FT', 'VP', 'IC', 'RN', 'GG', 'DV', 'EE', 'VG', 'RF', 'QN', 'IC', 'AY', 'PF', 'GP', 'QL', 'TQ', 'GS', 'KY', 'IG', 'AF', 'DQ', 'YP', 'NT', 'YN', 'KG', 'LV', 'PG', 'DY', 'DQ', 'FP', 'TY', 'GR', 'CV', 'VV', 'IV', 'AL', 'WS', 'NF', 'SE', 'NL', 'NL', 'LH', 'DA', 'SP', 'KA', 'VT', 'GV', 'GC', 'NG', 'YP', 'NK', 'YK', 'LS', 'YT', 'RN', 'LL', 'FV', 'RK', 'KN', 'SK', 'NC', 'LV', 'KN', 'PF']\n"
     ]
    }
   ],
   "source": [
    "s78 = \"RVQPTESIVRFPNITNLCPFGEVFNATRFASVYAWNRKRISNCVADYSVLYNSASFSTFKCYGVSPTKLNDLCFTNVYADSFVIRGDEVRQIAPGQTGKIADYNYKLPDDFTGCVIAWNSNNLDSKVGGNYNYLYRLFRKSNLKPFERDISTEIYQAGSTPCNGVEGFNCYFPLQSYGFQPTNGVGYQPYRVVVLSFELLHAPATVCGPKKSTNLVKNKCVNF\"\n",
    "\n",
    "lambda_78 = []\n",
    "\n",
    "for i in range(len(s78)):\n",
    "    if(0<=i<145):\n",
    "        c1 = s78[i]\n",
    "        c2 = s78[i+78]\n",
    "        lambda_78.append(c1+c2)\n",
    "    else:\n",
    "        break\n",
    "print(lambda_78)"
   ]
  },
  {
   "cell_type": "code",
   "execution_count": 147,
   "id": "powered-introduction",
   "metadata": {},
   "outputs": [
    {
     "name": "stdout",
     "output_type": "stream",
     "text": [
      "['RD', 'VS', 'QF', 'PV', 'TI', 'ER', 'SG', 'ID', 'VE', 'RV', 'FR', 'PQ', 'NI', 'IA', 'TP', 'NG', 'LQ', 'CT', 'PG', 'FK', 'GI', 'EA', 'VD', 'FY', 'NN', 'AY', 'TK', 'RL', 'FP', 'AD', 'SD', 'VF', 'YT', 'AG', 'WC', 'NV', 'RI', 'KA', 'RW', 'IN', 'SS', 'NN', 'CN', 'VL', 'AD', 'DS', 'YK', 'SV', 'VG', 'LG', 'YN', 'NY', 'SN', 'AY', 'SL', 'FY', 'SR', 'TL', 'FF', 'KR', 'CK', 'YS', 'GN', 'VL', 'SK', 'PP', 'TF', 'KE', 'LR', 'ND', 'DI', 'LS', 'CT', 'FE', 'TI', 'NY', 'VQ', 'YA', 'AG', 'DS', 'ST', 'FP', 'VC', 'IN', 'RG', 'GV', 'DE', 'EG', 'VF', 'RN', 'QC', 'IY', 'AF', 'PP', 'GL', 'QQ', 'TS', 'GY', 'KG', 'IF', 'AQ', 'DP', 'YT', 'NN', 'YG', 'KV', 'LG', 'PY', 'DQ', 'DP', 'FY', 'TR', 'GV', 'CV', 'VV', 'IL', 'AS', 'WF', 'NE', 'SL', 'NL', 'NH', 'LA', 'DP', 'SA', 'KT', 'VV', 'GC', 'GG', 'NP', 'YK', 'NK', 'YS', 'LT', 'YN', 'RL', 'LV', 'FK', 'RN', 'KK', 'SC', 'NV', 'LN', 'KF']\n"
     ]
    }
   ],
   "source": [
    "s79 = \"RVQPTESIVRFPNITNLCPFGEVFNATRFASVYAWNRKRISNCVADYSVLYNSASFSTFKCYGVSPTKLNDLCFTNVYADSFVIRGDEVRQIAPGQTGKIADYNYKLPDDFTGCVIAWNSNNLDSKVGGNYNYLYRLFRKSNLKPFERDISTEIYQAGSTPCNGVEGFNCYFPLQSYGFQPTNGVGYQPYRVVVLSFELLHAPATVCGPKKSTNLVKNKCVNF\"\n",
    "\n",
    "lambda_79 = []\n",
    "\n",
    "for i in range(len(s79)):\n",
    "    if(0<=i<144):\n",
    "        c1 = s79[i]\n",
    "        c2 = s79[i+79]\n",
    "        lambda_79.append(c1+c2)\n",
    "    else:\n",
    "        break\n",
    "print(lambda_79)"
   ]
  },
  {
   "cell_type": "code",
   "execution_count": 148,
   "id": "commercial-testing",
   "metadata": {},
   "outputs": [
    {
     "name": "stdout",
     "output_type": "stream",
     "text": [
      "['RS', 'VF', 'QV', 'PI', 'TR', 'EG', 'SD', 'IE', 'VV', 'RR', 'FQ', 'PI', 'NA', 'IP', 'TG', 'NQ', 'LT', 'CG', 'PK', 'FI', 'GA', 'ED', 'VY', 'FN', 'NY', 'AK', 'TL', 'RP', 'FD', 'AD', 'SF', 'VT', 'YG', 'AC', 'WV', 'NI', 'RA', 'KW', 'RN', 'IS', 'SN', 'NN', 'CL', 'VD', 'AS', 'DK', 'YV', 'SG', 'VG', 'LN', 'YY', 'NN', 'SY', 'AL', 'SY', 'FR', 'SL', 'TF', 'FR', 'KK', 'CS', 'YN', 'GL', 'VK', 'SP', 'PF', 'TE', 'KR', 'LD', 'NI', 'DS', 'LT', 'CE', 'FI', 'TY', 'NQ', 'VA', 'YG', 'AS', 'DT', 'SP', 'FC', 'VN', 'IG', 'RV', 'GE', 'DG', 'EF', 'VN', 'RC', 'QY', 'IF', 'AP', 'PL', 'GQ', 'QS', 'TY', 'GG', 'KF', 'IQ', 'AP', 'DT', 'YN', 'NG', 'YV', 'KG', 'LY', 'PQ', 'DP', 'DY', 'FR', 'TV', 'GV', 'CV', 'VL', 'IS', 'AF', 'WE', 'NL', 'SL', 'NH', 'NA', 'LP', 'DA', 'ST', 'KV', 'VC', 'GG', 'GP', 'NK', 'YK', 'NS', 'YT', 'LN', 'YL', 'RV', 'LK', 'FN', 'RK', 'KC', 'SV', 'NN', 'LF']\n"
     ]
    }
   ],
   "source": [
    "s80 = \"RVQPTESIVRFPNITNLCPFGEVFNATRFASVYAWNRKRISNCVADYSVLYNSASFSTFKCYGVSPTKLNDLCFTNVYADSFVIRGDEVRQIAPGQTGKIADYNYKLPDDFTGCVIAWNSNNLDSKVGGNYNYLYRLFRKSNLKPFERDISTEIYQAGSTPCNGVEGFNCYFPLQSYGFQPTNGVGYQPYRVVVLSFELLHAPATVCGPKKSTNLVKNKCVNF\"\n",
    "\n",
    "lambda_80 = []\n",
    "\n",
    "for i in range(len(s80)):\n",
    "    if(0<=i<143):\n",
    "        c1 = s80[i]\n",
    "        c2 = s80[i+80]\n",
    "        lambda_80.append(c1+c2)\n",
    "    else:\n",
    "        break\n",
    "print(lambda_80)"
   ]
  },
  {
   "cell_type": "code",
   "execution_count": 149,
   "id": "gorgeous-parallel",
   "metadata": {},
   "outputs": [
    {
     "name": "stdout",
     "output_type": "stream",
     "text": [
      "['RF', 'VV', 'QI', 'PR', 'TG', 'ED', 'SE', 'IV', 'VR', 'RQ', 'FI', 'PA', 'NP', 'IG', 'TQ', 'NT', 'LG', 'CK', 'PI', 'FA', 'GD', 'EY', 'VN', 'FY', 'NK', 'AL', 'TP', 'RD', 'FD', 'AF', 'ST', 'VG', 'YC', 'AV', 'WI', 'NA', 'RW', 'KN', 'RS', 'IN', 'SN', 'NL', 'CD', 'VS', 'AK', 'DV', 'YG', 'SG', 'VN', 'LY', 'YN', 'NY', 'SL', 'AY', 'SR', 'FL', 'SF', 'TR', 'FK', 'KS', 'CN', 'YL', 'GK', 'VP', 'SF', 'PE', 'TR', 'KD', 'LI', 'NS', 'DT', 'LE', 'CI', 'FY', 'TQ', 'NA', 'VG', 'YS', 'AT', 'DP', 'SC', 'FN', 'VG', 'IV', 'RE', 'GG', 'DF', 'EN', 'VC', 'RY', 'QF', 'IP', 'AL', 'PQ', 'GS', 'QY', 'TG', 'GF', 'KQ', 'IP', 'AT', 'DN', 'YG', 'NV', 'YG', 'KY', 'LQ', 'PP', 'DY', 'DR', 'FV', 'TV', 'GV', 'CL', 'VS', 'IF', 'AE', 'WL', 'NL', 'SH', 'NA', 'NP', 'LA', 'DT', 'SV', 'KC', 'VG', 'GP', 'GK', 'NK', 'YS', 'NT', 'YN', 'LL', 'YV', 'RK', 'LN', 'FK', 'RC', 'KV', 'SN', 'NF']\n"
     ]
    }
   ],
   "source": [
    "s81 = \"RVQPTESIVRFPNITNLCPFGEVFNATRFASVYAWNRKRISNCVADYSVLYNSASFSTFKCYGVSPTKLNDLCFTNVYADSFVIRGDEVRQIAPGQTGKIADYNYKLPDDFTGCVIAWNSNNLDSKVGGNYNYLYRLFRKSNLKPFERDISTEIYQAGSTPCNGVEGFNCYFPLQSYGFQPTNGVGYQPYRVVVLSFELLHAPATVCGPKKSTNLVKNKCVNF\"\n",
    "\n",
    "lambda_81 = []\n",
    "\n",
    "for i in range(len(s81)):\n",
    "    if(0<=i<142):\n",
    "        c1 = s81[i]\n",
    "        c2 = s81[i+81]\n",
    "        lambda_81.append(c1+c2)\n",
    "    else:\n",
    "        break\n",
    "print(lambda_81)"
   ]
  },
  {
   "cell_type": "code",
   "execution_count": 150,
   "id": "handmade-cradle",
   "metadata": {},
   "outputs": [
    {
     "name": "stdout",
     "output_type": "stream",
     "text": [
      "['RV', 'VI', 'QR', 'PG', 'TD', 'EE', 'SV', 'IR', 'VQ', 'RI', 'FA', 'PP', 'NG', 'IQ', 'TT', 'NG', 'LK', 'CI', 'PA', 'FD', 'GY', 'EN', 'VY', 'FK', 'NL', 'AP', 'TD', 'RD', 'FF', 'AT', 'SG', 'VC', 'YV', 'AI', 'WA', 'NW', 'RN', 'KS', 'RN', 'IN', 'SL', 'ND', 'CS', 'VK', 'AV', 'DG', 'YG', 'SN', 'VY', 'LN', 'YY', 'NL', 'SY', 'AR', 'SL', 'FF', 'SR', 'TK', 'FS', 'KN', 'CL', 'YK', 'GP', 'VF', 'SE', 'PR', 'TD', 'KI', 'LS', 'NT', 'DE', 'LI', 'CY', 'FQ', 'TA', 'NG', 'VS', 'YT', 'AP', 'DC', 'SN', 'FG', 'VV', 'IE', 'RG', 'GF', 'DN', 'EC', 'VY', 'RF', 'QP', 'IL', 'AQ', 'PS', 'GY', 'QG', 'TF', 'GQ', 'KP', 'IT', 'AN', 'DG', 'YV', 'NG', 'YY', 'KQ', 'LP', 'PY', 'DR', 'DV', 'FV', 'TV', 'GL', 'CS', 'VF', 'IE', 'AL', 'WL', 'NH', 'SA', 'NP', 'NA', 'LT', 'DV', 'SC', 'KG', 'VP', 'GK', 'GK', 'NS', 'YT', 'NN', 'YL', 'LV', 'YK', 'RN', 'LK', 'FC', 'RV', 'KN', 'SF']\n"
     ]
    }
   ],
   "source": [
    "s82 = \"RVQPTESIVRFPNITNLCPFGEVFNATRFASVYAWNRKRISNCVADYSVLYNSASFSTFKCYGVSPTKLNDLCFTNVYADSFVIRGDEVRQIAPGQTGKIADYNYKLPDDFTGCVIAWNSNNLDSKVGGNYNYLYRLFRKSNLKPFERDISTEIYQAGSTPCNGVEGFNCYFPLQSYGFQPTNGVGYQPYRVVVLSFELLHAPATVCGPKKSTNLVKNKCVNF\"\n",
    "\n",
    "lambda_82 = []\n",
    "\n",
    "for i in range(len(s82)):\n",
    "    if(0<=i<141):\n",
    "        c1 = s82[i]\n",
    "        c2 = s82[i+82]\n",
    "        lambda_82.append(c1+c2)\n",
    "    else:\n",
    "        break\n",
    "print(lambda_82)"
   ]
  },
  {
   "cell_type": "code",
   "execution_count": 151,
   "id": "extensive-street",
   "metadata": {},
   "outputs": [
    {
     "name": "stdout",
     "output_type": "stream",
     "text": [
      "['RI', 'VR', 'QG', 'PD', 'TE', 'EV', 'SR', 'IQ', 'VI', 'RA', 'FP', 'PG', 'NQ', 'IT', 'TG', 'NK', 'LI', 'CA', 'PD', 'FY', 'GN', 'EY', 'VK', 'FL', 'NP', 'AD', 'TD', 'RF', 'FT', 'AG', 'SC', 'VV', 'YI', 'AA', 'WW', 'NN', 'RS', 'KN', 'RN', 'IL', 'SD', 'NS', 'CK', 'VV', 'AG', 'DG', 'YN', 'SY', 'VN', 'LY', 'YL', 'NY', 'SR', 'AL', 'SF', 'FR', 'SK', 'TS', 'FN', 'KL', 'CK', 'YP', 'GF', 'VE', 'SR', 'PD', 'TI', 'KS', 'LT', 'NE', 'DI', 'LY', 'CQ', 'FA', 'TG', 'NS', 'VT', 'YP', 'AC', 'DN', 'SG', 'FV', 'VE', 'IG', 'RF', 'GN', 'DC', 'EY', 'VF', 'RP', 'QL', 'IQ', 'AS', 'PY', 'GG', 'QF', 'TQ', 'GP', 'KT', 'IN', 'AG', 'DV', 'YG', 'NY', 'YQ', 'KP', 'LY', 'PR', 'DV', 'DV', 'FV', 'TL', 'GS', 'CF', 'VE', 'IL', 'AL', 'WH', 'NA', 'SP', 'NA', 'NT', 'LV', 'DC', 'SG', 'KP', 'VK', 'GK', 'GS', 'NT', 'YN', 'NL', 'YV', 'LK', 'YN', 'RK', 'LC', 'FV', 'RN', 'KF']\n"
     ]
    }
   ],
   "source": [
    "s83 = \"RVQPTESIVRFPNITNLCPFGEVFNATRFASVYAWNRKRISNCVADYSVLYNSASFSTFKCYGVSPTKLNDLCFTNVYADSFVIRGDEVRQIAPGQTGKIADYNYKLPDDFTGCVIAWNSNNLDSKVGGNYNYLYRLFRKSNLKPFERDISTEIYQAGSTPCNGVEGFNCYFPLQSYGFQPTNGVGYQPYRVVVLSFELLHAPATVCGPKKSTNLVKNKCVNF\"\n",
    "\n",
    "lambda_83 = []\n",
    "\n",
    "for i in range(len(s83)):\n",
    "    if(0<=i<140):\n",
    "        c1 = s83[i]\n",
    "        c2 = s83[i+83]\n",
    "        lambda_83.append(c1+c2)\n",
    "    else:\n",
    "        break\n",
    "print(lambda_83)"
   ]
  },
  {
   "cell_type": "code",
   "execution_count": 152,
   "id": "sized-style",
   "metadata": {},
   "outputs": [
    {
     "name": "stdout",
     "output_type": "stream",
     "text": [
      "['RR', 'VG', 'QD', 'PE', 'TV', 'ER', 'SQ', 'II', 'VA', 'RP', 'FG', 'PQ', 'NT', 'IG', 'TK', 'NI', 'LA', 'CD', 'PY', 'FN', 'GY', 'EK', 'VL', 'FP', 'ND', 'AD', 'TF', 'RT', 'FG', 'AC', 'SV', 'VI', 'YA', 'AW', 'WN', 'NS', 'RN', 'KN', 'RL', 'ID', 'SS', 'NK', 'CV', 'VG', 'AG', 'DN', 'YY', 'SN', 'VY', 'LL', 'YY', 'NR', 'SL', 'AF', 'SR', 'FK', 'SS', 'TN', 'FL', 'KK', 'CP', 'YF', 'GE', 'VR', 'SD', 'PI', 'TS', 'KT', 'LE', 'NI', 'DY', 'LQ', 'CA', 'FG', 'TS', 'NT', 'VP', 'YC', 'AN', 'DG', 'SV', 'FE', 'VG', 'IF', 'RN', 'GC', 'DY', 'EF', 'VP', 'RL', 'QQ', 'IS', 'AY', 'PG', 'GF', 'QQ', 'TP', 'GT', 'KN', 'IG', 'AV', 'DG', 'YY', 'NQ', 'YP', 'KY', 'LR', 'PV', 'DV', 'DV', 'FL', 'TS', 'GF', 'CE', 'VL', 'IL', 'AH', 'WA', 'NP', 'SA', 'NT', 'NV', 'LC', 'DG', 'SP', 'KK', 'VK', 'GS', 'GT', 'NN', 'YL', 'NV', 'YK', 'LN', 'YK', 'RC', 'LV', 'FN', 'RF']\n"
     ]
    }
   ],
   "source": [
    "s84 = \"RVQPTESIVRFPNITNLCPFGEVFNATRFASVYAWNRKRISNCVADYSVLYNSASFSTFKCYGVSPTKLNDLCFTNVYADSFVIRGDEVRQIAPGQTGKIADYNYKLPDDFTGCVIAWNSNNLDSKVGGNYNYLYRLFRKSNLKPFERDISTEIYQAGSTPCNGVEGFNCYFPLQSYGFQPTNGVGYQPYRVVVLSFELLHAPATVCGPKKSTNLVKNKCVNF\"\n",
    "\n",
    "lambda_84 = []\n",
    "\n",
    "for i in range(len(s84)):\n",
    "    if(0<=i<139):\n",
    "        c1 = s84[i]\n",
    "        c2 = s84[i+84]\n",
    "        lambda_84.append(c1+c2)\n",
    "    else:\n",
    "        break\n",
    "print(lambda_84)"
   ]
  },
  {
   "cell_type": "code",
   "execution_count": 153,
   "id": "foreign-belle",
   "metadata": {},
   "outputs": [
    {
     "name": "stdout",
     "output_type": "stream",
     "text": [
      "['RG', 'VD', 'QE', 'PV', 'TR', 'EQ', 'SI', 'IA', 'VP', 'RG', 'FQ', 'PT', 'NG', 'IK', 'TI', 'NA', 'LD', 'CY', 'PN', 'FY', 'GK', 'EL', 'VP', 'FD', 'ND', 'AF', 'TT', 'RG', 'FC', 'AV', 'SI', 'VA', 'YW', 'AN', 'WS', 'NN', 'RN', 'KL', 'RD', 'IS', 'SK', 'NV', 'CG', 'VG', 'AN', 'DY', 'YN', 'SY', 'VL', 'LY', 'YR', 'NL', 'SF', 'AR', 'SK', 'FS', 'SN', 'TL', 'FK', 'KP', 'CF', 'YE', 'GR', 'VD', 'SI', 'PS', 'TT', 'KE', 'LI', 'NY', 'DQ', 'LA', 'CG', 'FS', 'TT', 'NP', 'VC', 'YN', 'AG', 'DV', 'SE', 'FG', 'VF', 'IN', 'RC', 'GY', 'DF', 'EP', 'VL', 'RQ', 'QS', 'IY', 'AG', 'PF', 'GQ', 'QP', 'TT', 'GN', 'KG', 'IV', 'AG', 'DY', 'YQ', 'NP', 'YY', 'KR', 'LV', 'PV', 'DV', 'DL', 'FS', 'TF', 'GE', 'CL', 'VL', 'IH', 'AA', 'WP', 'NA', 'ST', 'NV', 'NC', 'LG', 'DP', 'SK', 'KK', 'VS', 'GT', 'GN', 'NL', 'YV', 'NK', 'YN', 'LK', 'YC', 'RV', 'LN', 'FF']\n"
     ]
    }
   ],
   "source": [
    "s85 = \"RVQPTESIVRFPNITNLCPFGEVFNATRFASVYAWNRKRISNCVADYSVLYNSASFSTFKCYGVSPTKLNDLCFTNVYADSFVIRGDEVRQIAPGQTGKIADYNYKLPDDFTGCVIAWNSNNLDSKVGGNYNYLYRLFRKSNLKPFERDISTEIYQAGSTPCNGVEGFNCYFPLQSYGFQPTNGVGYQPYRVVVLSFELLHAPATVCGPKKSTNLVKNKCVNF\"\n",
    "\n",
    "lambda_85 = []\n",
    "\n",
    "for i in range(len(s85)):\n",
    "    if(0<=i<138):\n",
    "        c1 = s85[i]\n",
    "        c2 = s85[i+85]\n",
    "        lambda_85.append(c1+c2)\n",
    "    else:\n",
    "        break\n",
    "print(lambda_85)"
   ]
  },
  {
   "cell_type": "code",
   "execution_count": 154,
   "id": "flush-training",
   "metadata": {},
   "outputs": [
    {
     "name": "stdout",
     "output_type": "stream",
     "text": [
      "['RD', 'VE', 'QV', 'PR', 'TQ', 'EI', 'SA', 'IP', 'VG', 'RQ', 'FT', 'PG', 'NK', 'II', 'TA', 'ND', 'LY', 'CN', 'PY', 'FK', 'GL', 'EP', 'VD', 'FD', 'NF', 'AT', 'TG', 'RC', 'FV', 'AI', 'SA', 'VW', 'YN', 'AS', 'WN', 'NN', 'RL', 'KD', 'RS', 'IK', 'SV', 'NG', 'CG', 'VN', 'AY', 'DN', 'YY', 'SL', 'VY', 'LR', 'YL', 'NF', 'SR', 'AK', 'SS', 'FN', 'SL', 'TK', 'FP', 'KF', 'CE', 'YR', 'GD', 'VI', 'SS', 'PT', 'TE', 'KI', 'LY', 'NQ', 'DA', 'LG', 'CS', 'FT', 'TP', 'NC', 'VN', 'YG', 'AV', 'DE', 'SG', 'FF', 'VN', 'IC', 'RY', 'GF', 'DP', 'EL', 'VQ', 'RS', 'QY', 'IG', 'AF', 'PQ', 'GP', 'QT', 'TN', 'GG', 'KV', 'IG', 'AY', 'DQ', 'YP', 'NY', 'YR', 'KV', 'LV', 'PV', 'DL', 'DS', 'FF', 'TE', 'GL', 'CL', 'VH', 'IA', 'AP', 'WA', 'NT', 'SV', 'NC', 'NG', 'LP', 'DK', 'SK', 'KS', 'VT', 'GN', 'GL', 'NV', 'YK', 'NN', 'YK', 'LC', 'YV', 'RN', 'LF']\n"
     ]
    }
   ],
   "source": [
    "s86 = \"RVQPTESIVRFPNITNLCPFGEVFNATRFASVYAWNRKRISNCVADYSVLYNSASFSTFKCYGVSPTKLNDLCFTNVYADSFVIRGDEVRQIAPGQTGKIADYNYKLPDDFTGCVIAWNSNNLDSKVGGNYNYLYRLFRKSNLKPFERDISTEIYQAGSTPCNGVEGFNCYFPLQSYGFQPTNGVGYQPYRVVVLSFELLHAPATVCGPKKSTNLVKNKCVNF\"\n",
    "\n",
    "lambda_86 = []\n",
    "\n",
    "for i in range(len(s86)):\n",
    "    if(0<=i<137):\n",
    "        c1 = s86[i]\n",
    "        c2 = s86[i+86]\n",
    "        lambda_86.append(c1+c2)\n",
    "    else:\n",
    "        break\n",
    "print(lambda_86)"
   ]
  },
  {
   "cell_type": "code",
   "execution_count": 155,
   "id": "instant-assault",
   "metadata": {},
   "outputs": [
    {
     "name": "stdout",
     "output_type": "stream",
     "text": [
      "['RE', 'VV', 'QR', 'PQ', 'TI', 'EA', 'SP', 'IG', 'VQ', 'RT', 'FG', 'PK', 'NI', 'IA', 'TD', 'NY', 'LN', 'CY', 'PK', 'FL', 'GP', 'ED', 'VD', 'FF', 'NT', 'AG', 'TC', 'RV', 'FI', 'AA', 'SW', 'VN', 'YS', 'AN', 'WN', 'NL', 'RD', 'KS', 'RK', 'IV', 'SG', 'NG', 'CN', 'VY', 'AN', 'DY', 'YL', 'SY', 'VR', 'LL', 'YF', 'NR', 'SK', 'AS', 'SN', 'FL', 'SK', 'TP', 'FF', 'KE', 'CR', 'YD', 'GI', 'VS', 'ST', 'PE', 'TI', 'KY', 'LQ', 'NA', 'DG', 'LS', 'CT', 'FP', 'TC', 'NN', 'VG', 'YV', 'AE', 'DG', 'SF', 'FN', 'VC', 'IY', 'RF', 'GP', 'DL', 'EQ', 'VS', 'RY', 'QG', 'IF', 'AQ', 'PP', 'GT', 'QN', 'TG', 'GV', 'KG', 'IY', 'AQ', 'DP', 'YY', 'NR', 'YV', 'KV', 'LV', 'PL', 'DS', 'DF', 'FE', 'TL', 'GL', 'CH', 'VA', 'IP', 'AA', 'WT', 'NV', 'SC', 'NG', 'NP', 'LK', 'DK', 'SS', 'KT', 'VN', 'GL', 'GV', 'NK', 'YN', 'NK', 'YC', 'LV', 'YN', 'RF']\n"
     ]
    }
   ],
   "source": [
    "s87 = \"RVQPTESIVRFPNITNLCPFGEVFNATRFASVYAWNRKRISNCVADYSVLYNSASFSTFKCYGVSPTKLNDLCFTNVYADSFVIRGDEVRQIAPGQTGKIADYNYKLPDDFTGCVIAWNSNNLDSKVGGNYNYLYRLFRKSNLKPFERDISTEIYQAGSTPCNGVEGFNCYFPLQSYGFQPTNGVGYQPYRVVVLSFELLHAPATVCGPKKSTNLVKNKCVNF\"\n",
    "\n",
    "lambda_87 = []\n",
    "\n",
    "for i in range(len(s87)):\n",
    "    if(0<=i<136):\n",
    "        c1 = s87[i]\n",
    "        c2 = s87[i+87]\n",
    "        lambda_87.append(c1+c2)\n",
    "    else:\n",
    "        break\n",
    "print(lambda_87)"
   ]
  },
  {
   "cell_type": "code",
   "execution_count": 156,
   "id": "applicable-workshop",
   "metadata": {},
   "outputs": [
    {
     "name": "stdout",
     "output_type": "stream",
     "text": [
      "['RV', 'VR', 'QQ', 'PI', 'TA', 'EP', 'SG', 'IQ', 'VT', 'RG', 'FK', 'PI', 'NA', 'ID', 'TY', 'NN', 'LY', 'CK', 'PL', 'FP', 'GD', 'ED', 'VF', 'FT', 'NG', 'AC', 'TV', 'RI', 'FA', 'AW', 'SN', 'VS', 'YN', 'AN', 'WL', 'ND', 'RS', 'KK', 'RV', 'IG', 'SG', 'NN', 'CY', 'VN', 'AY', 'DL', 'YY', 'SR', 'VL', 'LF', 'YR', 'NK', 'SS', 'AN', 'SL', 'FK', 'SP', 'TF', 'FE', 'KR', 'CD', 'YI', 'GS', 'VT', 'SE', 'PI', 'TY', 'KQ', 'LA', 'NG', 'DS', 'LT', 'CP', 'FC', 'TN', 'NG', 'VV', 'YE', 'AG', 'DF', 'SN', 'FC', 'VY', 'IF', 'RP', 'GL', 'DQ', 'ES', 'VY', 'RG', 'QF', 'IQ', 'AP', 'PT', 'GN', 'QG', 'TV', 'GG', 'KY', 'IQ', 'AP', 'DY', 'YR', 'NV', 'YV', 'KV', 'LL', 'PS', 'DF', 'DE', 'FL', 'TL', 'GH', 'CA', 'VP', 'IA', 'AT', 'WV', 'NC', 'SG', 'NP', 'NK', 'LK', 'DS', 'ST', 'KN', 'VL', 'GV', 'GK', 'NN', 'YK', 'NC', 'YV', 'LN', 'YF']\n"
     ]
    }
   ],
   "source": [
    "s88 = \"RVQPTESIVRFPNITNLCPFGEVFNATRFASVYAWNRKRISNCVADYSVLYNSASFSTFKCYGVSPTKLNDLCFTNVYADSFVIRGDEVRQIAPGQTGKIADYNYKLPDDFTGCVIAWNSNNLDSKVGGNYNYLYRLFRKSNLKPFERDISTEIYQAGSTPCNGVEGFNCYFPLQSYGFQPTNGVGYQPYRVVVLSFELLHAPATVCGPKKSTNLVKNKCVNF\"\n",
    "\n",
    "lambda_88 = []\n",
    "\n",
    "for i in range(len(s88)):\n",
    "    if(0<=i<135):\n",
    "        c1 = s88[i]\n",
    "        c2 = s88[i+88]\n",
    "        lambda_88.append(c1+c2)\n",
    "    else:\n",
    "        break\n",
    "print(lambda_88)"
   ]
  },
  {
   "cell_type": "code",
   "execution_count": 157,
   "id": "standard-modification",
   "metadata": {},
   "outputs": [
    {
     "name": "stdout",
     "output_type": "stream",
     "text": [
      "['RR', 'VQ', 'QI', 'PA', 'TP', 'EG', 'SQ', 'IT', 'VG', 'RK', 'FI', 'PA', 'ND', 'IY', 'TN', 'NY', 'LK', 'CL', 'PP', 'FD', 'GD', 'EF', 'VT', 'FG', 'NC', 'AV', 'TI', 'RA', 'FW', 'AN', 'SS', 'VN', 'YN', 'AL', 'WD', 'NS', 'RK', 'KV', 'RG', 'IG', 'SN', 'NY', 'CN', 'VY', 'AL', 'DY', 'YR', 'SL', 'VF', 'LR', 'YK', 'NS', 'SN', 'AL', 'SK', 'FP', 'SF', 'TE', 'FR', 'KD', 'CI', 'YS', 'GT', 'VE', 'SI', 'PY', 'TQ', 'KA', 'LG', 'NS', 'DT', 'LP', 'CC', 'FN', 'TG', 'NV', 'VE', 'YG', 'AF', 'DN', 'SC', 'FY', 'VF', 'IP', 'RL', 'GQ', 'DS', 'EY', 'VG', 'RF', 'QQ', 'IP', 'AT', 'PN', 'GG', 'QV', 'TG', 'GY', 'KQ', 'IP', 'AY', 'DR', 'YV', 'NV', 'YV', 'KL', 'LS', 'PF', 'DE', 'DL', 'FL', 'TH', 'GA', 'CP', 'VA', 'IT', 'AV', 'WC', 'NG', 'SP', 'NK', 'NK', 'LS', 'DT', 'SN', 'KL', 'VV', 'GK', 'GN', 'NK', 'YC', 'NV', 'YN', 'LF']\n"
     ]
    }
   ],
   "source": [
    "s89 = \"RVQPTESIVRFPNITNLCPFGEVFNATRFASVYAWNRKRISNCVADYSVLYNSASFSTFKCYGVSPTKLNDLCFTNVYADSFVIRGDEVRQIAPGQTGKIADYNYKLPDDFTGCVIAWNSNNLDSKVGGNYNYLYRLFRKSNLKPFERDISTEIYQAGSTPCNGVEGFNCYFPLQSYGFQPTNGVGYQPYRVVVLSFELLHAPATVCGPKKSTNLVKNKCVNF\"\n",
    "\n",
    "lambda_89 = []\n",
    "\n",
    "for i in range(len(s89)):\n",
    "    if(0<=i<134):\n",
    "        c1 = s89[i]\n",
    "        c2 = s89[i+89]\n",
    "        lambda_89.append(c1+c2)\n",
    "    else:\n",
    "        break\n",
    "print(lambda_89)"
   ]
  },
  {
   "cell_type": "code",
   "execution_count": 158,
   "id": "general-saturn",
   "metadata": {},
   "outputs": [
    {
     "name": "stdout",
     "output_type": "stream",
     "text": [
      "['RQ', 'VI', 'QA', 'PP', 'TG', 'EQ', 'ST', 'IG', 'VK', 'RI', 'FA', 'PD', 'NY', 'IN', 'TY', 'NK', 'LL', 'CP', 'PD', 'FD', 'GF', 'ET', 'VG', 'FC', 'NV', 'AI', 'TA', 'RW', 'FN', 'AS', 'SN', 'VN', 'YL', 'AD', 'WS', 'NK', 'RV', 'KG', 'RG', 'IN', 'SY', 'NN', 'CY', 'VL', 'AY', 'DR', 'YL', 'SF', 'VR', 'LK', 'YS', 'NN', 'SL', 'AK', 'SP', 'FF', 'SE', 'TR', 'FD', 'KI', 'CS', 'YT', 'GE', 'VI', 'SY', 'PQ', 'TA', 'KG', 'LS', 'NT', 'DP', 'LC', 'CN', 'FG', 'TV', 'NE', 'VG', 'YF', 'AN', 'DC', 'SY', 'FF', 'VP', 'IL', 'RQ', 'GS', 'DY', 'EG', 'VF', 'RQ', 'QP', 'IT', 'AN', 'PG', 'GV', 'QG', 'TY', 'GQ', 'KP', 'IY', 'AR', 'DV', 'YV', 'NV', 'YL', 'KS', 'LF', 'PE', 'DL', 'DL', 'FH', 'TA', 'GP', 'CA', 'VT', 'IV', 'AC', 'WG', 'NP', 'SK', 'NK', 'NS', 'LT', 'DN', 'SL', 'KV', 'VK', 'GN', 'GK', 'NC', 'YV', 'NN', 'YF']\n"
     ]
    }
   ],
   "source": [
    "s90 = \"RVQPTESIVRFPNITNLCPFGEVFNATRFASVYAWNRKRISNCVADYSVLYNSASFSTFKCYGVSPTKLNDLCFTNVYADSFVIRGDEVRQIAPGQTGKIADYNYKLPDDFTGCVIAWNSNNLDSKVGGNYNYLYRLFRKSNLKPFERDISTEIYQAGSTPCNGVEGFNCYFPLQSYGFQPTNGVGYQPYRVVVLSFELLHAPATVCGPKKSTNLVKNKCVNF\"\n",
    "\n",
    "lambda_90 = []\n",
    "\n",
    "for i in range(len(s90)):\n",
    "    if(0<=i<133):\n",
    "        c1 = s90[i]\n",
    "        c2 = s90[i+90]\n",
    "        lambda_90.append(c1+c2)\n",
    "    else:\n",
    "        break\n",
    "print(lambda_90)"
   ]
  },
  {
   "cell_type": "code",
   "execution_count": 159,
   "id": "neither-manufacturer",
   "metadata": {},
   "outputs": [
    {
     "name": "stdout",
     "output_type": "stream",
     "text": [
      "['RI', 'VA', 'QP', 'PG', 'TQ', 'ET', 'SG', 'IK', 'VI', 'RA', 'FD', 'PY', 'NN', 'IY', 'TK', 'NL', 'LP', 'CD', 'PD', 'FF', 'GT', 'EG', 'VC', 'FV', 'NI', 'AA', 'TW', 'RN', 'FS', 'AN', 'SN', 'VL', 'YD', 'AS', 'WK', 'NV', 'RG', 'KG', 'RN', 'IY', 'SN', 'NY', 'CL', 'VY', 'AR', 'DL', 'YF', 'SR', 'VK', 'LS', 'YN', 'NL', 'SK', 'AP', 'SF', 'FE', 'SR', 'TD', 'FI', 'KS', 'CT', 'YE', 'GI', 'VY', 'SQ', 'PA', 'TG', 'KS', 'LT', 'NP', 'DC', 'LN', 'CG', 'FV', 'TE', 'NG', 'VF', 'YN', 'AC', 'DY', 'SF', 'FP', 'VL', 'IQ', 'RS', 'GY', 'DG', 'EF', 'VQ', 'RP', 'QT', 'IN', 'AG', 'PV', 'GG', 'QY', 'TQ', 'GP', 'KY', 'IR', 'AV', 'DV', 'YV', 'NL', 'YS', 'KF', 'LE', 'PL', 'DL', 'DH', 'FA', 'TP', 'GA', 'CT', 'VV', 'IC', 'AG', 'WP', 'NK', 'SK', 'NS', 'NT', 'LN', 'DL', 'SV', 'KK', 'VN', 'GK', 'GC', 'NV', 'YN', 'NF']\n"
     ]
    }
   ],
   "source": [
    "s91 = \"RVQPTESIVRFPNITNLCPFGEVFNATRFASVYAWNRKRISNCVADYSVLYNSASFSTFKCYGVSPTKLNDLCFTNVYADSFVIRGDEVRQIAPGQTGKIADYNYKLPDDFTGCVIAWNSNNLDSKVGGNYNYLYRLFRKSNLKPFERDISTEIYQAGSTPCNGVEGFNCYFPLQSYGFQPTNGVGYQPYRVVVLSFELLHAPATVCGPKKSTNLVKNKCVNF\"\n",
    "\n",
    "lambda_91 = []\n",
    "\n",
    "for i in range(len(s91)):\n",
    "    if(0<=i<132):\n",
    "        c1 = s91[i]\n",
    "        c2 = s91[i+91]\n",
    "        lambda_91.append(c1+c2)\n",
    "    else:\n",
    "        break\n",
    "print(lambda_91)"
   ]
  },
  {
   "cell_type": "code",
   "execution_count": 160,
   "id": "efficient-ecuador",
   "metadata": {},
   "outputs": [
    {
     "name": "stdout",
     "output_type": "stream",
     "text": [
      "['RA', 'VP', 'QG', 'PQ', 'TT', 'EG', 'SK', 'II', 'VA', 'RD', 'FY', 'PN', 'NY', 'IK', 'TL', 'NP', 'LD', 'CD', 'PF', 'FT', 'GG', 'EC', 'VV', 'FI', 'NA', 'AW', 'TN', 'RS', 'FN', 'AN', 'SL', 'VD', 'YS', 'AK', 'WV', 'NG', 'RG', 'KN', 'RY', 'IN', 'SY', 'NL', 'CY', 'VR', 'AL', 'DF', 'YR', 'SK', 'VS', 'LN', 'YL', 'NK', 'SP', 'AF', 'SE', 'FR', 'SD', 'TI', 'FS', 'KT', 'CE', 'YI', 'GY', 'VQ', 'SA', 'PG', 'TS', 'KT', 'LP', 'NC', 'DN', 'LG', 'CV', 'FE', 'TG', 'NF', 'VN', 'YC', 'AY', 'DF', 'SP', 'FL', 'VQ', 'IS', 'RY', 'GG', 'DF', 'EQ', 'VP', 'RT', 'QN', 'IG', 'AV', 'PG', 'GY', 'QQ', 'TP', 'GY', 'KR', 'IV', 'AV', 'DV', 'YL', 'NS', 'YF', 'KE', 'LL', 'PL', 'DH', 'DA', 'FP', 'TA', 'GT', 'CV', 'VC', 'IG', 'AP', 'WK', 'NK', 'SS', 'NT', 'NN', 'LL', 'DV', 'SK', 'KN', 'VK', 'GC', 'GV', 'NN', 'YF']\n"
     ]
    }
   ],
   "source": [
    "s92 = \"RVQPTESIVRFPNITNLCPFGEVFNATRFASVYAWNRKRISNCVADYSVLYNSASFSTFKCYGVSPTKLNDLCFTNVYADSFVIRGDEVRQIAPGQTGKIADYNYKLPDDFTGCVIAWNSNNLDSKVGGNYNYLYRLFRKSNLKPFERDISTEIYQAGSTPCNGVEGFNCYFPLQSYGFQPTNGVGYQPYRVVVLSFELLHAPATVCGPKKSTNLVKNKCVNF\"\n",
    "\n",
    "lambda_92 = []\n",
    "\n",
    "for i in range(len(s92)):\n",
    "    if(0<=i<131):\n",
    "        c1 = s92[i]\n",
    "        c2 = s92[i+92]\n",
    "        lambda_92.append(c1+c2)\n",
    "    else:\n",
    "        break\n",
    "print(lambda_92)"
   ]
  },
  {
   "cell_type": "code",
   "execution_count": 161,
   "id": "educational-terrace",
   "metadata": {},
   "outputs": [
    {
     "name": "stdout",
     "output_type": "stream",
     "text": [
      "['RP', 'VG', 'QQ', 'PT', 'TG', 'EK', 'SI', 'IA', 'VD', 'RY', 'FN', 'PY', 'NK', 'IL', 'TP', 'ND', 'LD', 'CF', 'PT', 'FG', 'GC', 'EV', 'VI', 'FA', 'NW', 'AN', 'TS', 'RN', 'FN', 'AL', 'SD', 'VS', 'YK', 'AV', 'WG', 'NG', 'RN', 'KY', 'RN', 'IY', 'SL', 'NY', 'CR', 'VL', 'AF', 'DR', 'YK', 'SS', 'VN', 'LL', 'YK', 'NP', 'SF', 'AE', 'SR', 'FD', 'SI', 'TS', 'FT', 'KE', 'CI', 'YY', 'GQ', 'VA', 'SG', 'PS', 'TT', 'KP', 'LC', 'NN', 'DG', 'LV', 'CE', 'FG', 'TF', 'NN', 'VC', 'YY', 'AF', 'DP', 'SL', 'FQ', 'VS', 'IY', 'RG', 'GF', 'DQ', 'EP', 'VT', 'RN', 'QG', 'IV', 'AG', 'PY', 'GQ', 'QP', 'TY', 'GR', 'KV', 'IV', 'AV', 'DL', 'YS', 'NF', 'YE', 'KL', 'LL', 'PH', 'DA', 'DP', 'FA', 'TT', 'GV', 'CC', 'VG', 'IP', 'AK', 'WK', 'NS', 'ST', 'NN', 'NL', 'LV', 'DK', 'SN', 'KK', 'VC', 'GV', 'GN', 'NF']\n"
     ]
    }
   ],
   "source": [
    "s93 = \"RVQPTESIVRFPNITNLCPFGEVFNATRFASVYAWNRKRISNCVADYSVLYNSASFSTFKCYGVSPTKLNDLCFTNVYADSFVIRGDEVRQIAPGQTGKIADYNYKLPDDFTGCVIAWNSNNLDSKVGGNYNYLYRLFRKSNLKPFERDISTEIYQAGSTPCNGVEGFNCYFPLQSYGFQPTNGVGYQPYRVVVLSFELLHAPATVCGPKKSTNLVKNKCVNF\"\n",
    "\n",
    "lambda_93 = []\n",
    "\n",
    "for i in range(len(s93)):\n",
    "    if(0<=i<130):\n",
    "        c1 = s93[i]\n",
    "        c2 = s93[i+93]\n",
    "        lambda_93.append(c1+c2)\n",
    "    else:\n",
    "        break\n",
    "print(lambda_93)"
   ]
  },
  {
   "cell_type": "code",
   "execution_count": 162,
   "id": "angry-comparative",
   "metadata": {},
   "outputs": [
    {
     "name": "stdout",
     "output_type": "stream",
     "text": [
      "['RG', 'VQ', 'QT', 'PG', 'TK', 'EI', 'SA', 'ID', 'VY', 'RN', 'FY', 'PK', 'NL', 'IP', 'TD', 'ND', 'LF', 'CT', 'PG', 'FC', 'GV', 'EI', 'VA', 'FW', 'NN', 'AS', 'TN', 'RN', 'FL', 'AD', 'SS', 'VK', 'YV', 'AG', 'WG', 'NN', 'RY', 'KN', 'RY', 'IL', 'SY', 'NR', 'CL', 'VF', 'AR', 'DK', 'YS', 'SN', 'VL', 'LK', 'YP', 'NF', 'SE', 'AR', 'SD', 'FI', 'SS', 'TT', 'FE', 'KI', 'CY', 'YQ', 'GA', 'VG', 'SS', 'PT', 'TP', 'KC', 'LN', 'NG', 'DV', 'LE', 'CG', 'FF', 'TN', 'NC', 'VY', 'YF', 'AP', 'DL', 'SQ', 'FS', 'VY', 'IG', 'RF', 'GQ', 'DP', 'ET', 'VN', 'RG', 'QV', 'IG', 'AY', 'PQ', 'GP', 'QY', 'TR', 'GV', 'KV', 'IV', 'AL', 'DS', 'YF', 'NE', 'YL', 'KL', 'LH', 'PA', 'DP', 'DA', 'FT', 'TV', 'GC', 'CG', 'VP', 'IK', 'AK', 'WS', 'NT', 'SN', 'NL', 'NV', 'LK', 'DN', 'SK', 'KC', 'VV', 'GN', 'GF']\n"
     ]
    }
   ],
   "source": [
    "s94 = \"RVQPTESIVRFPNITNLCPFGEVFNATRFASVYAWNRKRISNCVADYSVLYNSASFSTFKCYGVSPTKLNDLCFTNVYADSFVIRGDEVRQIAPGQTGKIADYNYKLPDDFTGCVIAWNSNNLDSKVGGNYNYLYRLFRKSNLKPFERDISTEIYQAGSTPCNGVEGFNCYFPLQSYGFQPTNGVGYQPYRVVVLSFELLHAPATVCGPKKSTNLVKNKCVNF\"\n",
    "\n",
    "lambda_94 = []\n",
    "\n",
    "for i in range(len(s94)):\n",
    "    if(0<=i<129):\n",
    "        c1 = s94[i]\n",
    "        c2 = s94[i+94]\n",
    "        lambda_94.append(c1+c2)\n",
    "    else:\n",
    "        break\n",
    "print(lambda_94)"
   ]
  },
  {
   "cell_type": "code",
   "execution_count": 163,
   "id": "computational-cursor",
   "metadata": {},
   "outputs": [
    {
     "name": "stdout",
     "output_type": "stream",
     "text": [
      "['RQ', 'VT', 'QG', 'PK', 'TI', 'EA', 'SD', 'IY', 'VN', 'RY', 'FK', 'PL', 'NP', 'ID', 'TD', 'NF', 'LT', 'CG', 'PC', 'FV', 'GI', 'EA', 'VW', 'FN', 'NS', 'AN', 'TN', 'RL', 'FD', 'AS', 'SK', 'VV', 'YG', 'AG', 'WN', 'NY', 'RN', 'KY', 'RL', 'IY', 'SR', 'NL', 'CF', 'VR', 'AK', 'DS', 'YN', 'SL', 'VK', 'LP', 'YF', 'NE', 'SR', 'AD', 'SI', 'FS', 'ST', 'TE', 'FI', 'KY', 'CQ', 'YA', 'GG', 'VS', 'ST', 'PP', 'TC', 'KN', 'LG', 'NV', 'DE', 'LG', 'CF', 'FN', 'TC', 'NY', 'VF', 'YP', 'AL', 'DQ', 'SS', 'FY', 'VG', 'IF', 'RQ', 'GP', 'DT', 'EN', 'VG', 'RV', 'QG', 'IY', 'AQ', 'PP', 'GY', 'QR', 'TV', 'GV', 'KV', 'IL', 'AS', 'DF', 'YE', 'NL', 'YL', 'KH', 'LA', 'PP', 'DA', 'DT', 'FV', 'TC', 'GG', 'CP', 'VK', 'IK', 'AS', 'WT', 'NN', 'SL', 'NV', 'NK', 'LN', 'DK', 'SC', 'KV', 'VN', 'GF']\n"
     ]
    }
   ],
   "source": [
    "s95 = \"RVQPTESIVRFPNITNLCPFGEVFNATRFASVYAWNRKRISNCVADYSVLYNSASFSTFKCYGVSPTKLNDLCFTNVYADSFVIRGDEVRQIAPGQTGKIADYNYKLPDDFTGCVIAWNSNNLDSKVGGNYNYLYRLFRKSNLKPFERDISTEIYQAGSTPCNGVEGFNCYFPLQSYGFQPTNGVGYQPYRVVVLSFELLHAPATVCGPKKSTNLVKNKCVNF\"\n",
    "\n",
    "lambda_95 = []\n",
    "\n",
    "for i in range(len(s95)):\n",
    "    if(0<=i<128):\n",
    "        c1 = s95[i]\n",
    "        c2 = s95[i+95]\n",
    "        lambda_95.append(c1+c2)\n",
    "    else:\n",
    "        break\n",
    "print(lambda_95)"
   ]
  },
  {
   "cell_type": "code",
   "execution_count": 164,
   "id": "particular-yukon",
   "metadata": {},
   "outputs": [
    {
     "name": "stdout",
     "output_type": "stream",
     "text": [
      "['RT', 'VG', 'QK', 'PI', 'TA', 'ED', 'SY', 'IN', 'VY', 'RK', 'FL', 'PP', 'ND', 'ID', 'TF', 'NT', 'LG', 'CC', 'PV', 'FI', 'GA', 'EW', 'VN', 'FS', 'NN', 'AN', 'TL', 'RD', 'FS', 'AK', 'SV', 'VG', 'YG', 'AN', 'WY', 'NN', 'RY', 'KL', 'RY', 'IR', 'SL', 'NF', 'CR', 'VK', 'AS', 'DN', 'YL', 'SK', 'VP', 'LF', 'YE', 'NR', 'SD', 'AI', 'SS', 'FT', 'SE', 'TI', 'FY', 'KQ', 'CA', 'YG', 'GS', 'VT', 'SP', 'PC', 'TN', 'KG', 'LV', 'NE', 'DG', 'LF', 'CN', 'FC', 'TY', 'NF', 'VP', 'YL', 'AQ', 'DS', 'SY', 'FG', 'VF', 'IQ', 'RP', 'GT', 'DN', 'EG', 'VV', 'RG', 'QY', 'IQ', 'AP', 'PY', 'GR', 'QV', 'TV', 'GV', 'KL', 'IS', 'AF', 'DE', 'YL', 'NL', 'YH', 'KA', 'LP', 'PA', 'DT', 'DV', 'FC', 'TG', 'GP', 'CK', 'VK', 'IS', 'AT', 'WN', 'NL', 'SV', 'NK', 'NN', 'LK', 'DC', 'SV', 'KN', 'VF']\n"
     ]
    }
   ],
   "source": [
    "s96 = \"RVQPTESIVRFPNITNLCPFGEVFNATRFASVYAWNRKRISNCVADYSVLYNSASFSTFKCYGVSPTKLNDLCFTNVYADSFVIRGDEVRQIAPGQTGKIADYNYKLPDDFTGCVIAWNSNNLDSKVGGNYNYLYRLFRKSNLKPFERDISTEIYQAGSTPCNGVEGFNCYFPLQSYGFQPTNGVGYQPYRVVVLSFELLHAPATVCGPKKSTNLVKNKCVNF\"\n",
    "\n",
    "lambda_96 = []\n",
    "\n",
    "for i in range(len(s96)):\n",
    "    if(0<=i<127):\n",
    "        c1 = s96[i]\n",
    "        c2 = s96[i+96]\n",
    "        lambda_96.append(c1+c2)\n",
    "    else:\n",
    "        break\n",
    "print(lambda_96)"
   ]
  },
  {
   "cell_type": "code",
   "execution_count": 165,
   "id": "polish-string",
   "metadata": {},
   "outputs": [
    {
     "name": "stdout",
     "output_type": "stream",
     "text": [
      "['RG', 'VK', 'QI', 'PA', 'TD', 'EY', 'SN', 'IY', 'VK', 'RL', 'FP', 'PD', 'ND', 'IF', 'TT', 'NG', 'LC', 'CV', 'PI', 'FA', 'GW', 'EN', 'VS', 'FN', 'NN', 'AL', 'TD', 'RS', 'FK', 'AV', 'SG', 'VG', 'YN', 'AY', 'WN', 'NY', 'RL', 'KY', 'RR', 'IL', 'SF', 'NR', 'CK', 'VS', 'AN', 'DL', 'YK', 'SP', 'VF', 'LE', 'YR', 'ND', 'SI', 'AS', 'ST', 'FE', 'SI', 'TY', 'FQ', 'KA', 'CG', 'YS', 'GT', 'VP', 'SC', 'PN', 'TG', 'KV', 'LE', 'NG', 'DF', 'LN', 'CC', 'FY', 'TF', 'NP', 'VL', 'YQ', 'AS', 'DY', 'SG', 'FF', 'VQ', 'IP', 'RT', 'GN', 'DG', 'EV', 'VG', 'RY', 'QQ', 'IP', 'AY', 'PR', 'GV', 'QV', 'TV', 'GL', 'KS', 'IF', 'AE', 'DL', 'YL', 'NH', 'YA', 'KP', 'LA', 'PT', 'DV', 'DC', 'FG', 'TP', 'GK', 'CK', 'VS', 'IT', 'AN', 'WL', 'NV', 'SK', 'NN', 'NK', 'LC', 'DV', 'SN', 'KF']\n"
     ]
    }
   ],
   "source": [
    "s97 = \"RVQPTESIVRFPNITNLCPFGEVFNATRFASVYAWNRKRISNCVADYSVLYNSASFSTFKCYGVSPTKLNDLCFTNVYADSFVIRGDEVRQIAPGQTGKIADYNYKLPDDFTGCVIAWNSNNLDSKVGGNYNYLYRLFRKSNLKPFERDISTEIYQAGSTPCNGVEGFNCYFPLQSYGFQPTNGVGYQPYRVVVLSFELLHAPATVCGPKKSTNLVKNKCVNF\"\n",
    "\n",
    "lambda_97 = []\n",
    "\n",
    "for i in range(len(s97)):\n",
    "    if(0<=i<126):\n",
    "        c1 = s97[i]\n",
    "        c2 = s97[i+97]\n",
    "        lambda_97.append(c1+c2)\n",
    "    else:\n",
    "        break\n",
    "print(lambda_97)"
   ]
  },
  {
   "cell_type": "code",
   "execution_count": 166,
   "id": "rental-project",
   "metadata": {},
   "outputs": [
    {
     "name": "stdout",
     "output_type": "stream",
     "text": [
      "['RK', 'VI', 'QA', 'PD', 'TY', 'EN', 'SY', 'IK', 'VL', 'RP', 'FD', 'PD', 'NF', 'IT', 'TG', 'NC', 'LV', 'CI', 'PA', 'FW', 'GN', 'ES', 'VN', 'FN', 'NL', 'AD', 'TS', 'RK', 'FV', 'AG', 'SG', 'VN', 'YY', 'AN', 'WY', 'NL', 'RY', 'KR', 'RL', 'IF', 'SR', 'NK', 'CS', 'VN', 'AL', 'DK', 'YP', 'SF', 'VE', 'LR', 'YD', 'NI', 'SS', 'AT', 'SE', 'FI', 'SY', 'TQ', 'FA', 'KG', 'CS', 'YT', 'GP', 'VC', 'SN', 'PG', 'TV', 'KE', 'LG', 'NF', 'DN', 'LC', 'CY', 'FF', 'TP', 'NL', 'VQ', 'YS', 'AY', 'DG', 'SF', 'FQ', 'VP', 'IT', 'RN', 'GG', 'DV', 'EG', 'VY', 'RQ', 'QP', 'IY', 'AR', 'PV', 'GV', 'QV', 'TL', 'GS', 'KF', 'IE', 'AL', 'DL', 'YH', 'NA', 'YP', 'KA', 'LT', 'PV', 'DC', 'DG', 'FP', 'TK', 'GK', 'CS', 'VT', 'IN', 'AL', 'WV', 'NK', 'SN', 'NK', 'NC', 'LV', 'DN', 'SF']\n"
     ]
    }
   ],
   "source": [
    "s98 = \"RVQPTESIVRFPNITNLCPFGEVFNATRFASVYAWNRKRISNCVADYSVLYNSASFSTFKCYGVSPTKLNDLCFTNVYADSFVIRGDEVRQIAPGQTGKIADYNYKLPDDFTGCVIAWNSNNLDSKVGGNYNYLYRLFRKSNLKPFERDISTEIYQAGSTPCNGVEGFNCYFPLQSYGFQPTNGVGYQPYRVVVLSFELLHAPATVCGPKKSTNLVKNKCVNF\"\n",
    "\n",
    "lambda_98 = []\n",
    "\n",
    "for i in range(len(s98)):\n",
    "    if(0<=i<125):\n",
    "        c1 = s98[i]\n",
    "        c2 = s98[i+98]\n",
    "        lambda_98.append(c1+c2)\n",
    "    else:\n",
    "        break\n",
    "print(lambda_98)"
   ]
  },
  {
   "cell_type": "code",
   "execution_count": 167,
   "id": "continued-cream",
   "metadata": {},
   "outputs": [
    {
     "name": "stdout",
     "output_type": "stream",
     "text": [
      "['RI', 'VA', 'QD', 'PY', 'TN', 'EY', 'SK', 'IL', 'VP', 'RD', 'FD', 'PF', 'NT', 'IG', 'TC', 'NV', 'LI', 'CA', 'PW', 'FN', 'GS', 'EN', 'VN', 'FL', 'ND', 'AS', 'TK', 'RV', 'FG', 'AG', 'SN', 'VY', 'YN', 'AY', 'WL', 'NY', 'RR', 'KL', 'RF', 'IR', 'SK', 'NS', 'CN', 'VL', 'AK', 'DP', 'YF', 'SE', 'VR', 'LD', 'YI', 'NS', 'ST', 'AE', 'SI', 'FY', 'SQ', 'TA', 'FG', 'KS', 'CT', 'YP', 'GC', 'VN', 'SG', 'PV', 'TE', 'KG', 'LF', 'NN', 'DC', 'LY', 'CF', 'FP', 'TL', 'NQ', 'VS', 'YY', 'AG', 'DF', 'SQ', 'FP', 'VT', 'IN', 'RG', 'GV', 'DG', 'EY', 'VQ', 'RP', 'QY', 'IR', 'AV', 'PV', 'GV', 'QL', 'TS', 'GF', 'KE', 'IL', 'AL', 'DH', 'YA', 'NP', 'YA', 'KT', 'LV', 'PC', 'DG', 'DP', 'FK', 'TK', 'GS', 'CT', 'VN', 'IL', 'AV', 'WK', 'NN', 'SK', 'NC', 'NV', 'LN', 'DF']\n"
     ]
    }
   ],
   "source": [
    "s99 = \"RVQPTESIVRFPNITNLCPFGEVFNATRFASVYAWNRKRISNCVADYSVLYNSASFSTFKCYGVSPTKLNDLCFTNVYADSFVIRGDEVRQIAPGQTGKIADYNYKLPDDFTGCVIAWNSNNLDSKVGGNYNYLYRLFRKSNLKPFERDISTEIYQAGSTPCNGVEGFNCYFPLQSYGFQPTNGVGYQPYRVVVLSFELLHAPATVCGPKKSTNLVKNKCVNF\"\n",
    "\n",
    "lambda_99 = []\n",
    "\n",
    "for i in range(len(s99)):\n",
    "    if(0<=i<124):\n",
    "        c1 = s99[i]\n",
    "        c2 = s99[i+99]\n",
    "        lambda_99.append(c1+c2)\n",
    "    else:\n",
    "        break\n",
    "print(lambda_99)"
   ]
  },
  {
   "cell_type": "code",
   "execution_count": 168,
   "id": "informative-cooling",
   "metadata": {},
   "outputs": [
    {
     "name": "stdout",
     "output_type": "stream",
     "text": [
      "['RA', 'VD', 'QY', 'PN', 'TY', 'EK', 'SL', 'IP', 'VD', 'RD', 'FF', 'PT', 'NG', 'IC', 'TV', 'NI', 'LA', 'CW', 'PN', 'FS', 'GN', 'EN', 'VL', 'FD', 'NS', 'AK', 'TV', 'RG', 'FG', 'AN', 'SY', 'VN', 'YY', 'AL', 'WY', 'NR', 'RL', 'KF', 'RR', 'IK', 'SS', 'NN', 'CL', 'VK', 'AP', 'DF', 'YE', 'SR', 'VD', 'LI', 'YS', 'NT', 'SE', 'AI', 'SY', 'FQ', 'SA', 'TG', 'FS', 'KT', 'CP', 'YC', 'GN', 'VG', 'SV', 'PE', 'TG', 'KF', 'LN', 'NC', 'DY', 'LF', 'CP', 'FL', 'TQ', 'NS', 'VY', 'YG', 'AF', 'DQ', 'SP', 'FT', 'VN', 'IG', 'RV', 'GG', 'DY', 'EQ', 'VP', 'RY', 'QR', 'IV', 'AV', 'PV', 'GL', 'QS', 'TF', 'GE', 'KL', 'IL', 'AH', 'DA', 'YP', 'NA', 'YT', 'KV', 'LC', 'PG', 'DP', 'DK', 'FK', 'TS', 'GT', 'CN', 'VL', 'IV', 'AK', 'WN', 'NK', 'SC', 'NV', 'NN', 'LF']\n"
     ]
    }
   ],
   "source": [
    "s100 = \"RVQPTESIVRFPNITNLCPFGEVFNATRFASVYAWNRKRISNCVADYSVLYNSASFSTFKCYGVSPTKLNDLCFTNVYADSFVIRGDEVRQIAPGQTGKIADYNYKLPDDFTGCVIAWNSNNLDSKVGGNYNYLYRLFRKSNLKPFERDISTEIYQAGSTPCNGVEGFNCYFPLQSYGFQPTNGVGYQPYRVVVLSFELLHAPATVCGPKKSTNLVKNKCVNF\"\n",
    "\n",
    "lambda_100 = []\n",
    "\n",
    "for i in range(len(s100)):\n",
    "    if(0<=i<123):\n",
    "        c1 = s100[i]\n",
    "        c2 = s100[i+100]\n",
    "        lambda_100.append(c1+c2)\n",
    "    else:\n",
    "        break\n",
    "print(lambda_100)"
   ]
  },
  {
   "cell_type": "code",
   "execution_count": 170,
   "id": "published-arrangement",
   "metadata": {},
   "outputs": [
    {
     "name": "stdout",
     "output_type": "stream",
     "text": [
      "['RD', 'VY', 'QN', 'PY', 'TK', 'EL', 'SP', 'ID', 'VD', 'RF', 'FT', 'PG', 'NC', 'IV', 'TI', 'NA', 'LW', 'CN', 'PS', 'FN', 'GN', 'EL', 'VD', 'FS', 'NK', 'AV', 'TG', 'RG', 'FN', 'AY', 'SN', 'VY', 'YL', 'AY', 'WR', 'NL', 'RF', 'KR', 'RK', 'IS', 'SN', 'NL', 'CK', 'VP', 'AF', 'DE', 'YR', 'SD', 'VI', 'LS', 'YT', 'NE', 'SI', 'AY', 'SQ', 'FA', 'SG', 'TS', 'FT', 'KP', 'CC', 'YN', 'GG', 'VV', 'SE', 'PG', 'TF', 'KN', 'LC', 'NY', 'DF', 'LP', 'CL', 'FQ', 'TS', 'NY', 'VG', 'YF', 'AQ', 'DP', 'ST', 'FN', 'VG', 'IV', 'RG', 'GY', 'DQ', 'EP', 'VY', 'RR', 'QV', 'IV', 'AV', 'PL', 'GS', 'QF', 'TE', 'GL', 'KL', 'IH', 'AA', 'DP', 'YA', 'NT', 'YV', 'KC', 'LG', 'PP', 'DK', 'DK', 'FS', 'TT', 'GN', 'CL', 'VV', 'IK', 'AN', 'WK', 'NC', 'SV', 'NN', 'NF']\n"
     ]
    }
   ],
   "source": [
    "s101 = \"RVQPTESIVRFPNITNLCPFGEVFNATRFASVYAWNRKRISNCVADYSVLYNSASFSTFKCYGVSPTKLNDLCFTNVYADSFVIRGDEVRQIAPGQTGKIADYNYKLPDDFTGCVIAWNSNNLDSKVGGNYNYLYRLFRKSNLKPFERDISTEIYQAGSTPCNGVEGFNCYFPLQSYGFQPTNGVGYQPYRVVVLSFELLHAPATVCGPKKSTNLVKNKCVNF\"\n",
    "\n",
    "lambda_101 = []\n",
    "\n",
    "for i in range(len(s101)):\n",
    "    if(0<=i<122):\n",
    "        c1 = s101[i]\n",
    "        c2 = s101[i+101]\n",
    "        lambda_101.append(c1+c2)\n",
    "    else:\n",
    "        break\n",
    "print(lambda_101)"
   ]
  },
  {
   "cell_type": "code",
   "execution_count": 171,
   "id": "growing-grenada",
   "metadata": {},
   "outputs": [
    {
     "name": "stdout",
     "output_type": "stream",
     "text": [
      "['RY', 'VN', 'QY', 'PK', 'TL', 'EP', 'SD', 'ID', 'VF', 'RT', 'FG', 'PC', 'NV', 'II', 'TA', 'NW', 'LN', 'CS', 'PN', 'FN', 'GL', 'ED', 'VS', 'FK', 'NV', 'AG', 'TG', 'RN', 'FY', 'AN', 'SY', 'VL', 'YY', 'AR', 'WL', 'NF', 'RR', 'KK', 'RS', 'IN', 'SL', 'NK', 'CP', 'VF', 'AE', 'DR', 'YD', 'SI', 'VS', 'LT', 'YE', 'NI', 'SY', 'AQ', 'SA', 'FG', 'SS', 'TT', 'FP', 'KC', 'CN', 'YG', 'GV', 'VE', 'SG', 'PF', 'TN', 'KC', 'LY', 'NF', 'DP', 'LL', 'CQ', 'FS', 'TY', 'NG', 'VF', 'YQ', 'AP', 'DT', 'SN', 'FG', 'VV', 'IG', 'RY', 'GQ', 'DP', 'EY', 'VR', 'RV', 'QV', 'IV', 'AL', 'PS', 'GF', 'QE', 'TL', 'GL', 'KH', 'IA', 'AP', 'DA', 'YT', 'NV', 'YC', 'KG', 'LP', 'PK', 'DK', 'DS', 'FT', 'TN', 'GL', 'CV', 'VK', 'IN', 'AK', 'WC', 'NV', 'SN', 'NF']\n"
     ]
    }
   ],
   "source": [
    "s102 = \"RVQPTESIVRFPNITNLCPFGEVFNATRFASVYAWNRKRISNCVADYSVLYNSASFSTFKCYGVSPTKLNDLCFTNVYADSFVIRGDEVRQIAPGQTGKIADYNYKLPDDFTGCVIAWNSNNLDSKVGGNYNYLYRLFRKSNLKPFERDISTEIYQAGSTPCNGVEGFNCYFPLQSYGFQPTNGVGYQPYRVVVLSFELLHAPATVCGPKKSTNLVKNKCVNF\"\n",
    "\n",
    "lambda_102 = []\n",
    "\n",
    "for i in range(len(s102)):\n",
    "    if(0<=i<121):\n",
    "        c1 = s102[i]\n",
    "        c2 = s102[i+102]\n",
    "        lambda_102.append(c1+c2)\n",
    "    else:\n",
    "        break\n",
    "print(lambda_102)"
   ]
  },
  {
   "cell_type": "code",
   "execution_count": 172,
   "id": "bored-column",
   "metadata": {},
   "outputs": [
    {
     "name": "stdout",
     "output_type": "stream",
     "text": [
      "['RN', 'VY', 'QK', 'PL', 'TP', 'ED', 'SD', 'IF', 'VT', 'RG', 'FC', 'PV', 'NI', 'IA', 'TW', 'NN', 'LS', 'CN', 'PN', 'FL', 'GD', 'ES', 'VK', 'FV', 'NG', 'AG', 'TN', 'RY', 'FN', 'AY', 'SL', 'VY', 'YR', 'AL', 'WF', 'NR', 'RK', 'KS', 'RN', 'IL', 'SK', 'NP', 'CF', 'VE', 'AR', 'DD', 'YI', 'SS', 'VT', 'LE', 'YI', 'NY', 'SQ', 'AA', 'SG', 'FS', 'ST', 'TP', 'FC', 'KN', 'CG', 'YV', 'GE', 'VG', 'SF', 'PN', 'TC', 'KY', 'LF', 'NP', 'DL', 'LQ', 'CS', 'FY', 'TG', 'NF', 'VQ', 'YP', 'AT', 'DN', 'SG', 'FV', 'VG', 'IY', 'RQ', 'GP', 'DY', 'ER', 'VV', 'RV', 'QV', 'IL', 'AS', 'PF', 'GE', 'QL', 'TL', 'GH', 'KA', 'IP', 'AA', 'DT', 'YV', 'NC', 'YG', 'KP', 'LK', 'PK', 'DS', 'DT', 'FN', 'TL', 'GV', 'CK', 'VN', 'IK', 'AC', 'WV', 'NN', 'SF']\n"
     ]
    }
   ],
   "source": [
    "s103 = \"RVQPTESIVRFPNITNLCPFGEVFNATRFASVYAWNRKRISNCVADYSVLYNSASFSTFKCYGVSPTKLNDLCFTNVYADSFVIRGDEVRQIAPGQTGKIADYNYKLPDDFTGCVIAWNSNNLDSKVGGNYNYLYRLFRKSNLKPFERDISTEIYQAGSTPCNGVEGFNCYFPLQSYGFQPTNGVGYQPYRVVVLSFELLHAPATVCGPKKSTNLVKNKCVNF\"\n",
    "\n",
    "lambda_103 = []\n",
    "\n",
    "for i in range(len(s103)):\n",
    "    if(0<=i<120):\n",
    "        c1 = s103[i]\n",
    "        c2 = s103[i+103]\n",
    "        lambda_103.append(c1+c2)\n",
    "    else:\n",
    "        break\n",
    "print(lambda_103)"
   ]
  },
  {
   "cell_type": "code",
   "execution_count": 173,
   "id": "remarkable-majority",
   "metadata": {},
   "outputs": [
    {
     "name": "stdout",
     "output_type": "stream",
     "text": [
      "['RY', 'VK', 'QL', 'PP', 'TD', 'ED', 'SF', 'IT', 'VG', 'RC', 'FV', 'PI', 'NA', 'IW', 'TN', 'NS', 'LN', 'CN', 'PL', 'FD', 'GS', 'EK', 'VV', 'FG', 'NG', 'AN', 'TY', 'RN', 'FY', 'AL', 'SY', 'VR', 'YL', 'AF', 'WR', 'NK', 'RS', 'KN', 'RL', 'IK', 'SP', 'NF', 'CE', 'VR', 'AD', 'DI', 'YS', 'ST', 'VE', 'LI', 'YY', 'NQ', 'SA', 'AG', 'SS', 'FT', 'SP', 'TC', 'FN', 'KG', 'CV', 'YE', 'GG', 'VF', 'SN', 'PC', 'TY', 'KF', 'LP', 'NL', 'DQ', 'LS', 'CY', 'FG', 'TF', 'NQ', 'VP', 'YT', 'AN', 'DG', 'SV', 'FG', 'VY', 'IQ', 'RP', 'GY', 'DR', 'EV', 'VV', 'RV', 'QL', 'IS', 'AF', 'PE', 'GL', 'QL', 'TH', 'GA', 'KP', 'IA', 'AT', 'DV', 'YC', 'NG', 'YP', 'KK', 'LK', 'PS', 'DT', 'DN', 'FL', 'TV', 'GK', 'CN', 'VK', 'IC', 'AV', 'WN', 'NF']\n"
     ]
    }
   ],
   "source": [
    "s104 = \"RVQPTESIVRFPNITNLCPFGEVFNATRFASVYAWNRKRISNCVADYSVLYNSASFSTFKCYGVSPTKLNDLCFTNVYADSFVIRGDEVRQIAPGQTGKIADYNYKLPDDFTGCVIAWNSNNLDSKVGGNYNYLYRLFRKSNLKPFERDISTEIYQAGSTPCNGVEGFNCYFPLQSYGFQPTNGVGYQPYRVVVLSFELLHAPATVCGPKKSTNLVKNKCVNF\"\n",
    "\n",
    "lambda_104 = []\n",
    "\n",
    "for i in range(len(s104)):\n",
    "    if(0<=i<119):\n",
    "        c1 = s104[i]\n",
    "        c2 = s104[i+104]\n",
    "        lambda_104.append(c1+c2)\n",
    "    else:\n",
    "        break\n",
    "print(lambda_104)"
   ]
  },
  {
   "cell_type": "code",
   "execution_count": 174,
   "id": "adjustable-married",
   "metadata": {},
   "outputs": [
    {
     "name": "stdout",
     "output_type": "stream",
     "text": [
      "['RK', 'VL', 'QP', 'PD', 'TD', 'EF', 'ST', 'IG', 'VC', 'RV', 'FI', 'PA', 'NW', 'IN', 'TS', 'NN', 'LN', 'CL', 'PD', 'FS', 'GK', 'EV', 'VG', 'FG', 'NN', 'AY', 'TN', 'RY', 'FL', 'AY', 'SR', 'VL', 'YF', 'AR', 'WK', 'NS', 'RN', 'KL', 'RK', 'IP', 'SF', 'NE', 'CR', 'VD', 'AI', 'DS', 'YT', 'SE', 'VI', 'LY', 'YQ', 'NA', 'SG', 'AS', 'ST', 'FP', 'SC', 'TN', 'FG', 'KV', 'CE', 'YG', 'GF', 'VN', 'SC', 'PY', 'TF', 'KP', 'LL', 'NQ', 'DS', 'LY', 'CG', 'FF', 'TQ', 'NP', 'VT', 'YN', 'AG', 'DV', 'SG', 'FY', 'VQ', 'IP', 'RY', 'GR', 'DV', 'EV', 'VV', 'RL', 'QS', 'IF', 'AE', 'PL', 'GL', 'QH', 'TA', 'GP', 'KA', 'IT', 'AV', 'DC', 'YG', 'NP', 'YK', 'KK', 'LS', 'PT', 'DN', 'DL', 'FV', 'TK', 'GN', 'CK', 'VC', 'IV', 'AN', 'WF']\n"
     ]
    }
   ],
   "source": [
    "s105 = \"RVQPTESIVRFPNITNLCPFGEVFNATRFASVYAWNRKRISNCVADYSVLYNSASFSTFKCYGVSPTKLNDLCFTNVYADSFVIRGDEVRQIAPGQTGKIADYNYKLPDDFTGCVIAWNSNNLDSKVGGNYNYLYRLFRKSNLKPFERDISTEIYQAGSTPCNGVEGFNCYFPLQSYGFQPTNGVGYQPYRVVVLSFELLHAPATVCGPKKSTNLVKNKCVNF\"\n",
    "\n",
    "lambda_105 = []\n",
    "\n",
    "for i in range(len(s105)):\n",
    "    if(0<=i<118):\n",
    "        c1 = s105[i]\n",
    "        c2 = s105[i+105]\n",
    "        lambda_105.append(c1+c2)\n",
    "    else:\n",
    "        break\n",
    "print(lambda_105)"
   ]
  },
  {
   "cell_type": "code",
   "execution_count": 175,
   "id": "selected-fruit",
   "metadata": {},
   "outputs": [
    {
     "name": "stdout",
     "output_type": "stream",
     "text": [
      "['RL', 'VP', 'QD', 'PD', 'TF', 'ET', 'SG', 'IC', 'VV', 'RI', 'FA', 'PW', 'NN', 'IS', 'TN', 'NN', 'LL', 'CD', 'PS', 'FK', 'GV', 'EG', 'VG', 'FN', 'NY', 'AN', 'TY', 'RL', 'FY', 'AR', 'SL', 'VF', 'YR', 'AK', 'WS', 'NN', 'RL', 'KK', 'RP', 'IF', 'SE', 'NR', 'CD', 'VI', 'AS', 'DT', 'YE', 'SI', 'VY', 'LQ', 'YA', 'NG', 'SS', 'AT', 'SP', 'FC', 'SN', 'TG', 'FV', 'KE', 'CG', 'YF', 'GN', 'VC', 'SY', 'PF', 'TP', 'KL', 'LQ', 'NS', 'DY', 'LG', 'CF', 'FQ', 'TP', 'NT', 'VN', 'YG', 'AV', 'DG', 'SY', 'FQ', 'VP', 'IY', 'RR', 'GV', 'DV', 'EV', 'VL', 'RS', 'QF', 'IE', 'AL', 'PL', 'GH', 'QA', 'TP', 'GA', 'KT', 'IV', 'AC', 'DG', 'YP', 'NK', 'YK', 'KS', 'LT', 'PN', 'DL', 'DV', 'FK', 'TN', 'GK', 'CC', 'VV', 'IN', 'AF']\n"
     ]
    }
   ],
   "source": [
    "s106 = \"RVQPTESIVRFPNITNLCPFGEVFNATRFASVYAWNRKRISNCVADYSVLYNSASFSTFKCYGVSPTKLNDLCFTNVYADSFVIRGDEVRQIAPGQTGKIADYNYKLPDDFTGCVIAWNSNNLDSKVGGNYNYLYRLFRKSNLKPFERDISTEIYQAGSTPCNGVEGFNCYFPLQSYGFQPTNGVGYQPYRVVVLSFELLHAPATVCGPKKSTNLVKNKCVNF\"\n",
    "\n",
    "lambda_106 = []\n",
    "\n",
    "for i in range(len(s106)):\n",
    "    if(0<=i<117):\n",
    "        c1 = s106[i]\n",
    "        c2 = s106[i+106]\n",
    "        lambda_106.append(c1+c2)\n",
    "    else:\n",
    "        break\n",
    "print(lambda_106)"
   ]
  },
  {
   "cell_type": "code",
   "execution_count": 176,
   "id": "inside-gardening",
   "metadata": {},
   "outputs": [
    {
     "name": "stdout",
     "output_type": "stream",
     "text": [
      "['RP', 'VD', 'QD', 'PF', 'TT', 'EG', 'SC', 'IV', 'VI', 'RA', 'FW', 'PN', 'NS', 'IN', 'TN', 'NL', 'LD', 'CS', 'PK', 'FV', 'GG', 'EG', 'VN', 'FY', 'NN', 'AY', 'TL', 'RY', 'FR', 'AL', 'SF', 'VR', 'YK', 'AS', 'WN', 'NL', 'RK', 'KP', 'RF', 'IE', 'SR', 'ND', 'CI', 'VS', 'AT', 'DE', 'YI', 'SY', 'VQ', 'LA', 'YG', 'NS', 'ST', 'AP', 'SC', 'FN', 'SG', 'TV', 'FE', 'KG', 'CF', 'YN', 'GC', 'VY', 'SF', 'PP', 'TL', 'KQ', 'LS', 'NY', 'DG', 'LF', 'CQ', 'FP', 'TT', 'NN', 'VG', 'YV', 'AG', 'DY', 'SQ', 'FP', 'VY', 'IR', 'RV', 'GV', 'DV', 'EL', 'VS', 'RF', 'QE', 'IL', 'AL', 'PH', 'GA', 'QP', 'TA', 'GT', 'KV', 'IC', 'AG', 'DP', 'YK', 'NK', 'YS', 'KT', 'LN', 'PL', 'DV', 'DK', 'FN', 'TK', 'GC', 'CV', 'VN', 'IF']\n"
     ]
    }
   ],
   "source": [
    "s107 = \"RVQPTESIVRFPNITNLCPFGEVFNATRFASVYAWNRKRISNCVADYSVLYNSASFSTFKCYGVSPTKLNDLCFTNVYADSFVIRGDEVRQIAPGQTGKIADYNYKLPDDFTGCVIAWNSNNLDSKVGGNYNYLYRLFRKSNLKPFERDISTEIYQAGSTPCNGVEGFNCYFPLQSYGFQPTNGVGYQPYRVVVLSFELLHAPATVCGPKKSTNLVKNKCVNF\"\n",
    "\n",
    "lambda_107 = []\n",
    "\n",
    "for i in range(len(s107)):\n",
    "    if(0<=i<116):\n",
    "        c1 = s107[i]\n",
    "        c2 = s107[i+107]\n",
    "        lambda_107.append(c1+c2)\n",
    "    else:\n",
    "        break\n",
    "print(lambda_107)"
   ]
  },
  {
   "cell_type": "code",
   "execution_count": 177,
   "id": "saved-processing",
   "metadata": {},
   "outputs": [
    {
     "name": "stdout",
     "output_type": "stream",
     "text": [
      "['RD', 'VD', 'QF', 'PT', 'TG', 'EC', 'SV', 'II', 'VA', 'RW', 'FN', 'PS', 'NN', 'IN', 'TL', 'ND', 'LS', 'CK', 'PV', 'FG', 'GG', 'EN', 'VY', 'FN', 'NY', 'AL', 'TY', 'RR', 'FL', 'AF', 'SR', 'VK', 'YS', 'AN', 'WL', 'NK', 'RP', 'KF', 'RE', 'IR', 'SD', 'NI', 'CS', 'VT', 'AE', 'DI', 'YY', 'SQ', 'VA', 'LG', 'YS', 'NT', 'SP', 'AC', 'SN', 'FG', 'SV', 'TE', 'FG', 'KF', 'CN', 'YC', 'GY', 'VF', 'SP', 'PL', 'TQ', 'KS', 'LY', 'NG', 'DF', 'LQ', 'CP', 'FT', 'TN', 'NG', 'VV', 'YG', 'AY', 'DQ', 'SP', 'FY', 'VR', 'IV', 'RV', 'GV', 'DL', 'ES', 'VF', 'RE', 'QL', 'IL', 'AH', 'PA', 'GP', 'QA', 'TT', 'GV', 'KC', 'IG', 'AP', 'DK', 'YK', 'NS', 'YT', 'KN', 'LL', 'PV', 'DK', 'DN', 'FK', 'TC', 'GV', 'CN', 'VF']\n"
     ]
    }
   ],
   "source": [
    "s108 = \"RVQPTESIVRFPNITNLCPFGEVFNATRFASVYAWNRKRISNCVADYSVLYNSASFSTFKCYGVSPTKLNDLCFTNVYADSFVIRGDEVRQIAPGQTGKIADYNYKLPDDFTGCVIAWNSNNLDSKVGGNYNYLYRLFRKSNLKPFERDISTEIYQAGSTPCNGVEGFNCYFPLQSYGFQPTNGVGYQPYRVVVLSFELLHAPATVCGPKKSTNLVKNKCVNF\"\n",
    "\n",
    "lambda_108 = []\n",
    "\n",
    "for i in range(len(s108)):\n",
    "    if(0<=i<115):\n",
    "        c1 = s108[i]\n",
    "        c2 = s108[i+108]\n",
    "        lambda_108.append(c1+c2)\n",
    "    else:\n",
    "        break\n",
    "print(lambda_108)"
   ]
  },
  {
   "cell_type": "code",
   "execution_count": 178,
   "id": "international-elevation",
   "metadata": {},
   "outputs": [
    {
     "name": "stdout",
     "output_type": "stream",
     "text": [
      "['RD', 'VF', 'QT', 'PG', 'TC', 'EV', 'SI', 'IA', 'VW', 'RN', 'FS', 'PN', 'NN', 'IL', 'TD', 'NS', 'LK', 'CV', 'PG', 'FG', 'GN', 'EY', 'VN', 'FY', 'NL', 'AY', 'TR', 'RL', 'FF', 'AR', 'SK', 'VS', 'YN', 'AL', 'WK', 'NP', 'RF', 'KE', 'RR', 'ID', 'SI', 'NS', 'CT', 'VE', 'AI', 'DY', 'YQ', 'SA', 'VG', 'LS', 'YT', 'NP', 'SC', 'AN', 'SG', 'FV', 'SE', 'TG', 'FF', 'KN', 'CC', 'YY', 'GF', 'VP', 'SL', 'PQ', 'TS', 'KY', 'LG', 'NF', 'DQ', 'LP', 'CT', 'FN', 'TG', 'NV', 'VG', 'YY', 'AQ', 'DP', 'SY', 'FR', 'VV', 'IV', 'RV', 'GL', 'DS', 'EF', 'VE', 'RL', 'QL', 'IH', 'AA', 'PP', 'GA', 'QT', 'TV', 'GC', 'KG', 'IP', 'AK', 'DK', 'YS', 'NT', 'YN', 'KL', 'LV', 'PK', 'DN', 'DK', 'FC', 'TV', 'GN', 'CF']\n"
     ]
    }
   ],
   "source": [
    "s109 = \"RVQPTESIVRFPNITNLCPFGEVFNATRFASVYAWNRKRISNCVADYSVLYNSASFSTFKCYGVSPTKLNDLCFTNVYADSFVIRGDEVRQIAPGQTGKIADYNYKLPDDFTGCVIAWNSNNLDSKVGGNYNYLYRLFRKSNLKPFERDISTEIYQAGSTPCNGVEGFNCYFPLQSYGFQPTNGVGYQPYRVVVLSFELLHAPATVCGPKKSTNLVKNKCVNF\"\n",
    "\n",
    "lambda_109 = []\n",
    "\n",
    "for i in range(len(s109)):\n",
    "    if(0<=i<114):\n",
    "        c1 = s109[i]\n",
    "        c2 = s109[i+109]\n",
    "        lambda_109.append(c1+c2)\n",
    "    else:\n",
    "        break\n",
    "print(lambda_109)"
   ]
  },
  {
   "cell_type": "code",
   "execution_count": 179,
   "id": "crazy-offense",
   "metadata": {},
   "outputs": [
    {
     "name": "stdout",
     "output_type": "stream",
     "text": [
      "['RF', 'VT', 'QG', 'PC', 'TV', 'EI', 'SA', 'IW', 'VN', 'RS', 'FN', 'PN', 'NL', 'ID', 'TS', 'NK', 'LV', 'CG', 'PG', 'FN', 'GY', 'EN', 'VY', 'FL', 'NY', 'AR', 'TL', 'RF', 'FR', 'AK', 'SS', 'VN', 'YL', 'AK', 'WP', 'NF', 'RE', 'KR', 'RD', 'II', 'SS', 'NT', 'CE', 'VI', 'AY', 'DQ', 'YA', 'SG', 'VS', 'LT', 'YP', 'NC', 'SN', 'AG', 'SV', 'FE', 'SG', 'TF', 'FN', 'KC', 'CY', 'YF', 'GP', 'VL', 'SQ', 'PS', 'TY', 'KG', 'LF', 'NQ', 'DP', 'LT', 'CN', 'FG', 'TV', 'NG', 'VY', 'YQ', 'AP', 'DY', 'SR', 'FV', 'VV', 'IV', 'RL', 'GS', 'DF', 'EE', 'VL', 'RL', 'QH', 'IA', 'AP', 'PA', 'GT', 'QV', 'TC', 'GG', 'KP', 'IK', 'AK', 'DS', 'YT', 'NN', 'YL', 'KV', 'LK', 'PN', 'DK', 'DC', 'FV', 'TN', 'GF']\n"
     ]
    }
   ],
   "source": [
    "s110 = \"RVQPTESIVRFPNITNLCPFGEVFNATRFASVYAWNRKRISNCVADYSVLYNSASFSTFKCYGVSPTKLNDLCFTNVYADSFVIRGDEVRQIAPGQTGKIADYNYKLPDDFTGCVIAWNSNNLDSKVGGNYNYLYRLFRKSNLKPFERDISTEIYQAGSTPCNGVEGFNCYFPLQSYGFQPTNGVGYQPYRVVVLSFELLHAPATVCGPKKSTNLVKNKCVNF\"\n",
    "\n",
    "lambda_110 = []\n",
    "\n",
    "for i in range(len(s110)):\n",
    "    if(0<=i<113):\n",
    "        c1 = s110[i]\n",
    "        c2 = s110[i+110]\n",
    "        lambda_110.append(c1+c2)\n",
    "    else:\n",
    "        break\n",
    "print(lambda_110)"
   ]
  },
  {
   "cell_type": "code",
   "execution_count": 180,
   "id": "changed-bumper",
   "metadata": {},
   "outputs": [
    {
     "name": "stdout",
     "output_type": "stream",
     "text": [
      "['RT', 'VG', 'QC', 'PV', 'TI', 'EA', 'SW', 'IN', 'VS', 'RN', 'FN', 'PL', 'ND', 'IS', 'TK', 'NV', 'LG', 'CG', 'PN', 'FY', 'GN', 'EY', 'VL', 'FY', 'NR', 'AL', 'TF', 'RR', 'FK', 'AS', 'SN', 'VL', 'YK', 'AP', 'WF', 'NE', 'RR', 'KD', 'RI', 'IS', 'ST', 'NE', 'CI', 'VY', 'AQ', 'DA', 'YG', 'SS', 'VT', 'LP', 'YC', 'NN', 'SG', 'AV', 'SE', 'FG', 'SF', 'TN', 'FC', 'KY', 'CF', 'YP', 'GL', 'VQ', 'SS', 'PY', 'TG', 'KF', 'LQ', 'NP', 'DT', 'LN', 'CG', 'FV', 'TG', 'NY', 'VQ', 'YP', 'AY', 'DR', 'SV', 'FV', 'VV', 'IL', 'RS', 'GF', 'DE', 'EL', 'VL', 'RH', 'QA', 'IP', 'AA', 'PT', 'GV', 'QC', 'TG', 'GP', 'KK', 'IK', 'AS', 'DT', 'YN', 'NL', 'YV', 'KK', 'LN', 'PK', 'DC', 'DV', 'FN', 'TF']\n"
     ]
    }
   ],
   "source": [
    "s111 = \"RVQPTESIVRFPNITNLCPFGEVFNATRFASVYAWNRKRISNCVADYSVLYNSASFSTFKCYGVSPTKLNDLCFTNVYADSFVIRGDEVRQIAPGQTGKIADYNYKLPDDFTGCVIAWNSNNLDSKVGGNYNYLYRLFRKSNLKPFERDISTEIYQAGSTPCNGVEGFNCYFPLQSYGFQPTNGVGYQPYRVVVLSFELLHAPATVCGPKKSTNLVKNKCVNF\"\n",
    "\n",
    "lambda_111 = []\n",
    "\n",
    "for i in range(len(s111)):\n",
    "    if(0<=i<112):\n",
    "        c1 = s111[i]\n",
    "        c2 = s111[i+111]\n",
    "        lambda_111.append(c1+c2)\n",
    "    else:\n",
    "        break\n",
    "print(lambda_111)"
   ]
  },
  {
   "cell_type": "code",
   "execution_count": 181,
   "id": "threatened-addition",
   "metadata": {},
   "outputs": [
    {
     "name": "stdout",
     "output_type": "stream",
     "text": [
      "['RG', 'VC', 'QV', 'PI', 'TA', 'EW', 'SN', 'IS', 'VN', 'RN', 'FL', 'PD', 'NS', 'IK', 'TV', 'NG', 'LG', 'CN', 'PY', 'FN', 'GY', 'EL', 'VY', 'FR', 'NL', 'AF', 'TR', 'RK', 'FS', 'AN', 'SL', 'VK', 'YP', 'AF', 'WE', 'NR', 'RD', 'KI', 'RS', 'IT', 'SE', 'NI', 'CY', 'VQ', 'AA', 'DG', 'YS', 'ST', 'VP', 'LC', 'YN', 'NG', 'SV', 'AE', 'SG', 'FF', 'SN', 'TC', 'FY', 'KF', 'CP', 'YL', 'GQ', 'VS', 'SY', 'PG', 'TF', 'KQ', 'LP', 'NT', 'DN', 'LG', 'CV', 'FG', 'TY', 'NQ', 'VP', 'YY', 'AR', 'DV', 'SV', 'FV', 'VL', 'IS', 'RF', 'GE', 'DL', 'EL', 'VH', 'RA', 'QP', 'IA', 'AT', 'PV', 'GC', 'QG', 'TP', 'GK', 'KK', 'IS', 'AT', 'DN', 'YL', 'NV', 'YK', 'KN', 'LK', 'PC', 'DV', 'DN', 'FF']\n"
     ]
    }
   ],
   "source": [
    "s112 = \"RVQPTESIVRFPNITNLCPFGEVFNATRFASVYAWNRKRISNCVADYSVLYNSASFSTFKCYGVSPTKLNDLCFTNVYADSFVIRGDEVRQIAPGQTGKIADYNYKLPDDFTGCVIAWNSNNLDSKVGGNYNYLYRLFRKSNLKPFERDISTEIYQAGSTPCNGVEGFNCYFPLQSYGFQPTNGVGYQPYRVVVLSFELLHAPATVCGPKKSTNLVKNKCVNF\"\n",
    "\n",
    "lambda_112 = []\n",
    "\n",
    "for i in range(len(s112)):\n",
    "    if(0<=i<111):\n",
    "        c1 = s112[i]\n",
    "        c2 = s112[i+112]\n",
    "        lambda_112.append(c1+c2)\n",
    "    else:\n",
    "        break\n",
    "print(lambda_112)"
   ]
  },
  {
   "cell_type": "code",
   "execution_count": 182,
   "id": "incorrect-theta",
   "metadata": {},
   "outputs": [
    {
     "name": "stdout",
     "output_type": "stream",
     "text": [
      "['RC', 'VV', 'QI', 'PA', 'TW', 'EN', 'SS', 'IN', 'VN', 'RL', 'FD', 'PS', 'NK', 'IV', 'TG', 'NG', 'LN', 'CY', 'PN', 'FY', 'GL', 'EY', 'VR', 'FL', 'NF', 'AR', 'TK', 'RS', 'FN', 'AL', 'SK', 'VP', 'YF', 'AE', 'WR', 'ND', 'RI', 'KS', 'RT', 'IE', 'SI', 'NY', 'CQ', 'VA', 'AG', 'DS', 'YT', 'SP', 'VC', 'LN', 'YG', 'NV', 'SE', 'AG', 'SF', 'FN', 'SC', 'TY', 'FF', 'KP', 'CL', 'YQ', 'GS', 'VY', 'SG', 'PF', 'TQ', 'KP', 'LT', 'NN', 'DG', 'LV', 'CG', 'FY', 'TQ', 'NP', 'VY', 'YR', 'AV', 'DV', 'SV', 'FL', 'VS', 'IF', 'RE', 'GL', 'DL', 'EH', 'VA', 'RP', 'QA', 'IT', 'AV', 'PC', 'GG', 'QP', 'TK', 'GK', 'KS', 'IT', 'AN', 'DL', 'YV', 'NK', 'YN', 'KK', 'LC', 'PV', 'DN', 'DF']\n"
     ]
    }
   ],
   "source": [
    "s113 = \"RVQPTESIVRFPNITNLCPFGEVFNATRFASVYAWNRKRISNCVADYSVLYNSASFSTFKCYGVSPTKLNDLCFTNVYADSFVIRGDEVRQIAPGQTGKIADYNYKLPDDFTGCVIAWNSNNLDSKVGGNYNYLYRLFRKSNLKPFERDISTEIYQAGSTPCNGVEGFNCYFPLQSYGFQPTNGVGYQPYRVVVLSFELLHAPATVCGPKKSTNLVKNKCVNF\"\n",
    "\n",
    "lambda_113 = []\n",
    "\n",
    "for i in range(len(s113)):\n",
    "    if(0<=i<110):\n",
    "        c1 = s113[i]\n",
    "        c2 = s113[i+113]\n",
    "        lambda_113.append(c1+c2)\n",
    "    else:\n",
    "        break\n",
    "print(lambda_113)"
   ]
  },
  {
   "cell_type": "code",
   "execution_count": 183,
   "id": "designing-library",
   "metadata": {},
   "outputs": [
    {
     "name": "stdout",
     "output_type": "stream",
     "text": [
      "['RV', 'VI', 'QA', 'PW', 'TN', 'ES', 'SN', 'IN', 'VL', 'RD', 'FS', 'PK', 'NV', 'IG', 'TG', 'NN', 'LY', 'CN', 'PY', 'FL', 'GY', 'ER', 'VL', 'FF', 'NR', 'AK', 'TS', 'RN', 'FL', 'AK', 'SP', 'VF', 'YE', 'AR', 'WD', 'NI', 'RS', 'KT', 'RE', 'II', 'SY', 'NQ', 'CA', 'VG', 'AS', 'DT', 'YP', 'SC', 'VN', 'LG', 'YV', 'NE', 'SG', 'AF', 'SN', 'FC', 'SY', 'TF', 'FP', 'KL', 'CQ', 'YS', 'GY', 'VG', 'SF', 'PQ', 'TP', 'KT', 'LN', 'NG', 'DV', 'LG', 'CY', 'FQ', 'TP', 'NY', 'VR', 'YV', 'AV', 'DV', 'SL', 'FS', 'VF', 'IE', 'RL', 'GL', 'DH', 'EA', 'VP', 'RA', 'QT', 'IV', 'AC', 'PG', 'GP', 'QK', 'TK', 'GS', 'KT', 'IN', 'AL', 'DV', 'YK', 'NN', 'YK', 'KC', 'LV', 'PN', 'DF']\n"
     ]
    }
   ],
   "source": [
    "s114 = \"RVQPTESIVRFPNITNLCPFGEVFNATRFASVYAWNRKRISNCVADYSVLYNSASFSTFKCYGVSPTKLNDLCFTNVYADSFVIRGDEVRQIAPGQTGKIADYNYKLPDDFTGCVIAWNSNNLDSKVGGNYNYLYRLFRKSNLKPFERDISTEIYQAGSTPCNGVEGFNCYFPLQSYGFQPTNGVGYQPYRVVVLSFELLHAPATVCGPKKSTNLVKNKCVNF\"\n",
    "\n",
    "lambda_114 = []\n",
    "\n",
    "for i in range(len(s114)):\n",
    "    if(0<=i<109):\n",
    "        c1 = s114[i]\n",
    "        c2 = s114[i+114]\n",
    "        lambda_114.append(c1+c2)\n",
    "    else:\n",
    "        break\n",
    "print(lambda_114)"
   ]
  },
  {
   "cell_type": "code",
   "execution_count": 184,
   "id": "liquid-nashville",
   "metadata": {},
   "outputs": [
    {
     "name": "stdout",
     "output_type": "stream",
     "text": [
      "['RI', 'VA', 'QW', 'PN', 'TS', 'EN', 'SN', 'IL', 'VD', 'RS', 'FK', 'PV', 'NG', 'IG', 'TN', 'NY', 'LN', 'CY', 'PL', 'FY', 'GR', 'EL', 'VF', 'FR', 'NK', 'AS', 'TN', 'RL', 'FK', 'AP', 'SF', 'VE', 'YR', 'AD', 'WI', 'NS', 'RT', 'KE', 'RI', 'IY', 'SQ', 'NA', 'CG', 'VS', 'AT', 'DP', 'YC', 'SN', 'VG', 'LV', 'YE', 'NG', 'SF', 'AN', 'SC', 'FY', 'SF', 'TP', 'FL', 'KQ', 'CS', 'YY', 'GG', 'VF', 'SQ', 'PP', 'TT', 'KN', 'LG', 'NV', 'DG', 'LY', 'CQ', 'FP', 'TY', 'NR', 'VV', 'YV', 'AV', 'DL', 'SS', 'FF', 'VE', 'IL', 'RL', 'GH', 'DA', 'EP', 'VA', 'RT', 'QV', 'IC', 'AG', 'PP', 'GK', 'QK', 'TS', 'GT', 'KN', 'IL', 'AV', 'DK', 'YN', 'NK', 'YC', 'KV', 'LN', 'PF']\n"
     ]
    }
   ],
   "source": [
    "s115 = \"RVQPTESIVRFPNITNLCPFGEVFNATRFASVYAWNRKRISNCVADYSVLYNSASFSTFKCYGVSPTKLNDLCFTNVYADSFVIRGDEVRQIAPGQTGKIADYNYKLPDDFTGCVIAWNSNNLDSKVGGNYNYLYRLFRKSNLKPFERDISTEIYQAGSTPCNGVEGFNCYFPLQSYGFQPTNGVGYQPYRVVVLSFELLHAPATVCGPKKSTNLVKNKCVNF\"\n",
    "\n",
    "lambda_115 = []\n",
    "\n",
    "for i in range(len(s115)):\n",
    "    if(0<=i<108):\n",
    "        c1 = s115[i]\n",
    "        c2 = s115[i+115]\n",
    "        lambda_115.append(c1+c2)\n",
    "    else:\n",
    "        break\n",
    "print(lambda_115)"
   ]
  },
  {
   "cell_type": "code",
   "execution_count": 185,
   "id": "optical-picture",
   "metadata": {},
   "outputs": [
    {
     "name": "stdout",
     "output_type": "stream",
     "text": [
      "['RA', 'VW', 'QN', 'PS', 'TN', 'EN', 'SL', 'ID', 'VS', 'RK', 'FV', 'PG', 'NG', 'IN', 'TY', 'NN', 'LY', 'CL', 'PY', 'FR', 'GL', 'EF', 'VR', 'FK', 'NS', 'AN', 'TL', 'RK', 'FP', 'AF', 'SE', 'VR', 'YD', 'AI', 'WS', 'NT', 'RE', 'KI', 'RY', 'IQ', 'SA', 'NG', 'CS', 'VT', 'AP', 'DC', 'YN', 'SG', 'VV', 'LE', 'YG', 'NF', 'SN', 'AC', 'SY', 'FF', 'SP', 'TL', 'FQ', 'KS', 'CY', 'YG', 'GF', 'VQ', 'SP', 'PT', 'TN', 'KG', 'LV', 'NG', 'DY', 'LQ', 'CP', 'FY', 'TR', 'NV', 'VV', 'YV', 'AL', 'DS', 'SF', 'FE', 'VL', 'IL', 'RH', 'GA', 'DP', 'EA', 'VT', 'RV', 'QC', 'IG', 'AP', 'PK', 'GK', 'QS', 'TT', 'GN', 'KL', 'IV', 'AK', 'DN', 'YK', 'NC', 'YV', 'KN', 'LF']\n"
     ]
    }
   ],
   "source": [
    "s116 = \"RVQPTESIVRFPNITNLCPFGEVFNATRFASVYAWNRKRISNCVADYSVLYNSASFSTFKCYGVSPTKLNDLCFTNVYADSFVIRGDEVRQIAPGQTGKIADYNYKLPDDFTGCVIAWNSNNLDSKVGGNYNYLYRLFRKSNLKPFERDISTEIYQAGSTPCNGVEGFNCYFPLQSYGFQPTNGVGYQPYRVVVLSFELLHAPATVCGPKKSTNLVKNKCVNF\"\n",
    "\n",
    "lambda_116 = []\n",
    "\n",
    "for i in range(len(s116)):\n",
    "    if(0<=i<107):\n",
    "        c1 = s116[i]\n",
    "        c2 = s116[i+116]\n",
    "        lambda_116.append(c1+c2)\n",
    "    else:\n",
    "        break\n",
    "print(lambda_116)"
   ]
  },
  {
   "cell_type": "code",
   "execution_count": 186,
   "id": "approved-clause",
   "metadata": {},
   "outputs": [
    {
     "name": "stdout",
     "output_type": "stream",
     "text": [
      "['RW', 'VN', 'QS', 'PN', 'TN', 'EL', 'SD', 'IS', 'VK', 'RV', 'FG', 'PG', 'NN', 'IY', 'TN', 'NY', 'LL', 'CY', 'PR', 'FL', 'GF', 'ER', 'VK', 'FS', 'NN', 'AL', 'TK', 'RP', 'FF', 'AE', 'SR', 'VD', 'YI', 'AS', 'WT', 'NE', 'RI', 'KY', 'RQ', 'IA', 'SG', 'NS', 'CT', 'VP', 'AC', 'DN', 'YG', 'SV', 'VE', 'LG', 'YF', 'NN', 'SC', 'AY', 'SF', 'FP', 'SL', 'TQ', 'FS', 'KY', 'CG', 'YF', 'GQ', 'VP', 'ST', 'PN', 'TG', 'KV', 'LG', 'NY', 'DQ', 'LP', 'CY', 'FR', 'TV', 'NV', 'VV', 'YL', 'AS', 'DF', 'SE', 'FL', 'VL', 'IH', 'RA', 'GP', 'DA', 'ET', 'VV', 'RC', 'QG', 'IP', 'AK', 'PK', 'GS', 'QT', 'TN', 'GL', 'KV', 'IK', 'AN', 'DK', 'YC', 'NV', 'YN', 'KF']\n"
     ]
    }
   ],
   "source": [
    "s117 = \"RVQPTESIVRFPNITNLCPFGEVFNATRFASVYAWNRKRISNCVADYSVLYNSASFSTFKCYGVSPTKLNDLCFTNVYADSFVIRGDEVRQIAPGQTGKIADYNYKLPDDFTGCVIAWNSNNLDSKVGGNYNYLYRLFRKSNLKPFERDISTEIYQAGSTPCNGVEGFNCYFPLQSYGFQPTNGVGYQPYRVVVLSFELLHAPATVCGPKKSTNLVKNKCVNF\"\n",
    "\n",
    "lambda_117 = []\n",
    "\n",
    "for i in range(len(s117)):\n",
    "    if(0<=i<106):\n",
    "        c1 = s117[i]\n",
    "        c2 = s117[i+117]\n",
    "        lambda_117.append(c1+c2)\n",
    "    else:\n",
    "        break\n",
    "print(lambda_117)"
   ]
  },
  {
   "cell_type": "code",
   "execution_count": 187,
   "id": "comprehensive-guinea",
   "metadata": {},
   "outputs": [
    {
     "name": "stdout",
     "output_type": "stream",
     "text": [
      "['RN', 'VS', 'QN', 'PN', 'TL', 'ED', 'SS', 'IK', 'VV', 'RG', 'FG', 'PN', 'NY', 'IN', 'TY', 'NL', 'LY', 'CR', 'PL', 'FF', 'GR', 'EK', 'VS', 'FN', 'NL', 'AK', 'TP', 'RF', 'FE', 'AR', 'SD', 'VI', 'YS', 'AT', 'WE', 'NI', 'RY', 'KQ', 'RA', 'IG', 'SS', 'NT', 'CP', 'VC', 'AN', 'DG', 'YV', 'SE', 'VG', 'LF', 'YN', 'NC', 'SY', 'AF', 'SP', 'FL', 'SQ', 'TS', 'FY', 'KG', 'CF', 'YQ', 'GP', 'VT', 'SN', 'PG', 'TV', 'KG', 'LY', 'NQ', 'DP', 'LY', 'CR', 'FV', 'TV', 'NV', 'VL', 'YS', 'AF', 'DE', 'SL', 'FL', 'VH', 'IA', 'RP', 'GA', 'DT', 'EV', 'VC', 'RG', 'QP', 'IK', 'AK', 'PS', 'GT', 'QN', 'TL', 'GV', 'KK', 'IN', 'AK', 'DC', 'YV', 'NN', 'YF']\n"
     ]
    }
   ],
   "source": [
    "s118 = \"RVQPTESIVRFPNITNLCPFGEVFNATRFASVYAWNRKRISNCVADYSVLYNSASFSTFKCYGVSPTKLNDLCFTNVYADSFVIRGDEVRQIAPGQTGKIADYNYKLPDDFTGCVIAWNSNNLDSKVGGNYNYLYRLFRKSNLKPFERDISTEIYQAGSTPCNGVEGFNCYFPLQSYGFQPTNGVGYQPYRVVVLSFELLHAPATVCGPKKSTNLVKNKCVNF\"\n",
    "\n",
    "lambda_118 = []\n",
    "\n",
    "for i in range(len(s118)):\n",
    "    if(0<=i<105):\n",
    "        c1 = s118[i]\n",
    "        c2 = s118[i+118]\n",
    "        lambda_118.append(c1+c2)\n",
    "    else:\n",
    "        break\n",
    "print(lambda_118)"
   ]
  },
  {
   "cell_type": "code",
   "execution_count": 188,
   "id": "valuable-alaska",
   "metadata": {},
   "outputs": [
    {
     "name": "stdout",
     "output_type": "stream",
     "text": [
      "['RS', 'VN', 'QN', 'PL', 'TD', 'ES', 'SK', 'IV', 'VG', 'RG', 'FN', 'PY', 'NN', 'IY', 'TL', 'NY', 'LR', 'CL', 'PF', 'FR', 'GK', 'ES', 'VN', 'FL', 'NK', 'AP', 'TF', 'RE', 'FR', 'AD', 'SI', 'VS', 'YT', 'AE', 'WI', 'NY', 'RQ', 'KA', 'RG', 'IS', 'ST', 'NP', 'CC', 'VN', 'AG', 'DV', 'YE', 'SG', 'VF', 'LN', 'YC', 'NY', 'SF', 'AP', 'SL', 'FQ', 'SS', 'TY', 'FG', 'KF', 'CQ', 'YP', 'GT', 'VN', 'SG', 'PV', 'TG', 'KY', 'LQ', 'NP', 'DY', 'LR', 'CV', 'FV', 'TV', 'NL', 'VS', 'YF', 'AE', 'DL', 'SL', 'FH', 'VA', 'IP', 'RA', 'GT', 'DV', 'EC', 'VG', 'RP', 'QK', 'IK', 'AS', 'PT', 'GN', 'QL', 'TV', 'GK', 'KN', 'IK', 'AC', 'DV', 'YN', 'NF']\n"
     ]
    }
   ],
   "source": [
    "s119 = \"RVQPTESIVRFPNITNLCPFGEVFNATRFASVYAWNRKRISNCVADYSVLYNSASFSTFKCYGVSPTKLNDLCFTNVYADSFVIRGDEVRQIAPGQTGKIADYNYKLPDDFTGCVIAWNSNNLDSKVGGNYNYLYRLFRKSNLKPFERDISTEIYQAGSTPCNGVEGFNCYFPLQSYGFQPTNGVGYQPYRVVVLSFELLHAPATVCGPKKSTNLVKNKCVNF\"\n",
    "\n",
    "lambda_119 = []\n",
    "\n",
    "for i in range(len(s119)):\n",
    "    if(0<=i<104):\n",
    "        c1 = s119[i]\n",
    "        c2 = s119[i+119]\n",
    "        lambda_119.append(c1+c2)\n",
    "    else:\n",
    "        break\n",
    "print(lambda_119)"
   ]
  },
  {
   "cell_type": "code",
   "execution_count": 189,
   "id": "played-magnet",
   "metadata": {},
   "outputs": [
    {
     "name": "stdout",
     "output_type": "stream",
     "text": [
      "['RN', 'VN', 'QL', 'PD', 'TS', 'EK', 'SV', 'IG', 'VG', 'RN', 'FY', 'PN', 'NY', 'IL', 'TY', 'NR', 'LL', 'CF', 'PR', 'FK', 'GS', 'EN', 'VL', 'FK', 'NP', 'AF', 'TE', 'RR', 'FD', 'AI', 'SS', 'VT', 'YE', 'AI', 'WY', 'NQ', 'RA', 'KG', 'RS', 'IT', 'SP', 'NC', 'CN', 'VG', 'AV', 'DE', 'YG', 'SF', 'VN', 'LC', 'YY', 'NF', 'SP', 'AL', 'SQ', 'FS', 'SY', 'TG', 'FF', 'KQ', 'CP', 'YT', 'GN', 'VG', 'SV', 'PG', 'TY', 'KQ', 'LP', 'NY', 'DR', 'LV', 'CV', 'FV', 'TL', 'NS', 'VF', 'YE', 'AL', 'DL', 'SH', 'FA', 'VP', 'IA', 'RT', 'GV', 'DC', 'EG', 'VP', 'RK', 'QK', 'IS', 'AT', 'PN', 'GL', 'QV', 'TK', 'GN', 'KK', 'IC', 'AV', 'DN', 'YF']\n"
     ]
    }
   ],
   "source": [
    "s120 = \"RVQPTESIVRFPNITNLCPFGEVFNATRFASVYAWNRKRISNCVADYSVLYNSASFSTFKCYGVSPTKLNDLCFTNVYADSFVIRGDEVRQIAPGQTGKIADYNYKLPDDFTGCVIAWNSNNLDSKVGGNYNYLYRLFRKSNLKPFERDISTEIYQAGSTPCNGVEGFNCYFPLQSYGFQPTNGVGYQPYRVVVLSFELLHAPATVCGPKKSTNLVKNKCVNF\"\n",
    "\n",
    "lambda_120 = []\n",
    "\n",
    "for i in range(len(s120)):\n",
    "    if(0<=i<103):\n",
    "        c1 = s120[i]\n",
    "        c2 = s120[i+120]\n",
    "        lambda_120.append(c1+c2)\n",
    "    else:\n",
    "        break\n",
    "print(lambda_120)"
   ]
  },
  {
   "cell_type": "code",
   "execution_count": 190,
   "id": "republican-postcard",
   "metadata": {},
   "outputs": [
    {
     "name": "stdout",
     "output_type": "stream",
     "text": [
      "['RN', 'VL', 'QD', 'PS', 'TK', 'EV', 'SG', 'IG', 'VN', 'RY', 'FN', 'PY', 'NL', 'IY', 'TR', 'NL', 'LF', 'CR', 'PK', 'FS', 'GN', 'EL', 'VK', 'FP', 'NF', 'AE', 'TR', 'RD', 'FI', 'AS', 'ST', 'VE', 'YI', 'AY', 'WQ', 'NA', 'RG', 'KS', 'RT', 'IP', 'SC', 'NN', 'CG', 'VV', 'AE', 'DG', 'YF', 'SN', 'VC', 'LY', 'YF', 'NP', 'SL', 'AQ', 'SS', 'FY', 'SG', 'TF', 'FQ', 'KP', 'CT', 'YN', 'GG', 'VV', 'SG', 'PY', 'TQ', 'KP', 'LY', 'NR', 'DV', 'LV', 'CV', 'FL', 'TS', 'NF', 'VE', 'YL', 'AL', 'DH', 'SA', 'FP', 'VA', 'IT', 'RV', 'GC', 'DG', 'EP', 'VK', 'RK', 'QS', 'IT', 'AN', 'PL', 'GV', 'QK', 'TN', 'GK', 'KC', 'IV', 'AN', 'DF']\n"
     ]
    }
   ],
   "source": [
    "s121 = \"RVQPTESIVRFPNITNLCPFGEVFNATRFASVYAWNRKRISNCVADYSVLYNSASFSTFKCYGVSPTKLNDLCFTNVYADSFVIRGDEVRQIAPGQTGKIADYNYKLPDDFTGCVIAWNSNNLDSKVGGNYNYLYRLFRKSNLKPFERDISTEIYQAGSTPCNGVEGFNCYFPLQSYGFQPTNGVGYQPYRVVVLSFELLHAPATVCGPKKSTNLVKNKCVNF\"\n",
    "\n",
    "lambda_121 = []\n",
    "\n",
    "for i in range(len(s121)):\n",
    "    if(0<=i<102):\n",
    "        c1 = s121[i]\n",
    "        c2 = s121[i+121]\n",
    "        lambda_121.append(c1+c2)\n",
    "    else:\n",
    "        break\n",
    "print(lambda_121)"
   ]
  },
  {
   "cell_type": "code",
   "execution_count": 191,
   "id": "young-rebate",
   "metadata": {},
   "outputs": [
    {
     "name": "stdout",
     "output_type": "stream",
     "text": [
      "['RL', 'VD', 'QS', 'PK', 'TV', 'EG', 'SG', 'IN', 'VY', 'RN', 'FY', 'PL', 'NY', 'IR', 'TL', 'NF', 'LR', 'CK', 'PS', 'FN', 'GL', 'EK', 'VP', 'FF', 'NE', 'AR', 'TD', 'RI', 'FS', 'AT', 'SE', 'VI', 'YY', 'AQ', 'WA', 'NG', 'RS', 'KT', 'RP', 'IC', 'SN', 'NG', 'CV', 'VE', 'AG', 'DF', 'YN', 'SC', 'VY', 'LF', 'YP', 'NL', 'SQ', 'AS', 'SY', 'FG', 'SF', 'TQ', 'FP', 'KT', 'CN', 'YG', 'GV', 'VG', 'SY', 'PQ', 'TP', 'KY', 'LR', 'NV', 'DV', 'LV', 'CL', 'FS', 'TF', 'NE', 'VL', 'YL', 'AH', 'DA', 'SP', 'FA', 'VT', 'IV', 'RC', 'GG', 'DP', 'EK', 'VK', 'RS', 'QT', 'IN', 'AL', 'PV', 'GK', 'QN', 'TK', 'GC', 'KV', 'IN', 'AF']\n"
     ]
    }
   ],
   "source": [
    "s122 = \"RVQPTESIVRFPNITNLCPFGEVFNATRFASVYAWNRKRISNCVADYSVLYNSASFSTFKCYGVSPTKLNDLCFTNVYADSFVIRGDEVRQIAPGQTGKIADYNYKLPDDFTGCVIAWNSNNLDSKVGGNYNYLYRLFRKSNLKPFERDISTEIYQAGSTPCNGVEGFNCYFPLQSYGFQPTNGVGYQPYRVVVLSFELLHAPATVCGPKKSTNLVKNKCVNF\"\n",
    "\n",
    "lambda_122 = []\n",
    "\n",
    "for i in range(len(s122)):\n",
    "    if(0<=i<101):\n",
    "        c1 = s122[i]\n",
    "        c2 = s122[i+122]\n",
    "        lambda_122.append(c1+c2)\n",
    "    else:\n",
    "        break\n",
    "print(lambda_122)"
   ]
  },
  {
   "cell_type": "code",
   "execution_count": 192,
   "id": "split-mother",
   "metadata": {},
   "outputs": [
    {
     "name": "stdout",
     "output_type": "stream",
     "text": [
      "['RD', 'VS', 'QK', 'PV', 'TG', 'EG', 'SN', 'IY', 'VN', 'RY', 'FL', 'PY', 'NR', 'IL', 'TF', 'NR', 'LK', 'CS', 'PN', 'FL', 'GK', 'EP', 'VF', 'FE', 'NR', 'AD', 'TI', 'RS', 'FT', 'AE', 'SI', 'VY', 'YQ', 'AA', 'WG', 'NS', 'RT', 'KP', 'RC', 'IN', 'SG', 'NV', 'CE', 'VG', 'AF', 'DN', 'YC', 'SY', 'VF', 'LP', 'YL', 'NQ', 'SS', 'AY', 'SG', 'FF', 'SQ', 'TP', 'FT', 'KN', 'CG', 'YV', 'GG', 'VY', 'SQ', 'PP', 'TY', 'KR', 'LV', 'NV', 'DV', 'LL', 'CS', 'FF', 'TE', 'NL', 'VL', 'YH', 'AA', 'DP', 'SA', 'FT', 'VV', 'IC', 'RG', 'GP', 'DK', 'EK', 'VS', 'RT', 'QN', 'IL', 'AV', 'PK', 'GN', 'QK', 'TC', 'GV', 'KN', 'IF']\n"
     ]
    }
   ],
   "source": [
    "s123 = \"RVQPTESIVRFPNITNLCPFGEVFNATRFASVYAWNRKRISNCVADYSVLYNSASFSTFKCYGVSPTKLNDLCFTNVYADSFVIRGDEVRQIAPGQTGKIADYNYKLPDDFTGCVIAWNSNNLDSKVGGNYNYLYRLFRKSNLKPFERDISTEIYQAGSTPCNGVEGFNCYFPLQSYGFQPTNGVGYQPYRVVVLSFELLHAPATVCGPKKSTNLVKNKCVNF\"\n",
    "\n",
    "lambda_123 = []\n",
    "\n",
    "for i in range(len(s123)):\n",
    "    if(0<=i<100):\n",
    "        c1 = s123[i]\n",
    "        c2 = s123[i+123]\n",
    "        lambda_123.append(c1+c2)\n",
    "    else:\n",
    "        break\n",
    "print(lambda_123)"
   ]
  },
  {
   "cell_type": "code",
   "execution_count": 193,
   "id": "killing-synthetic",
   "metadata": {},
   "outputs": [
    {
     "name": "stdout",
     "output_type": "stream",
     "text": [
      "['RS', 'VK', 'QV', 'PG', 'TG', 'EN', 'SY', 'IN', 'VY', 'RL', 'FY', 'PR', 'NL', 'IF', 'TR', 'NK', 'LS', 'CN', 'PL', 'FK', 'GP', 'EF', 'VE', 'FR', 'ND', 'AI', 'TS', 'RT', 'FE', 'AI', 'SY', 'VQ', 'YA', 'AG', 'WS', 'NT', 'RP', 'KC', 'RN', 'IG', 'SV', 'NE', 'CG', 'VF', 'AN', 'DC', 'YY', 'SF', 'VP', 'LL', 'YQ', 'NS', 'SY', 'AG', 'SF', 'FQ', 'SP', 'TT', 'FN', 'KG', 'CV', 'YG', 'GY', 'VQ', 'SP', 'PY', 'TR', 'KV', 'LV', 'NV', 'DL', 'LS', 'CF', 'FE', 'TL', 'NL', 'VH', 'YA', 'AP', 'DA', 'ST', 'FV', 'VC', 'IG', 'RP', 'GK', 'DK', 'ES', 'VT', 'RN', 'QL', 'IV', 'AK', 'PN', 'GK', 'QC', 'TV', 'GN', 'KF']\n"
     ]
    }
   ],
   "source": [
    "s124 = \"RVQPTESIVRFPNITNLCPFGEVFNATRFASVYAWNRKRISNCVADYSVLYNSASFSTFKCYGVSPTKLNDLCFTNVYADSFVIRGDEVRQIAPGQTGKIADYNYKLPDDFTGCVIAWNSNNLDSKVGGNYNYLYRLFRKSNLKPFERDISTEIYQAGSTPCNGVEGFNCYFPLQSYGFQPTNGVGYQPYRVVVLSFELLHAPATVCGPKKSTNLVKNKCVNF\"\n",
    "\n",
    "lambda_124 = []\n",
    "\n",
    "for i in range(len(s124)):\n",
    "    if(0<=i<99):\n",
    "        c1 = s124[i]\n",
    "        c2 = s124[i+124]\n",
    "        lambda_124.append(c1+c2)\n",
    "    else:\n",
    "        break\n",
    "print(lambda_124)"
   ]
  },
  {
   "cell_type": "code",
   "execution_count": 194,
   "id": "religious-mentor",
   "metadata": {},
   "outputs": [
    {
     "name": "stdout",
     "output_type": "stream",
     "text": [
      "['RK', 'VV', 'QG', 'PG', 'TN', 'EY', 'SN', 'IY', 'VL', 'RY', 'FR', 'PL', 'NF', 'IR', 'TK', 'NS', 'LN', 'CL', 'PK', 'FP', 'GF', 'EE', 'VR', 'FD', 'NI', 'AS', 'TT', 'RE', 'FI', 'AY', 'SQ', 'VA', 'YG', 'AS', 'WT', 'NP', 'RC', 'KN', 'RG', 'IV', 'SE', 'NG', 'CF', 'VN', 'AC', 'DY', 'YF', 'SP', 'VL', 'LQ', 'YS', 'NY', 'SG', 'AF', 'SQ', 'FP', 'ST', 'TN', 'FG', 'KV', 'CG', 'YY', 'GQ', 'VP', 'SY', 'PR', 'TV', 'KV', 'LV', 'NL', 'DS', 'LF', 'CE', 'FL', 'TL', 'NH', 'VA', 'YP', 'AA', 'DT', 'SV', 'FC', 'VG', 'IP', 'RK', 'GK', 'DS', 'ET', 'VN', 'RL', 'QV', 'IK', 'AN', 'PK', 'GC', 'QV', 'TN', 'GF']\n"
     ]
    }
   ],
   "source": [
    "s125 = \"RVQPTESIVRFPNITNLCPFGEVFNATRFASVYAWNRKRISNCVADYSVLYNSASFSTFKCYGVSPTKLNDLCFTNVYADSFVIRGDEVRQIAPGQTGKIADYNYKLPDDFTGCVIAWNSNNLDSKVGGNYNYLYRLFRKSNLKPFERDISTEIYQAGSTPCNGVEGFNCYFPLQSYGFQPTNGVGYQPYRVVVLSFELLHAPATVCGPKKSTNLVKNKCVNF\"\n",
    "\n",
    "lambda_125 = []\n",
    "\n",
    "for i in range(len(s125)):\n",
    "    if(0<=i<98):\n",
    "        c1 = s125[i]\n",
    "        c2 = s125[i+125]\n",
    "        lambda_125.append(c1+c2)\n",
    "    else:\n",
    "        break\n",
    "print(lambda_125)"
   ]
  },
  {
   "cell_type": "code",
   "execution_count": 195,
   "id": "peaceful-activation",
   "metadata": {},
   "outputs": [
    {
     "name": "stdout",
     "output_type": "stream",
     "text": [
      "['RV', 'VG', 'QG', 'PN', 'TY', 'EN', 'SY', 'IL', 'VY', 'RR', 'FL', 'PF', 'NR', 'IK', 'TS', 'NN', 'LL', 'CK', 'PP', 'FF', 'GE', 'ER', 'VD', 'FI', 'NS', 'AT', 'TE', 'RI', 'FY', 'AQ', 'SA', 'VG', 'YS', 'AT', 'WP', 'NC', 'RN', 'KG', 'RV', 'IE', 'SG', 'NF', 'CN', 'VC', 'AY', 'DF', 'YP', 'SL', 'VQ', 'LS', 'YY', 'NG', 'SF', 'AQ', 'SP', 'FT', 'SN', 'TG', 'FV', 'KG', 'CY', 'YQ', 'GP', 'VY', 'SR', 'PV', 'TV', 'KV', 'LL', 'NS', 'DF', 'LE', 'CL', 'FL', 'TH', 'NA', 'VP', 'YA', 'AT', 'DV', 'SC', 'FG', 'VP', 'IK', 'RK', 'GS', 'DT', 'EN', 'VL', 'RV', 'QK', 'IN', 'AK', 'PC', 'GV', 'QN', 'TF']\n"
     ]
    }
   ],
   "source": [
    "s126 = \"RVQPTESIVRFPNITNLCPFGEVFNATRFASVYAWNRKRISNCVADYSVLYNSASFSTFKCYGVSPTKLNDLCFTNVYADSFVIRGDEVRQIAPGQTGKIADYNYKLPDDFTGCVIAWNSNNLDSKVGGNYNYLYRLFRKSNLKPFERDISTEIYQAGSTPCNGVEGFNCYFPLQSYGFQPTNGVGYQPYRVVVLSFELLHAPATVCGPKKSTNLVKNKCVNF\"\n",
    "\n",
    "lambda_126 = []\n",
    "\n",
    "for i in range(len(s126)):\n",
    "    if(0<=i<97):\n",
    "        c1 = s126[i]\n",
    "        c2 = s126[i+126]\n",
    "        lambda_126.append(c1+c2)\n",
    "    else:\n",
    "        break\n",
    "print(lambda_126)"
   ]
  },
  {
   "cell_type": "code",
   "execution_count": 196,
   "id": "italic-globe",
   "metadata": {},
   "outputs": [
    {
     "name": "stdout",
     "output_type": "stream",
     "text": [
      "['RG', 'VG', 'QN', 'PY', 'TN', 'EY', 'SL', 'IY', 'VR', 'RL', 'FF', 'PR', 'NK', 'IS', 'TN', 'NL', 'LK', 'CP', 'PF', 'FE', 'GR', 'ED', 'VI', 'FS', 'NT', 'AE', 'TI', 'RY', 'FQ', 'AA', 'SG', 'VS', 'YT', 'AP', 'WC', 'NN', 'RG', 'KV', 'RE', 'IG', 'SF', 'NN', 'CC', 'VY', 'AF', 'DP', 'YL', 'SQ', 'VS', 'LY', 'YG', 'NF', 'SQ', 'AP', 'ST', 'FN', 'SG', 'TV', 'FG', 'KY', 'CQ', 'YP', 'GY', 'VR', 'SV', 'PV', 'TV', 'KL', 'LS', 'NF', 'DE', 'LL', 'CL', 'FH', 'TA', 'NP', 'VA', 'YT', 'AV', 'DC', 'SG', 'FP', 'VK', 'IK', 'RS', 'GT', 'DN', 'EL', 'VV', 'RK', 'QN', 'IK', 'AC', 'PV', 'GN', 'QF']\n"
     ]
    }
   ],
   "source": [
    "s127 = \"RVQPTESIVRFPNITNLCPFGEVFNATRFASVYAWNRKRISNCVADYSVLYNSASFSTFKCYGVSPTKLNDLCFTNVYADSFVIRGDEVRQIAPGQTGKIADYNYKLPDDFTGCVIAWNSNNLDSKVGGNYNYLYRLFRKSNLKPFERDISTEIYQAGSTPCNGVEGFNCYFPLQSYGFQPTNGVGYQPYRVVVLSFELLHAPATVCGPKKSTNLVKNKCVNF\"\n",
    "\n",
    "lambda_127 = []\n",
    "\n",
    "for i in range(len(s127)):\n",
    "    if(0<=i<96):\n",
    "        c1 = s127[i]\n",
    "        c2 = s127[i+127]\n",
    "        lambda_127.append(c1+c2)\n",
    "    else:\n",
    "        break\n",
    "print(lambda_127)"
   ]
  },
  {
   "cell_type": "code",
   "execution_count": 197,
   "id": "compact-imaging",
   "metadata": {},
   "outputs": [
    {
     "name": "stdout",
     "output_type": "stream",
     "text": [
      "['RG', 'VN', 'QY', 'PN', 'TY', 'EL', 'SY', 'IR', 'VL', 'RF', 'FR', 'PK', 'NS', 'IN', 'TL', 'NK', 'LP', 'CF', 'PE', 'FR', 'GD', 'EI', 'VS', 'FT', 'NE', 'AI', 'TY', 'RQ', 'FA', 'AG', 'SS', 'VT', 'YP', 'AC', 'WN', 'NG', 'RV', 'KE', 'RG', 'IF', 'SN', 'NC', 'CY', 'VF', 'AP', 'DL', 'YQ', 'SS', 'VY', 'LG', 'YF', 'NQ', 'SP', 'AT', 'SN', 'FG', 'SV', 'TG', 'FY', 'KQ', 'CP', 'YY', 'GR', 'VV', 'SV', 'PV', 'TL', 'KS', 'LF', 'NE', 'DL', 'LL', 'CH', 'FA', 'TP', 'NA', 'VT', 'YV', 'AC', 'DG', 'SP', 'FK', 'VK', 'IS', 'RT', 'GN', 'DL', 'EV', 'VK', 'RN', 'QK', 'IC', 'AV', 'PN', 'GF']\n"
     ]
    }
   ],
   "source": [
    "s128 = \"RVQPTESIVRFPNITNLCPFGEVFNATRFASVYAWNRKRISNCVADYSVLYNSASFSTFKCYGVSPTKLNDLCFTNVYADSFVIRGDEVRQIAPGQTGKIADYNYKLPDDFTGCVIAWNSNNLDSKVGGNYNYLYRLFRKSNLKPFERDISTEIYQAGSTPCNGVEGFNCYFPLQSYGFQPTNGVGYQPYRVVVLSFELLHAPATVCGPKKSTNLVKNKCVNF\"\n",
    "\n",
    "lambda_128 = []\n",
    "\n",
    "for i in range(len(s128)):\n",
    "    if(0<=i<95):\n",
    "        c1 = s128[i]\n",
    "        c2 = s128[i+128]\n",
    "        lambda_128.append(c1+c2)\n",
    "    else:\n",
    "        break\n",
    "print(lambda_128)"
   ]
  },
  {
   "cell_type": "code",
   "execution_count": 198,
   "id": "thirty-smoke",
   "metadata": {},
   "outputs": [
    {
     "name": "stdout",
     "output_type": "stream",
     "text": [
      "['RN', 'VY', 'QN', 'PY', 'TL', 'EY', 'SR', 'IL', 'VF', 'RR', 'FK', 'PS', 'NN', 'IL', 'TK', 'NP', 'LF', 'CE', 'PR', 'FD', 'GI', 'ES', 'VT', 'FE', 'NI', 'AY', 'TQ', 'RA', 'FG', 'AS', 'ST', 'VP', 'YC', 'AN', 'WG', 'NV', 'RE', 'KG', 'RF', 'IN', 'SC', 'NY', 'CF', 'VP', 'AL', 'DQ', 'YS', 'SY', 'VG', 'LF', 'YQ', 'NP', 'ST', 'AN', 'SG', 'FV', 'SG', 'TY', 'FQ', 'KP', 'CY', 'YR', 'GV', 'VV', 'SV', 'PL', 'TS', 'KF', 'LE', 'NL', 'DL', 'LH', 'CA', 'FP', 'TA', 'NT', 'VV', 'YC', 'AG', 'DP', 'SK', 'FK', 'VS', 'IT', 'RN', 'GL', 'DV', 'EK', 'VN', 'RK', 'QC', 'IV', 'AN', 'PF']\n"
     ]
    }
   ],
   "source": [
    "s129 = \"RVQPTESIVRFPNITNLCPFGEVFNATRFASVYAWNRKRISNCVADYSVLYNSASFSTFKCYGVSPTKLNDLCFTNVYADSFVIRGDEVRQIAPGQTGKIADYNYKLPDDFTGCVIAWNSNNLDSKVGGNYNYLYRLFRKSNLKPFERDISTEIYQAGSTPCNGVEGFNCYFPLQSYGFQPTNGVGYQPYRVVVLSFELLHAPATVCGPKKSTNLVKNKCVNF\"\n",
    "\n",
    "lambda_129 = []\n",
    "\n",
    "for i in range(len(s129)):\n",
    "    if(0<=i<94):\n",
    "        c1 = s129[i]\n",
    "        c2 = s129[i+129]\n",
    "        lambda_129.append(c1+c2)\n",
    "    else:\n",
    "        break\n",
    "print(lambda_129)"
   ]
  },
  {
   "cell_type": "code",
   "execution_count": 199,
   "id": "extended-florist",
   "metadata": {},
   "outputs": [
    {
     "name": "stdout",
     "output_type": "stream",
     "text": [
      "['RY', 'VN', 'QY', 'PL', 'TY', 'ER', 'SL', 'IF', 'VR', 'RK', 'FS', 'PN', 'NL', 'IK', 'TP', 'NF', 'LE', 'CR', 'PD', 'FI', 'GS', 'ET', 'VE', 'FI', 'NY', 'AQ', 'TA', 'RG', 'FS', 'AT', 'SP', 'VC', 'YN', 'AG', 'WV', 'NE', 'RG', 'KF', 'RN', 'IC', 'SY', 'NF', 'CP', 'VL', 'AQ', 'DS', 'YY', 'SG', 'VF', 'LQ', 'YP', 'NT', 'SN', 'AG', 'SV', 'FG', 'SY', 'TQ', 'FP', 'KY', 'CR', 'YV', 'GV', 'VV', 'SL', 'PS', 'TF', 'KE', 'LL', 'NL', 'DH', 'LA', 'CP', 'FA', 'TT', 'NV', 'VC', 'YG', 'AP', 'DK', 'SK', 'FS', 'VT', 'IN', 'RL', 'GV', 'DK', 'EN', 'VK', 'RC', 'QV', 'IN', 'AF']\n"
     ]
    }
   ],
   "source": [
    "s130 = \"RVQPTESIVRFPNITNLCPFGEVFNATRFASVYAWNRKRISNCVADYSVLYNSASFSTFKCYGVSPTKLNDLCFTNVYADSFVIRGDEVRQIAPGQTGKIADYNYKLPDDFTGCVIAWNSNNLDSKVGGNYNYLYRLFRKSNLKPFERDISTEIYQAGSTPCNGVEGFNCYFPLQSYGFQPTNGVGYQPYRVVVLSFELLHAPATVCGPKKSTNLVKNKCVNF\"\n",
    "\n",
    "lambda_130 = []\n",
    "\n",
    "for i in range(len(s130)):\n",
    "    if(0<=i<93):\n",
    "        c1 = s130[i]\n",
    "        c2 = s130[i+130]\n",
    "        lambda_130.append(c1+c2)\n",
    "    else:\n",
    "        break\n",
    "print(lambda_130)"
   ]
  },
  {
   "cell_type": "code",
   "execution_count": 200,
   "id": "physical-shopping",
   "metadata": {},
   "outputs": [
    {
     "name": "stdout",
     "output_type": "stream",
     "text": [
      "['RN', 'VY', 'QL', 'PY', 'TR', 'EL', 'SF', 'IR', 'VK', 'RS', 'FN', 'PL', 'NK', 'IP', 'TF', 'NE', 'LR', 'CD', 'PI', 'FS', 'GT', 'EE', 'VI', 'FY', 'NQ', 'AA', 'TG', 'RS', 'FT', 'AP', 'SC', 'VN', 'YG', 'AV', 'WE', 'NG', 'RF', 'KN', 'RC', 'IY', 'SF', 'NP', 'CL', 'VQ', 'AS', 'DY', 'YG', 'SF', 'VQ', 'LP', 'YT', 'NN', 'SG', 'AV', 'SG', 'FY', 'SQ', 'TP', 'FY', 'KR', 'CV', 'YV', 'GV', 'VL', 'SS', 'PF', 'TE', 'KL', 'LL', 'NH', 'DA', 'LP', 'CA', 'FT', 'TV', 'NC', 'VG', 'YP', 'AK', 'DK', 'SS', 'FT', 'VN', 'IL', 'RV', 'GK', 'DN', 'EK', 'VC', 'RV', 'QN', 'IF']\n"
     ]
    }
   ],
   "source": [
    "s131 = \"RVQPTESIVRFPNITNLCPFGEVFNATRFASVYAWNRKRISNCVADYSVLYNSASFSTFKCYGVSPTKLNDLCFTNVYADSFVIRGDEVRQIAPGQTGKIADYNYKLPDDFTGCVIAWNSNNLDSKVGGNYNYLYRLFRKSNLKPFERDISTEIYQAGSTPCNGVEGFNCYFPLQSYGFQPTNGVGYQPYRVVVLSFELLHAPATVCGPKKSTNLVKNKCVNF\"\n",
    "\n",
    "lambda_131 = []\n",
    "\n",
    "for i in range(len(s131)):\n",
    "    if(0<=i<92):\n",
    "        c1 = s131[i]\n",
    "        c2 = s131[i+131]\n",
    "        lambda_131.append(c1+c2)\n",
    "    else:\n",
    "        break\n",
    "print(lambda_131)"
   ]
  },
  {
   "cell_type": "code",
   "execution_count": 201,
   "id": "private-track",
   "metadata": {},
   "outputs": [
    {
     "name": "stdout",
     "output_type": "stream",
     "text": [
      "['RY', 'VL', 'QY', 'PR', 'TL', 'EF', 'SR', 'IK', 'VS', 'RN', 'FL', 'PK', 'NP', 'IF', 'TE', 'NR', 'LD', 'CI', 'PS', 'FT', 'GE', 'EI', 'VY', 'FQ', 'NA', 'AG', 'TS', 'RT', 'FP', 'AC', 'SN', 'VG', 'YV', 'AE', 'WG', 'NF', 'RN', 'KC', 'RY', 'IF', 'SP', 'NL', 'CQ', 'VS', 'AY', 'DG', 'YF', 'SQ', 'VP', 'LT', 'YN', 'NG', 'SV', 'AG', 'SY', 'FQ', 'SP', 'TY', 'FR', 'KV', 'CV', 'YV', 'GL', 'VS', 'SF', 'PE', 'TL', 'KL', 'LH', 'NA', 'DP', 'LA', 'CT', 'FV', 'TC', 'NG', 'VP', 'YK', 'AK', 'DS', 'ST', 'FN', 'VL', 'IV', 'RK', 'GN', 'DK', 'EC', 'VV', 'RN', 'QF']\n"
     ]
    }
   ],
   "source": [
    "s132 = \"RVQPTESIVRFPNITNLCPFGEVFNATRFASVYAWNRKRISNCVADYSVLYNSASFSTFKCYGVSPTKLNDLCFTNVYADSFVIRGDEVRQIAPGQTGKIADYNYKLPDDFTGCVIAWNSNNLDSKVGGNYNYLYRLFRKSNLKPFERDISTEIYQAGSTPCNGVEGFNCYFPLQSYGFQPTNGVGYQPYRVVVLSFELLHAPATVCGPKKSTNLVKNKCVNF\"\n",
    "\n",
    "lambda_132 = []\n",
    "\n",
    "for i in range(len(s132)):\n",
    "    if(0<=i<91):\n",
    "        c1 = s132[i]\n",
    "        c2 = s132[i+132]\n",
    "        lambda_132.append(c1+c2)\n",
    "    else:\n",
    "        break\n",
    "print(lambda_132)"
   ]
  },
  {
   "cell_type": "code",
   "execution_count": 202,
   "id": "wired-fleet",
   "metadata": {},
   "outputs": [
    {
     "name": "stdout",
     "output_type": "stream",
     "text": [
      "['RL', 'VY', 'QR', 'PL', 'TF', 'ER', 'SK', 'IS', 'VN', 'RL', 'FK', 'PP', 'NF', 'IE', 'TR', 'ND', 'LI', 'CS', 'PT', 'FE', 'GI', 'EY', 'VQ', 'FA', 'NG', 'AS', 'TT', 'RP', 'FC', 'AN', 'SG', 'VV', 'YE', 'AG', 'WF', 'NN', 'RC', 'KY', 'RF', 'IP', 'SL', 'NQ', 'CS', 'VY', 'AG', 'DF', 'YQ', 'SP', 'VT', 'LN', 'YG', 'NV', 'SG', 'AY', 'SQ', 'FP', 'SY', 'TR', 'FV', 'KV', 'CV', 'YL', 'GS', 'VF', 'SE', 'PL', 'TL', 'KH', 'LA', 'NP', 'DA', 'LT', 'CV', 'FC', 'TG', 'NP', 'VK', 'YK', 'AS', 'DT', 'SN', 'FL', 'VV', 'IK', 'RN', 'GK', 'DC', 'EV', 'VN', 'RF']\n"
     ]
    }
   ],
   "source": [
    "s133 = \"RVQPTESIVRFPNITNLCPFGEVFNATRFASVYAWNRKRISNCVADYSVLYNSASFSTFKCYGVSPTKLNDLCFTNVYADSFVIRGDEVRQIAPGQTGKIADYNYKLPDDFTGCVIAWNSNNLDSKVGGNYNYLYRLFRKSNLKPFERDISTEIYQAGSTPCNGVEGFNCYFPLQSYGFQPTNGVGYQPYRVVVLSFELLHAPATVCGPKKSTNLVKNKCVNF\"\n",
    "\n",
    "lambda_133 = []\n",
    "\n",
    "for i in range(len(s133)):\n",
    "    if(0<=i<90):\n",
    "        c1 = s133[i]\n",
    "        c2 = s133[i+133]\n",
    "        lambda_133.append(c1+c2)\n",
    "    else:\n",
    "        break\n",
    "print(lambda_133)"
   ]
  },
  {
   "cell_type": "code",
   "execution_count": 203,
   "id": "phantom-practitioner",
   "metadata": {},
   "outputs": [
    {
     "name": "stdout",
     "output_type": "stream",
     "text": [
      "['RY', 'VR', 'QL', 'PF', 'TR', 'EK', 'SS', 'IN', 'VL', 'RK', 'FP', 'PF', 'NE', 'IR', 'TD', 'NI', 'LS', 'CT', 'PE', 'FI', 'GY', 'EQ', 'VA', 'FG', 'NS', 'AT', 'TP', 'RC', 'FN', 'AG', 'SV', 'VE', 'YG', 'AF', 'WN', 'NC', 'RY', 'KF', 'RP', 'IL', 'SQ', 'NS', 'CY', 'VG', 'AF', 'DQ', 'YP', 'ST', 'VN', 'LG', 'YV', 'NG', 'SY', 'AQ', 'SP', 'FY', 'SR', 'TV', 'FV', 'KV', 'CL', 'YS', 'GF', 'VE', 'SL', 'PL', 'TH', 'KA', 'LP', 'NA', 'DT', 'LV', 'CC', 'FG', 'TP', 'NK', 'VK', 'YS', 'AT', 'DN', 'SL', 'FV', 'VK', 'IN', 'RK', 'GC', 'DV', 'EN', 'VF']\n"
     ]
    }
   ],
   "source": [
    "s134 = \"RVQPTESIVRFPNITNLCPFGEVFNATRFASVYAWNRKRISNCVADYSVLYNSASFSTFKCYGVSPTKLNDLCFTNVYADSFVIRGDEVRQIAPGQTGKIADYNYKLPDDFTGCVIAWNSNNLDSKVGGNYNYLYRLFRKSNLKPFERDISTEIYQAGSTPCNGVEGFNCYFPLQSYGFQPTNGVGYQPYRVVVLSFELLHAPATVCGPKKSTNLVKNKCVNF\"\n",
    "\n",
    "lambda_134 = []\n",
    "\n",
    "for i in range(len(s134)):\n",
    "    if(0<=i<89):\n",
    "        c1 = s134[i]\n",
    "        c2 = s134[i+134]\n",
    "        lambda_134.append(c1+c2)\n",
    "    else:\n",
    "        break\n",
    "print(lambda_134)"
   ]
  },
  {
   "cell_type": "code",
   "execution_count": 204,
   "id": "hindu-services",
   "metadata": {},
   "outputs": [
    {
     "name": "stdout",
     "output_type": "stream",
     "text": [
      "['RR', 'VL', 'QF', 'PR', 'TK', 'ES', 'SN', 'IL', 'VK', 'RP', 'FF', 'PE', 'NR', 'ID', 'TI', 'NS', 'LT', 'CE', 'PI', 'FY', 'GQ', 'EA', 'VG', 'FS', 'NT', 'AP', 'TC', 'RN', 'FG', 'AV', 'SE', 'VG', 'YF', 'AN', 'WC', 'NY', 'RF', 'KP', 'RL', 'IQ', 'SS', 'NY', 'CG', 'VF', 'AQ', 'DP', 'YT', 'SN', 'VG', 'LV', 'YG', 'NY', 'SQ', 'AP', 'SY', 'FR', 'SV', 'TV', 'FV', 'KL', 'CS', 'YF', 'GE', 'VL', 'SL', 'PH', 'TA', 'KP', 'LA', 'NT', 'DV', 'LC', 'CG', 'FP', 'TK', 'NK', 'VS', 'YT', 'AN', 'DL', 'SV', 'FK', 'VN', 'IK', 'RC', 'GV', 'DN', 'EF']\n"
     ]
    }
   ],
   "source": [
    "s135 = \"RVQPTESIVRFPNITNLCPFGEVFNATRFASVYAWNRKRISNCVADYSVLYNSASFSTFKCYGVSPTKLNDLCFTNVYADSFVIRGDEVRQIAPGQTGKIADYNYKLPDDFTGCVIAWNSNNLDSKVGGNYNYLYRLFRKSNLKPFERDISTEIYQAGSTPCNGVEGFNCYFPLQSYGFQPTNGVGYQPYRVVVLSFELLHAPATVCGPKKSTNLVKNKCVNF\"\n",
    "\n",
    "lambda_135 = []\n",
    "\n",
    "for i in range(len(s135)):\n",
    "    if(0<=i<88):\n",
    "        c1 = s135[i]\n",
    "        c2 = s135[i+135]\n",
    "        lambda_135.append(c1+c2)\n",
    "    else:\n",
    "        break\n",
    "print(lambda_135)"
   ]
  },
  {
   "cell_type": "code",
   "execution_count": 205,
   "id": "phantom-pursuit",
   "metadata": {},
   "outputs": [
    {
     "name": "stdout",
     "output_type": "stream",
     "text": [
      "['RL', 'VF', 'QR', 'PK', 'TS', 'EN', 'SL', 'IK', 'VP', 'RF', 'FE', 'PR', 'ND', 'II', 'TS', 'NT', 'LE', 'CI', 'PY', 'FQ', 'GA', 'EG', 'VS', 'FT', 'NP', 'AC', 'TN', 'RG', 'FV', 'AE', 'SG', 'VF', 'YN', 'AC', 'WY', 'NF', 'RP', 'KL', 'RQ', 'IS', 'SY', 'NG', 'CF', 'VQ', 'AP', 'DT', 'YN', 'SG', 'VV', 'LG', 'YY', 'NQ', 'SP', 'AY', 'SR', 'FV', 'SV', 'TV', 'FL', 'KS', 'CF', 'YE', 'GL', 'VL', 'SH', 'PA', 'TP', 'KA', 'LT', 'NV', 'DC', 'LG', 'CP', 'FK', 'TK', 'NS', 'VT', 'YN', 'AL', 'DV', 'SK', 'FN', 'VK', 'IC', 'RV', 'GN', 'DF']\n"
     ]
    }
   ],
   "source": [
    "s136 = \"RVQPTESIVRFPNITNLCPFGEVFNATRFASVYAWNRKRISNCVADYSVLYNSASFSTFKCYGVSPTKLNDLCFTNVYADSFVIRGDEVRQIAPGQTGKIADYNYKLPDDFTGCVIAWNSNNLDSKVGGNYNYLYRLFRKSNLKPFERDISTEIYQAGSTPCNGVEGFNCYFPLQSYGFQPTNGVGYQPYRVVVLSFELLHAPATVCGPKKSTNLVKNKCVNF\"\n",
    "\n",
    "lambda_136 = []\n",
    "\n",
    "for i in range(len(s136)):\n",
    "    if(0<=i<87):\n",
    "        c1 = s136[i]\n",
    "        c2 = s136[i+136]\n",
    "        lambda_136.append(c1+c2)\n",
    "    else:\n",
    "        break\n",
    "print(lambda_136)"
   ]
  },
  {
   "cell_type": "code",
   "execution_count": 206,
   "id": "musical-hunger",
   "metadata": {},
   "outputs": [
    {
     "name": "stdout",
     "output_type": "stream",
     "text": [
      "['RF', 'VR', 'QK', 'PS', 'TN', 'EL', 'SK', 'IP', 'VF', 'RE', 'FR', 'PD', 'NI', 'IS', 'TT', 'NE', 'LI', 'CY', 'PQ', 'FA', 'GG', 'ES', 'VT', 'FP', 'NC', 'AN', 'TG', 'RV', 'FE', 'AG', 'SF', 'VN', 'YC', 'AY', 'WF', 'NP', 'RL', 'KQ', 'RS', 'IY', 'SG', 'NF', 'CQ', 'VP', 'AT', 'DN', 'YG', 'SV', 'VG', 'LY', 'YQ', 'NP', 'SY', 'AR', 'SV', 'FV', 'SV', 'TL', 'FS', 'KF', 'CE', 'YL', 'GL', 'VH', 'SA', 'PP', 'TA', 'KT', 'LV', 'NC', 'DG', 'LP', 'CK', 'FK', 'TS', 'NT', 'VN', 'YL', 'AV', 'DK', 'SN', 'FK', 'VC', 'IV', 'RN', 'GF']\n"
     ]
    }
   ],
   "source": [
    "s137 = \"RVQPTESIVRFPNITNLCPFGEVFNATRFASVYAWNRKRISNCVADYSVLYNSASFSTFKCYGVSPTKLNDLCFTNVYADSFVIRGDEVRQIAPGQTGKIADYNYKLPDDFTGCVIAWNSNNLDSKVGGNYNYLYRLFRKSNLKPFERDISTEIYQAGSTPCNGVEGFNCYFPLQSYGFQPTNGVGYQPYRVVVLSFELLHAPATVCGPKKSTNLVKNKCVNF\"\n",
    "\n",
    "lambda_137 = []\n",
    "\n",
    "for i in range(len(s137)):\n",
    "    if(0<=i<86):\n",
    "        c1 = s137[i]\n",
    "        c2 = s137[i+137]\n",
    "        lambda_137.append(c1+c2)\n",
    "    else:\n",
    "        break\n",
    "print(lambda_137)"
   ]
  },
  {
   "cell_type": "code",
   "execution_count": 207,
   "id": "bacterial-tulsa",
   "metadata": {},
   "outputs": [
    {
     "name": "stdout",
     "output_type": "stream",
     "text": [
      "['RR', 'VK', 'QS', 'PN', 'TL', 'EK', 'SP', 'IF', 'VE', 'RR', 'FD', 'PI', 'NS', 'IT', 'TE', 'NI', 'LY', 'CQ', 'PA', 'FG', 'GS', 'ET', 'VP', 'FC', 'NN', 'AG', 'TV', 'RE', 'FG', 'AF', 'SN', 'VC', 'YY', 'AF', 'WP', 'NL', 'RQ', 'KS', 'RY', 'IG', 'SF', 'NQ', 'CP', 'VT', 'AN', 'DG', 'YV', 'SG', 'VY', 'LQ', 'YP', 'NY', 'SR', 'AV', 'SV', 'FV', 'SL', 'TS', 'FF', 'KE', 'CL', 'YL', 'GH', 'VA', 'SP', 'PA', 'TT', 'KV', 'LC', 'NG', 'DP', 'LK', 'CK', 'FS', 'TT', 'NN', 'VL', 'YV', 'AK', 'DN', 'SK', 'FC', 'VV', 'IN', 'RF']\n"
     ]
    }
   ],
   "source": [
    "s138 = \"RVQPTESIVRFPNITNLCPFGEVFNATRFASVYAWNRKRISNCVADYSVLYNSASFSTFKCYGVSPTKLNDLCFTNVYADSFVIRGDEVRQIAPGQTGKIADYNYKLPDDFTGCVIAWNSNNLDSKVGGNYNYLYRLFRKSNLKPFERDISTEIYQAGSTPCNGVEGFNCYFPLQSYGFQPTNGVGYQPYRVVVLSFELLHAPATVCGPKKSTNLVKNKCVNF\"\n",
    "\n",
    "lambda_138 = []\n",
    "\n",
    "for i in range(len(s138)):\n",
    "    if(0<=i<85):\n",
    "        c1 = s138[i]\n",
    "        c2 = s138[i+138]\n",
    "        lambda_138.append(c1+c2)\n",
    "    else:\n",
    "        break\n",
    "print(lambda_138)"
   ]
  },
  {
   "cell_type": "code",
   "execution_count": 208,
   "id": "lonely-warren",
   "metadata": {},
   "outputs": [
    {
     "name": "stdout",
     "output_type": "stream",
     "text": [
      "['RK', 'VS', 'QN', 'PL', 'TK', 'EP', 'SF', 'IE', 'VR', 'RD', 'FI', 'PS', 'NT', 'IE', 'TI', 'NY', 'LQ', 'CA', 'PG', 'FS', 'GT', 'EP', 'VC', 'FN', 'NG', 'AV', 'TE', 'RG', 'FF', 'AN', 'SC', 'VY', 'YF', 'AP', 'WL', 'NQ', 'RS', 'KY', 'RG', 'IF', 'SQ', 'NP', 'CT', 'VN', 'AG', 'DV', 'YG', 'SY', 'VQ', 'LP', 'YY', 'NR', 'SV', 'AV', 'SV', 'FL', 'SS', 'TF', 'FE', 'KL', 'CL', 'YH', 'GA', 'VP', 'SA', 'PT', 'TV', 'KC', 'LG', 'NP', 'DK', 'LK', 'CS', 'FT', 'TN', 'NL', 'VV', 'YK', 'AN', 'DK', 'SC', 'FV', 'VN', 'IF']\n"
     ]
    }
   ],
   "source": [
    "s139 = \"RVQPTESIVRFPNITNLCPFGEVFNATRFASVYAWNRKRISNCVADYSVLYNSASFSTFKCYGVSPTKLNDLCFTNVYADSFVIRGDEVRQIAPGQTGKIADYNYKLPDDFTGCVIAWNSNNLDSKVGGNYNYLYRLFRKSNLKPFERDISTEIYQAGSTPCNGVEGFNCYFPLQSYGFQPTNGVGYQPYRVVVLSFELLHAPATVCGPKKSTNLVKNKCVNF\"\n",
    "\n",
    "lambda_139 = []\n",
    "\n",
    "for i in range(len(s139)):\n",
    "    if(0<=i<84):\n",
    "        c1 = s139[i]\n",
    "        c2 = s139[i+139]\n",
    "        lambda_139.append(c1+c2)\n",
    "    else:\n",
    "        break\n",
    "print(lambda_139)"
   ]
  },
  {
   "cell_type": "code",
   "execution_count": 209,
   "id": "treated-zimbabwe",
   "metadata": {},
   "outputs": [
    {
     "name": "stdout",
     "output_type": "stream",
     "text": [
      "['RS', 'VN', 'QL', 'PK', 'TP', 'EF', 'SE', 'IR', 'VD', 'RI', 'FS', 'PT', 'NE', 'II', 'TY', 'NQ', 'LA', 'CG', 'PS', 'FT', 'GP', 'EC', 'VN', 'FG', 'NV', 'AE', 'TG', 'RF', 'FN', 'AC', 'SY', 'VF', 'YP', 'AL', 'WQ', 'NS', 'RY', 'KG', 'RF', 'IQ', 'SP', 'NT', 'CN', 'VG', 'AV', 'DG', 'YY', 'SQ', 'VP', 'LY', 'YR', 'NV', 'SV', 'AV', 'SL', 'FS', 'SF', 'TE', 'FL', 'KL', 'CH', 'YA', 'GP', 'VA', 'ST', 'PV', 'TC', 'KG', 'LP', 'NK', 'DK', 'LS', 'CT', 'FN', 'TL', 'NV', 'VK', 'YN', 'AK', 'DC', 'SV', 'FN', 'VF']\n"
     ]
    }
   ],
   "source": [
    "s140 = \"RVQPTESIVRFPNITNLCPFGEVFNATRFASVYAWNRKRISNCVADYSVLYNSASFSTFKCYGVSPTKLNDLCFTNVYADSFVIRGDEVRQIAPGQTGKIADYNYKLPDDFTGCVIAWNSNNLDSKVGGNYNYLYRLFRKSNLKPFERDISTEIYQAGSTPCNGVEGFNCYFPLQSYGFQPTNGVGYQPYRVVVLSFELLHAPATVCGPKKSTNLVKNKCVNF\"\n",
    "\n",
    "lambda_140 = []\n",
    "\n",
    "for i in range(len(s140)):\n",
    "    if(0<=i<83):\n",
    "        c1 = s140[i]\n",
    "        c2 = s140[i+140]\n",
    "        lambda_140.append(c1+c2)\n",
    "    else:\n",
    "        break\n",
    "print(lambda_140)"
   ]
  },
  {
   "cell_type": "code",
   "execution_count": 210,
   "id": "adjusted-hometown",
   "metadata": {},
   "outputs": [
    {
     "name": "stdout",
     "output_type": "stream",
     "text": [
      "['RN', 'VL', 'QK', 'PP', 'TF', 'EE', 'SR', 'ID', 'VI', 'RS', 'FT', 'PE', 'NI', 'IY', 'TQ', 'NA', 'LG', 'CS', 'PT', 'FP', 'GC', 'EN', 'VG', 'FV', 'NE', 'AG', 'TF', 'RN', 'FC', 'AY', 'SF', 'VP', 'YL', 'AQ', 'WS', 'NY', 'RG', 'KF', 'RQ', 'IP', 'ST', 'NN', 'CG', 'VV', 'AG', 'DY', 'YQ', 'SP', 'VY', 'LR', 'YV', 'NV', 'SV', 'AL', 'SS', 'FF', 'SE', 'TL', 'FL', 'KH', 'CA', 'YP', 'GA', 'VT', 'SV', 'PC', 'TG', 'KP', 'LK', 'NK', 'DS', 'LT', 'CN', 'FL', 'TV', 'NK', 'VN', 'YK', 'AC', 'DV', 'SN', 'FF']\n"
     ]
    }
   ],
   "source": [
    "s141 = \"RVQPTESIVRFPNITNLCPFGEVFNATRFASVYAWNRKRISNCVADYSVLYNSASFSTFKCYGVSPTKLNDLCFTNVYADSFVIRGDEVRQIAPGQTGKIADYNYKLPDDFTGCVIAWNSNNLDSKVGGNYNYLYRLFRKSNLKPFERDISTEIYQAGSTPCNGVEGFNCYFPLQSYGFQPTNGVGYQPYRVVVLSFELLHAPATVCGPKKSTNLVKNKCVNF\"\n",
    "\n",
    "lambda_141 = []\n",
    "\n",
    "for i in range(len(s141)):\n",
    "    if(0<=i<82):\n",
    "        c1 = s141[i]\n",
    "        c2 = s141[i+141]\n",
    "        lambda_141.append(c1+c2)\n",
    "    else:\n",
    "        break\n",
    "print(lambda_141)"
   ]
  },
  {
   "cell_type": "code",
   "execution_count": 211,
   "id": "utility-bangkok",
   "metadata": {},
   "outputs": [
    {
     "name": "stdout",
     "output_type": "stream",
     "text": [
      "['RL', 'VK', 'QP', 'PF', 'TE', 'ER', 'SD', 'II', 'VS', 'RT', 'FE', 'PI', 'NY', 'IQ', 'TA', 'NG', 'LS', 'CT', 'PP', 'FC', 'GN', 'EG', 'VV', 'FE', 'NG', 'AF', 'TN', 'RC', 'FY', 'AF', 'SP', 'VL', 'YQ', 'AS', 'WY', 'NG', 'RF', 'KQ', 'RP', 'IT', 'SN', 'NG', 'CV', 'VG', 'AY', 'DQ', 'YP', 'SY', 'VR', 'LV', 'YV', 'NV', 'SL', 'AS', 'SF', 'FE', 'SL', 'TL', 'FH', 'KA', 'CP', 'YA', 'GT', 'VV', 'SC', 'PG', 'TP', 'KK', 'LK', 'NS', 'DT', 'LN', 'CL', 'FV', 'TK', 'NN', 'VK', 'YC', 'AV', 'DN', 'SF']\n"
     ]
    }
   ],
   "source": [
    "s142 = \"RVQPTESIVRFPNITNLCPFGEVFNATRFASVYAWNRKRISNCVADYSVLYNSASFSTFKCYGVSPTKLNDLCFTNVYADSFVIRGDEVRQIAPGQTGKIADYNYKLPDDFTGCVIAWNSNNLDSKVGGNYNYLYRLFRKSNLKPFERDISTEIYQAGSTPCNGVEGFNCYFPLQSYGFQPTNGVGYQPYRVVVLSFELLHAPATVCGPKKSTNLVKNKCVNF\"\n",
    "\n",
    "lambda_142 = []\n",
    "\n",
    "for i in range(len(s142)):\n",
    "    if(0<=i<81):\n",
    "        c1 = s142[i]\n",
    "        c2 = s142[i+142]\n",
    "        lambda_142.append(c1+c2)\n",
    "    else:\n",
    "        break\n",
    "print(lambda_142)"
   ]
  },
  {
   "cell_type": "code",
   "execution_count": 212,
   "id": "exclusive-style",
   "metadata": {},
   "outputs": [
    {
     "name": "stdout",
     "output_type": "stream",
     "text": [
      "['RK', 'VP', 'QF', 'PE', 'TR', 'ED', 'SI', 'IS', 'VT', 'RE', 'FI', 'PY', 'NQ', 'IA', 'TG', 'NS', 'LT', 'CP', 'PC', 'FN', 'GG', 'EV', 'VE', 'FG', 'NF', 'AN', 'TC', 'RY', 'FF', 'AP', 'SL', 'VQ', 'YS', 'AY', 'WG', 'NF', 'RQ', 'KP', 'RT', 'IN', 'SG', 'NV', 'CG', 'VY', 'AQ', 'DP', 'YY', 'SR', 'VV', 'LV', 'YV', 'NL', 'SS', 'AF', 'SE', 'FL', 'SL', 'TH', 'FA', 'KP', 'CA', 'YT', 'GV', 'VC', 'SG', 'PP', 'TK', 'KK', 'LS', 'NT', 'DN', 'LL', 'CV', 'FK', 'TN', 'NK', 'VC', 'YV', 'AN', 'DF']\n"
     ]
    }
   ],
   "source": [
    "s143 = \"RVQPTESIVRFPNITNLCPFGEVFNATRFASVYAWNRKRISNCVADYSVLYNSASFSTFKCYGVSPTKLNDLCFTNVYADSFVIRGDEVRQIAPGQTGKIADYNYKLPDDFTGCVIAWNSNNLDSKVGGNYNYLYRLFRKSNLKPFERDISTEIYQAGSTPCNGVEGFNCYFPLQSYGFQPTNGVGYQPYRVVVLSFELLHAPATVCGPKKSTNLVKNKCVNF\"\n",
    "\n",
    "lambda_143 = []\n",
    "\n",
    "for i in range(len(s143)):\n",
    "    if(0<=i<80):\n",
    "        c1 = s143[i]\n",
    "        c2 = s143[i+143]\n",
    "        lambda_143.append(c1+c2)\n",
    "    else:\n",
    "        break\n",
    "print(lambda_143)"
   ]
  },
  {
   "cell_type": "code",
   "execution_count": 213,
   "id": "developed-sheriff",
   "metadata": {},
   "outputs": [
    {
     "name": "stdout",
     "output_type": "stream",
     "text": [
      "['RP', 'VF', 'QE', 'PR', 'TD', 'EI', 'SS', 'IT', 'VE', 'RI', 'FY', 'PQ', 'NA', 'IG', 'TS', 'NT', 'LP', 'CC', 'PN', 'FG', 'GV', 'EE', 'VG', 'FF', 'NN', 'AC', 'TY', 'RF', 'FP', 'AL', 'SQ', 'VS', 'YY', 'AG', 'WF', 'NQ', 'RP', 'KT', 'RN', 'IG', 'SV', 'NG', 'CY', 'VQ', 'AP', 'DY', 'YR', 'SV', 'VV', 'LV', 'YL', 'NS', 'SF', 'AE', 'SL', 'FL', 'SH', 'TA', 'FP', 'KA', 'CT', 'YV', 'GC', 'VG', 'SP', 'PK', 'TK', 'KS', 'LT', 'NN', 'DL', 'LV', 'CK', 'FN', 'TK', 'NC', 'VV', 'YN', 'AF']\n"
     ]
    }
   ],
   "source": [
    "s144 = \"RVQPTESIVRFPNITNLCPFGEVFNATRFASVYAWNRKRISNCVADYSVLYNSASFSTFKCYGVSPTKLNDLCFTNVYADSFVIRGDEVRQIAPGQTGKIADYNYKLPDDFTGCVIAWNSNNLDSKVGGNYNYLYRLFRKSNLKPFERDISTEIYQAGSTPCNGVEGFNCYFPLQSYGFQPTNGVGYQPYRVVVLSFELLHAPATVCGPKKSTNLVKNKCVNF\"\n",
    "\n",
    "lambda_144 = []\n",
    "\n",
    "for i in range(len(s144)):\n",
    "    if(0<=i<79):\n",
    "        c1 = s144[i]\n",
    "        c2 = s144[i+144]\n",
    "        lambda_144.append(c1+c2)\n",
    "    else:\n",
    "        break\n",
    "print(lambda_144)"
   ]
  },
  {
   "cell_type": "code",
   "execution_count": 214,
   "id": "binary-standard",
   "metadata": {},
   "outputs": [
    {
     "name": "stdout",
     "output_type": "stream",
     "text": [
      "['RF', 'VE', 'QR', 'PD', 'TI', 'ES', 'ST', 'IE', 'VI', 'RY', 'FQ', 'PA', 'NG', 'IS', 'TT', 'NP', 'LC', 'CN', 'PG', 'FV', 'GE', 'EG', 'VF', 'FN', 'NC', 'AY', 'TF', 'RP', 'FL', 'AQ', 'SS', 'VY', 'YG', 'AF', 'WQ', 'NP', 'RT', 'KN', 'RG', 'IV', 'SG', 'NY', 'CQ', 'VP', 'AY', 'DR', 'YV', 'SV', 'VV', 'LL', 'YS', 'NF', 'SE', 'AL', 'SL', 'FH', 'SA', 'TP', 'FA', 'KT', 'CV', 'YC', 'GG', 'VP', 'SK', 'PK', 'TS', 'KT', 'LN', 'NL', 'DV', 'LK', 'CN', 'FK', 'TC', 'NV', 'VN', 'YF']\n"
     ]
    }
   ],
   "source": [
    "s145 = \"RVQPTESIVRFPNITNLCPFGEVFNATRFASVYAWNRKRISNCVADYSVLYNSASFSTFKCYGVSPTKLNDLCFTNVYADSFVIRGDEVRQIAPGQTGKIADYNYKLPDDFTGCVIAWNSNNLDSKVGGNYNYLYRLFRKSNLKPFERDISTEIYQAGSTPCNGVEGFNCYFPLQSYGFQPTNGVGYQPYRVVVLSFELLHAPATVCGPKKSTNLVKNKCVNF\"\n",
    "\n",
    "lambda_145 = []\n",
    "\n",
    "for i in range(len(s145)):\n",
    "    if(0<=i<78):\n",
    "        c1 = s145[i]\n",
    "        c2 = s145[i+145]\n",
    "        lambda_145.append(c1+c2)\n",
    "    else:\n",
    "        break\n",
    "print(lambda_145)"
   ]
  },
  {
   "cell_type": "code",
   "execution_count": 215,
   "id": "consolidated-chart",
   "metadata": {},
   "outputs": [
    {
     "name": "stdout",
     "output_type": "stream",
     "text": [
      "['RE', 'VR', 'QD', 'PI', 'TS', 'ET', 'SE', 'II', 'VY', 'RQ', 'FA', 'PG', 'NS', 'IT', 'TP', 'NC', 'LN', 'CG', 'PV', 'FE', 'GG', 'EF', 'VN', 'FC', 'NY', 'AF', 'TP', 'RL', 'FQ', 'AS', 'SY', 'VG', 'YF', 'AQ', 'WP', 'NT', 'RN', 'KG', 'RV', 'IG', 'SY', 'NQ', 'CP', 'VY', 'AR', 'DV', 'YV', 'SV', 'VL', 'LS', 'YF', 'NE', 'SL', 'AL', 'SH', 'FA', 'SP', 'TA', 'FT', 'KV', 'CC', 'YG', 'GP', 'VK', 'SK', 'PS', 'TT', 'KN', 'LL', 'NV', 'DK', 'LN', 'CK', 'FC', 'TV', 'NN', 'VF']\n"
     ]
    }
   ],
   "source": [
    "s146 = \"RVQPTESIVRFPNITNLCPFGEVFNATRFASVYAWNRKRISNCVADYSVLYNSASFSTFKCYGVSPTKLNDLCFTNVYADSFVIRGDEVRQIAPGQTGKIADYNYKLPDDFTGCVIAWNSNNLDSKVGGNYNYLYRLFRKSNLKPFERDISTEIYQAGSTPCNGVEGFNCYFPLQSYGFQPTNGVGYQPYRVVVLSFELLHAPATVCGPKKSTNLVKNKCVNF\"\n",
    "\n",
    "lambda_146 = []\n",
    "\n",
    "for i in range(len(s146)):\n",
    "    if(0<=i<77):\n",
    "        c1 = s146[i]\n",
    "        c2 = s146[i+146]\n",
    "        lambda_146.append(c1+c2)\n",
    "    else:\n",
    "        break\n",
    "print(lambda_146)"
   ]
  },
  {
   "cell_type": "code",
   "execution_count": 216,
   "id": "wireless-virgin",
   "metadata": {},
   "outputs": [
    {
     "name": "stdout",
     "output_type": "stream",
     "text": [
      "['RR', 'VD', 'QI', 'PS', 'TT', 'EE', 'SI', 'IY', 'VQ', 'RA', 'FG', 'PS', 'NT', 'IP', 'TC', 'NN', 'LG', 'CV', 'PE', 'FG', 'GF', 'EN', 'VC', 'FY', 'NF', 'AP', 'TL', 'RQ', 'FS', 'AY', 'SG', 'VF', 'YQ', 'AP', 'WT', 'NN', 'RG', 'KV', 'RG', 'IY', 'SQ', 'NP', 'CY', 'VR', 'AV', 'DV', 'YV', 'SL', 'VS', 'LF', 'YE', 'NL', 'SL', 'AH', 'SA', 'FP', 'SA', 'TT', 'FV', 'KC', 'CG', 'YP', 'GK', 'VK', 'SS', 'PT', 'TN', 'KL', 'LV', 'NK', 'DN', 'LK', 'CC', 'FV', 'TN', 'NF']\n"
     ]
    }
   ],
   "source": [
    "s147 = \"RVQPTESIVRFPNITNLCPFGEVFNATRFASVYAWNRKRISNCVADYSVLYNSASFSTFKCYGVSPTKLNDLCFTNVYADSFVIRGDEVRQIAPGQTGKIADYNYKLPDDFTGCVIAWNSNNLDSKVGGNYNYLYRLFRKSNLKPFERDISTEIYQAGSTPCNGVEGFNCYFPLQSYGFQPTNGVGYQPYRVVVLSFELLHAPATVCGPKKSTNLVKNKCVNF\"\n",
    "\n",
    "lambda_147 = []\n",
    "\n",
    "for i in range(len(s147)):\n",
    "    if(0<=i<76):\n",
    "        c1 = s147[i]\n",
    "        c2 = s147[i+147]\n",
    "        lambda_147.append(c1+c2)\n",
    "    else:\n",
    "        break\n",
    "print(lambda_147)"
   ]
  },
  {
   "cell_type": "code",
   "execution_count": 217,
   "id": "willing-natural",
   "metadata": {},
   "outputs": [
    {
     "name": "stdout",
     "output_type": "stream",
     "text": [
      "['RD', 'VI', 'QS', 'PT', 'TE', 'EI', 'SY', 'IQ', 'VA', 'RG', 'FS', 'PT', 'NP', 'IC', 'TN', 'NG', 'LV', 'CE', 'PG', 'FF', 'GN', 'EC', 'VY', 'FF', 'NP', 'AL', 'TQ', 'RS', 'FY', 'AG', 'SF', 'VQ', 'YP', 'AT', 'WN', 'NG', 'RV', 'KG', 'RY', 'IQ', 'SP', 'NY', 'CR', 'VV', 'AV', 'DV', 'YL', 'SS', 'VF', 'LE', 'YL', 'NL', 'SH', 'AA', 'SP', 'FA', 'ST', 'TV', 'FC', 'KG', 'CP', 'YK', 'GK', 'VS', 'ST', 'PN', 'TL', 'KV', 'LK', 'NN', 'DK', 'LC', 'CV', 'FN', 'TF']\n"
     ]
    }
   ],
   "source": [
    "s148 = \"RVQPTESIVRFPNITNLCPFGEVFNATRFASVYAWNRKRISNCVADYSVLYNSASFSTFKCYGVSPTKLNDLCFTNVYADSFVIRGDEVRQIAPGQTGKIADYNYKLPDDFTGCVIAWNSNNLDSKVGGNYNYLYRLFRKSNLKPFERDISTEIYQAGSTPCNGVEGFNCYFPLQSYGFQPTNGVGYQPYRVVVLSFELLHAPATVCGPKKSTNLVKNKCVNF\"\n",
    "\n",
    "lambda_148 = []\n",
    "\n",
    "for i in range(len(s148)):\n",
    "    if(0<=i<75):\n",
    "        c1 = s148[i]\n",
    "        c2 = s148[i+148]\n",
    "        lambda_148.append(c1+c2)\n",
    "    else:\n",
    "        break\n",
    "print(lambda_148)"
   ]
  },
  {
   "cell_type": "code",
   "execution_count": 218,
   "id": "regional-external",
   "metadata": {},
   "outputs": [
    {
     "name": "stdout",
     "output_type": "stream",
     "text": [
      "['RI', 'VS', 'QT', 'PE', 'TI', 'EY', 'SQ', 'IA', 'VG', 'RS', 'FT', 'PP', 'NC', 'IN', 'TG', 'NV', 'LE', 'CG', 'PF', 'FN', 'GC', 'EY', 'VF', 'FP', 'NL', 'AQ', 'TS', 'RY', 'FG', 'AF', 'SQ', 'VP', 'YT', 'AN', 'WG', 'NV', 'RG', 'KY', 'RQ', 'IP', 'SY', 'NR', 'CV', 'VV', 'AV', 'DL', 'YS', 'SF', 'VE', 'LL', 'YL', 'NH', 'SA', 'AP', 'SA', 'FT', 'SV', 'TC', 'FG', 'KP', 'CK', 'YK', 'GS', 'VT', 'SN', 'PL', 'TV', 'KK', 'LN', 'NK', 'DC', 'LV', 'CN', 'FF']\n"
     ]
    }
   ],
   "source": [
    "s149 = \"RVQPTESIVRFPNITNLCPFGEVFNATRFASVYAWNRKRISNCVADYSVLYNSASFSTFKCYGVSPTKLNDLCFTNVYADSFVIRGDEVRQIAPGQTGKIADYNYKLPDDFTGCVIAWNSNNLDSKVGGNYNYLYRLFRKSNLKPFERDISTEIYQAGSTPCNGVEGFNCYFPLQSYGFQPTNGVGYQPYRVVVLSFELLHAPATVCGPKKSTNLVKNKCVNF\"\n",
    "\n",
    "lambda_149 = []\n",
    "\n",
    "for i in range(len(s149)):\n",
    "    if(0<=i<74):\n",
    "        c1 = s149[i]\n",
    "        c2 = s149[i+149]\n",
    "        lambda_149.append(c1+c2)\n",
    "    else:\n",
    "        break\n",
    "print(lambda_149)"
   ]
  },
  {
   "cell_type": "code",
   "execution_count": 219,
   "id": "protected-purple",
   "metadata": {},
   "outputs": [
    {
     "name": "stdout",
     "output_type": "stream",
     "text": [
      "['RS', 'VT', 'QE', 'PI', 'TY', 'EQ', 'SA', 'IG', 'VS', 'RT', 'FP', 'PC', 'NN', 'IG', 'TV', 'NE', 'LG', 'CF', 'PN', 'FC', 'GY', 'EF', 'VP', 'FL', 'NQ', 'AS', 'TY', 'RG', 'FF', 'AQ', 'SP', 'VT', 'YN', 'AG', 'WV', 'NG', 'RY', 'KQ', 'RP', 'IY', 'SR', 'NV', 'CV', 'VV', 'AL', 'DS', 'YF', 'SE', 'VL', 'LL', 'YH', 'NA', 'SP', 'AA', 'ST', 'FV', 'SC', 'TG', 'FP', 'KK', 'CK', 'YS', 'GT', 'VN', 'SL', 'PV', 'TK', 'KN', 'LK', 'NC', 'DV', 'LN', 'CF']\n"
     ]
    }
   ],
   "source": [
    "s150 = \"RVQPTESIVRFPNITNLCPFGEVFNATRFASVYAWNRKRISNCVADYSVLYNSASFSTFKCYGVSPTKLNDLCFTNVYADSFVIRGDEVRQIAPGQTGKIADYNYKLPDDFTGCVIAWNSNNLDSKVGGNYNYLYRLFRKSNLKPFERDISTEIYQAGSTPCNGVEGFNCYFPLQSYGFQPTNGVGYQPYRVVVLSFELLHAPATVCGPKKSTNLVKNKCVNF\"\n",
    "\n",
    "lambda_150 = []\n",
    "\n",
    "for i in range(len(s150)):\n",
    "    if(0<=i<73):\n",
    "        c1 = s150[i]\n",
    "        c2 = s150[i+150]\n",
    "        lambda_150.append(c1+c2)\n",
    "    else:\n",
    "        break\n",
    "print(lambda_150)"
   ]
  },
  {
   "cell_type": "code",
   "execution_count": 220,
   "id": "independent-finger",
   "metadata": {},
   "outputs": [
    {
     "name": "stdout",
     "output_type": "stream",
     "text": [
      "['RT', 'VE', 'QI', 'PY', 'TQ', 'EA', 'SG', 'IS', 'VT', 'RP', 'FC', 'PN', 'NG', 'IV', 'TE', 'NG', 'LF', 'CN', 'PC', 'FY', 'GF', 'EP', 'VL', 'FQ', 'NS', 'AY', 'TG', 'RF', 'FQ', 'AP', 'ST', 'VN', 'YG', 'AV', 'WG', 'NY', 'RQ', 'KP', 'RY', 'IR', 'SV', 'NV', 'CV', 'VL', 'AS', 'DF', 'YE', 'SL', 'VL', 'LH', 'YA', 'NP', 'SA', 'AT', 'SV', 'FC', 'SG', 'TP', 'FK', 'KK', 'CS', 'YT', 'GN', 'VL', 'SV', 'PK', 'TN', 'KK', 'LC', 'NV', 'DN', 'LF']\n"
     ]
    }
   ],
   "source": [
    "s151 = \"RVQPTESIVRFPNITNLCPFGEVFNATRFASVYAWNRKRISNCVADYSVLYNSASFSTFKCYGVSPTKLNDLCFTNVYADSFVIRGDEVRQIAPGQTGKIADYNYKLPDDFTGCVIAWNSNNLDSKVGGNYNYLYRLFRKSNLKPFERDISTEIYQAGSTPCNGVEGFNCYFPLQSYGFQPTNGVGYQPYRVVVLSFELLHAPATVCGPKKSTNLVKNKCVNF\"\n",
    "\n",
    "lambda_151 = []\n",
    "\n",
    "for i in range(len(s151)):\n",
    "    if(0<=i<72):\n",
    "        c1 = s151[i]\n",
    "        c2 = s151[i+151]\n",
    "        lambda_151.append(c1+c2)\n",
    "    else:\n",
    "        break\n",
    "print(lambda_151)"
   ]
  },
  {
   "cell_type": "code",
   "execution_count": 221,
   "id": "quiet-drawing",
   "metadata": {},
   "outputs": [
    {
     "name": "stdout",
     "output_type": "stream",
     "text": [
      "['RE', 'VI', 'QY', 'PQ', 'TA', 'EG', 'SS', 'IT', 'VP', 'RC', 'FN', 'PG', 'NV', 'IE', 'TG', 'NF', 'LN', 'CC', 'PY', 'FF', 'GP', 'EL', 'VQ', 'FS', 'NY', 'AG', 'TF', 'RQ', 'FP', 'AT', 'SN', 'VG', 'YV', 'AG', 'WY', 'NQ', 'RP', 'KY', 'RR', 'IV', 'SV', 'NV', 'CL', 'VS', 'AF', 'DE', 'YL', 'SL', 'VH', 'LA', 'YP', 'NA', 'ST', 'AV', 'SC', 'FG', 'SP', 'TK', 'FK', 'KS', 'CT', 'YN', 'GL', 'VV', 'SK', 'PN', 'TK', 'KC', 'LV', 'NN', 'DF']\n"
     ]
    }
   ],
   "source": [
    "s152 = \"RVQPTESIVRFPNITNLCPFGEVFNATRFASVYAWNRKRISNCVADYSVLYNSASFSTFKCYGVSPTKLNDLCFTNVYADSFVIRGDEVRQIAPGQTGKIADYNYKLPDDFTGCVIAWNSNNLDSKVGGNYNYLYRLFRKSNLKPFERDISTEIYQAGSTPCNGVEGFNCYFPLQSYGFQPTNGVGYQPYRVVVLSFELLHAPATVCGPKKSTNLVKNKCVNF\"\n",
    "\n",
    "lambda_152 = []\n",
    "\n",
    "for i in range(len(s152)):\n",
    "    if(0<=i<71):\n",
    "        c1 = s152[i]\n",
    "        c2 = s152[i+152]\n",
    "        lambda_152.append(c1+c2)\n",
    "    else:\n",
    "        break\n",
    "print(lambda_152)"
   ]
  },
  {
   "cell_type": "code",
   "execution_count": 222,
   "id": "expanded-drove",
   "metadata": {},
   "outputs": [
    {
     "name": "stdout",
     "output_type": "stream",
     "text": [
      "['RI', 'VY', 'QQ', 'PA', 'TG', 'ES', 'ST', 'IP', 'VC', 'RN', 'FG', 'PV', 'NE', 'IG', 'TF', 'NN', 'LC', 'CY', 'PF', 'FP', 'GL', 'EQ', 'VS', 'FY', 'NG', 'AF', 'TQ', 'RP', 'FT', 'AN', 'SG', 'VV', 'YG', 'AY', 'WQ', 'NP', 'RY', 'KR', 'RV', 'IV', 'SV', 'NL', 'CS', 'VF', 'AE', 'DL', 'YL', 'SH', 'VA', 'LP', 'YA', 'NT', 'SV', 'AC', 'SG', 'FP', 'SK', 'TK', 'FS', 'KT', 'CN', 'YL', 'GV', 'VK', 'SN', 'PK', 'TC', 'KV', 'LN', 'NF']\n"
     ]
    }
   ],
   "source": [
    "s153 = \"RVQPTESIVRFPNITNLCPFGEVFNATRFASVYAWNRKRISNCVADYSVLYNSASFSTFKCYGVSPTKLNDLCFTNVYADSFVIRGDEVRQIAPGQTGKIADYNYKLPDDFTGCVIAWNSNNLDSKVGGNYNYLYRLFRKSNLKPFERDISTEIYQAGSTPCNGVEGFNCYFPLQSYGFQPTNGVGYQPYRVVVLSFELLHAPATVCGPKKSTNLVKNKCVNF\"\n",
    "\n",
    "lambda_153 = []\n",
    "\n",
    "for i in range(len(s153)):\n",
    "    if(0<=i<70):\n",
    "        c1 = s153[i]\n",
    "        c2 = s153[i+153]\n",
    "        lambda_153.append(c1+c2)\n",
    "    else:\n",
    "        break\n",
    "print(lambda_153)"
   ]
  },
  {
   "cell_type": "code",
   "execution_count": 223,
   "id": "freelance-attraction",
   "metadata": {},
   "outputs": [
    {
     "name": "stdout",
     "output_type": "stream",
     "text": [
      "['RY', 'VQ', 'QA', 'PG', 'TS', 'ET', 'SP', 'IC', 'VN', 'RG', 'FV', 'PE', 'NG', 'IF', 'TN', 'NC', 'LY', 'CF', 'PP', 'FL', 'GQ', 'ES', 'VY', 'FG', 'NF', 'AQ', 'TP', 'RT', 'FN', 'AG', 'SV', 'VG', 'YY', 'AQ', 'WP', 'NY', 'RR', 'KV', 'RV', 'IV', 'SL', 'NS', 'CF', 'VE', 'AL', 'DL', 'YH', 'SA', 'VP', 'LA', 'YT', 'NV', 'SC', 'AG', 'SP', 'FK', 'SK', 'TS', 'FT', 'KN', 'CL', 'YV', 'GK', 'VN', 'SK', 'PC', 'TV', 'KN', 'LF']\n"
     ]
    }
   ],
   "source": [
    "s154 = \"RVQPTESIVRFPNITNLCPFGEVFNATRFASVYAWNRKRISNCVADYSVLYNSASFSTFKCYGVSPTKLNDLCFTNVYADSFVIRGDEVRQIAPGQTGKIADYNYKLPDDFTGCVIAWNSNNLDSKVGGNYNYLYRLFRKSNLKPFERDISTEIYQAGSTPCNGVEGFNCYFPLQSYGFQPTNGVGYQPYRVVVLSFELLHAPATVCGPKKSTNLVKNKCVNF\"\n",
    "\n",
    "lambda_154 = []\n",
    "\n",
    "for i in range(len(s154)):\n",
    "    if(0<=i<69):\n",
    "        c1 = s154[i]\n",
    "        c2 = s154[i+154]\n",
    "        lambda_154.append(c1+c2)\n",
    "    else:\n",
    "        break\n",
    "print(lambda_154)"
   ]
  },
  {
   "cell_type": "code",
   "execution_count": 224,
   "id": "combined-lunch",
   "metadata": {},
   "outputs": [
    {
     "name": "stdout",
     "output_type": "stream",
     "text": [
      "['RQ', 'VA', 'QG', 'PS', 'TT', 'EP', 'SC', 'IN', 'VG', 'RV', 'FE', 'PG', 'NF', 'IN', 'TC', 'NY', 'LF', 'CP', 'PL', 'FQ', 'GS', 'EY', 'VG', 'FF', 'NQ', 'AP', 'TT', 'RN', 'FG', 'AV', 'SG', 'VY', 'YQ', 'AP', 'WY', 'NR', 'RV', 'KV', 'RV', 'IL', 'SS', 'NF', 'CE', 'VL', 'AL', 'DH', 'YA', 'SP', 'VA', 'LT', 'YV', 'NC', 'SG', 'AP', 'SK', 'FK', 'SS', 'TT', 'FN', 'KL', 'CV', 'YK', 'GN', 'VK', 'SC', 'PV', 'TN', 'KF']\n"
     ]
    }
   ],
   "source": [
    "s155 = \"RVQPTESIVRFPNITNLCPFGEVFNATRFASVYAWNRKRISNCVADYSVLYNSASFSTFKCYGVSPTKLNDLCFTNVYADSFVIRGDEVRQIAPGQTGKIADYNYKLPDDFTGCVIAWNSNNLDSKVGGNYNYLYRLFRKSNLKPFERDISTEIYQAGSTPCNGVEGFNCYFPLQSYGFQPTNGVGYQPYRVVVLSFELLHAPATVCGPKKSTNLVKNKCVNF\"\n",
    "\n",
    "lambda_155 = []\n",
    "\n",
    "for i in range(len(s155)):\n",
    "    if(0<=i<68):\n",
    "        c1 = s155[i]\n",
    "        c2 = s155[i+155]\n",
    "        lambda_155.append(c1+c2)\n",
    "    else:\n",
    "        break\n",
    "print(lambda_155)"
   ]
  },
  {
   "cell_type": "code",
   "execution_count": 225,
   "id": "classical-investigator",
   "metadata": {},
   "outputs": [
    {
     "name": "stdout",
     "output_type": "stream",
     "text": [
      "['RA', 'VG', 'QS', 'PT', 'TP', 'EC', 'SN', 'IG', 'VV', 'RE', 'FG', 'PF', 'NN', 'IC', 'TY', 'NF', 'LP', 'CL', 'PQ', 'FS', 'GY', 'EG', 'VF', 'FQ', 'NP', 'AT', 'TN', 'RG', 'FV', 'AG', 'SY', 'VQ', 'YP', 'AY', 'WR', 'NV', 'RV', 'KV', 'RL', 'IS', 'SF', 'NE', 'CL', 'VL', 'AH', 'DA', 'YP', 'SA', 'VT', 'LV', 'YC', 'NG', 'SP', 'AK', 'SK', 'FS', 'ST', 'TN', 'FL', 'KV', 'CK', 'YN', 'GK', 'VC', 'SV', 'PN', 'TF']\n"
     ]
    }
   ],
   "source": [
    "s156 = \"RVQPTESIVRFPNITNLCPFGEVFNATRFASVYAWNRKRISNCVADYSVLYNSASFSTFKCYGVSPTKLNDLCFTNVYADSFVIRGDEVRQIAPGQTGKIADYNYKLPDDFTGCVIAWNSNNLDSKVGGNYNYLYRLFRKSNLKPFERDISTEIYQAGSTPCNGVEGFNCYFPLQSYGFQPTNGVGYQPYRVVVLSFELLHAPATVCGPKKSTNLVKNKCVNF\"\n",
    "\n",
    "lambda_156 = []\n",
    "\n",
    "for i in range(len(s156)):\n",
    "    if(0<=i<67):\n",
    "        c1 = s156[i]\n",
    "        c2 = s156[i+156]\n",
    "        lambda_156.append(c1+c2)\n",
    "    else:\n",
    "        break\n",
    "print(lambda_156)"
   ]
  },
  {
   "cell_type": "code",
   "execution_count": 226,
   "id": "inner-honduras",
   "metadata": {},
   "outputs": [
    {
     "name": "stdout",
     "output_type": "stream",
     "text": [
      "['RG', 'VS', 'QT', 'PP', 'TC', 'EN', 'SG', 'IV', 'VE', 'RG', 'FF', 'PN', 'NC', 'IY', 'TF', 'NP', 'LL', 'CQ', 'PS', 'FY', 'GG', 'EF', 'VQ', 'FP', 'NT', 'AN', 'TG', 'RV', 'FG', 'AY', 'SQ', 'VP', 'YY', 'AR', 'WV', 'NV', 'RV', 'KL', 'RS', 'IF', 'SE', 'NL', 'CL', 'VH', 'AA', 'DP', 'YA', 'ST', 'VV', 'LC', 'YG', 'NP', 'SK', 'AK', 'SS', 'FT', 'SN', 'TL', 'FV', 'KK', 'CN', 'YK', 'GC', 'VV', 'SN', 'PF']\n"
     ]
    }
   ],
   "source": [
    "s157 = \"RVQPTESIVRFPNITNLCPFGEVFNATRFASVYAWNRKRISNCVADYSVLYNSASFSTFKCYGVSPTKLNDLCFTNVYADSFVIRGDEVRQIAPGQTGKIADYNYKLPDDFTGCVIAWNSNNLDSKVGGNYNYLYRLFRKSNLKPFERDISTEIYQAGSTPCNGVEGFNCYFPLQSYGFQPTNGVGYQPYRVVVLSFELLHAPATVCGPKKSTNLVKNKCVNF\"\n",
    "\n",
    "lambda_157 = []\n",
    "\n",
    "for i in range(len(s157)):\n",
    "    if(0<=i<66):\n",
    "        c1 = s157[i]\n",
    "        c2 = s157[i+157]\n",
    "        lambda_157.append(c1+c2)\n",
    "    else:\n",
    "        break\n",
    "print(lambda_157)"
   ]
  },
  {
   "cell_type": "code",
   "execution_count": 227,
   "id": "touched-morocco",
   "metadata": {},
   "outputs": [
    {
     "name": "stdout",
     "output_type": "stream",
     "text": [
      "['RS', 'VT', 'QP', 'PC', 'TN', 'EG', 'SV', 'IE', 'VG', 'RF', 'FN', 'PC', 'NY', 'IF', 'TP', 'NL', 'LQ', 'CS', 'PY', 'FG', 'GF', 'EQ', 'VP', 'FT', 'NN', 'AG', 'TV', 'RG', 'FY', 'AQ', 'SP', 'VY', 'YR', 'AV', 'WV', 'NV', 'RL', 'KS', 'RF', 'IE', 'SL', 'NL', 'CH', 'VA', 'AP', 'DA', 'YT', 'SV', 'VC', 'LG', 'YP', 'NK', 'SK', 'AS', 'ST', 'FN', 'SL', 'TV', 'FK', 'KN', 'CK', 'YC', 'GV', 'VN', 'SF']\n"
     ]
    }
   ],
   "source": [
    "s158 = \"RVQPTESIVRFPNITNLCPFGEVFNATRFASVYAWNRKRISNCVADYSVLYNSASFSTFKCYGVSPTKLNDLCFTNVYADSFVIRGDEVRQIAPGQTGKIADYNYKLPDDFTGCVIAWNSNNLDSKVGGNYNYLYRLFRKSNLKPFERDISTEIYQAGSTPCNGVEGFNCYFPLQSYGFQPTNGVGYQPYRVVVLSFELLHAPATVCGPKKSTNLVKNKCVNF\"\n",
    "\n",
    "lambda_158 = []\n",
    "\n",
    "for i in range(len(s158)):\n",
    "    if(0<=i<65):\n",
    "        c1 = s158[i]\n",
    "        c2 = s158[i+158]\n",
    "        lambda_158.append(c1+c2)\n",
    "    else:\n",
    "        break\n",
    "print(lambda_158)"
   ]
  },
  {
   "cell_type": "code",
   "execution_count": 228,
   "id": "quarterly-pocket",
   "metadata": {},
   "outputs": [
    {
     "name": "stdout",
     "output_type": "stream",
     "text": [
      "['RT', 'VP', 'QC', 'PN', 'TG', 'EV', 'SE', 'IG', 'VF', 'RN', 'FC', 'PY', 'NF', 'IP', 'TL', 'NQ', 'LS', 'CY', 'PG', 'FF', 'GQ', 'EP', 'VT', 'FN', 'NG', 'AV', 'TG', 'RY', 'FQ', 'AP', 'SY', 'VR', 'YV', 'AV', 'WV', 'NL', 'RS', 'KF', 'RE', 'IL', 'SL', 'NH', 'CA', 'VP', 'AA', 'DT', 'YV', 'SC', 'VG', 'LP', 'YK', 'NK', 'SS', 'AT', 'SN', 'FL', 'SV', 'TK', 'FN', 'KK', 'CC', 'YV', 'GN', 'VF']\n"
     ]
    }
   ],
   "source": [
    "s159 = \"RVQPTESIVRFPNITNLCPFGEVFNATRFASVYAWNRKRISNCVADYSVLYNSASFSTFKCYGVSPTKLNDLCFTNVYADSFVIRGDEVRQIAPGQTGKIADYNYKLPDDFTGCVIAWNSNNLDSKVGGNYNYLYRLFRKSNLKPFERDISTEIYQAGSTPCNGVEGFNCYFPLQSYGFQPTNGVGYQPYRVVVLSFELLHAPATVCGPKKSTNLVKNKCVNF\"\n",
    "\n",
    "lambda_159 = []\n",
    "\n",
    "for i in range(len(s159)):\n",
    "    if(0<=i<64):\n",
    "        c1 = s159[i]\n",
    "        c2 = s159[i+159]\n",
    "        lambda_159.append(c1+c2)\n",
    "    else:\n",
    "        break\n",
    "print(lambda_159)"
   ]
  },
  {
   "cell_type": "code",
   "execution_count": 229,
   "id": "seasonal-coaching",
   "metadata": {},
   "outputs": [
    {
     "name": "stdout",
     "output_type": "stream",
     "text": [
      "['RP', 'VC', 'QN', 'PG', 'TV', 'EE', 'SG', 'IF', 'VN', 'RC', 'FY', 'PF', 'NP', 'IL', 'TQ', 'NS', 'LY', 'CG', 'PF', 'FQ', 'GP', 'ET', 'VN', 'FG', 'NV', 'AG', 'TY', 'RQ', 'FP', 'AY', 'SR', 'VV', 'YV', 'AV', 'WL', 'NS', 'RF', 'KE', 'RL', 'IL', 'SH', 'NA', 'CP', 'VA', 'AT', 'DV', 'YC', 'SG', 'VP', 'LK', 'YK', 'NS', 'ST', 'AN', 'SL', 'FV', 'SK', 'TN', 'FK', 'KC', 'CV', 'YN', 'GF']\n"
     ]
    }
   ],
   "source": [
    "s160 = \"RVQPTESIVRFPNITNLCPFGEVFNATRFASVYAWNRKRISNCVADYSVLYNSASFSTFKCYGVSPTKLNDLCFTNVYADSFVIRGDEVRQIAPGQTGKIADYNYKLPDDFTGCVIAWNSNNLDSKVGGNYNYLYRLFRKSNLKPFERDISTEIYQAGSTPCNGVEGFNCYFPLQSYGFQPTNGVGYQPYRVVVLSFELLHAPATVCGPKKSTNLVKNKCVNF\"\n",
    "\n",
    "lambda_160 = []\n",
    "\n",
    "for i in range(len(s160)):\n",
    "    if(0<=i<63):\n",
    "        c1 = s160[i]\n",
    "        c2 = s160[i+160]\n",
    "        lambda_160.append(c1+c2)\n",
    "    else:\n",
    "        break\n",
    "print(lambda_160)"
   ]
  },
  {
   "cell_type": "code",
   "execution_count": 230,
   "id": "actual-amateur",
   "metadata": {},
   "outputs": [
    {
     "name": "stdout",
     "output_type": "stream",
     "text": [
      "['RC', 'VN', 'QG', 'PV', 'TE', 'EG', 'SF', 'IN', 'VC', 'RY', 'FF', 'PP', 'NL', 'IQ', 'TS', 'NY', 'LG', 'CF', 'PQ', 'FP', 'GT', 'EN', 'VG', 'FV', 'NG', 'AY', 'TQ', 'RP', 'FY', 'AR', 'SV', 'VV', 'YV', 'AL', 'WS', 'NF', 'RE', 'KL', 'RL', 'IH', 'SA', 'NP', 'CA', 'VT', 'AV', 'DC', 'YG', 'SP', 'VK', 'LK', 'YS', 'NT', 'SN', 'AL', 'SV', 'FK', 'SN', 'TK', 'FC', 'KV', 'CN', 'YF']\n"
     ]
    }
   ],
   "source": [
    "s161 = \"RVQPTESIVRFPNITNLCPFGEVFNATRFASVYAWNRKRISNCVADYSVLYNSASFSTFKCYGVSPTKLNDLCFTNVYADSFVIRGDEVRQIAPGQTGKIADYNYKLPDDFTGCVIAWNSNNLDSKVGGNYNYLYRLFRKSNLKPFERDISTEIYQAGSTPCNGVEGFNCYFPLQSYGFQPTNGVGYQPYRVVVLSFELLHAPATVCGPKKSTNLVKNKCVNF\"\n",
    "\n",
    "lambda_161 = []\n",
    "\n",
    "for i in range(len(s161)):\n",
    "    if(0<=i<62):\n",
    "        c1 = s161[i]\n",
    "        c2 = s161[i+161]\n",
    "        lambda_161.append(c1+c2)\n",
    "    else:\n",
    "        break\n",
    "print(lambda_161)"
   ]
  },
  {
   "cell_type": "code",
   "execution_count": 231,
   "id": "sweet-processor",
   "metadata": {},
   "outputs": [
    {
     "name": "stdout",
     "output_type": "stream",
     "text": [
      "['RN', 'VG', 'QV', 'PE', 'TG', 'EF', 'SN', 'IC', 'VY', 'RF', 'FP', 'PL', 'NQ', 'IS', 'TY', 'NG', 'LF', 'CQ', 'PP', 'FT', 'GN', 'EG', 'VV', 'FG', 'NY', 'AQ', 'TP', 'RY', 'FR', 'AV', 'SV', 'VV', 'YL', 'AS', 'WF', 'NE', 'RL', 'KL', 'RH', 'IA', 'SP', 'NA', 'CT', 'VV', 'AC', 'DG', 'YP', 'SK', 'VK', 'LS', 'YT', 'NN', 'SL', 'AV', 'SK', 'FN', 'SK', 'TC', 'FV', 'KN', 'CF']\n"
     ]
    }
   ],
   "source": [
    "s162 = \"RVQPTESIVRFPNITNLCPFGEVFNATRFASVYAWNRKRISNCVADYSVLYNSASFSTFKCYGVSPTKLNDLCFTNVYADSFVIRGDEVRQIAPGQTGKIADYNYKLPDDFTGCVIAWNSNNLDSKVGGNYNYLYRLFRKSNLKPFERDISTEIYQAGSTPCNGVEGFNCYFPLQSYGFQPTNGVGYQPYRVVVLSFELLHAPATVCGPKKSTNLVKNKCVNF\"\n",
    "\n",
    "lambda_162 = []\n",
    "\n",
    "for i in range(len(s162)):\n",
    "    if(0<=i<61):\n",
    "        c1 = s162[i]\n",
    "        c2 = s162[i+162]\n",
    "        lambda_162.append(c1+c2)\n",
    "    else:\n",
    "        break\n",
    "print(lambda_162)"
   ]
  },
  {
   "cell_type": "code",
   "execution_count": 232,
   "id": "monthly-operation",
   "metadata": {},
   "outputs": [
    {
     "name": "stdout",
     "output_type": "stream",
     "text": [
      "['RG', 'VV', 'QE', 'PG', 'TF', 'EN', 'SC', 'IY', 'VF', 'RP', 'FL', 'PQ', 'NS', 'IY', 'TG', 'NF', 'LQ', 'CP', 'PT', 'FN', 'GG', 'EV', 'VG', 'FY', 'NQ', 'AP', 'TY', 'RR', 'FV', 'AV', 'SV', 'VL', 'YS', 'AF', 'WE', 'NL', 'RL', 'KH', 'RA', 'IP', 'SA', 'NT', 'CV', 'VC', 'AG', 'DP', 'YK', 'SK', 'VS', 'LT', 'YN', 'NL', 'SV', 'AK', 'SN', 'FK', 'SC', 'TV', 'FN', 'KF']\n"
     ]
    }
   ],
   "source": [
    "s163 = \"RVQPTESIVRFPNITNLCPFGEVFNATRFASVYAWNRKRISNCVADYSVLYNSASFSTFKCYGVSPTKLNDLCFTNVYADSFVIRGDEVRQIAPGQTGKIADYNYKLPDDFTGCVIAWNSNNLDSKVGGNYNYLYRLFRKSNLKPFERDISTEIYQAGSTPCNGVEGFNCYFPLQSYGFQPTNGVGYQPYRVVVLSFELLHAPATVCGPKKSTNLVKNKCVNF\"\n",
    "\n",
    "lambda_163 = []\n",
    "\n",
    "for i in range(len(s163)):\n",
    "    if(0<=i<60):\n",
    "        c1 = s163[i]\n",
    "        c2 = s163[i+163]\n",
    "        lambda_163.append(c1+c2)\n",
    "    else:\n",
    "        break\n",
    "print(lambda_163)"
   ]
  },
  {
   "cell_type": "code",
   "execution_count": 233,
   "id": "global-cancellation",
   "metadata": {},
   "outputs": [
    {
     "name": "stdout",
     "output_type": "stream",
     "text": [
      "['RV', 'VE', 'QG', 'PF', 'TN', 'EC', 'SY', 'IF', 'VP', 'RL', 'FQ', 'PS', 'NY', 'IG', 'TF', 'NQ', 'LP', 'CT', 'PN', 'FG', 'GV', 'EG', 'VY', 'FQ', 'NP', 'AY', 'TR', 'RV', 'FV', 'AV', 'SL', 'VS', 'YF', 'AE', 'WL', 'NL', 'RH', 'KA', 'RP', 'IA', 'ST', 'NV', 'CC', 'VG', 'AP', 'DK', 'YK', 'SS', 'VT', 'LN', 'YL', 'NV', 'SK', 'AN', 'SK', 'FC', 'SV', 'TN', 'FF']\n"
     ]
    }
   ],
   "source": [
    "s164 = \"RVQPTESIVRFPNITNLCPFGEVFNATRFASVYAWNRKRISNCVADYSVLYNSASFSTFKCYGVSPTKLNDLCFTNVYADSFVIRGDEVRQIAPGQTGKIADYNYKLPDDFTGCVIAWNSNNLDSKVGGNYNYLYRLFRKSNLKPFERDISTEIYQAGSTPCNGVEGFNCYFPLQSYGFQPTNGVGYQPYRVVVLSFELLHAPATVCGPKKSTNLVKNKCVNF\"\n",
    "\n",
    "lambda_164 = []\n",
    "\n",
    "for i in range(len(s164)):\n",
    "    if(0<=i<59):\n",
    "        c1 = s164[i]\n",
    "        c2 = s164[i+164]\n",
    "        lambda_164.append(c1+c2)\n",
    "    else:\n",
    "        break\n",
    "print(lambda_164)"
   ]
  },
  {
   "cell_type": "code",
   "execution_count": 234,
   "id": "respected-innocent",
   "metadata": {},
   "outputs": [
    {
     "name": "stdout",
     "output_type": "stream",
     "text": [
      "['RE', 'VG', 'QF', 'PN', 'TC', 'EY', 'SF', 'IP', 'VL', 'RQ', 'FS', 'PY', 'NG', 'IF', 'TQ', 'NP', 'LT', 'CN', 'PG', 'FV', 'GG', 'EY', 'VQ', 'FP', 'NY', 'AR', 'TV', 'RV', 'FV', 'AL', 'SS', 'VF', 'YE', 'AL', 'WL', 'NH', 'RA', 'KP', 'RA', 'IT', 'SV', 'NC', 'CG', 'VP', 'AK', 'DK', 'YS', 'ST', 'VN', 'LL', 'YV', 'NK', 'SN', 'AK', 'SC', 'FV', 'SN', 'TF']\n"
     ]
    }
   ],
   "source": [
    "s165 = \"RVQPTESIVRFPNITNLCPFGEVFNATRFASVYAWNRKRISNCVADYSVLYNSASFSTFKCYGVSPTKLNDLCFTNVYADSFVIRGDEVRQIAPGQTGKIADYNYKLPDDFTGCVIAWNSNNLDSKVGGNYNYLYRLFRKSNLKPFERDISTEIYQAGSTPCNGVEGFNCYFPLQSYGFQPTNGVGYQPYRVVVLSFELLHAPATVCGPKKSTNLVKNKCVNF\"\n",
    "\n",
    "lambda_165 = []\n",
    "\n",
    "for i in range(len(s165)):\n",
    "    if(0<=i<58):\n",
    "        c1 = s165[i]\n",
    "        c2 = s165[i+165]\n",
    "        lambda_165.append(c1+c2)\n",
    "    else:\n",
    "        break\n",
    "print(lambda_165)"
   ]
  },
  {
   "cell_type": "code",
   "execution_count": 235,
   "id": "collective-spyware",
   "metadata": {},
   "outputs": [
    {
     "name": "stdout",
     "output_type": "stream",
     "text": [
      "['RG', 'VF', 'QN', 'PC', 'TY', 'EF', 'SP', 'IL', 'VQ', 'RS', 'FY', 'PG', 'NF', 'IQ', 'TP', 'NT', 'LN', 'CG', 'PV', 'FG', 'GY', 'EQ', 'VP', 'FY', 'NR', 'AV', 'TV', 'RV', 'FL', 'AS', 'SF', 'VE', 'YL', 'AL', 'WH', 'NA', 'RP', 'KA', 'RT', 'IV', 'SC', 'NG', 'CP', 'VK', 'AK', 'DS', 'YT', 'SN', 'VL', 'LV', 'YK', 'NN', 'SK', 'AC', 'SV', 'FN', 'SF']\n"
     ]
    }
   ],
   "source": [
    "s166 = \"RVQPTESIVRFPNITNLCPFGEVFNATRFASVYAWNRKRISNCVADYSVLYNSASFSTFKCYGVSPTKLNDLCFTNVYADSFVIRGDEVRQIAPGQTGKIADYNYKLPDDFTGCVIAWNSNNLDSKVGGNYNYLYRLFRKSNLKPFERDISTEIYQAGSTPCNGVEGFNCYFPLQSYGFQPTNGVGYQPYRVVVLSFELLHAPATVCGPKKSTNLVKNKCVNF\"\n",
    "\n",
    "lambda_166 = []\n",
    "\n",
    "for i in range(len(s166)):\n",
    "    if(0<=i<57):\n",
    "        c1 = s166[i]\n",
    "        c2 = s166[i+166]\n",
    "        lambda_166.append(c1+c2)\n",
    "    else:\n",
    "        break\n",
    "print(lambda_166)"
   ]
  },
  {
   "cell_type": "code",
   "execution_count": 236,
   "id": "balanced-cheat",
   "metadata": {},
   "outputs": [
    {
     "name": "stdout",
     "output_type": "stream",
     "text": [
      "['RF', 'VN', 'QC', 'PY', 'TF', 'EP', 'SL', 'IQ', 'VS', 'RY', 'FG', 'PF', 'NQ', 'IP', 'TT', 'NN', 'LG', 'CV', 'PG', 'FY', 'GQ', 'EP', 'VY', 'FR', 'NV', 'AV', 'TV', 'RL', 'FS', 'AF', 'SE', 'VL', 'YL', 'AH', 'WA', 'NP', 'RA', 'KT', 'RV', 'IC', 'SG', 'NP', 'CK', 'VK', 'AS', 'DT', 'YN', 'SL', 'VV', 'LK', 'YN', 'NK', 'SC', 'AV', 'SN', 'FF']\n"
     ]
    }
   ],
   "source": [
    "s167 = \"RVQPTESIVRFPNITNLCPFGEVFNATRFASVYAWNRKRISNCVADYSVLYNSASFSTFKCYGVSPTKLNDLCFTNVYADSFVIRGDEVRQIAPGQTGKIADYNYKLPDDFTGCVIAWNSNNLDSKVGGNYNYLYRLFRKSNLKPFERDISTEIYQAGSTPCNGVEGFNCYFPLQSYGFQPTNGVGYQPYRVVVLSFELLHAPATVCGPKKSTNLVKNKCVNF\"\n",
    "\n",
    "lambda_167 = []\n",
    "\n",
    "for i in range(len(s167)):\n",
    "    if(0<=i<56):\n",
    "        c1 = s167[i]\n",
    "        c2 = s167[i+167]\n",
    "        lambda_167.append(c1+c2)\n",
    "    else:\n",
    "        break\n",
    "print(lambda_167)"
   ]
  },
  {
   "cell_type": "code",
   "execution_count": 237,
   "id": "military-activity",
   "metadata": {},
   "outputs": [
    {
     "name": "stdout",
     "output_type": "stream",
     "text": [
      "['RN', 'VC', 'QY', 'PF', 'TP', 'EL', 'SQ', 'IS', 'VY', 'RG', 'FF', 'PQ', 'NP', 'IT', 'TN', 'NG', 'LV', 'CG', 'PY', 'FQ', 'GP', 'EY', 'VR', 'FV', 'NV', 'AV', 'TL', 'RS', 'FF', 'AE', 'SL', 'VL', 'YH', 'AA', 'WP', 'NA', 'RT', 'KV', 'RC', 'IG', 'SP', 'NK', 'CK', 'VS', 'AT', 'DN', 'YL', 'SV', 'VK', 'LN', 'YK', 'NC', 'SV', 'AN', 'SF']\n"
     ]
    }
   ],
   "source": [
    "s168 = \"RVQPTESIVRFPNITNLCPFGEVFNATRFASVYAWNRKRISNCVADYSVLYNSASFSTFKCYGVSPTKLNDLCFTNVYADSFVIRGDEVRQIAPGQTGKIADYNYKLPDDFTGCVIAWNSNNLDSKVGGNYNYLYRLFRKSNLKPFERDISTEIYQAGSTPCNGVEGFNCYFPLQSYGFQPTNGVGYQPYRVVVLSFELLHAPATVCGPKKSTNLVKNKCVNF\"\n",
    "\n",
    "lambda_168 = []\n",
    "\n",
    "for i in range(len(s168)):\n",
    "    if(0<=i<55):\n",
    "        c1 = s168[i]\n",
    "        c2 = s168[i+168]\n",
    "        lambda_168.append(c1+c2)\n",
    "    else:\n",
    "        break\n",
    "print(lambda_168)"
   ]
  },
  {
   "cell_type": "code",
   "execution_count": 238,
   "id": "pending-arena",
   "metadata": {},
   "outputs": [
    {
     "name": "stdout",
     "output_type": "stream",
     "text": [
      "['RC', 'VY', 'QF', 'PP', 'TL', 'EQ', 'SS', 'IY', 'VG', 'RF', 'FQ', 'PP', 'NT', 'IN', 'TG', 'NV', 'LG', 'CY', 'PQ', 'FP', 'GY', 'ER', 'VV', 'FV', 'NV', 'AL', 'TS', 'RF', 'FE', 'AL', 'SL', 'VH', 'YA', 'AP', 'WA', 'NT', 'RV', 'KC', 'RG', 'IP', 'SK', 'NK', 'CS', 'VT', 'AN', 'DL', 'YV', 'SK', 'VN', 'LK', 'YC', 'NV', 'SN', 'AF']\n"
     ]
    }
   ],
   "source": [
    "s169 = \"RVQPTESIVRFPNITNLCPFGEVFNATRFASVYAWNRKRISNCVADYSVLYNSASFSTFKCYGVSPTKLNDLCFTNVYADSFVIRGDEVRQIAPGQTGKIADYNYKLPDDFTGCVIAWNSNNLDSKVGGNYNYLYRLFRKSNLKPFERDISTEIYQAGSTPCNGVEGFNCYFPLQSYGFQPTNGVGYQPYRVVVLSFELLHAPATVCGPKKSTNLVKNKCVNF\"\n",
    "\n",
    "lambda_169 = []\n",
    "\n",
    "for i in range(len(s169)):\n",
    "    if(0<=i<54):\n",
    "        c1 = s169[i]\n",
    "        c2 = s169[i+169]\n",
    "        lambda_169.append(c1+c2)\n",
    "    else:\n",
    "        break\n",
    "print(lambda_169)"
   ]
  },
  {
   "cell_type": "code",
   "execution_count": 239,
   "id": "perceived-variety",
   "metadata": {},
   "outputs": [
    {
     "name": "stdout",
     "output_type": "stream",
     "text": [
      "['RY', 'VF', 'QP', 'PL', 'TQ', 'ES', 'SY', 'IG', 'VF', 'RQ', 'FP', 'PT', 'NN', 'IG', 'TV', 'NG', 'LY', 'CQ', 'PP', 'FY', 'GR', 'EV', 'VV', 'FV', 'NL', 'AS', 'TF', 'RE', 'FL', 'AL', 'SH', 'VA', 'YP', 'AA', 'WT', 'NV', 'RC', 'KG', 'RP', 'IK', 'SK', 'NS', 'CT', 'VN', 'AL', 'DV', 'YK', 'SN', 'VK', 'LC', 'YV', 'NN', 'SF']\n"
     ]
    }
   ],
   "source": [
    "s170 = \"RVQPTESIVRFPNITNLCPFGEVFNATRFASVYAWNRKRISNCVADYSVLYNSASFSTFKCYGVSPTKLNDLCFTNVYADSFVIRGDEVRQIAPGQTGKIADYNYKLPDDFTGCVIAWNSNNLDSKVGGNYNYLYRLFRKSNLKPFERDISTEIYQAGSTPCNGVEGFNCYFPLQSYGFQPTNGVGYQPYRVVVLSFELLHAPATVCGPKKSTNLVKNKCVNF\"\n",
    "\n",
    "lambda_170 = []\n",
    "\n",
    "for i in range(len(s170)):\n",
    "    if(0<=i<53):\n",
    "        c1 = s170[i]\n",
    "        c2 = s170[i+170]\n",
    "        lambda_170.append(c1+c2)\n",
    "    else:\n",
    "        break\n",
    "print(lambda_170)"
   ]
  },
  {
   "cell_type": "code",
   "execution_count": 240,
   "id": "forty-saturn",
   "metadata": {},
   "outputs": [
    {
     "name": "stdout",
     "output_type": "stream",
     "text": [
      "['RF', 'VP', 'QL', 'PQ', 'TS', 'EY', 'SG', 'IF', 'VQ', 'RP', 'FT', 'PN', 'NG', 'IV', 'TG', 'NY', 'LQ', 'CP', 'PY', 'FR', 'GV', 'EV', 'VV', 'FL', 'NS', 'AF', 'TE', 'RL', 'FL', 'AH', 'SA', 'VP', 'YA', 'AT', 'WV', 'NC', 'RG', 'KP', 'RK', 'IK', 'SS', 'NT', 'CN', 'VL', 'AV', 'DK', 'YN', 'SK', 'VC', 'LV', 'YN', 'NF']\n"
     ]
    }
   ],
   "source": [
    "s171 = \"RVQPTESIVRFPNITNLCPFGEVFNATRFASVYAWNRKRISNCVADYSVLYNSASFSTFKCYGVSPTKLNDLCFTNVYADSFVIRGDEVRQIAPGQTGKIADYNYKLPDDFTGCVIAWNSNNLDSKVGGNYNYLYRLFRKSNLKPFERDISTEIYQAGSTPCNGVEGFNCYFPLQSYGFQPTNGVGYQPYRVVVLSFELLHAPATVCGPKKSTNLVKNKCVNF\"\n",
    "\n",
    "lambda_171 = []\n",
    "\n",
    "for i in range(len(s171)):\n",
    "    if(0<=i<52):\n",
    "        c1 = s171[i]\n",
    "        c2 = s171[i+171]\n",
    "        lambda_171.append(c1+c2)\n",
    "    else:\n",
    "        break\n",
    "print(lambda_171)"
   ]
  },
  {
   "cell_type": "code",
   "execution_count": 241,
   "id": "sunrise-composite",
   "metadata": {},
   "outputs": [
    {
     "name": "stdout",
     "output_type": "stream",
     "text": [
      "['RP', 'VL', 'QQ', 'PS', 'TY', 'EG', 'SF', 'IQ', 'VP', 'RT', 'FN', 'PG', 'NV', 'IG', 'TY', 'NQ', 'LP', 'CY', 'PR', 'FV', 'GV', 'EV', 'VL', 'FS', 'NF', 'AE', 'TL', 'RL', 'FH', 'AA', 'SP', 'VA', 'YT', 'AV', 'WC', 'NG', 'RP', 'KK', 'RK', 'IS', 'ST', 'NN', 'CL', 'VV', 'AK', 'DN', 'YK', 'SC', 'VV', 'LN', 'YF']\n"
     ]
    }
   ],
   "source": [
    "s172 = \"RVQPTESIVRFPNITNLCPFGEVFNATRFASVYAWNRKRISNCVADYSVLYNSASFSTFKCYGVSPTKLNDLCFTNVYADSFVIRGDEVRQIAPGQTGKIADYNYKLPDDFTGCVIAWNSNNLDSKVGGNYNYLYRLFRKSNLKPFERDISTEIYQAGSTPCNGVEGFNCYFPLQSYGFQPTNGVGYQPYRVVVLSFELLHAPATVCGPKKSTNLVKNKCVNF\"\n",
    "\n",
    "lambda_172 = []\n",
    "\n",
    "for i in range(len(s172)):\n",
    "    if(0<=i<51):\n",
    "        c1 = s172[i]\n",
    "        c2 = s172[i+172]\n",
    "        lambda_172.append(c1+c2)\n",
    "    else:\n",
    "        break\n",
    "print(lambda_172)"
   ]
  },
  {
   "cell_type": "code",
   "execution_count": 242,
   "id": "impossible-blank",
   "metadata": {},
   "outputs": [
    {
     "name": "stdout",
     "output_type": "stream",
     "text": [
      "['RL', 'VQ', 'QS', 'PY', 'TG', 'EF', 'SQ', 'IP', 'VT', 'RN', 'FG', 'PV', 'NG', 'IY', 'TQ', 'NP', 'LY', 'CR', 'PV', 'FV', 'GV', 'EL', 'VS', 'FF', 'NE', 'AL', 'TL', 'RH', 'FA', 'AP', 'SA', 'VT', 'YV', 'AC', 'WG', 'NP', 'RK', 'KK', 'RS', 'IT', 'SN', 'NL', 'CV', 'VK', 'AN', 'DK', 'YC', 'SV', 'VN', 'LF']\n"
     ]
    }
   ],
   "source": [
    "s173 = \"RVQPTESIVRFPNITNLCPFGEVFNATRFASVYAWNRKRISNCVADYSVLYNSASFSTFKCYGVSPTKLNDLCFTNVYADSFVIRGDEVRQIAPGQTGKIADYNYKLPDDFTGCVIAWNSNNLDSKVGGNYNYLYRLFRKSNLKPFERDISTEIYQAGSTPCNGVEGFNCYFPLQSYGFQPTNGVGYQPYRVVVLSFELLHAPATVCGPKKSTNLVKNKCVNF\"\n",
    "\n",
    "lambda_173 = []\n",
    "\n",
    "for i in range(len(s173)):\n",
    "    if(0<=i<50):\n",
    "        c1 = s173[i]\n",
    "        c2 = s173[i+173]\n",
    "        lambda_173.append(c1+c2)\n",
    "    else:\n",
    "        break\n",
    "print(lambda_173)"
   ]
  },
  {
   "cell_type": "code",
   "execution_count": 243,
   "id": "affiliated-information",
   "metadata": {},
   "outputs": [
    {
     "name": "stdout",
     "output_type": "stream",
     "text": [
      "['RQ', 'VS', 'QY', 'PG', 'TF', 'EQ', 'SP', 'IT', 'VN', 'RG', 'FV', 'PG', 'NY', 'IQ', 'TP', 'NY', 'LR', 'CV', 'PV', 'FV', 'GL', 'ES', 'VF', 'FE', 'NL', 'AL', 'TH', 'RA', 'FP', 'AA', 'ST', 'VV', 'YC', 'AG', 'WP', 'NK', 'RK', 'KS', 'RT', 'IN', 'SL', 'NV', 'CK', 'VN', 'AK', 'DC', 'YV', 'SN', 'VF']\n"
     ]
    }
   ],
   "source": [
    "s174 = \"RVQPTESIVRFPNITNLCPFGEVFNATRFASVYAWNRKRISNCVADYSVLYNSASFSTFKCYGVSPTKLNDLCFTNVYADSFVIRGDEVRQIAPGQTGKIADYNYKLPDDFTGCVIAWNSNNLDSKVGGNYNYLYRLFRKSNLKPFERDISTEIYQAGSTPCNGVEGFNCYFPLQSYGFQPTNGVGYQPYRVVVLSFELLHAPATVCGPKKSTNLVKNKCVNF\"\n",
    "\n",
    "lambda_174 = []\n",
    "\n",
    "for i in range(len(s174)):\n",
    "    if(0<=i<49):\n",
    "        c1 = s174[i]\n",
    "        c2 = s174[i+174]\n",
    "        lambda_174.append(c1+c2)\n",
    "    else:\n",
    "        break\n",
    "print(lambda_174)"
   ]
  },
  {
   "cell_type": "code",
   "execution_count": 244,
   "id": "dried-niger",
   "metadata": {},
   "outputs": [
    {
     "name": "stdout",
     "output_type": "stream",
     "text": [
      "['RS', 'VY', 'QG', 'PF', 'TQ', 'EP', 'ST', 'IN', 'VG', 'RV', 'FG', 'PY', 'NQ', 'IP', 'TY', 'NR', 'LV', 'CV', 'PV', 'FL', 'GS', 'EF', 'VE', 'FL', 'NL', 'AH', 'TA', 'RP', 'FA', 'AT', 'SV', 'VC', 'YG', 'AP', 'WK', 'NK', 'RS', 'KT', 'RN', 'IL', 'SV', 'NK', 'CN', 'VK', 'AC', 'DV', 'YN', 'SF']\n"
     ]
    }
   ],
   "source": [
    "s175 = \"RVQPTESIVRFPNITNLCPFGEVFNATRFASVYAWNRKRISNCVADYSVLYNSASFSTFKCYGVSPTKLNDLCFTNVYADSFVIRGDEVRQIAPGQTGKIADYNYKLPDDFTGCVIAWNSNNLDSKVGGNYNYLYRLFRKSNLKPFERDISTEIYQAGSTPCNGVEGFNCYFPLQSYGFQPTNGVGYQPYRVVVLSFELLHAPATVCGPKKSTNLVKNKCVNF\"\n",
    "\n",
    "lambda_175 = []\n",
    "\n",
    "for i in range(len(s175)):\n",
    "    if(0<=i<48):\n",
    "        c1 = s175[i]\n",
    "        c2 = s175[i+175]\n",
    "        lambda_175.append(c1+c2)\n",
    "    else:\n",
    "        break\n",
    "print(lambda_175)"
   ]
  },
  {
   "cell_type": "code",
   "execution_count": 245,
   "id": "related-nickname",
   "metadata": {},
   "outputs": [
    {
     "name": "stdout",
     "output_type": "stream",
     "text": [
      "['RY', 'VG', 'QF', 'PQ', 'TP', 'ET', 'SN', 'IG', 'VV', 'RG', 'FY', 'PQ', 'NP', 'IY', 'TR', 'NV', 'LV', 'CV', 'PL', 'FS', 'GF', 'EE', 'VL', 'FL', 'NH', 'AA', 'TP', 'RA', 'FT', 'AV', 'SC', 'VG', 'YP', 'AK', 'WK', 'NS', 'RT', 'KN', 'RL', 'IV', 'SK', 'NN', 'CK', 'VC', 'AV', 'DN', 'YF']\n"
     ]
    }
   ],
   "source": [
    "s176 = \"RVQPTESIVRFPNITNLCPFGEVFNATRFASVYAWNRKRISNCVADYSVLYNSASFSTFKCYGVSPTKLNDLCFTNVYADSFVIRGDEVRQIAPGQTGKIADYNYKLPDDFTGCVIAWNSNNLDSKVGGNYNYLYRLFRKSNLKPFERDISTEIYQAGSTPCNGVEGFNCYFPLQSYGFQPTNGVGYQPYRVVVLSFELLHAPATVCGPKKSTNLVKNKCVNF\"\n",
    "\n",
    "lambda_176 = []\n",
    "\n",
    "for i in range(len(s176)):\n",
    "    if(0<=i<47):\n",
    "        c1 = s176[i]\n",
    "        c2 = s176[i+176]\n",
    "        lambda_176.append(c1+c2)\n",
    "    else:\n",
    "        break\n",
    "print(lambda_176)"
   ]
  },
  {
   "cell_type": "code",
   "execution_count": 246,
   "id": "peripheral-saying",
   "metadata": {},
   "outputs": [
    {
     "name": "stdout",
     "output_type": "stream",
     "text": [
      "['RG', 'VF', 'QQ', 'PP', 'TT', 'EN', 'SG', 'IV', 'VG', 'RY', 'FQ', 'PP', 'NY', 'IR', 'TV', 'NV', 'LV', 'CL', 'PS', 'FF', 'GE', 'EL', 'VL', 'FH', 'NA', 'AP', 'TA', 'RT', 'FV', 'AC', 'SG', 'VP', 'YK', 'AK', 'WS', 'NT', 'RN', 'KL', 'RV', 'IK', 'SN', 'NK', 'CC', 'VV', 'AN', 'DF']\n"
     ]
    }
   ],
   "source": [
    "s177 = \"RVQPTESIVRFPNITNLCPFGEVFNATRFASVYAWNRKRISNCVADYSVLYNSASFSTFKCYGVSPTKLNDLCFTNVYADSFVIRGDEVRQIAPGQTGKIADYNYKLPDDFTGCVIAWNSNNLDSKVGGNYNYLYRLFRKSNLKPFERDISTEIYQAGSTPCNGVEGFNCYFPLQSYGFQPTNGVGYQPYRVVVLSFELLHAPATVCGPKKSTNLVKNKCVNF\"\n",
    "\n",
    "lambda_177 = []\n",
    "\n",
    "for i in range(len(s177)):\n",
    "    if(0<=i<46):\n",
    "        c1 = s177[i]\n",
    "        c2 = s177[i+177]\n",
    "        lambda_177.append(c1+c2)\n",
    "    else:\n",
    "        break\n",
    "print(lambda_177)"
   ]
  },
  {
   "cell_type": "code",
   "execution_count": 247,
   "id": "blank-character",
   "metadata": {},
   "outputs": [
    {
     "name": "stdout",
     "output_type": "stream",
     "text": [
      "['RF', 'VQ', 'QP', 'PT', 'TN', 'EG', 'SV', 'IG', 'VY', 'RQ', 'FP', 'PY', 'NR', 'IV', 'TV', 'NV', 'LL', 'CS', 'PF', 'FE', 'GL', 'EL', 'VH', 'FA', 'NP', 'AA', 'TT', 'RV', 'FC', 'AG', 'SP', 'VK', 'YK', 'AS', 'WT', 'NN', 'RL', 'KV', 'RK', 'IN', 'SK', 'NC', 'CV', 'VN', 'AF']\n"
     ]
    }
   ],
   "source": [
    "s178 = \"RVQPTESIVRFPNITNLCPFGEVFNATRFASVYAWNRKRISNCVADYSVLYNSASFSTFKCYGVSPTKLNDLCFTNVYADSFVIRGDEVRQIAPGQTGKIADYNYKLPDDFTGCVIAWNSNNLDSKVGGNYNYLYRLFRKSNLKPFERDISTEIYQAGSTPCNGVEGFNCYFPLQSYGFQPTNGVGYQPYRVVVLSFELLHAPATVCGPKKSTNLVKNKCVNF\"\n",
    "\n",
    "lambda_178 = []\n",
    "\n",
    "for i in range(len(s178)):\n",
    "    if(0<=i<45):\n",
    "        c1 = s178[i]\n",
    "        c2 = s178[i+178]\n",
    "        lambda_178.append(c1+c2)\n",
    "    else:\n",
    "        break\n",
    "print(lambda_178)"
   ]
  },
  {
   "cell_type": "code",
   "execution_count": 248,
   "id": "shaped-cemetery",
   "metadata": {},
   "outputs": [
    {
     "name": "stdout",
     "output_type": "stream",
     "text": [
      "['RQ', 'VP', 'QT', 'PN', 'TG', 'EV', 'SG', 'IY', 'VQ', 'RP', 'FY', 'PR', 'NV', 'IV', 'TV', 'NL', 'LS', 'CF', 'PE', 'FL', 'GL', 'EH', 'VA', 'FP', 'NA', 'AT', 'TV', 'RC', 'FG', 'AP', 'SK', 'VK', 'YS', 'AT', 'WN', 'NL', 'RV', 'KK', 'RN', 'IK', 'SC', 'NV', 'CN', 'VF']\n"
     ]
    }
   ],
   "source": [
    "s179 = \"RVQPTESIVRFPNITNLCPFGEVFNATRFASVYAWNRKRISNCVADYSVLYNSASFSTFKCYGVSPTKLNDLCFTNVYADSFVIRGDEVRQIAPGQTGKIADYNYKLPDDFTGCVIAWNSNNLDSKVGGNYNYLYRLFRKSNLKPFERDISTEIYQAGSTPCNGVEGFNCYFPLQSYGFQPTNGVGYQPYRVVVLSFELLHAPATVCGPKKSTNLVKNKCVNF\"\n",
    "\n",
    "lambda_179 = []\n",
    "\n",
    "for i in range(len(s179)):\n",
    "    if(0<=i<44):\n",
    "        c1 = s179[i]\n",
    "        c2 = s179[i+179]\n",
    "        lambda_179.append(c1+c2)\n",
    "    else:\n",
    "        break\n",
    "print(lambda_179)"
   ]
  },
  {
   "cell_type": "code",
   "execution_count": 249,
   "id": "composed-trinidad",
   "metadata": {},
   "outputs": [
    {
     "name": "stdout",
     "output_type": "stream",
     "text": [
      "['RP', 'VT', 'QN', 'PG', 'TV', 'EG', 'SY', 'IQ', 'VP', 'RY', 'FR', 'PV', 'NV', 'IV', 'TL', 'NS', 'LF', 'CE', 'PL', 'FL', 'GH', 'EA', 'VP', 'FA', 'NT', 'AV', 'TC', 'RG', 'FP', 'AK', 'SK', 'VS', 'YT', 'AN', 'WL', 'NV', 'RK', 'KN', 'RK', 'IC', 'SV', 'NN', 'CF']\n"
     ]
    }
   ],
   "source": [
    "s180= \"RVQPTESIVRFPNITNLCPFGEVFNATRFASVYAWNRKRISNCVADYSVLYNSASFSTFKCYGVSPTKLNDLCFTNVYADSFVIRGDEVRQIAPGQTGKIADYNYKLPDDFTGCVIAWNSNNLDSKVGGNYNYLYRLFRKSNLKPFERDISTEIYQAGSTPCNGVEGFNCYFPLQSYGFQPTNGVGYQPYRVVVLSFELLHAPATVCGPKKSTNLVKNKCVNF\"\n",
    "\n",
    "lambda_180 = []\n",
    "\n",
    "for i in range(len(s180)):\n",
    "    if(0<=i<43):\n",
    "        c1 = s180[i]\n",
    "        c2 = s180[i+180]\n",
    "        lambda_180.append(c1+c2)\n",
    "    else:\n",
    "        break\n",
    "print(lambda_180)"
   ]
  },
  {
   "cell_type": "code",
   "execution_count": 250,
   "id": "convertible-baghdad",
   "metadata": {},
   "outputs": [
    {
     "name": "stdout",
     "output_type": "stream",
     "text": [
      "['RT', 'VN', 'QG', 'PV', 'TG', 'EY', 'SQ', 'IP', 'VY', 'RR', 'FV', 'PV', 'NV', 'IL', 'TS', 'NF', 'LE', 'CL', 'PL', 'FH', 'GA', 'EP', 'VA', 'FT', 'NV', 'AC', 'TG', 'RP', 'FK', 'AK', 'SS', 'VT', 'YN', 'AL', 'WV', 'NK', 'RN', 'KK', 'RC', 'IV', 'SN', 'NF']\n"
     ]
    }
   ],
   "source": [
    "s181 = \"RVQPTESIVRFPNITNLCPFGEVFNATRFASVYAWNRKRISNCVADYSVLYNSASFSTFKCYGVSPTKLNDLCFTNVYADSFVIRGDEVRQIAPGQTGKIADYNYKLPDDFTGCVIAWNSNNLDSKVGGNYNYLYRLFRKSNLKPFERDISTEIYQAGSTPCNGVEGFNCYFPLQSYGFQPTNGVGYQPYRVVVLSFELLHAPATVCGPKKSTNLVKNKCVNF\"\n",
    "\n",
    "lambda_181 = []\n",
    "\n",
    "for i in range(len(s181)):\n",
    "    if(0<=i<42):\n",
    "        c1 = s181[i]\n",
    "        c2 = s181[i+181]\n",
    "        lambda_181.append(c1+c2)\n",
    "    else:\n",
    "        break\n",
    "print(lambda_181)"
   ]
  },
  {
   "cell_type": "code",
   "execution_count": 251,
   "id": "gentle-gamma",
   "metadata": {},
   "outputs": [
    {
     "name": "stdout",
     "output_type": "stream",
     "text": [
      "['RN', 'VG', 'QV', 'PG', 'TY', 'EQ', 'SP', 'IY', 'VR', 'RV', 'FV', 'PV', 'NL', 'IS', 'TF', 'NE', 'LL', 'CL', 'PH', 'FA', 'GP', 'EA', 'VT', 'FV', 'NC', 'AG', 'TP', 'RK', 'FK', 'AS', 'ST', 'VN', 'YL', 'AV', 'WK', 'NN', 'RK', 'KC', 'RV', 'IN', 'SF']\n"
     ]
    }
   ],
   "source": [
    "s182 = \"RVQPTESIVRFPNITNLCPFGEVFNATRFASVYAWNRKRISNCVADYSVLYNSASFSTFKCYGVSPTKLNDLCFTNVYADSFVIRGDEVRQIAPGQTGKIADYNYKLPDDFTGCVIAWNSNNLDSKVGGNYNYLYRLFRKSNLKPFERDISTEIYQAGSTPCNGVEGFNCYFPLQSYGFQPTNGVGYQPYRVVVLSFELLHAPATVCGPKKSTNLVKNKCVNF\"\n",
    "\n",
    "lambda_182 = []\n",
    "\n",
    "for i in range(len(s182)):\n",
    "    if(0<=i<41):\n",
    "        c1 = s182[i]\n",
    "        c2 = s182[i+182]\n",
    "        lambda_182.append(c1+c2)\n",
    "    else:\n",
    "        break\n",
    "print(lambda_182)"
   ]
  },
  {
   "cell_type": "code",
   "execution_count": 252,
   "id": "brutal-origin",
   "metadata": {},
   "outputs": [
    {
     "name": "stdout",
     "output_type": "stream",
     "text": [
      "['RG', 'VV', 'QG', 'PY', 'TQ', 'EP', 'SY', 'IR', 'VV', 'RV', 'FV', 'PL', 'NS', 'IF', 'TE', 'NL', 'LL', 'CH', 'PA', 'FP', 'GA', 'ET', 'VV', 'FC', 'NG', 'AP', 'TK', 'RK', 'FS', 'AT', 'SN', 'VL', 'YV', 'AK', 'WN', 'NK', 'RC', 'KV', 'RN', 'IF']\n"
     ]
    }
   ],
   "source": [
    "s183 = \"RVQPTESIVRFPNITNLCPFGEVFNATRFASVYAWNRKRISNCVADYSVLYNSASFSTFKCYGVSPTKLNDLCFTNVYADSFVIRGDEVRQIAPGQTGKIADYNYKLPDDFTGCVIAWNSNNLDSKVGGNYNYLYRLFRKSNLKPFERDISTEIYQAGSTPCNGVEGFNCYFPLQSYGFQPTNGVGYQPYRVVVLSFELLHAPATVCGPKKSTNLVKNKCVNF\"\n",
    "\n",
    "lambda_183 = []\n",
    "\n",
    "for i in range(len(s183)):\n",
    "    if(0<=i<40):\n",
    "        c1 = s183[i]\n",
    "        c2 = s183[i+183]\n",
    "        lambda_183.append(c1+c2)\n",
    "    else:\n",
    "        break\n",
    "print(lambda_183)"
   ]
  },
  {
   "cell_type": "code",
   "execution_count": 253,
   "id": "tutorial-intro",
   "metadata": {},
   "outputs": [
    {
     "name": "stdout",
     "output_type": "stream",
     "text": [
      "['RV', 'VG', 'QY', 'PQ', 'TP', 'EY', 'SR', 'IV', 'VV', 'RV', 'FL', 'PS', 'NF', 'IE', 'TL', 'NL', 'LH', 'CA', 'PP', 'FA', 'GT', 'EV', 'VC', 'FG', 'NP', 'AK', 'TK', 'RS', 'FT', 'AN', 'SL', 'VV', 'YK', 'AN', 'WK', 'NC', 'RV', 'KN', 'RF']\n"
     ]
    }
   ],
   "source": [
    "s184 = \"RVQPTESIVRFPNITNLCPFGEVFNATRFASVYAWNRKRISNCVADYSVLYNSASFSTFKCYGVSPTKLNDLCFTNVYADSFVIRGDEVRQIAPGQTGKIADYNYKLPDDFTGCVIAWNSNNLDSKVGGNYNYLYRLFRKSNLKPFERDISTEIYQAGSTPCNGVEGFNCYFPLQSYGFQPTNGVGYQPYRVVVLSFELLHAPATVCGPKKSTNLVKNKCVNF\"\n",
    "\n",
    "lambda_184 = []\n",
    "\n",
    "for i in range(len(s184)):\n",
    "    if(0<=i<39):\n",
    "        c1 = s184[i]\n",
    "        c2 = s184[i+184]\n",
    "        lambda_184.append(c1+c2)\n",
    "    else:\n",
    "        break\n",
    "print(lambda_184)"
   ]
  },
  {
   "cell_type": "code",
   "execution_count": 254,
   "id": "japanese-sociology",
   "metadata": {},
   "outputs": [
    {
     "name": "stdout",
     "output_type": "stream",
     "text": [
      "['RG', 'VY', 'QQ', 'PP', 'TY', 'ER', 'SV', 'IV', 'VV', 'RL', 'FS', 'PF', 'NE', 'IL', 'TL', 'NH', 'LA', 'CP', 'PA', 'FT', 'GV', 'EC', 'VG', 'FP', 'NK', 'AK', 'TS', 'RT', 'FN', 'AL', 'SV', 'VK', 'YN', 'AK', 'WC', 'NV', 'RN', 'KF']\n"
     ]
    }
   ],
   "source": [
    "s185 = \"RVQPTESIVRFPNITNLCPFGEVFNATRFASVYAWNRKRISNCVADYSVLYNSASFSTFKCYGVSPTKLNDLCFTNVYADSFVIRGDEVRQIAPGQTGKIADYNYKLPDDFTGCVIAWNSNNLDSKVGGNYNYLYRLFRKSNLKPFERDISTEIYQAGSTPCNGVEGFNCYFPLQSYGFQPTNGVGYQPYRVVVLSFELLHAPATVCGPKKSTNLVKNKCVNF\"\n",
    "\n",
    "lambda_185 = []\n",
    "\n",
    "for i in range(len(s185)):\n",
    "    if(0<=i<38):\n",
    "        c1 = s185[i]\n",
    "        c2 = s185[i+185]\n",
    "        lambda_185.append(c1+c2)\n",
    "    else:\n",
    "        break\n",
    "print(lambda_185)"
   ]
  },
  {
   "cell_type": "code",
   "execution_count": 255,
   "id": "final-ferry",
   "metadata": {},
   "outputs": [
    {
     "name": "stdout",
     "output_type": "stream",
     "text": [
      "['RY', 'VQ', 'QP', 'PY', 'TR', 'EV', 'SV', 'IV', 'VL', 'RS', 'FF', 'PE', 'NL', 'IL', 'TH', 'NA', 'LP', 'CA', 'PT', 'FV', 'GC', 'EG', 'VP', 'FK', 'NK', 'AS', 'TT', 'RN', 'FL', 'AV', 'SK', 'VN', 'YK', 'AC', 'WV', 'NN', 'RF']\n"
     ]
    }
   ],
   "source": [
    "s186 = \"RVQPTESIVRFPNITNLCPFGEVFNATRFASVYAWNRKRISNCVADYSVLYNSASFSTFKCYGVSPTKLNDLCFTNVYADSFVIRGDEVRQIAPGQTGKIADYNYKLPDDFTGCVIAWNSNNLDSKVGGNYNYLYRLFRKSNLKPFERDISTEIYQAGSTPCNGVEGFNCYFPLQSYGFQPTNGVGYQPYRVVVLSFELLHAPATVCGPKKSTNLVKNKCVNF\"\n",
    "\n",
    "lambda_186 = []\n",
    "\n",
    "for i in range(len(s186)):\n",
    "    if(0<=i<37):\n",
    "        c1 = s186[i]\n",
    "        c2 = s186[i+186]\n",
    "        lambda_186.append(c1+c2)\n",
    "    else:\n",
    "        break\n",
    "print(lambda_186)"
   ]
  },
  {
   "cell_type": "code",
   "execution_count": 256,
   "id": "confidential-hearing",
   "metadata": {},
   "outputs": [
    {
     "name": "stdout",
     "output_type": "stream",
     "text": [
      "['RQ', 'VP', 'QY', 'PR', 'TV', 'EV', 'SV', 'IL', 'VS', 'RF', 'FE', 'PL', 'NL', 'IH', 'TA', 'NP', 'LA', 'CT', 'PV', 'FC', 'GG', 'EP', 'VK', 'FK', 'NS', 'AT', 'TN', 'RL', 'FV', 'AK', 'SN', 'VK', 'YC', 'AV', 'WN', 'NF']\n"
     ]
    }
   ],
   "source": [
    "s187 = \"RVQPTESIVRFPNITNLCPFGEVFNATRFASVYAWNRKRISNCVADYSVLYNSASFSTFKCYGVSPTKLNDLCFTNVYADSFVIRGDEVRQIAPGQTGKIADYNYKLPDDFTGCVIAWNSNNLDSKVGGNYNYLYRLFRKSNLKPFERDISTEIYQAGSTPCNGVEGFNCYFPLQSYGFQPTNGVGYQPYRVVVLSFELLHAPATVCGPKKSTNLVKNKCVNF\"\n",
    "\n",
    "lambda_187 = []\n",
    "\n",
    "for i in range(len(s187)):\n",
    "    if(0<=i<36):\n",
    "        c1 = s187[i]\n",
    "        c2 = s187[i+187]\n",
    "        lambda_187.append(c1+c2)\n",
    "    else:\n",
    "        break\n",
    "print(lambda_187)"
   ]
  },
  {
   "cell_type": "code",
   "execution_count": 257,
   "id": "appropriate-italic",
   "metadata": {},
   "outputs": [
    {
     "name": "stdout",
     "output_type": "stream",
     "text": [
      "['RP', 'VY', 'QR', 'PV', 'TV', 'EV', 'SL', 'IS', 'VF', 'RE', 'FL', 'PL', 'NH', 'IA', 'TP', 'NA', 'LT', 'CV', 'PC', 'FG', 'GP', 'EK', 'VK', 'FS', 'NT', 'AN', 'TL', 'RV', 'FK', 'AN', 'SK', 'VC', 'YV', 'AN', 'WF']\n"
     ]
    }
   ],
   "source": [
    "s188 = \"RVQPTESIVRFPNITNLCPFGEVFNATRFASVYAWNRKRISNCVADYSVLYNSASFSTFKCYGVSPTKLNDLCFTNVYADSFVIRGDEVRQIAPGQTGKIADYNYKLPDDFTGCVIAWNSNNLDSKVGGNYNYLYRLFRKSNLKPFERDISTEIYQAGSTPCNGVEGFNCYFPLQSYGFQPTNGVGYQPYRVVVLSFELLHAPATVCGPKKSTNLVKNKCVNF\"\n",
    "\n",
    "lambda_188 = []\n",
    "\n",
    "for i in range(len(s188)):\n",
    "    if(0<=i<35):\n",
    "        c1 = s188[i]\n",
    "        c2 = s188[i+188]\n",
    "        lambda_188.append(c1+c2)\n",
    "    else:\n",
    "        break\n",
    "print(lambda_188)"
   ]
  },
  {
   "cell_type": "code",
   "execution_count": 258,
   "id": "split-malaysia",
   "metadata": {},
   "outputs": [
    {
     "name": "stdout",
     "output_type": "stream",
     "text": [
      "['RY', 'VR', 'QV', 'PV', 'TV', 'EL', 'SS', 'IF', 'VE', 'RL', 'FL', 'PH', 'NA', 'IP', 'TA', 'NT', 'LV', 'CC', 'PG', 'FP', 'GK', 'EK', 'VS', 'FT', 'NN', 'AL', 'TV', 'RK', 'FN', 'AK', 'SC', 'VV', 'YN', 'AF']\n"
     ]
    }
   ],
   "source": [
    "s189 = \"RVQPTESIVRFPNITNLCPFGEVFNATRFASVYAWNRKRISNCVADYSVLYNSASFSTFKCYGVSPTKLNDLCFTNVYADSFVIRGDEVRQIAPGQTGKIADYNYKLPDDFTGCVIAWNSNNLDSKVGGNYNYLYRLFRKSNLKPFERDISTEIYQAGSTPCNGVEGFNCYFPLQSYGFQPTNGVGYQPYRVVVLSFELLHAPATVCGPKKSTNLVKNKCVNF\"\n",
    "\n",
    "lambda_189 = []\n",
    "\n",
    "for i in range(len(s189)):\n",
    "    if(0<=i<34):\n",
    "        c1 = s189[i]\n",
    "        c2 = s189[i+189]\n",
    "        lambda_189.append(c1+c2)\n",
    "    else:\n",
    "        break\n",
    "print(lambda_189)"
   ]
  },
  {
   "cell_type": "code",
   "execution_count": 259,
   "id": "laden-reynolds",
   "metadata": {},
   "outputs": [
    {
     "name": "stdout",
     "output_type": "stream",
     "text": [
      "['RR', 'VV', 'QV', 'PV', 'TL', 'ES', 'SF', 'IE', 'VL', 'RL', 'FH', 'PA', 'NP', 'IA', 'TT', 'NV', 'LC', 'CG', 'PP', 'FK', 'GK', 'ES', 'VT', 'FN', 'NL', 'AV', 'TK', 'RN', 'FK', 'AC', 'SV', 'VN', 'YF']\n"
     ]
    }
   ],
   "source": [
    "s190 = \"RVQPTESIVRFPNITNLCPFGEVFNATRFASVYAWNRKRISNCVADYSVLYNSASFSTFKCYGVSPTKLNDLCFTNVYADSFVIRGDEVRQIAPGQTGKIADYNYKLPDDFTGCVIAWNSNNLDSKVGGNYNYLYRLFRKSNLKPFERDISTEIYQAGSTPCNGVEGFNCYFPLQSYGFQPTNGVGYQPYRVVVLSFELLHAPATVCGPKKSTNLVKNKCVNF\"\n",
    "\n",
    "lambda_190 = []\n",
    "\n",
    "for i in range(len(s190)):\n",
    "    if(0<=i<33):\n",
    "        c1 = s190[i]\n",
    "        c2 = s190[i+190]\n",
    "        lambda_190.append(c1+c2)\n",
    "    else:\n",
    "        break\n",
    "print(lambda_190)"
   ]
  },
  {
   "cell_type": "code",
   "execution_count": 260,
   "id": "reserved-chamber",
   "metadata": {},
   "outputs": [
    {
     "name": "stdout",
     "output_type": "stream",
     "text": [
      "['RV', 'VV', 'QV', 'PL', 'TS', 'EF', 'SE', 'IL', 'VL', 'RH', 'FA', 'PP', 'NA', 'IT', 'TV', 'NC', 'LG', 'CP', 'PK', 'FK', 'GS', 'ET', 'VN', 'FL', 'NV', 'AK', 'TN', 'RK', 'FC', 'AV', 'SN', 'VF']\n"
     ]
    }
   ],
   "source": [
    "s191 = \"RVQPTESIVRFPNITNLCPFGEVFNATRFASVYAWNRKRISNCVADYSVLYNSASFSTFKCYGVSPTKLNDLCFTNVYADSFVIRGDEVRQIAPGQTGKIADYNYKLPDDFTGCVIAWNSNNLDSKVGGNYNYLYRLFRKSNLKPFERDISTEIYQAGSTPCNGVEGFNCYFPLQSYGFQPTNGVGYQPYRVVVLSFELLHAPATVCGPKKSTNLVKNKCVNF\"\n",
    "\n",
    "lambda_191 = []\n",
    "\n",
    "for i in range(len(s191)):\n",
    "    if(0<=i<32):\n",
    "        c1 = s191[i]\n",
    "        c2 = s191[i+191]\n",
    "        lambda_191.append(c1+c2)\n",
    "    else:\n",
    "        break\n",
    "print(lambda_191)"
   ]
  },
  {
   "cell_type": "code",
   "execution_count": 261,
   "id": "comparable-harbor",
   "metadata": {},
   "outputs": [
    {
     "name": "stdout",
     "output_type": "stream",
     "text": [
      "['RV', 'VV', 'QL', 'PS', 'TF', 'EE', 'SL', 'IL', 'VH', 'RA', 'FP', 'PA', 'NT', 'IV', 'TC', 'NG', 'LP', 'CK', 'PK', 'FS', 'GT', 'EN', 'VL', 'FV', 'NK', 'AN', 'TK', 'RC', 'FV', 'AN', 'SF']\n"
     ]
    }
   ],
   "source": [
    "s192 = \"RVQPTESIVRFPNITNLCPFGEVFNATRFASVYAWNRKRISNCVADYSVLYNSASFSTFKCYGVSPTKLNDLCFTNVYADSFVIRGDEVRQIAPGQTGKIADYNYKLPDDFTGCVIAWNSNNLDSKVGGNYNYLYRLFRKSNLKPFERDISTEIYQAGSTPCNGVEGFNCYFPLQSYGFQPTNGVGYQPYRVVVLSFELLHAPATVCGPKKSTNLVKNKCVNF\"\n",
    "\n",
    "lambda_192 = []\n",
    "\n",
    "for i in range(len(s192)):\n",
    "    if(0<=i<31):\n",
    "        c1 = s192[i]\n",
    "        c2 = s192[i+192]\n",
    "        lambda_192.append(c1+c2)\n",
    "    else:\n",
    "        break\n",
    "print(lambda_192)"
   ]
  },
  {
   "cell_type": "code",
   "execution_count": 262,
   "id": "engaged-technician",
   "metadata": {},
   "outputs": [
    {
     "name": "stdout",
     "output_type": "stream",
     "text": [
      "['RV', 'VL', 'QS', 'PF', 'TE', 'EL', 'SL', 'IH', 'VA', 'RP', 'FA', 'PT', 'NV', 'IC', 'TG', 'NP', 'LK', 'CK', 'PS', 'FT', 'GN', 'EL', 'VV', 'FK', 'NN', 'AK', 'TC', 'RV', 'FN', 'AF']\n"
     ]
    }
   ],
   "source": [
    "s193 = \"RVQPTESIVRFPNITNLCPFGEVFNATRFASVYAWNRKRISNCVADYSVLYNSASFSTFKCYGVSPTKLNDLCFTNVYADSFVIRGDEVRQIAPGQTGKIADYNYKLPDDFTGCVIAWNSNNLDSKVGGNYNYLYRLFRKSNLKPFERDISTEIYQAGSTPCNGVEGFNCYFPLQSYGFQPTNGVGYQPYRVVVLSFELLHAPATVCGPKKSTNLVKNKCVNF\"\n",
    "\n",
    "lambda_193 = []\n",
    "\n",
    "for i in range(len(s193)):\n",
    "    if(0<=i<30):\n",
    "        c1 = s193[i]\n",
    "        c2 = s193[i+193]\n",
    "        lambda_193.append(c1+c2)\n",
    "    else:\n",
    "        break\n",
    "print(lambda_193)"
   ]
  },
  {
   "cell_type": "code",
   "execution_count": 263,
   "id": "identified-cinema",
   "metadata": {},
   "outputs": [
    {
     "name": "stdout",
     "output_type": "stream",
     "text": [
      "['RL', 'VS', 'QF', 'PE', 'TL', 'EL', 'SH', 'IA', 'VP', 'RA', 'FT', 'PV', 'NC', 'IG', 'TP', 'NK', 'LK', 'CS', 'PT', 'FN', 'GL', 'EV', 'VK', 'FN', 'NK', 'AC', 'TV', 'RN', 'FF']\n"
     ]
    }
   ],
   "source": [
    "s194 = \"RVQPTESIVRFPNITNLCPFGEVFNATRFASVYAWNRKRISNCVADYSVLYNSASFSTFKCYGVSPTKLNDLCFTNVYADSFVIRGDEVRQIAPGQTGKIADYNYKLPDDFTGCVIAWNSNNLDSKVGGNYNYLYRLFRKSNLKPFERDISTEIYQAGSTPCNGVEGFNCYFPLQSYGFQPTNGVGYQPYRVVVLSFELLHAPATVCGPKKSTNLVKNKCVNF\"\n",
    "\n",
    "lambda_194 = []\n",
    "\n",
    "for i in range(len(s194)):\n",
    "    if(0<=i<29):\n",
    "        c1 = s194[i]\n",
    "        c2 = s194[i+194]\n",
    "        lambda_194.append(c1+c2)\n",
    "    else:\n",
    "        break\n",
    "print(lambda_194)"
   ]
  },
  {
   "cell_type": "code",
   "execution_count": 264,
   "id": "rational-behalf",
   "metadata": {},
   "outputs": [
    {
     "name": "stdout",
     "output_type": "stream",
     "text": [
      "['RS', 'VF', 'QE', 'PL', 'TL', 'EH', 'SA', 'IP', 'VA', 'RT', 'FV', 'PC', 'NG', 'IP', 'TK', 'NK', 'LS', 'CT', 'PN', 'FL', 'GV', 'EK', 'VN', 'FK', 'NC', 'AV', 'TN', 'RF']\n"
     ]
    }
   ],
   "source": [
    "s195 = \"RVQPTESIVRFPNITNLCPFGEVFNATRFASVYAWNRKRISNCVADYSVLYNSASFSTFKCYGVSPTKLNDLCFTNVYADSFVIRGDEVRQIAPGQTGKIADYNYKLPDDFTGCVIAWNSNNLDSKVGGNYNYLYRLFRKSNLKPFERDISTEIYQAGSTPCNGVEGFNCYFPLQSYGFQPTNGVGYQPYRVVVLSFELLHAPATVCGPKKSTNLVKNKCVNF\"\n",
    "\n",
    "lambda_195 = []\n",
    "\n",
    "for i in range(len(s195)):\n",
    "    if(0<=i<28):\n",
    "        c1 = s195[i]\n",
    "        c2 = s195[i+195]\n",
    "        lambda_195.append(c1+c2)\n",
    "    else:\n",
    "        break\n",
    "print(lambda_195)"
   ]
  },
  {
   "cell_type": "code",
   "execution_count": 265,
   "id": "industrial-output",
   "metadata": {},
   "outputs": [
    {
     "name": "stdout",
     "output_type": "stream",
     "text": [
      "['RF', 'VE', 'QL', 'PL', 'TH', 'EA', 'SP', 'IA', 'VT', 'RV', 'FC', 'PG', 'NP', 'IK', 'TK', 'NS', 'LT', 'CN', 'PL', 'FV', 'GK', 'EN', 'VK', 'FC', 'NV', 'AN', 'TF']\n"
     ]
    }
   ],
   "source": [
    "s196 = \"RVQPTESIVRFPNITNLCPFGEVFNATRFASVYAWNRKRISNCVADYSVLYNSASFSTFKCYGVSPTKLNDLCFTNVYADSFVIRGDEVRQIAPGQTGKIADYNYKLPDDFTGCVIAWNSNNLDSKVGGNYNYLYRLFRKSNLKPFERDISTEIYQAGSTPCNGVEGFNCYFPLQSYGFQPTNGVGYQPYRVVVLSFELLHAPATVCGPKKSTNLVKNKCVNF\"\n",
    "\n",
    "lambda_196 = []\n",
    "\n",
    "for i in range(len(s196)):\n",
    "    if(0<=i<27):\n",
    "        c1 = s196[i]\n",
    "        c2 = s196[i+196]\n",
    "        lambda_196.append(c1+c2)\n",
    "    else:\n",
    "        break\n",
    "print(lambda_196)"
   ]
  },
  {
   "cell_type": "code",
   "execution_count": 266,
   "id": "enclosed-drink",
   "metadata": {},
   "outputs": [
    {
     "name": "stdout",
     "output_type": "stream",
     "text": [
      "['RE', 'VL', 'QL', 'PH', 'TA', 'EP', 'SA', 'IT', 'VV', 'RC', 'FG', 'PP', 'NK', 'IK', 'TS', 'NT', 'LN', 'CL', 'PV', 'FK', 'GN', 'EK', 'VC', 'FV', 'NN', 'AF']\n"
     ]
    }
   ],
   "source": [
    "s197 = \"RVQPTESIVRFPNITNLCPFGEVFNATRFASVYAWNRKRISNCVADYSVLYNSASFSTFKCYGVSPTKLNDLCFTNVYADSFVIRGDEVRQIAPGQTGKIADYNYKLPDDFTGCVIAWNSNNLDSKVGGNYNYLYRLFRKSNLKPFERDISTEIYQAGSTPCNGVEGFNCYFPLQSYGFQPTNGVGYQPYRVVVLSFELLHAPATVCGPKKSTNLVKNKCVNF\"\n",
    "\n",
    "lambda_197 = []\n",
    "\n",
    "for i in range(len(s197)):\n",
    "    if(0<=i<26):\n",
    "        c1 = s197[i]\n",
    "        c2 = s197[i+197]\n",
    "        lambda_197.append(c1+c2)\n",
    "    else:\n",
    "        break\n",
    "print(lambda_197)"
   ]
  },
  {
   "cell_type": "code",
   "execution_count": 267,
   "id": "comfortable-endorsement",
   "metadata": {},
   "outputs": [
    {
     "name": "stdout",
     "output_type": "stream",
     "text": [
      "['RL', 'VL', 'QH', 'PA', 'TP', 'EA', 'ST', 'IV', 'VC', 'RG', 'FP', 'PK', 'NK', 'IS', 'TT', 'NN', 'LL', 'CV', 'PK', 'FN', 'GK', 'EC', 'VV', 'FN', 'NF']\n"
     ]
    }
   ],
   "source": [
    "s198 = \"RVQPTESIVRFPNITNLCPFGEVFNATRFASVYAWNRKRISNCVADYSVLYNSASFSTFKCYGVSPTKLNDLCFTNVYADSFVIRGDEVRQIAPGQTGKIADYNYKLPDDFTGCVIAWNSNNLDSKVGGNYNYLYRLFRKSNLKPFERDISTEIYQAGSTPCNGVEGFNCYFPLQSYGFQPTNGVGYQPYRVVVLSFELLHAPATVCGPKKSTNLVKNKCVNF\"\n",
    "\n",
    "lambda_198 = []\n",
    "\n",
    "for i in range(len(s198)):\n",
    "    if(0<=i<25):\n",
    "        c1 = s198[i]\n",
    "        c2 = s198[i+198]\n",
    "        lambda_198.append(c1+c2)\n",
    "    else:\n",
    "        break\n",
    "print(lambda_198)"
   ]
  },
  {
   "cell_type": "code",
   "execution_count": 268,
   "id": "hawaiian-handling",
   "metadata": {},
   "outputs": [
    {
     "name": "stdout",
     "output_type": "stream",
     "text": [
      "['RL', 'VH', 'QA', 'PP', 'TA', 'ET', 'SV', 'IC', 'VG', 'RP', 'FK', 'PK', 'NS', 'IT', 'TN', 'NL', 'LV', 'CK', 'PN', 'FK', 'GC', 'EV', 'VN', 'FF']\n"
     ]
    }
   ],
   "source": [
    "s199 = \"RVQPTESIVRFPNITNLCPFGEVFNATRFASVYAWNRKRISNCVADYSVLYNSASFSTFKCYGVSPTKLNDLCFTNVYADSFVIRGDEVRQIAPGQTGKIADYNYKLPDDFTGCVIAWNSNNLDSKVGGNYNYLYRLFRKSNLKPFERDISTEIYQAGSTPCNGVEGFNCYFPLQSYGFQPTNGVGYQPYRVVVLSFELLHAPATVCGPKKSTNLVKNKCVNF\"\n",
    "\n",
    "lambda_199 = []\n",
    "\n",
    "for i in range(len(s199)):\n",
    "    if(0<=i<24):\n",
    "        c1 = s199[i]\n",
    "        c2 = s199[i+199]\n",
    "        lambda_199.append(c1+c2)\n",
    "    else:\n",
    "        break\n",
    "print(lambda_199)"
   ]
  },
  {
   "cell_type": "code",
   "execution_count": 269,
   "id": "adapted-washington",
   "metadata": {},
   "outputs": [
    {
     "name": "stdout",
     "output_type": "stream",
     "text": [
      "['RH', 'VA', 'QP', 'PA', 'TT', 'EV', 'SC', 'IG', 'VP', 'RK', 'FK', 'PS', 'NT', 'IN', 'TL', 'NV', 'LK', 'CN', 'PK', 'FC', 'GV', 'EN', 'VF']\n"
     ]
    }
   ],
   "source": [
    "s200 = \"RVQPTESIVRFPNITNLCPFGEVFNATRFASVYAWNRKRISNCVADYSVLYNSASFSTFKCYGVSPTKLNDLCFTNVYADSFVIRGDEVRQIAPGQTGKIADYNYKLPDDFTGCVIAWNSNNLDSKVGGNYNYLYRLFRKSNLKPFERDISTEIYQAGSTPCNGVEGFNCYFPLQSYGFQPTNGVGYQPYRVVVLSFELLHAPATVCGPKKSTNLVKNKCVNF\"\n",
    "\n",
    "lambda_200 = []\n",
    "\n",
    "for i in range(len(s200)):\n",
    "    if(0<=i<23):\n",
    "        c1 = s200[i]\n",
    "        c2 = s200[i+200]\n",
    "        lambda_200.append(c1+c2)\n",
    "    else:\n",
    "        break\n",
    "print(lambda_200)"
   ]
  },
  {
   "cell_type": "code",
   "execution_count": 270,
   "id": "traditional-point",
   "metadata": {},
   "outputs": [
    {
     "name": "stdout",
     "output_type": "stream",
     "text": [
      "['RA', 'VP', 'QA', 'PT', 'TV', 'EC', 'SG', 'IP', 'VK', 'RK', 'FS', 'PT', 'NN', 'IL', 'TV', 'NK', 'LN', 'CK', 'PC', 'FV', 'GN', 'EF']\n"
     ]
    }
   ],
   "source": [
    "s201 = \"RVQPTESIVRFPNITNLCPFGEVFNATRFASVYAWNRKRISNCVADYSVLYNSASFSTFKCYGVSPTKLNDLCFTNVYADSFVIRGDEVRQIAPGQTGKIADYNYKLPDDFTGCVIAWNSNNLDSKVGGNYNYLYRLFRKSNLKPFERDISTEIYQAGSTPCNGVEGFNCYFPLQSYGFQPTNGVGYQPYRVVVLSFELLHAPATVCGPKKSTNLVKNKCVNF\"\n",
    "\n",
    "lambda_201 = []\n",
    "\n",
    "for i in range(len(s201)):\n",
    "    if(0<=i<22):\n",
    "        c1 = s201[i]\n",
    "        c2 = s201[i+201]\n",
    "        lambda_201.append(c1+c2)\n",
    "    else:\n",
    "        break\n",
    "print(lambda_201)"
   ]
  },
  {
   "cell_type": "code",
   "execution_count": 271,
   "id": "metropolitan-pension",
   "metadata": {},
   "outputs": [
    {
     "name": "stdout",
     "output_type": "stream",
     "text": [
      "['RP', 'VA', 'QT', 'PV', 'TC', 'EG', 'SP', 'IK', 'VK', 'RS', 'FT', 'PN', 'NL', 'IV', 'TK', 'NN', 'LK', 'CC', 'PV', 'FN', 'GF']\n"
     ]
    }
   ],
   "source": [
    "s202 = \"RVQPTESIVRFPNITNLCPFGEVFNATRFASVYAWNRKRISNCVADYSVLYNSASFSTFKCYGVSPTKLNDLCFTNVYADSFVIRGDEVRQIAPGQTGKIADYNYKLPDDFTGCVIAWNSNNLDSKVGGNYNYLYRLFRKSNLKPFERDISTEIYQAGSTPCNGVEGFNCYFPLQSYGFQPTNGVGYQPYRVVVLSFELLHAPATVCGPKKSTNLVKNKCVNF\"\n",
    "\n",
    "lambda_202 = []\n",
    "\n",
    "for i in range(len(s202)):\n",
    "    if(0<=i<21):\n",
    "        c1 = s202[i]\n",
    "        c2 = s202[i+202]\n",
    "        lambda_202.append(c1+c2)\n",
    "    else:\n",
    "        break\n",
    "print(lambda_202)"
   ]
  },
  {
   "cell_type": "code",
   "execution_count": 272,
   "id": "placed-article",
   "metadata": {},
   "outputs": [
    {
     "name": "stdout",
     "output_type": "stream",
     "text": [
      "['RA', 'VT', 'QV', 'PC', 'TG', 'EP', 'SK', 'IK', 'VS', 'RT', 'FN', 'PL', 'NV', 'IK', 'TN', 'NK', 'LC', 'CV', 'PN', 'FF']\n"
     ]
    }
   ],
   "source": [
    "s203 = \"RVQPTESIVRFPNITNLCPFGEVFNATRFASVYAWNRKRISNCVADYSVLYNSASFSTFKCYGVSPTKLNDLCFTNVYADSFVIRGDEVRQIAPGQTGKIADYNYKLPDDFTGCVIAWNSNNLDSKVGGNYNYLYRLFRKSNLKPFERDISTEIYQAGSTPCNGVEGFNCYFPLQSYGFQPTNGVGYQPYRVVVLSFELLHAPATVCGPKKSTNLVKNKCVNF\"\n",
    "\n",
    "lambda_203 = []\n",
    "\n",
    "for i in range(len(s203)):\n",
    "    if(0<=i<20):\n",
    "        c1 = s203[i]\n",
    "        c2 = s203[i+203]\n",
    "        lambda_203.append(c1+c2)\n",
    "    else:\n",
    "        break\n",
    "print(lambda_203)"
   ]
  },
  {
   "cell_type": "code",
   "execution_count": 273,
   "id": "interesting-reynolds",
   "metadata": {},
   "outputs": [
    {
     "name": "stdout",
     "output_type": "stream",
     "text": [
      "['RT', 'VV', 'QC', 'PG', 'TP', 'EK', 'SK', 'IS', 'VT', 'RN', 'FL', 'PV', 'NK', 'IN', 'TK', 'NC', 'LV', 'CN', 'PF']\n"
     ]
    }
   ],
   "source": [
    "s204 = \"RVQPTESIVRFPNITNLCPFGEVFNATRFASVYAWNRKRISNCVADYSVLYNSASFSTFKCYGVSPTKLNDLCFTNVYADSFVIRGDEVRQIAPGQTGKIADYNYKLPDDFTGCVIAWNSNNLDSKVGGNYNYLYRLFRKSNLKPFERDISTEIYQAGSTPCNGVEGFNCYFPLQSYGFQPTNGVGYQPYRVVVLSFELLHAPATVCGPKKSTNLVKNKCVNF\"\n",
    "\n",
    "lambda_204 = []\n",
    "\n",
    "for i in range(len(s204)):\n",
    "    if(0<=i<19):\n",
    "        c1 = s204[i]\n",
    "        c2 = s204[i+204]\n",
    "        lambda_204.append(c1+c2)\n",
    "    else:\n",
    "        break\n",
    "print(lambda_204)"
   ]
  },
  {
   "cell_type": "code",
   "execution_count": 274,
   "id": "chief-french",
   "metadata": {},
   "outputs": [
    {
     "name": "stdout",
     "output_type": "stream",
     "text": [
      "['RV', 'VC', 'QG', 'PP', 'TK', 'EK', 'SS', 'IT', 'VN', 'RL', 'FV', 'PK', 'NN', 'IK', 'TC', 'NV', 'LN', 'CF']\n"
     ]
    }
   ],
   "source": [
    "s205 = \"RVQPTESIVRFPNITNLCPFGEVFNATRFASVYAWNRKRISNCVADYSVLYNSASFSTFKCYGVSPTKLNDLCFTNVYADSFVIRGDEVRQIAPGQTGKIADYNYKLPDDFTGCVIAWNSNNLDSKVGGNYNYLYRLFRKSNLKPFERDISTEIYQAGSTPCNGVEGFNCYFPLQSYGFQPTNGVGYQPYRVVVLSFELLHAPATVCGPKKSTNLVKNKCVNF\"\n",
    "\n",
    "lambda_205 = []\n",
    "\n",
    "for i in range(len(s205)):\n",
    "    if(0<=i<18):\n",
    "        c1 = s205[i]\n",
    "        c2 = s205[i+205]\n",
    "        lambda_205.append(c1+c2)\n",
    "    else:\n",
    "        break\n",
    "print(lambda_205)"
   ]
  },
  {
   "cell_type": "code",
   "execution_count": 275,
   "id": "adverse-brief",
   "metadata": {},
   "outputs": [
    {
     "name": "stdout",
     "output_type": "stream",
     "text": [
      "['RC', 'VG', 'QP', 'PK', 'TK', 'ES', 'ST', 'IN', 'VL', 'RV', 'FK', 'PN', 'NK', 'IC', 'TV', 'NN', 'LF']\n"
     ]
    }
   ],
   "source": [
    "s206 = \"RVQPTESIVRFPNITNLCPFGEVFNATRFASVYAWNRKRISNCVADYSVLYNSASFSTFKCYGVSPTKLNDLCFTNVYADSFVIRGDEVRQIAPGQTGKIADYNYKLPDDFTGCVIAWNSNNLDSKVGGNYNYLYRLFRKSNLKPFERDISTEIYQAGSTPCNGVEGFNCYFPLQSYGFQPTNGVGYQPYRVVVLSFELLHAPATVCGPKKSTNLVKNKCVNF\"\n",
    "\n",
    "lambda_206 = []\n",
    "\n",
    "for i in range(len(s206)):\n",
    "    if(0<=i<17):\n",
    "        c1 = s206[i]\n",
    "        c2 = s206[i+206]\n",
    "        lambda_206.append(c1+c2)\n",
    "    else:\n",
    "        break\n",
    "print(lambda_206)"
   ]
  },
  {
   "cell_type": "code",
   "execution_count": 276,
   "id": "reasonable-contribution",
   "metadata": {},
   "outputs": [
    {
     "name": "stdout",
     "output_type": "stream",
     "text": [
      "['RG', 'VP', 'QK', 'PK', 'TS', 'ET', 'SN', 'IL', 'VV', 'RK', 'FN', 'PK', 'NC', 'IV', 'TN', 'NF']\n"
     ]
    }
   ],
   "source": [
    "s207 = \"RVQPTESIVRFPNITNLCPFGEVFNATRFASVYAWNRKRISNCVADYSVLYNSASFSTFKCYGVSPTKLNDLCFTNVYADSFVIRGDEVRQIAPGQTGKIADYNYKLPDDFTGCVIAWNSNNLDSKVGGNYNYLYRLFRKSNLKPFERDISTEIYQAGSTPCNGVEGFNCYFPLQSYGFQPTNGVGYQPYRVVVLSFELLHAPATVCGPKKSTNLVKNKCVNF\"\n",
    "\n",
    "lambda_207 = []\n",
    "\n",
    "for i in range(len(s207)):\n",
    "    if(0<=i<16):\n",
    "        c1 = s207[i]\n",
    "        c2 = s207[i+207]\n",
    "        lambda_207.append(c1+c2)\n",
    "    else:\n",
    "        break\n",
    "print(lambda_207)"
   ]
  },
  {
   "cell_type": "code",
   "execution_count": 277,
   "id": "following-bankruptcy",
   "metadata": {},
   "outputs": [
    {
     "name": "stdout",
     "output_type": "stream",
     "text": [
      "['RP', 'VK', 'QK', 'PS', 'TT', 'EN', 'SL', 'IV', 'VK', 'RN', 'FK', 'PC', 'NV', 'IN', 'TF']\n"
     ]
    }
   ],
   "source": [
    "s208 = \"RVQPTESIVRFPNITNLCPFGEVFNATRFASVYAWNRKRISNCVADYSVLYNSASFSTFKCYGVSPTKLNDLCFTNVYADSFVIRGDEVRQIAPGQTGKIADYNYKLPDDFTGCVIAWNSNNLDSKVGGNYNYLYRLFRKSNLKPFERDISTEIYQAGSTPCNGVEGFNCYFPLQSYGFQPTNGVGYQPYRVVVLSFELLHAPATVCGPKKSTNLVKNKCVNF\"\n",
    "\n",
    "lambda_208 = []\n",
    "\n",
    "for i in range(len(s208)):\n",
    "    if(0<=i<15):\n",
    "        c1 = s208[i]\n",
    "        c2 = s208[i+208]\n",
    "        lambda_208.append(c1+c2)\n",
    "    else:\n",
    "        break\n",
    "print(lambda_208)"
   ]
  },
  {
   "cell_type": "code",
   "execution_count": 278,
   "id": "stone-scout",
   "metadata": {},
   "outputs": [
    {
     "name": "stdout",
     "output_type": "stream",
     "text": [
      "['RK', 'VK', 'QS', 'PT', 'TN', 'EL', 'SV', 'IK', 'VN', 'RK', 'FC', 'PV', 'NN', 'IF']\n"
     ]
    }
   ],
   "source": [
    "s209 = \"RVQPTESIVRFPNITNLCPFGEVFNATRFASVYAWNRKRISNCVADYSVLYNSASFSTFKCYGVSPTKLNDLCFTNVYADSFVIRGDEVRQIAPGQTGKIADYNYKLPDDFTGCVIAWNSNNLDSKVGGNYNYLYRLFRKSNLKPFERDISTEIYQAGSTPCNGVEGFNCYFPLQSYGFQPTNGVGYQPYRVVVLSFELLHAPATVCGPKKSTNLVKNKCVNF\"\n",
    "\n",
    "lambda_209 = []\n",
    "\n",
    "for i in range(len(s209)):\n",
    "    if(0<=i<14):\n",
    "        c1 = s209[i]\n",
    "        c2 = s209[i+209]\n",
    "        lambda_209.append(c1+c2)\n",
    "    else:\n",
    "        break\n",
    "print(lambda_209)"
   ]
  },
  {
   "cell_type": "code",
   "execution_count": 279,
   "id": "engaged-bulgarian",
   "metadata": {},
   "outputs": [
    {
     "name": "stdout",
     "output_type": "stream",
     "text": [
      "['RK', 'VS', 'QT', 'PN', 'TL', 'EV', 'SK', 'IN', 'VK', 'RC', 'FV', 'PN', 'NF']\n"
     ]
    }
   ],
   "source": [
    "s210 = \"RVQPTESIVRFPNITNLCPFGEVFNATRFASVYAWNRKRISNCVADYSVLYNSASFSTFKCYGVSPTKLNDLCFTNVYADSFVIRGDEVRQIAPGQTGKIADYNYKLPDDFTGCVIAWNSNNLDSKVGGNYNYLYRLFRKSNLKPFERDISTEIYQAGSTPCNGVEGFNCYFPLQSYGFQPTNGVGYQPYRVVVLSFELLHAPATVCGPKKSTNLVKNKCVNF\"\n",
    "\n",
    "lambda_210 = []\n",
    "\n",
    "for i in range(len(s210)):\n",
    "    if(0<=i<13):\n",
    "        c1 = s210[i]\n",
    "        c2 = s210[i+210]\n",
    "        lambda_210.append(c1+c2)\n",
    "    else:\n",
    "        break\n",
    "print(lambda_210)"
   ]
  },
  {
   "cell_type": "code",
   "execution_count": 280,
   "id": "durable-yemen",
   "metadata": {},
   "outputs": [
    {
     "name": "stdout",
     "output_type": "stream",
     "text": [
      "['RS', 'VT', 'QN', 'PL', 'TV', 'EK', 'SN', 'IK', 'VC', 'RV', 'FN', 'PF']\n"
     ]
    }
   ],
   "source": [
    "s211 = \"RVQPTESIVRFPNITNLCPFGEVFNATRFASVYAWNRKRISNCVADYSVLYNSASFSTFKCYGVSPTKLNDLCFTNVYADSFVIRGDEVRQIAPGQTGKIADYNYKLPDDFTGCVIAWNSNNLDSKVGGNYNYLYRLFRKSNLKPFERDISTEIYQAGSTPCNGVEGFNCYFPLQSYGFQPTNGVGYQPYRVVVLSFELLHAPATVCGPKKSTNLVKNKCVNF\"\n",
    "\n",
    "lambda_211 = []\n",
    "\n",
    "for i in range(len(s211)):\n",
    "    if(0<=i<12):\n",
    "        c1 = s211[i]\n",
    "        c2 = s211[i+211]\n",
    "        lambda_211.append(c1+c2)\n",
    "    else:\n",
    "        break\n",
    "print(lambda_211)"
   ]
  },
  {
   "cell_type": "code",
   "execution_count": 281,
   "id": "quick-football",
   "metadata": {},
   "outputs": [
    {
     "name": "stdout",
     "output_type": "stream",
     "text": [
      "['RT', 'VN', 'QL', 'PV', 'TK', 'EN', 'SK', 'IC', 'VV', 'RN', 'FF']\n"
     ]
    }
   ],
   "source": [
    "s212 = \"RVQPTESIVRFPNITNLCPFGEVFNATRFASVYAWNRKRISNCVADYSVLYNSASFSTFKCYGVSPTKLNDLCFTNVYADSFVIRGDEVRQIAPGQTGKIADYNYKLPDDFTGCVIAWNSNNLDSKVGGNYNYLYRLFRKSNLKPFERDISTEIYQAGSTPCNGVEGFNCYFPLQSYGFQPTNGVGYQPYRVVVLSFELLHAPATVCGPKKSTNLVKNKCVNF\"\n",
    "\n",
    "lambda_212 = []\n",
    "\n",
    "for i in range(len(s212)):\n",
    "    if(0<=i<11):\n",
    "        c1 = s212[i]\n",
    "        c2 = s212[i+212]\n",
    "        lambda_212.append(c1+c2)\n",
    "    else:\n",
    "        break\n",
    "print(lambda_212)"
   ]
  },
  {
   "cell_type": "code",
   "execution_count": 282,
   "id": "weekly-replacement",
   "metadata": {},
   "outputs": [
    {
     "name": "stdout",
     "output_type": "stream",
     "text": [
      "['RN', 'VL', 'QV', 'PK', 'TN', 'EK', 'SC', 'IV', 'VN', 'RF']\n"
     ]
    }
   ],
   "source": [
    "s213 = \"RVQPTESIVRFPNITNLCPFGEVFNATRFASVYAWNRKRISNCVADYSVLYNSASFSTFKCYGVSPTKLNDLCFTNVYADSFVIRGDEVRQIAPGQTGKIADYNYKLPDDFTGCVIAWNSNNLDSKVGGNYNYLYRLFRKSNLKPFERDISTEIYQAGSTPCNGVEGFNCYFPLQSYGFQPTNGVGYQPYRVVVLSFELLHAPATVCGPKKSTNLVKNKCVNF\"\n",
    "\n",
    "lambda_213 = []\n",
    "\n",
    "for i in range(len(s213)):\n",
    "    if(0<=i<10):\n",
    "        c1 = s213[i]\n",
    "        c2 = s213[i+213]\n",
    "        lambda_213.append(c1+c2)\n",
    "    else:\n",
    "        break\n",
    "print(lambda_213)"
   ]
  },
  {
   "cell_type": "code",
   "execution_count": 283,
   "id": "expanded-study",
   "metadata": {},
   "outputs": [
    {
     "name": "stdout",
     "output_type": "stream",
     "text": [
      "['RL', 'VV', 'QK', 'PN', 'TK', 'EC', 'SV', 'IN', 'VF']\n"
     ]
    }
   ],
   "source": [
    "s214 = \"RVQPTESIVRFPNITNLCPFGEVFNATRFASVYAWNRKRISNCVADYSVLYNSASFSTFKCYGVSPTKLNDLCFTNVYADSFVIRGDEVRQIAPGQTGKIADYNYKLPDDFTGCVIAWNSNNLDSKVGGNYNYLYRLFRKSNLKPFERDISTEIYQAGSTPCNGVEGFNCYFPLQSYGFQPTNGVGYQPYRVVVLSFELLHAPATVCGPKKSTNLVKNKCVNF\"\n",
    "\n",
    "lambda_214 = []\n",
    "\n",
    "for i in range(len(s214)):\n",
    "    if(0<=i<9):\n",
    "        c1 = s214[i]\n",
    "        c2 = s214[i+214]\n",
    "        lambda_214.append(c1+c2)\n",
    "    else:\n",
    "        break\n",
    "print(lambda_214)"
   ]
  },
  {
   "cell_type": "code",
   "execution_count": 284,
   "id": "working-summit",
   "metadata": {},
   "outputs": [
    {
     "name": "stdout",
     "output_type": "stream",
     "text": [
      "['RV', 'VK', 'QN', 'PK', 'TC', 'EV', 'SN', 'IF']\n"
     ]
    }
   ],
   "source": [
    "s215 = \"RVQPTESIVRFPNITNLCPFGEVFNATRFASVYAWNRKRISNCVADYSVLYNSASFSTFKCYGVSPTKLNDLCFTNVYADSFVIRGDEVRQIAPGQTGKIADYNYKLPDDFTGCVIAWNSNNLDSKVGGNYNYLYRLFRKSNLKPFERDISTEIYQAGSTPCNGVEGFNCYFPLQSYGFQPTNGVGYQPYRVVVLSFELLHAPATVCGPKKSTNLVKNKCVNF\"\n",
    "\n",
    "lambda_215 = []\n",
    "\n",
    "for i in range(len(s215)):\n",
    "    if(0<=i<8):\n",
    "        c1 = s215[i]\n",
    "        c2 = s215[i+215]\n",
    "        lambda_215.append(c1+c2)\n",
    "    else:\n",
    "        break\n",
    "print(lambda_215)"
   ]
  },
  {
   "cell_type": "code",
   "execution_count": 285,
   "id": "italian-piano",
   "metadata": {},
   "outputs": [
    {
     "name": "stdout",
     "output_type": "stream",
     "text": [
      "['RK', 'VN', 'QK', 'PC', 'TV', 'EN', 'SF']\n"
     ]
    }
   ],
   "source": [
    "s216 = \"RVQPTESIVRFPNITNLCPFGEVFNATRFASVYAWNRKRISNCVADYSVLYNSASFSTFKCYGVSPTKLNDLCFTNVYADSFVIRGDEVRQIAPGQTGKIADYNYKLPDDFTGCVIAWNSNNLDSKVGGNYNYLYRLFRKSNLKPFERDISTEIYQAGSTPCNGVEGFNCYFPLQSYGFQPTNGVGYQPYRVVVLSFELLHAPATVCGPKKSTNLVKNKCVNF\"\n",
    "\n",
    "lambda_216 = []\n",
    "\n",
    "for i in range(len(s216)):\n",
    "    if(0<=i<7):\n",
    "        c1 = s216[i]\n",
    "        c2 = s216[i+216]\n",
    "        lambda_216.append(c1+c2)\n",
    "    else:\n",
    "        break\n",
    "print(lambda_216)"
   ]
  },
  {
   "cell_type": "code",
   "execution_count": 286,
   "id": "czech-complaint",
   "metadata": {},
   "outputs": [
    {
     "name": "stdout",
     "output_type": "stream",
     "text": [
      "['RN', 'VK', 'QC', 'PV', 'TN', 'EF']\n"
     ]
    }
   ],
   "source": [
    "s217 = \"RVQPTESIVRFPNITNLCPFGEVFNATRFASVYAWNRKRISNCVADYSVLYNSASFSTFKCYGVSPTKLNDLCFTNVYADSFVIRGDEVRQIAPGQTGKIADYNYKLPDDFTGCVIAWNSNNLDSKVGGNYNYLYRLFRKSNLKPFERDISTEIYQAGSTPCNGVEGFNCYFPLQSYGFQPTNGVGYQPYRVVVLSFELLHAPATVCGPKKSTNLVKNKCVNF\"\n",
    "\n",
    "lambda_217 = []\n",
    "\n",
    "for i in range(len(s217)):\n",
    "    if(0<=i<6):\n",
    "        c1 = s217[i]\n",
    "        c2 = s217[i+217]\n",
    "        lambda_217.append(c1+c2)\n",
    "    else:\n",
    "        break\n",
    "print(lambda_217)"
   ]
  },
  {
   "cell_type": "code",
   "execution_count": 287,
   "id": "cheap-tumor",
   "metadata": {},
   "outputs": [
    {
     "name": "stdout",
     "output_type": "stream",
     "text": [
      "['RK', 'VC', 'QV', 'PN', 'TF']\n"
     ]
    }
   ],
   "source": [
    "s218 = \"RVQPTESIVRFPNITNLCPFGEVFNATRFASVYAWNRKRISNCVADYSVLYNSASFSTFKCYGVSPTKLNDLCFTNVYADSFVIRGDEVRQIAPGQTGKIADYNYKLPDDFTGCVIAWNSNNLDSKVGGNYNYLYRLFRKSNLKPFERDISTEIYQAGSTPCNGVEGFNCYFPLQSYGFQPTNGVGYQPYRVVVLSFELLHAPATVCGPKKSTNLVKNKCVNF\"\n",
    "\n",
    "lambda_218 = []\n",
    "\n",
    "for i in range(len(s218)):\n",
    "    if(0<=i<5):\n",
    "        c1 = s218[i]\n",
    "        c2 = s218[i+218]\n",
    "        lambda_218.append(c1+c2)\n",
    "    else:\n",
    "        break\n",
    "print(lambda_218)"
   ]
  },
  {
   "cell_type": "code",
   "execution_count": 288,
   "id": "virgin-reliance",
   "metadata": {},
   "outputs": [
    {
     "name": "stdout",
     "output_type": "stream",
     "text": [
      "['RC', 'VV', 'QN', 'PF']\n"
     ]
    }
   ],
   "source": [
    "s219 = \"RVQPTESIVRFPNITNLCPFGEVFNATRFASVYAWNRKRISNCVADYSVLYNSASFSTFKCYGVSPTKLNDLCFTNVYADSFVIRGDEVRQIAPGQTGKIADYNYKLPDDFTGCVIAWNSNNLDSKVGGNYNYLYRLFRKSNLKPFERDISTEIYQAGSTPCNGVEGFNCYFPLQSYGFQPTNGVGYQPYRVVVLSFELLHAPATVCGPKKSTNLVKNKCVNF\"\n",
    "\n",
    "lambda_219 = []\n",
    "\n",
    "for i in range(len(s219)):\n",
    "    if(0<=i<4):\n",
    "        c1 = s219[i]\n",
    "        c2 = s219[i+219]\n",
    "        lambda_219.append(c1+c2)\n",
    "    else:\n",
    "        break\n",
    "print(lambda_219)"
   ]
  },
  {
   "cell_type": "code",
   "execution_count": 289,
   "id": "loose-amber",
   "metadata": {},
   "outputs": [
    {
     "name": "stdout",
     "output_type": "stream",
     "text": [
      "['RV', 'VN', 'QF']\n"
     ]
    }
   ],
   "source": [
    "s220 = \"RVQPTESIVRFPNITNLCPFGEVFNATRFASVYAWNRKRISNCVADYSVLYNSASFSTFKCYGVSPTKLNDLCFTNVYADSFVIRGDEVRQIAPGQTGKIADYNYKLPDDFTGCVIAWNSNNLDSKVGGNYNYLYRLFRKSNLKPFERDISTEIYQAGSTPCNGVEGFNCYFPLQSYGFQPTNGVGYQPYRVVVLSFELLHAPATVCGPKKSTNLVKNKCVNF\"\n",
    "\n",
    "lambda_220 = []\n",
    "\n",
    "for i in range(len(s220)):\n",
    "    if(0<=i<3):\n",
    "        c1 = s220[i]\n",
    "        c2 = s220[i+220]\n",
    "        lambda_220.append(c1+c2)\n",
    "    else:\n",
    "        break\n",
    "print(lambda_220)"
   ]
  },
  {
   "cell_type": "code",
   "execution_count": 290,
   "id": "welcome-teens",
   "metadata": {},
   "outputs": [
    {
     "name": "stdout",
     "output_type": "stream",
     "text": [
      "['RN', 'VF']\n"
     ]
    }
   ],
   "source": [
    "s221 = \"RVQPTESIVRFPNITNLCPFGEVFNATRFASVYAWNRKRISNCVADYSVLYNSASFSTFKCYGVSPTKLNDLCFTNVYADSFVIRGDEVRQIAPGQTGKIADYNYKLPDDFTGCVIAWNSNNLDSKVGGNYNYLYRLFRKSNLKPFERDISTEIYQAGSTPCNGVEGFNCYFPLQSYGFQPTNGVGYQPYRVVVLSFELLHAPATVCGPKKSTNLVKNKCVNF\"\n",
    "\n",
    "lambda_221 = []\n",
    "\n",
    "for i in range(len(s221)):\n",
    "    if(0<=i<2):\n",
    "        c1 = s221[i]\n",
    "        c2 = s221[i+221]\n",
    "        lambda_221.append(c1+c2)\n",
    "    else:\n",
    "        break\n",
    "print(lambda_221)"
   ]
  },
  {
   "cell_type": "code",
   "execution_count": 291,
   "id": "weighted-relations",
   "metadata": {},
   "outputs": [
    {
     "name": "stdout",
     "output_type": "stream",
     "text": [
      "['RF']\n"
     ]
    }
   ],
   "source": [
    "s222 = \"RVQPTESIVRFPNITNLCPFGEVFNATRFASVYAWNRKRISNCVADYSVLYNSASFSTFKCYGVSPTKLNDLCFTNVYADSFVIRGDEVRQIAPGQTGKIADYNYKLPDDFTGCVIAWNSNNLDSKVGGNYNYLYRLFRKSNLKPFERDISTEIYQAGSTPCNGVEGFNCYFPLQSYGFQPTNGVGYQPYRVVVLSFELLHAPATVCGPKKSTNLVKNKCVNF\"\n",
    "\n",
    "lambda_222 = []\n",
    "\n",
    "for i in range(len(s222)):\n",
    "    if(0<=i<1):\n",
    "        c1 = s222[i]\n",
    "        c2 = s222[i+222]\n",
    "        lambda_222.append(c1+c2)\n",
    "    else:\n",
    "        break\n",
    "print(lambda_222)"
   ]
  },
  {
   "cell_type": "code",
   "execution_count": null,
   "id": "straight-chorus",
   "metadata": {},
   "outputs": [],
   "source": []
  }
 ],
 "metadata": {
  "kernelspec": {
   "display_name": "Python 3",
   "language": "python",
   "name": "python3"
  },
  "language_info": {
   "codemirror_mode": {
    "name": "ipython",
    "version": 3
   },
   "file_extension": ".py",
   "mimetype": "text/x-python",
   "name": "python",
   "nbconvert_exporter": "python",
   "pygments_lexer": "ipython3",
   "version": "3.7.3"
  }
 },
 "nbformat": 4,
 "nbformat_minor": 5
}
